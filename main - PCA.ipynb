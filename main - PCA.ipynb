{
 "cells": [
  {
   "cell_type": "markdown",
   "metadata": {},
   "source": [
    "# Import relevant libraries"
   ]
  },
  {
   "cell_type": "markdown",
   "metadata": {},
   "source": [
    "Imports the relevant python libraries needed."
   ]
  },
  {
   "cell_type": "code",
   "execution_count": 1,
   "metadata": {},
   "outputs": [],
   "source": [
    "import yahoo_fin\n",
    "import yahoo_fin.stock_info as si\n",
    "from yahoo_fin.stock_info import get_data\n",
    "import numpy as np\n",
    "import pandas as pd\n",
    "import datetime\n",
    "from datetime import datetime\n",
    "import matplotlib.pyplot as plt\n",
    "from sklearn.decomposition import PCA\n",
    "from sklearn.preprocessing import StandardScaler\n"
   ]
  },
  {
   "cell_type": "markdown",
   "metadata": {},
   "source": [
    "# Import and preprocess data"
   ]
  },
  {
   "cell_type": "markdown",
   "metadata": {},
   "source": [
    "Data is scraped from Yahoo!Finance for all S&P 500 companies using the yahoo_fin Python library."
   ]
  },
  {
   "cell_type": "markdown",
   "metadata": {},
   "source": [
    "The below extracts the list of S&P500 companies' tickers. 2 of the tickers' values were replaced so that they can be searched using the yahoo_fin library."
   ]
  },
  {
   "cell_type": "code",
   "execution_count": 2,
   "metadata": {},
   "outputs": [],
   "source": [
    "sp500_list = pd.read_html('https://en.wikipedia.org/wiki/List_of_S%26P_500_companies', attrs={'class': 'wikitable sortable'},header=0)[0]['Symbol']\n",
    "sp500_list.replace(to_replace='BRK.B',value='BRK-B',inplace=True)\n",
    "sp500_list.replace(to_replace='BF.B',value='BF-B',inplace=True)"
   ]
  },
  {
   "cell_type": "markdown",
   "metadata": {},
   "source": [
    "The below extracts the information from Yahoo!Finance according to the start date and end date specified. Information for each ticker is extracted for the 'daily' time interval."
   ]
  },
  {
   "cell_type": "code",
   "execution_count": 3,
   "metadata": {},
   "outputs": [
    {
     "name": "stdout",
     "output_type": "stream",
     "text": [
      "Please enter START date for the date range you want the model to be trained on. Format of input: DD-MM-YY.01-01-00\n",
      "Start date: 01-01-00\n",
      "Please enter END date for the date range you want the model to be trained on. Format of input: DD-MM-YY.30-11-20\n",
      "End date: 30-11-20\n",
      "No. of stocks with data successfully generated: 506.\n",
      "No. of stocks with KeyError: 0.\n",
      "No. of stocks with AssertionError: 0.\n"
     ]
    }
   ],
   "source": [
    "#Variables created.\n",
    "historical_data = {}\n",
    "counter = 0\n",
    "key_err = 0\n",
    "assert_err = 0\n",
    "tickers_key_err = []\n",
    "tickers_assert_err= []\n",
    "\n",
    "#User input - start date and end date\n",
    "while True:\n",
    "    try:\n",
    "        start_date_input = input(\"Please enter START date for the date range you want the model to be trained on. Format of input: DD-MM-YY.\")\n",
    "        start_date = datetime.strptime(start_date_input, '%d-%m-%y')\n",
    "        print(\"Start date: \" + str(start_date_input))\n",
    "        break\n",
    "    except ValueError:\n",
    "        print(\"                             \", end='\\r')\n",
    "        print(\"Please ensure input is in the format DD-MM-YY.\", end='\\r')\n",
    "\n",
    "while True:\n",
    "    try:\n",
    "        end_date_input = input(\"Please enter END date for the date range you want the model to be trained on. Format of input: DD-MM-YY.\")\n",
    "        end_date = datetime.strptime(end_date_input, '%d-%m-%y')\n",
    "        print(\"End date: \" + str(end_date_input))\n",
    "        break\n",
    "    except ValueError:\n",
    "        print(\"                             \", end='\\r')\n",
    "        print(\"Please ensure input is in the format DD-MM-YY.\", end='\\r')\n",
    "\n",
    "\n",
    "for ticker in sp500_list:\n",
    "    counter += 1\n",
    "    print(\"                             \", end='\\r')\n",
    "    print(str(ticker) + \" \" + str(counter), end='\\r')\n",
    "    try:\n",
    "        historical_data[ticker] = get_data(ticker, start_date = start_date_input, end_date = end_date_input)\n",
    "        historical_data[ticker] = historical_data[ticker].drop(labels='ticker',axis=1)\n",
    "        historical_data[ticker].columns = str(ticker) + \"_\" + historical_data[ticker].columns\n",
    "        \n",
    "    except KeyError:\n",
    "        historical_data[ticker] = None\n",
    "        key_err += 1\n",
    "        tickers_key_err.append(ticker)\n",
    "    except AssertionError:\n",
    "        historical_data[ticker] = None\n",
    "        assert_err += 1\n",
    "        tickers_assert_err.append(ticker)\n",
    "        \n",
    "print(\"No. of stocks with data successfully generated: \" + str(counter-key_err-assert_err) + \".\")\n",
    "print(\"No. of stocks with KeyError: \" + str(key_err) + \".\")\n",
    "if key_err>0:\n",
    "    print(\"Tickers with KeyError (to investigate if needed): \" + str(tickers_key_err))\n",
    "print(\"No. of stocks with AssertionError: \" + str(assert_err) + \".\")\n",
    "if assert_err>0:\n",
    "    print(\"Tickers with AssertionError (to investigate if needed): \" + str(tickers_assert_err))"
   ]
  },
  {
   "cell_type": "markdown",
   "metadata": {},
   "source": [
    "Merge the dictionary of dataframes column-wise on the index (which is the date). Drop all columns with NaN values."
   ]
  },
  {
   "cell_type": "code",
   "execution_count": 4,
   "metadata": {},
   "outputs": [
    {
     "data": {
      "text/plain": [
       "(5261, 2262)"
      ]
     },
     "execution_count": 4,
     "metadata": {},
     "output_type": "execute_result"
    }
   ],
   "source": [
    "merged_data = pd.concat(historical_data, axis=1)\n",
    "merged_data = merged_data.dropna(axis='columns')\n",
    "merged_tickers = list(set(merged_data.columns.get_level_values(0))) #Store all remaining tickers' names for further use later.\n",
    "merged_data.columns = merged_data.columns.droplevel(0)\n",
    "\n",
    "merged_data.head()\n",
    "merged_data.shape\n"
   ]
  },
  {
   "cell_type": "markdown",
   "metadata": {},
   "source": [
    "# Picking of target stock"
   ]
  },
  {
   "cell_type": "markdown",
   "metadata": {},
   "source": [
    "User to pick the target stock out of the remaining tickers in the pre-processed data for training and testing of the model."
   ]
  },
  {
   "cell_type": "code",
   "execution_count": 5,
   "metadata": {},
   "outputs": [
    {
     "name": "stdout",
     "output_type": "stream",
     "text": [
      "List of all tickers in data: \n",
      "['AMZN', 'VTRS', 'BBY', 'BIIB', 'ROP', 'APA', 'AME', 'MS', 'EVRG', 'HD', 'ABMD', 'CTXS', 'MNST', 'LNC', 'AJG', 'CTAS', 'KLAC', 'PWR', 'JNJ', 'HAS', 'JNPR', 'NVR', 'PGR', 'TGT', 'AES', 'CL', 'OXY', 'BWA', 'WDC', 'MCD', 'CCI', 'GPS', 'XEL', 'GS', 'SWK', 'LB', 'IPG', 'TDY', 'LUV', 'DD', 'IP', 'ADBE', 'UHS', 'CB', 'POOL', 'TTWO', 'MRO', 'NTRS', 'COG', 'BLL', 'ARE', 'PG', 'DE', 'SRE', 'DISH', 'FCX', 'CSCO', 'KR', 'NUE', 'UNP', 'TROW', 'JKHY', 'ADM', 'ROST', 'ATO', 'ODFL', 'HAL', 'DXC', 'BKNG', 'SBAC', 'INTC', 'SYY', 'APH', 'XOM', 'AAPL', 'TFC', 'MCO', 'IFF', 'PPL', 'ITW', 'AXP', 'EXC', 'CI', 'GLW', 'COF', 'ROK', 'BK', 'JCI', 'EL', 'NSC', 'CERN', 'FLS', 'WM', 'IEX', 'FMC', 'STE', 'WMB', 'LRCX', 'DHR', 'NOV', 'SBUX', 'SNA', 'FITB', 'MSI', 'INTU', 'BDX', 'MU', 'F', 'BMY', 'WMT', 'WELL', 'CLX', 'GE', 'URI', 'EMR', 'LEG', 'RF', 'NOC', 'KSU', 'NVDA', 'C', 'SO', 'J', 'COP', 'WRB', 'ROL', 'PAYX', 'PLD', 'BAC', 'HSY', 'WHR', 'FISV', 'NEM', 'AVY', 'ALL', 'JPM', 'LLY', 'XRAY', 'ABC', 'GL', 'WFC', 'DVA', 'IVZ', 'WY', 'HFC', 'TER', 'MO', 'LMT', 'ADI', 'TIF', 'CAH', 'SPGI', 'MTB', 'AZO', 'EQR', 'MAS', 'YUM', 'EBAY', 'DIS', 'SWKS', 'CMCSA', 'PKI', 'PNR', 'WST', 'LEN', 'JBHT', 'PSA', 'MRK', 'SCHW', 'KMB', 'HST', 'BLK', 'VRSN', 'MLM', 'REG', 'PVH', 'MAR', 'CNP', 'AMD', 'MSFT', 'SHW', 'BIO', 'VFC', 'VAR', 'FE', 'QCOM', 'HES', 'ANSS', 'NI', 'VTR', 'EA', 'AMAT', 'SJM', 'HSIC', 'LHX', 'IBM', 'TJX', 'RJF', 'TRV', 'VNO', 'TT', 'DRI', 'BAX', 'KEY', 'ATVI', 'WAT', 'T', 'BXP', 'MHK', 'MCHP', 'ZBRA', 'MXIM', 'PBCT', 'PNC', 'VLO', 'BRK-B', 'UPS', 'CTSH', 'CSX', 'CDNS', 'PH', 'REGN', 'AKAM', 'NWL', 'XRX', 'PEAK', 'SIVB', 'SEE', 'GD', 'VZ', 'ORLY', 'MMM', 'ALK', 'MAA', 'BKR', 'ETN', 'FLIR', 'TSN', 'CMA', 'MGM', 'VMC', 'LNT', 'XLNX', 'ALXN', 'DHI', 'ESS', 'FDX', 'ES', 'ADSK', 'SLB', 'PRGO', 'WEC', 'KMX', 'RL', 'KO', 'HOLX', 'ABT', 'WAB', 'HON', 'BEN', 'MCK', 'ADP', 'AMGN', 'O', 'HUM', 'K', 'AVB', 'AMT', 'CAT', 'DOV', 'DTE', 'ALB', 'RTX', 'ORCL', 'AIG', 'DGX', 'STT', 'DRE', 'MDT', 'MTD', 'HIG', 'TSCO', 'HBAN', 'PHM', 'GWW', 'WBA', 'DLTR', 'D', 'LH', 'EIX', 'VRTX', 'PCAR', 'TXT', 'ECL', 'PXD', 'CHRW', 'AON', 'INCY', 'TYL', 'CPB', 'COO', 'LIN', 'SYK', 'DVN', 'AFL', 'DUK', 'RSG', 'AEE', 'GIS', 'SPG', 'FRT', 'PEG', 'EOG', 'ED', 'BSX', 'SNPS', 'HPQ', 'CVS', 'RCL', 'NTAP', 'CMI', 'CMS', 'APD', 'EFX', 'OMC', 'USB', 'PEP', 'PPG', 'RHI', 'GPC', 'TAP', 'BF-B', 'AEP', 'LOW', 'CVX', 'PFE', 'COST', 'CAG', 'ETR', 'NEE', 'NKE', 'EXPD', 'MMC', 'FFIV', 'EMN', 'AOS', 'STZ', 'L', 'AIV', 'IRM', 'UDR', 'OKE', 'BA', 'RE', 'CPRT', 'A', 'TFX', 'UNM', 'RMD', 'MOS', 'FAST', 'GILD', 'IDXX', 'IT', 'CINF', 'TMO', 'NLOK', 'MKC', 'CHD', 'PNW', 'CCL', 'SLG', 'UNH', 'KIM', 'ZION', 'HRL', 'TXN']\n",
      "Indicate a ticker. Pick one from the print statement below.PVH\n"
     ]
    }
   ],
   "source": [
    "print(\"List of all tickers in data: \\n\" + str(merged_tickers))\n",
    "chosen_ticker = input(\"Indicate a ticker. Pick one from the print statement below.\")\n",
    "chosen_adjclose = chosen_ticker + \"_adjclose\""
   ]
  },
  {
   "cell_type": "markdown",
   "metadata": {},
   "source": [
    "# Exploratory Data Analysis"
   ]
  },
  {
   "cell_type": "markdown",
   "metadata": {},
   "source": [
    "Plot of price over time period for chosen stock's adjusted close and open prices."
   ]
  },
  {
   "cell_type": "code",
   "execution_count": 6,
   "metadata": {},
   "outputs": [
    {
     "data": {
      "text/plain": [
       "<matplotlib.legend.Legend at 0x2c82bc1ed90>"
      ]
     },
     "execution_count": 6,
     "metadata": {},
     "output_type": "execute_result"
    },
    {
     "data": {
      "image/png": "[encoded data removed]",
      "text/plain": [
       "<Figure size 432x288 with 1 Axes>"
      ]
     },
     "metadata": {
      "needs_background": "light"
     },
     "output_type": "display_data"
    }
   ],
   "source": [
    "\n",
    "%matplotlib inline\n",
    "merged_data[chosen_adjclose].plot()\n",
    "merged_data[chosen_ticker+\"_open\"].plot()\n",
    "plt.legend()"
   ]
  },
  {
   "cell_type": "markdown",
   "metadata": {},
   "source": [
    "Summary statistics over entire time period for chosen stock using pandas' describe function."
   ]
  },
  {
   "cell_type": "code",
   "execution_count": 7,
   "metadata": {},
   "outputs": [
    {
     "data": {
      "text/plain": [
       "count    5261.000000\n",
       "mean       62.258707\n",
       "std        42.630146\n",
       "min         5.307689\n",
       "25%        22.210590\n",
       "50%        53.264847\n",
       "75%       102.160294\n",
       "max       167.603027\n",
       "Name: PVH_adjclose, dtype: float64"
      ]
     },
     "execution_count": 7,
     "metadata": {},
     "output_type": "execute_result"
    }
   ],
   "source": [
    "merged_data[chosen_adjclose].describe()"
   ]
  },
  {
   "cell_type": "markdown",
   "metadata": {},
   "source": [
    "# Creating Target and Feature Variables"
   ]
  },
  {
   "cell_type": "code",
   "execution_count": 8,
   "metadata": {},
   "outputs": [
    {
     "name": "stdout",
     "output_type": "stream",
     "text": [
      "How many days would you like to lag the features by?1\n",
      "              MMM_open    MMM_high     MMM_low   MMM_close  MMM_adjclose  \\\n",
      "2000-01-03   48.031250   48.250000   47.031250   47.187500     27.815882   \n",
      "2000-01-04   46.437500   47.406250   45.312500   45.312500     26.710594   \n",
      "2000-01-05   45.562500   48.125000   45.562500   46.625000     27.484299   \n",
      "2000-01-06   47.156250   51.250000   47.156250   50.375000     29.694832   \n",
      "2000-01-07   50.562500   51.906250   49.968750   51.375000     30.284302   \n",
      "...                ...         ...         ...         ...           ...   \n",
      "2020-11-20  171.500000  172.949997  170.960007  172.889999    172.889999   \n",
      "2020-11-23  173.759995  174.860001  173.449997  174.139999    174.139999   \n",
      "2020-11-24  175.000000  177.220001  174.899994  177.080002    177.080002   \n",
      "2020-11-25  176.839996  177.339996  175.449997  177.119995    177.119995   \n",
      "2020-11-27  177.820007  179.630005  175.570007  176.889999    176.889999   \n",
      "\n",
      "            MMM_volume    ABT_open    ABT_high     ABT_low   ABT_close  ...  \\\n",
      "2000-01-03     2173400   15.823756   16.160431   15.599305   15.711531  ...   \n",
      "2000-01-04     2713800   15.459024   15.599305   15.150405   15.262630  ...   \n",
      "2000-01-05     3699400   15.066236   15.402911   15.066236   15.234573  ...   \n",
      "2000-01-06     5975800   15.262630   15.823756   15.178461   15.767643  ...   \n",
      "2000-01-07     4101200   15.487081   16.272657   15.487081   15.935981  ...   \n",
      "...                ...         ...         ...         ...         ...  ...   \n",
      "2020-11-20     2656900  110.739998  111.760002  110.070000  110.889999  ...   \n",
      "2020-11-23     2064300  111.430000  111.519997  108.860001  109.269997  ...   \n",
      "2020-11-24     3086000  109.309998  109.589996  107.250000  107.610001  ...   \n",
      "2020-11-25     2052200  107.050003  108.400002  105.629997  106.410004  ...   \n",
      "2020-11-27     1267100  106.669998  107.750000  105.870003  107.620003  ...   \n",
      "\n",
      "              ZBRA_low  ZBRA_close  ZBRA_adjclose  ZBRA_volume  ZION_open  \\\n",
      "2000-01-03   24.777779   25.027779      25.027779      1055700  59.031250   \n",
      "2000-01-04   23.000000   24.666666      24.666666       522400  54.625000   \n",
      "2000-01-05   23.555555   25.138889      25.138889       612100  52.750000   \n",
      "2000-01-06   23.722221   23.777779      23.777779       263800  52.750000   \n",
      "2000-01-07   23.111111   23.513889      23.513889       333900  53.750000   \n",
      "...                ...         ...            ...          ...        ...   \n",
      "2020-11-20  354.160004  354.989990     354.989990       694100  38.009998   \n",
      "2020-11-23  358.549988  362.690002     362.690002       590100  38.950001   \n",
      "2020-11-24  362.359985  373.470001     373.470001       566700  40.439999   \n",
      "2020-11-25  369.290009  372.730011     372.730011       345000  40.880001   \n",
      "2020-11-27  375.119995  377.000000     377.000000       206000  40.439999   \n",
      "\n",
      "            ZION_high   ZION_low  ZION_close  ZION_adjclose  ZION_volume  \n",
      "2000-01-03  59.125000  53.437500   55.500000      39.996193      1199600  \n",
      "2000-01-04  55.000000  52.500000   52.812500      38.059437       816100  \n",
      "2000-01-05  53.250000  51.062500   52.750000      38.014412      1124700  \n",
      "2000-01-06  54.937500  52.375000   53.500000      38.554890      1112100  \n",
      "2000-01-07  54.250000  53.312500   53.625000      38.644981       782000  \n",
      "...               ...        ...         ...            ...          ...  \n",
      "2020-11-20  38.540001  37.669998   38.279999      38.279999      2011400  \n",
      "2020-11-23  39.639999  38.720001   39.560001      39.560001      1872500  \n",
      "2020-11-24  42.240002  40.060001   41.860001      41.860001      2578600  \n",
      "2020-11-25  41.049999  40.310001   40.950001      40.950001      2633900  \n",
      "2020-11-27  41.020000  39.299999   39.459999      39.459999      2027900  \n",
      "\n",
      "[5261 rows x 2262 columns]\n",
      "              MMM_open    MMM_high     MMM_low   MMM_close  MMM_adjclose  \\\n",
      "2000-01-04   48.031250   48.250000   47.031250   47.187500     27.815882   \n",
      "2000-01-05   46.437500   47.406250   45.312500   45.312500     26.710594   \n",
      "2000-01-06   45.562500   48.125000   45.562500   46.625000     27.484299   \n",
      "2000-01-07   47.156250   51.250000   47.156250   50.375000     29.694832   \n",
      "2000-01-10   50.562500   51.906250   49.968750   51.375000     30.284302   \n",
      "...                ...         ...         ...         ...           ...   \n",
      "2020-11-20  170.570007  171.880005  169.300003  171.610001    171.610001   \n",
      "2020-11-23  171.500000  172.949997  170.960007  172.889999    172.889999   \n",
      "2020-11-24  173.759995  174.860001  173.449997  174.139999    174.139999   \n",
      "2020-11-25  175.000000  177.220001  174.899994  177.080002    177.080002   \n",
      "2020-11-27  176.839996  177.339996  175.449997  177.119995    177.119995   \n",
      "\n",
      "            MMM_volume    ABT_open    ABT_high     ABT_low   ABT_close  ...  \\\n",
      "2000-01-04   2173400.0   15.823756   16.160431   15.599305   15.711531  ...   \n",
      "2000-01-05   2713800.0   15.459024   15.599305   15.150405   15.262630  ...   \n",
      "2000-01-06   3699400.0   15.066236   15.402911   15.066236   15.234573  ...   \n",
      "2000-01-07   5975800.0   15.262630   15.823756   15.178461   15.767643  ...   \n",
      "2000-01-10   4101200.0   15.487081   16.272657   15.487081   15.935981  ...   \n",
      "...                ...         ...         ...         ...         ...  ...   \n",
      "2020-11-20   2986000.0  110.000000  111.199997  109.260002  111.000000  ...   \n",
      "2020-11-23   2656900.0  110.739998  111.760002  110.070000  110.889999  ...   \n",
      "2020-11-24   2064300.0  111.430000  111.519997  108.860001  109.269997  ...   \n",
      "2020-11-25   3086000.0  109.309998  109.589996  107.250000  107.610001  ...   \n",
      "2020-11-27   2052200.0  107.050003  108.400002  105.629997  106.410004  ...   \n",
      "\n",
      "              ZBRA_low  ZBRA_close  ZBRA_adjclose  ZBRA_volume  ZION_open  \\\n",
      "2000-01-04   24.777779   25.027779      25.027779    1055700.0  59.031250   \n",
      "2000-01-05   23.000000   24.666666      24.666666     522400.0  54.625000   \n",
      "2000-01-06   23.555555   25.138889      25.138889     612100.0  52.750000   \n",
      "2000-01-07   23.722221   23.777779      23.777779     263800.0  52.750000   \n",
      "2000-01-10   23.111111   23.513889      23.513889     333900.0  53.750000   \n",
      "...                ...         ...            ...          ...        ...   \n",
      "2020-11-20  333.059998  358.390015     358.390015    1189700.0  38.349998   \n",
      "2020-11-23  354.160004  354.989990     354.989990     694100.0  38.009998   \n",
      "2020-11-24  358.549988  362.690002     362.690002     590100.0  38.950001   \n",
      "2020-11-25  362.359985  373.470001     373.470001     566700.0  40.439999   \n",
      "2020-11-27  369.290009  372.730011     372.730011     345000.0  40.880001   \n",
      "\n",
      "            ZION_high   ZION_low  ZION_close  ZION_adjclose  ZION_volume  \n",
      "2000-01-04  59.125000  53.437500   55.500000      39.996193    1199600.0  \n",
      "2000-01-05  55.000000  52.500000   52.812500      38.059437     816100.0  \n",
      "2000-01-06  53.250000  51.062500   52.750000      38.014412    1124700.0  \n",
      "2000-01-07  54.937500  52.375000   53.500000      38.554890    1112100.0  \n",
      "2000-01-10  54.250000  53.312500   53.625000      38.644981     782000.0  \n",
      "...               ...        ...         ...            ...          ...  \n",
      "2020-11-20  38.700001  37.720001   38.389999      38.389999    1993500.0  \n",
      "2020-11-23  38.540001  37.669998   38.279999      38.279999    2011400.0  \n",
      "2020-11-24  39.639999  38.720001   39.560001      39.560001    1872500.0  \n",
      "2020-11-25  42.240002  40.060001   41.860001      41.860001    2578600.0  \n",
      "2020-11-27  41.049999  40.310001   40.950001      40.950001    2633900.0  \n",
      "\n",
      "[5260 rows x 2261 columns]\n",
      "2000-01-04     6.775772\n",
      "2000-01-05     6.662845\n",
      "2000-01-06     6.832240\n",
      "2000-01-07     6.662845\n",
      "2000-01-10     6.380521\n",
      "                ...    \n",
      "2020-11-20    76.760002\n",
      "2020-11-23    81.099998\n",
      "2020-11-24    86.379997\n",
      "2020-11-25    84.720001\n",
      "2020-11-27    83.870003\n",
      "Name: PVH_adjclose, Length: 5260, dtype: float64\n"
     ]
    }
   ],
   "source": [
    "lagged_days = int(input(\"How many days would you like to lag the features by?\"))\n",
    "print(merged_data)\n",
    "features_wo_pca = merged_data.drop(columns = [chosen_adjclose]).shift(lagged_days).dropna()\n",
    "print(features_wo_pca)\n",
    "target = merged_data[chosen_adjclose][lagged_days:]\n",
    "print(target)"
   ]
  },
  {
   "cell_type": "markdown",
   "metadata": {},
   "source": [
    "# Dimensionality Reduction Using PCA"
   ]
  },
  {
   "cell_type": "markdown",
   "metadata": {},
   "source": [
    "Implement Principal Component Analysis (PCA) for dimensionality reduction using the sklearn library. This would help us to decide which features to pick to have the most explained variance with the least number of features.\n",
    "\n",
    "General steps:\n",
    "1. Scale/Normalise the feature variables\n",
    "2. Fit using the PCA method to obtain the actual components\n",
    "3. "
   ]
  },
  {
   "cell_type": "markdown",
   "metadata": {},
   "source": [
    "Below, we set the n_components to be 0.999. This means that the number of components chosen will be such that 99.9% of the variance is explained by them."
   ]
  },
  {
   "cell_type": "code",
   "execution_count": 9,
   "metadata": {},
   "outputs": [],
   "source": [
    "pca = PCA(n_components = 0.999)\n"
   ]
  },
  {
   "cell_type": "markdown",
   "metadata": {},
   "source": [
    "Scale the data using sklearn's StandardScaler module to ensure that the features all follow a standard normal distribution with a mean of zero and standard deviation of one."
   ]
  },
  {
   "cell_type": "code",
   "execution_count": 10,
   "metadata": {},
   "outputs": [],
   "source": [
    "stdscaler = StandardScaler()\n",
    "features_wo_pca_scaled = pd.DataFrame(stdscaler.fit_transform(features_wo_pca), \n",
    "                              columns = features_wo_pca.columns, \n",
    "                              index = features_wo_pca.index)"
   ]
  },
  {
   "cell_type": "markdown",
   "metadata": {},
   "source": [
    "We plot the cumulative explained variance against the number of components to get an illustration of the amount of variance explained by each cumulative component."
   ]
  },
  {
   "cell_type": "code",
   "execution_count": 11,
   "metadata": {},
   "outputs": [
    {
     "data": {
      "text/plain": [
       "Text(0, 0.5, 'cumulative explained variance')"
      ]
     },
     "execution_count": 11,
     "metadata": {},
     "output_type": "execute_result"
    },
    {
     "data": {
      "image/png": "[encoded data removed]",
      "text/plain": [
       "<Figure size 432x288 with 1 Axes>"
      ]
     },
     "metadata": {
      "needs_background": "light"
     },
     "output_type": "display_data"
    }
   ],
   "source": [
    "pca.fit(features_wo_pca_scaled)\n",
    "plt.plot(np.cumsum(pca.explained_variance_ratio_))\n",
    "plt.xlabel('number of components')\n",
    "plt.ylabel('cumulative explained variance')"
   ]
  },
  {
   "cell_type": "markdown",
   "metadata": {},
   "source": [
    "The following prints out the contribution of each original individual feature column to each newly created PCA component row. The index here represents each PCA component; the columns represent each original individual feature; the values represent the amount contributed by the individual feature to the PCA component. We will be able to identify which features contribute the most to each component if needed."
   ]
  },
  {
   "cell_type": "code",
   "execution_count": 12,
   "metadata": {},
   "outputs": [
    {
     "data": {
      "text/html": [
       "<div>\n",
       "<style scoped>\n",
       "    .dataframe tbody tr th:only-of-type {\n",
       "        vertical-align: middle;\n",
       "    }\n",
       "\n",
       "    .dataframe tbody tr th {\n",
       "        vertical-align: top;\n",
       "    }\n",
       "\n",
       "    .dataframe thead th {\n",
       "        text-align: right;\n",
       "    }\n",
       "</style>\n",
       "<table border=\"1\" class=\"dataframe\">\n",
       "  <thead>\n",
       "    <tr style=\"text-align: right;\">\n",
       "      <th></th>\n",
       "      <th>MMM_open</th>\n",
       "      <th>MMM_high</th>\n",
       "      <th>MMM_low</th>\n",
       "      <th>MMM_close</th>\n",
       "      <th>MMM_adjclose</th>\n",
       "      <th>MMM_volume</th>\n",
       "      <th>ABT_open</th>\n",
       "      <th>ABT_high</th>\n",
       "      <th>ABT_low</th>\n",
       "      <th>ABT_close</th>\n",
       "      <th>...</th>\n",
       "      <th>ZBRA_low</th>\n",
       "      <th>ZBRA_close</th>\n",
       "      <th>ZBRA_adjclose</th>\n",
       "      <th>ZBRA_volume</th>\n",
       "      <th>ZION_open</th>\n",
       "      <th>ZION_high</th>\n",
       "      <th>ZION_low</th>\n",
       "      <th>ZION_close</th>\n",
       "      <th>ZION_adjclose</th>\n",
       "      <th>ZION_volume</th>\n",
       "    </tr>\n",
       "  </thead>\n",
       "  <tbody>\n",
       "    <tr>\n",
       "      <th>0</th>\n",
       "      <td>0.025821</td>\n",
       "      <td>0.025843</td>\n",
       "      <td>0.025792</td>\n",
       "      <td>0.025813</td>\n",
       "      <td>0.026489</td>\n",
       "      <td>-0.009411</td>\n",
       "      <td>0.025711</td>\n",
       "      <td>0.025675</td>\n",
       "      <td>0.025757</td>\n",
       "      <td>0.025716</td>\n",
       "      <td>...</td>\n",
       "      <td>0.024266</td>\n",
       "      <td>0.024248</td>\n",
       "      <td>0.024248</td>\n",
       "      <td>-0.002230</td>\n",
       "      <td>-0.004858</td>\n",
       "      <td>-0.004943</td>\n",
       "      <td>-0.004773</td>\n",
       "      <td>-0.004863</td>\n",
       "      <td>-0.000082</td>\n",
       "      <td>0.003823</td>\n",
       "    </tr>\n",
       "    <tr>\n",
       "      <th>1</th>\n",
       "      <td>0.004039</td>\n",
       "      <td>0.003955</td>\n",
       "      <td>0.004142</td>\n",
       "      <td>0.004079</td>\n",
       "      <td>0.002834</td>\n",
       "      <td>0.005582</td>\n",
       "      <td>-0.011799</td>\n",
       "      <td>-0.011922</td>\n",
       "      <td>-0.011689</td>\n",
       "      <td>-0.011824</td>\n",
       "      <td>...</td>\n",
       "      <td>-0.020186</td>\n",
       "      <td>-0.020248</td>\n",
       "      <td>-0.020248</td>\n",
       "      <td>-0.012551</td>\n",
       "      <td>-0.040830</td>\n",
       "      <td>-0.040842</td>\n",
       "      <td>-0.040813</td>\n",
       "      <td>-0.040835</td>\n",
       "      <td>-0.038305</td>\n",
       "      <td>0.036987</td>\n",
       "    </tr>\n",
       "    <tr>\n",
       "      <th>2</th>\n",
       "      <td>-0.016311</td>\n",
       "      <td>-0.015952</td>\n",
       "      <td>-0.016797</td>\n",
       "      <td>-0.016381</td>\n",
       "      <td>-0.009636</td>\n",
       "      <td>0.035670</td>\n",
       "      <td>0.021234</td>\n",
       "      <td>0.021560</td>\n",
       "      <td>0.020791</td>\n",
       "      <td>0.021177</td>\n",
       "      <td>...</td>\n",
       "      <td>0.022635</td>\n",
       "      <td>0.022852</td>\n",
       "      <td>0.022852</td>\n",
       "      <td>-0.002012</td>\n",
       "      <td>-0.032696</td>\n",
       "      <td>-0.032087</td>\n",
       "      <td>-0.033281</td>\n",
       "      <td>-0.032702</td>\n",
       "      <td>-0.031264</td>\n",
       "      <td>0.034604</td>\n",
       "    </tr>\n",
       "    <tr>\n",
       "      <th>3</th>\n",
       "      <td>-0.000316</td>\n",
       "      <td>-0.000336</td>\n",
       "      <td>-0.000408</td>\n",
       "      <td>-0.000400</td>\n",
       "      <td>-0.002631</td>\n",
       "      <td>0.010229</td>\n",
       "      <td>-0.000088</td>\n",
       "      <td>-0.000135</td>\n",
       "      <td>-0.000082</td>\n",
       "      <td>-0.000120</td>\n",
       "      <td>...</td>\n",
       "      <td>0.008086</td>\n",
       "      <td>0.007994</td>\n",
       "      <td>0.007994</td>\n",
       "      <td>0.006961</td>\n",
       "      <td>0.062806</td>\n",
       "      <td>0.063081</td>\n",
       "      <td>0.062565</td>\n",
       "      <td>0.062780</td>\n",
       "      <td>0.069232</td>\n",
       "      <td>-0.008619</td>\n",
       "    </tr>\n",
       "    <tr>\n",
       "      <th>4</th>\n",
       "      <td>-0.014047</td>\n",
       "      <td>-0.013882</td>\n",
       "      <td>-0.014300</td>\n",
       "      <td>-0.014139</td>\n",
       "      <td>-0.010882</td>\n",
       "      <td>0.008619</td>\n",
       "      <td>0.000305</td>\n",
       "      <td>0.000401</td>\n",
       "      <td>0.000221</td>\n",
       "      <td>0.000327</td>\n",
       "      <td>...</td>\n",
       "      <td>-0.004324</td>\n",
       "      <td>-0.004287</td>\n",
       "      <td>-0.004287</td>\n",
       "      <td>-0.002572</td>\n",
       "      <td>0.004725</td>\n",
       "      <td>0.005666</td>\n",
       "      <td>0.003639</td>\n",
       "      <td>0.004598</td>\n",
       "      <td>0.005281</td>\n",
       "      <td>0.014685</td>\n",
       "    </tr>\n",
       "  </tbody>\n",
       "</table>\n",
       "<p>5 rows × 2261 columns</p>\n",
       "</div>"
      ],
      "text/plain": [
       "   MMM_open  MMM_high   MMM_low  MMM_close  MMM_adjclose  MMM_volume  \\\n",
       "0  0.025821  0.025843  0.025792   0.025813      0.026489   -0.009411   \n",
       "1  0.004039  0.003955  0.004142   0.004079      0.002834    0.005582   \n",
       "2 -0.016311 -0.015952 -0.016797  -0.016381     -0.009636    0.035670   \n",
       "3 -0.000316 -0.000336 -0.000408  -0.000400     -0.002631    0.010229   \n",
       "4 -0.014047 -0.013882 -0.014300  -0.014139     -0.010882    0.008619   \n",
       "\n",
       "   ABT_open  ABT_high   ABT_low  ABT_close  ...  ZBRA_low  ZBRA_close  \\\n",
       "0  0.025711  0.025675  0.025757   0.025716  ...  0.024266    0.024248   \n",
       "1 -0.011799 -0.011922 -0.011689  -0.011824  ... -0.020186   -0.020248   \n",
       "2  0.021234  0.021560  0.020791   0.021177  ...  0.022635    0.022852   \n",
       "3 -0.000088 -0.000135 -0.000082  -0.000120  ...  0.008086    0.007994   \n",
       "4  0.000305  0.000401  0.000221   0.000327  ... -0.004324   -0.004287   \n",
       "\n",
       "   ZBRA_adjclose  ZBRA_volume  ZION_open  ZION_high  ZION_low  ZION_close  \\\n",
       "0       0.024248    -0.002230  -0.004858  -0.004943 -0.004773   -0.004863   \n",
       "1      -0.020248    -0.012551  -0.040830  -0.040842 -0.040813   -0.040835   \n",
       "2       0.022852    -0.002012  -0.032696  -0.032087 -0.033281   -0.032702   \n",
       "3       0.007994     0.006961   0.062806   0.063081  0.062565    0.062780   \n",
       "4      -0.004287    -0.002572   0.004725   0.005666  0.003639    0.004598   \n",
       "\n",
       "   ZION_adjclose  ZION_volume  \n",
       "0      -0.000082     0.003823  \n",
       "1      -0.038305     0.036987  \n",
       "2      -0.031264     0.034604  \n",
       "3       0.069232    -0.008619  \n",
       "4       0.005281     0.014685  \n",
       "\n",
       "[5 rows x 2261 columns]"
      ]
     },
     "execution_count": 12,
     "metadata": {},
     "output_type": "execute_result"
    }
   ],
   "source": [
    "feature_contribution = pd.DataFrame(pca.components_, columns = features_wo_pca_scaled.columns)\n",
    "feature_contribution.head()"
   ]
  },
  {
   "cell_type": "code",
   "execution_count": 13,
   "metadata": {},
   "outputs": [
    {
     "name": "stdout",
     "output_type": "stream",
     "text": [
      "                  0          1          2          3          4          5    \\\n",
      "2000-01-04 -35.960625 -23.579470  -4.003544 -17.606808  14.536161  -0.372489   \n",
      "2000-01-05 -36.841050 -22.742040  -2.974257 -17.430787  13.301949  -0.389820   \n",
      "2000-01-06 -37.491331 -22.275951  -1.956246 -16.677797  12.761608   0.983001   \n",
      "2000-01-07 -37.301441 -21.764235  -2.365436 -16.251824  12.193429   0.953994   \n",
      "2000-01-10 -36.589707 -21.835399  -2.836206 -16.317104  12.691584   1.852655   \n",
      "...               ...        ...        ...        ...        ...        ...   \n",
      "2020-11-20  90.169134 -28.528320  30.311490   1.496883   1.251119 -14.546927   \n",
      "2020-11-23  90.277710 -28.426148  30.097950   1.158040   1.199360 -14.386895   \n",
      "2020-11-24  91.124295 -28.240156  29.776709   1.855758   1.762781 -14.220944   \n",
      "2020-11-25  93.313282 -25.874541  31.381664   3.385146   3.613445 -10.402420   \n",
      "2020-11-27  92.681446 -28.801734  27.526240   1.991029   2.620798 -14.963136   \n",
      "\n",
      "                  6         7          8         9    ...       486       487  \\\n",
      "2000-01-04   1.706540 -7.328174   3.619585  7.513015  ... -0.110119  0.399411   \n",
      "2000-01-05   1.525685 -7.451076   2.833919  7.088114  ... -0.055813  0.499079   \n",
      "2000-01-06   1.553919 -5.452596   3.586925  6.639555  ...  0.098508  0.601303   \n",
      "2000-01-07   1.245660 -5.767784   2.960399  5.893983  ...  0.232740  0.656866   \n",
      "2000-01-10   1.485786 -5.081231   3.581863  5.985818  ...  0.030149  0.632265   \n",
      "...               ...       ...        ...       ...  ...       ...       ...   \n",
      "2020-11-20  10.487598 -6.153495   8.104492 -8.726777  ... -0.495636  0.020406   \n",
      "2020-11-23  10.329680 -6.278177   8.401823 -8.603620  ... -0.493188  0.077622   \n",
      "2020-11-24  10.718984 -6.477417   8.806800 -8.393340  ... -0.360895  0.262534   \n",
      "2020-11-25  11.453665 -4.706185  11.146048 -7.305964  ... -0.311735  0.062982   \n",
      "2020-11-27   9.513174 -6.358542   7.919671 -8.949726  ... -0.330806  0.193952   \n",
      "\n",
      "                 488       489       490       491       492       493  \\\n",
      "2000-01-04 -0.386645  0.552395  0.118920  0.955646 -0.343839  0.050240   \n",
      "2000-01-05 -0.064332  0.401524  0.186865  0.906632 -0.263046  0.031216   \n",
      "2000-01-06  0.104186  0.297159  0.095339  0.786233 -0.184858 -0.092262   \n",
      "2000-01-07  0.146597  0.251495  0.189968  0.504714 -0.027933 -0.246563   \n",
      "2000-01-10  0.151520 -0.114551  0.204611  0.457590  0.229583 -0.133902   \n",
      "...              ...       ...       ...       ...       ...       ...   \n",
      "2020-11-20  0.174389 -0.224601  0.325163  0.625070 -0.127400 -0.163000   \n",
      "2020-11-23  0.398007  0.006815  0.418483  0.542501 -0.279523 -0.141984   \n",
      "2020-11-24  0.257820  0.024318  0.363537  0.715263 -0.032639 -0.174537   \n",
      "2020-11-25  0.166913  0.331177  0.372347  0.484544 -0.511047 -0.179295   \n",
      "2020-11-27  0.352119  0.397439  0.292570  0.589836 -0.644214 -0.160392   \n",
      "\n",
      "                 494       495  \n",
      "2000-01-04  0.254576  0.208868  \n",
      "2000-01-05  0.212487  0.174125  \n",
      "2000-01-06  0.156278 -0.014894  \n",
      "2000-01-07  0.109340 -0.014904  \n",
      "2000-01-10  0.291648 -0.028518  \n",
      "...              ...       ...  \n",
      "2020-11-20 -0.008358  0.101844  \n",
      "2020-11-23  0.014553  0.081544  \n",
      "2020-11-24 -0.384987 -0.021050  \n",
      "2020-11-25 -0.418877 -0.115649  \n",
      "2020-11-27 -0.229545 -0.086609  \n",
      "\n",
      "[5260 rows x 496 columns]\n",
      "(5260, 496)\n"
     ]
    }
   ],
   "source": [
    "features_w_pca = pd.DataFrame(pca.fit_transform(features_wo_pca_scaled), index = features_wo_pca_scaled.index)\n",
    "print(features_w_pca)\n",
    "print(features_w_pca.shape)"
   ]
  },
  {
   "cell_type": "markdown",
   "metadata": {},
   "source": [
    "Determine the proportion of the split between train and test set. Here, arbitrarily determined as 90% for training, 10% for testing. Note: For extremely large data sets, it may be good to specify a number value (as opposed to a percentage) for the test set as the test set need not be too large, and also it would be good for the training set to be larger where possible.\n"
   ]
  },
  {
   "cell_type": "code",
   "execution_count": 14,
   "metadata": {},
   "outputs": [
    {
     "name": "stdout",
     "output_type": "stream",
     "text": [
      "Check of train-test split: \n",
      "features = 5260\n",
      "features_train = 4735\n",
      "features_test = 525\n"
     ]
    }
   ],
   "source": [
    "traintest_index = int(len(features_w_pca) * 0.9) #This returns the row number for the boundary between train and test sets.\n",
    "traintest_value = features_w_pca.index[traintest_index] #This returns the datetimeindex at the row where we want to split between train and test sets.\n",
    "features_train = features_w_pca[features_w_pca.index <= traintest_value]\n",
    "features_test = features_w_pca[features_w_pca.index > traintest_value]\n",
    "target_train = target[target.index <= traintest_value]\n",
    "target_test = target[target.index > traintest_value]\n",
    "\n",
    "print(\"Check of train-test split: \")\n",
    "print(\"features = \" + str(len(features_w_pca)))\n",
    "print(\"features_train = \" + str(len(features_train)))\n",
    "print(\"features_test = \" + str(len(features_test)))\n"
   ]
  },
  {
   "cell_type": "markdown",
   "metadata": {},
   "source": [
    "Perform a min-max scaling on the features for both train and test sets using sklearn's MinMaxScaler module to ensure that data is all within the same scale. Note that we use 'fit_transform' for the training data "
   ]
  },
  {
   "cell_type": "code",
   "execution_count": 15,
   "metadata": {},
   "outputs": [
    {
     "data": {
      "text/html": [
       "<div>\n",
       "<style scoped>\n",
       "    .dataframe tbody tr th:only-of-type {\n",
       "        vertical-align: middle;\n",
       "    }\n",
       "\n",
       "    .dataframe tbody tr th {\n",
       "        vertical-align: top;\n",
       "    }\n",
       "\n",
       "    .dataframe thead th {\n",
       "        text-align: right;\n",
       "    }\n",
       "</style>\n",
       "<table border=\"1\" class=\"dataframe\">\n",
       "  <thead>\n",
       "    <tr style=\"text-align: right;\">\n",
       "      <th></th>\n",
       "      <th>0</th>\n",
       "      <th>1</th>\n",
       "      <th>2</th>\n",
       "      <th>3</th>\n",
       "      <th>4</th>\n",
       "      <th>5</th>\n",
       "      <th>6</th>\n",
       "      <th>7</th>\n",
       "      <th>8</th>\n",
       "      <th>9</th>\n",
       "      <th>...</th>\n",
       "      <th>486</th>\n",
       "      <th>487</th>\n",
       "      <th>488</th>\n",
       "      <th>489</th>\n",
       "      <th>490</th>\n",
       "      <th>491</th>\n",
       "      <th>492</th>\n",
       "      <th>493</th>\n",
       "      <th>494</th>\n",
       "      <th>495</th>\n",
       "    </tr>\n",
       "  </thead>\n",
       "  <tbody>\n",
       "    <tr>\n",
       "      <th>2000-01-04</th>\n",
       "      <td>0.080385</td>\n",
       "      <td>0.087099</td>\n",
       "      <td>0.279482</td>\n",
       "      <td>0.082147</td>\n",
       "      <td>0.715719</td>\n",
       "      <td>0.304768</td>\n",
       "      <td>0.632782</td>\n",
       "      <td>0.217595</td>\n",
       "      <td>0.548317</td>\n",
       "      <td>0.753612</td>\n",
       "      <td>...</td>\n",
       "      <td>0.455914</td>\n",
       "      <td>0.635463</td>\n",
       "      <td>0.200103</td>\n",
       "      <td>0.936115</td>\n",
       "      <td>0.550433</td>\n",
       "      <td>1.000000</td>\n",
       "      <td>0.282250</td>\n",
       "      <td>0.511537</td>\n",
       "      <td>0.677123</td>\n",
       "      <td>0.645985</td>\n",
       "    </tr>\n",
       "    <tr>\n",
       "      <th>2000-01-05</th>\n",
       "      <td>0.072520</td>\n",
       "      <td>0.100060</td>\n",
       "      <td>0.294999</td>\n",
       "      <td>0.085854</td>\n",
       "      <td>0.686424</td>\n",
       "      <td>0.304461</td>\n",
       "      <td>0.626661</td>\n",
       "      <td>0.212681</td>\n",
       "      <td>0.522096</td>\n",
       "      <td>0.735429</td>\n",
       "      <td>...</td>\n",
       "      <td>0.491755</td>\n",
       "      <td>0.694814</td>\n",
       "      <td>0.438695</td>\n",
       "      <td>0.816842</td>\n",
       "      <td>0.595511</td>\n",
       "      <td>0.968410</td>\n",
       "      <td>0.327161</td>\n",
       "      <td>0.496514</td>\n",
       "      <td>0.647442</td>\n",
       "      <td>0.620796</td>\n",
       "    </tr>\n",
       "    <tr>\n",
       "      <th>2000-01-06</th>\n",
       "      <td>0.066711</td>\n",
       "      <td>0.107273</td>\n",
       "      <td>0.310346</td>\n",
       "      <td>0.101713</td>\n",
       "      <td>0.673599</td>\n",
       "      <td>0.328812</td>\n",
       "      <td>0.627616</td>\n",
       "      <td>0.292595</td>\n",
       "      <td>0.547227</td>\n",
       "      <td>0.716233</td>\n",
       "      <td>...</td>\n",
       "      <td>0.593605</td>\n",
       "      <td>0.755686</td>\n",
       "      <td>0.563440</td>\n",
       "      <td>0.734335</td>\n",
       "      <td>0.534789</td>\n",
       "      <td>0.890812</td>\n",
       "      <td>0.370624</td>\n",
       "      <td>0.399002</td>\n",
       "      <td>0.607802</td>\n",
       "      <td>0.483759</td>\n",
       "    </tr>\n",
       "    <tr>\n",
       "      <th>2000-01-07</th>\n",
       "      <td>0.068407</td>\n",
       "      <td>0.115193</td>\n",
       "      <td>0.304177</td>\n",
       "      <td>0.110685</td>\n",
       "      <td>0.660113</td>\n",
       "      <td>0.328297</td>\n",
       "      <td>0.617183</td>\n",
       "      <td>0.279991</td>\n",
       "      <td>0.526317</td>\n",
       "      <td>0.684327</td>\n",
       "      <td>...</td>\n",
       "      <td>0.682198</td>\n",
       "      <td>0.788772</td>\n",
       "      <td>0.594835</td>\n",
       "      <td>0.698235</td>\n",
       "      <td>0.597569</td>\n",
       "      <td>0.709373</td>\n",
       "      <td>0.457854</td>\n",
       "      <td>0.277149</td>\n",
       "      <td>0.574701</td>\n",
       "      <td>0.483751</td>\n",
       "    </tr>\n",
       "    <tr>\n",
       "      <th>2000-01-10</th>\n",
       "      <td>0.074765</td>\n",
       "      <td>0.114092</td>\n",
       "      <td>0.297080</td>\n",
       "      <td>0.109310</td>\n",
       "      <td>0.671937</td>\n",
       "      <td>0.344238</td>\n",
       "      <td>0.625310</td>\n",
       "      <td>0.307445</td>\n",
       "      <td>0.547058</td>\n",
       "      <td>0.688257</td>\n",
       "      <td>...</td>\n",
       "      <td>0.548489</td>\n",
       "      <td>0.774123</td>\n",
       "      <td>0.598479</td>\n",
       "      <td>0.408852</td>\n",
       "      <td>0.607284</td>\n",
       "      <td>0.679001</td>\n",
       "      <td>0.600999</td>\n",
       "      <td>0.366119</td>\n",
       "      <td>0.703266</td>\n",
       "      <td>0.473881</td>\n",
       "    </tr>\n",
       "  </tbody>\n",
       "</table>\n",
       "<p>5 rows × 496 columns</p>\n",
       "</div>"
      ],
      "text/plain": [
       "                 0         1         2         3         4         5    \\\n",
       "2000-01-04  0.080385  0.087099  0.279482  0.082147  0.715719  0.304768   \n",
       "2000-01-05  0.072520  0.100060  0.294999  0.085854  0.686424  0.304461   \n",
       "2000-01-06  0.066711  0.107273  0.310346  0.101713  0.673599  0.328812   \n",
       "2000-01-07  0.068407  0.115193  0.304177  0.110685  0.660113  0.328297   \n",
       "2000-01-10  0.074765  0.114092  0.297080  0.109310  0.671937  0.344238   \n",
       "\n",
       "                 6         7         8         9    ...       486       487  \\\n",
       "2000-01-04  0.632782  0.217595  0.548317  0.753612  ...  0.455914  0.635463   \n",
       "2000-01-05  0.626661  0.212681  0.522096  0.735429  ...  0.491755  0.694814   \n",
       "2000-01-06  0.627616  0.292595  0.547227  0.716233  ...  0.593605  0.755686   \n",
       "2000-01-07  0.617183  0.279991  0.526317  0.684327  ...  0.682198  0.788772   \n",
       "2000-01-10  0.625310  0.307445  0.547058  0.688257  ...  0.548489  0.774123   \n",
       "\n",
       "                 488       489       490       491       492       493  \\\n",
       "2000-01-04  0.200103  0.936115  0.550433  1.000000  0.282250  0.511537   \n",
       "2000-01-05  0.438695  0.816842  0.595511  0.968410  0.327161  0.496514   \n",
       "2000-01-06  0.563440  0.734335  0.534789  0.890812  0.370624  0.399002   \n",
       "2000-01-07  0.594835  0.698235  0.597569  0.709373  0.457854  0.277149   \n",
       "2000-01-10  0.598479  0.408852  0.607284  0.679001  0.600999  0.366119   \n",
       "\n",
       "                 494       495  \n",
       "2000-01-04  0.677123  0.645985  \n",
       "2000-01-05  0.647442  0.620796  \n",
       "2000-01-06  0.607802  0.483759  \n",
       "2000-01-07  0.574701  0.483751  \n",
       "2000-01-10  0.703266  0.473881  \n",
       "\n",
       "[5 rows x 496 columns]"
      ]
     },
     "execution_count": 15,
     "metadata": {},
     "output_type": "execute_result"
    }
   ],
   "source": [
    "from sklearn.preprocessing import MinMaxScaler\n",
    "minmax_scaler = MinMaxScaler()\n",
    "features_train = pd.DataFrame(minmax_scaler.fit_transform(features_train), \n",
    "                              columns = features_train.columns, \n",
    "                              index = features_train.index)\n",
    "features_train.head()"
   ]
  },
  {
   "cell_type": "code",
   "execution_count": 16,
   "metadata": {},
   "outputs": [
    {
     "data": {
      "text/html": [
       "<div>\n",
       "<style scoped>\n",
       "    .dataframe tbody tr th:only-of-type {\n",
       "        vertical-align: middle;\n",
       "    }\n",
       "\n",
       "    .dataframe tbody tr th {\n",
       "        vertical-align: top;\n",
       "    }\n",
       "\n",
       "    .dataframe thead th {\n",
       "        text-align: right;\n",
       "    }\n",
       "</style>\n",
       "<table border=\"1\" class=\"dataframe\">\n",
       "  <thead>\n",
       "    <tr style=\"text-align: right;\">\n",
       "      <th></th>\n",
       "      <th>0</th>\n",
       "      <th>1</th>\n",
       "      <th>2</th>\n",
       "      <th>3</th>\n",
       "      <th>4</th>\n",
       "      <th>5</th>\n",
       "      <th>6</th>\n",
       "      <th>7</th>\n",
       "      <th>8</th>\n",
       "      <th>9</th>\n",
       "      <th>...</th>\n",
       "      <th>486</th>\n",
       "      <th>487</th>\n",
       "      <th>488</th>\n",
       "      <th>489</th>\n",
       "      <th>490</th>\n",
       "      <th>491</th>\n",
       "      <th>492</th>\n",
       "      <th>493</th>\n",
       "      <th>494</th>\n",
       "      <th>495</th>\n",
       "    </tr>\n",
       "  </thead>\n",
       "  <tbody>\n",
       "    <tr>\n",
       "      <th>2018-10-29</th>\n",
       "      <td>0.875255</td>\n",
       "      <td>0.425823</td>\n",
       "      <td>0.478170</td>\n",
       "      <td>0.533470</td>\n",
       "      <td>0.482428</td>\n",
       "      <td>0.498375</td>\n",
       "      <td>0.257382</td>\n",
       "      <td>0.841462</td>\n",
       "      <td>0.579608</td>\n",
       "      <td>0.676270</td>\n",
       "      <td>...</td>\n",
       "      <td>0.344758</td>\n",
       "      <td>0.376584</td>\n",
       "      <td>0.469242</td>\n",
       "      <td>0.411433</td>\n",
       "      <td>0.506528</td>\n",
       "      <td>0.475067</td>\n",
       "      <td>0.519204</td>\n",
       "      <td>0.588510</td>\n",
       "      <td>0.525680</td>\n",
       "      <td>0.384808</td>\n",
       "    </tr>\n",
       "    <tr>\n",
       "      <th>2018-10-30</th>\n",
       "      <td>0.878225</td>\n",
       "      <td>0.394998</td>\n",
       "      <td>0.435058</td>\n",
       "      <td>0.518027</td>\n",
       "      <td>0.457064</td>\n",
       "      <td>0.442004</td>\n",
       "      <td>0.255041</td>\n",
       "      <td>0.787281</td>\n",
       "      <td>0.513919</td>\n",
       "      <td>0.615935</td>\n",
       "      <td>...</td>\n",
       "      <td>0.393872</td>\n",
       "      <td>0.524779</td>\n",
       "      <td>0.572045</td>\n",
       "      <td>0.349406</td>\n",
       "      <td>0.400313</td>\n",
       "      <td>0.294907</td>\n",
       "      <td>0.375899</td>\n",
       "      <td>0.469236</td>\n",
       "      <td>0.527038</td>\n",
       "      <td>0.633674</td>\n",
       "    </tr>\n",
       "    <tr>\n",
       "      <th>2018-10-31</th>\n",
       "      <td>0.888329</td>\n",
       "      <td>0.410246</td>\n",
       "      <td>0.463636</td>\n",
       "      <td>0.532567</td>\n",
       "      <td>0.483092</td>\n",
       "      <td>0.497869</td>\n",
       "      <td>0.272691</td>\n",
       "      <td>0.833099</td>\n",
       "      <td>0.563424</td>\n",
       "      <td>0.666912</td>\n",
       "      <td>...</td>\n",
       "      <td>0.537380</td>\n",
       "      <td>0.443310</td>\n",
       "      <td>0.391816</td>\n",
       "      <td>0.428200</td>\n",
       "      <td>0.491493</td>\n",
       "      <td>0.458744</td>\n",
       "      <td>0.574731</td>\n",
       "      <td>0.419425</td>\n",
       "      <td>0.424877</td>\n",
       "      <td>0.390768</td>\n",
       "    </tr>\n",
       "    <tr>\n",
       "      <th>2018-11-01</th>\n",
       "      <td>0.903763</td>\n",
       "      <td>0.420953</td>\n",
       "      <td>0.464346</td>\n",
       "      <td>0.537962</td>\n",
       "      <td>0.496545</td>\n",
       "      <td>0.502166</td>\n",
       "      <td>0.262308</td>\n",
       "      <td>0.824523</td>\n",
       "      <td>0.607280</td>\n",
       "      <td>0.669625</td>\n",
       "      <td>...</td>\n",
       "      <td>0.466092</td>\n",
       "      <td>0.462750</td>\n",
       "      <td>0.583091</td>\n",
       "      <td>0.220916</td>\n",
       "      <td>0.595950</td>\n",
       "      <td>0.205172</td>\n",
       "      <td>0.366606</td>\n",
       "      <td>0.377489</td>\n",
       "      <td>0.542736</td>\n",
       "      <td>0.647877</td>\n",
       "    </tr>\n",
       "    <tr>\n",
       "      <th>2018-11-02</th>\n",
       "      <td>0.910761</td>\n",
       "      <td>0.378054</td>\n",
       "      <td>0.414145</td>\n",
       "      <td>0.517303</td>\n",
       "      <td>0.472533</td>\n",
       "      <td>0.438038</td>\n",
       "      <td>0.222047</td>\n",
       "      <td>0.744101</td>\n",
       "      <td>0.545599</td>\n",
       "      <td>0.614847</td>\n",
       "      <td>...</td>\n",
       "      <td>0.391703</td>\n",
       "      <td>0.395165</td>\n",
       "      <td>0.664435</td>\n",
       "      <td>0.272105</td>\n",
       "      <td>0.630714</td>\n",
       "      <td>0.252655</td>\n",
       "      <td>0.328262</td>\n",
       "      <td>0.358581</td>\n",
       "      <td>0.569253</td>\n",
       "      <td>0.834693</td>\n",
       "    </tr>\n",
       "  </tbody>\n",
       "</table>\n",
       "<p>5 rows × 496 columns</p>\n",
       "</div>"
      ],
      "text/plain": [
       "                 0         1         2         3         4         5    \\\n",
       "2018-10-29  0.875255  0.425823  0.478170  0.533470  0.482428  0.498375   \n",
       "2018-10-30  0.878225  0.394998  0.435058  0.518027  0.457064  0.442004   \n",
       "2018-10-31  0.888329  0.410246  0.463636  0.532567  0.483092  0.497869   \n",
       "2018-11-01  0.903763  0.420953  0.464346  0.537962  0.496545  0.502166   \n",
       "2018-11-02  0.910761  0.378054  0.414145  0.517303  0.472533  0.438038   \n",
       "\n",
       "                 6         7         8         9    ...       486       487  \\\n",
       "2018-10-29  0.257382  0.841462  0.579608  0.676270  ...  0.344758  0.376584   \n",
       "2018-10-30  0.255041  0.787281  0.513919  0.615935  ...  0.393872  0.524779   \n",
       "2018-10-31  0.272691  0.833099  0.563424  0.666912  ...  0.537380  0.443310   \n",
       "2018-11-01  0.262308  0.824523  0.607280  0.669625  ...  0.466092  0.462750   \n",
       "2018-11-02  0.222047  0.744101  0.545599  0.614847  ...  0.391703  0.395165   \n",
       "\n",
       "                 488       489       490       491       492       493  \\\n",
       "2018-10-29  0.469242  0.411433  0.506528  0.475067  0.519204  0.588510   \n",
       "2018-10-30  0.572045  0.349406  0.400313  0.294907  0.375899  0.469236   \n",
       "2018-10-31  0.391816  0.428200  0.491493  0.458744  0.574731  0.419425   \n",
       "2018-11-01  0.583091  0.220916  0.595950  0.205172  0.366606  0.377489   \n",
       "2018-11-02  0.664435  0.272105  0.630714  0.252655  0.328262  0.358581   \n",
       "\n",
       "                 494       495  \n",
       "2018-10-29  0.525680  0.384808  \n",
       "2018-10-30  0.527038  0.633674  \n",
       "2018-10-31  0.424877  0.390768  \n",
       "2018-11-01  0.542736  0.647877  \n",
       "2018-11-02  0.569253  0.834693  \n",
       "\n",
       "[5 rows x 496 columns]"
      ]
     },
     "execution_count": 16,
     "metadata": {},
     "output_type": "execute_result"
    }
   ],
   "source": [
    "features_test = pd.DataFrame(minmax_scaler.transform(features_test), \n",
    "                             columns = features_test.columns, \n",
    "                             index = features_test.index)\n",
    "features_test.head()"
   ]
  },
  {
   "cell_type": "markdown",
   "metadata": {},
   "source": [
    "Sequence generation"
   ]
  },
  {
   "cell_type": "code",
   "execution_count": 17,
   "metadata": {},
   "outputs": [
    {
     "name": "stdout",
     "output_type": "stream",
     "text": [
      "(4730, 5, 496)\n"
     ]
    }
   ],
   "source": [
    "sequence_length = 5\n",
    "def gen_sequence(df, seq_length):\n",
    "    data_array = df.values\n",
    "    num_elements = data_array.shape[0]\n",
    "    for start, stop in zip(range(0, num_elements-seq_length), range(seq_length, num_elements)):\n",
    "        yield data_array[start:stop, :]\n",
    "\n",
    "seq_array = np.array(list(gen_sequence(features_train,sequence_length)))\n",
    "print(seq_array.shape)"
   ]
  },
  {
   "cell_type": "code",
   "execution_count": 18,
   "metadata": {},
   "outputs": [
    {
     "data": {
      "text/plain": [
       "(4730,)"
      ]
     },
     "execution_count": 18,
     "metadata": {},
     "output_type": "execute_result"
    }
   ],
   "source": [
    "def gen_labels(df, seq_length):\n",
    "    data_array = df.values\n",
    "    num_elements = data_array.shape[0]\n",
    "    return data_array[seq_length:num_elements]\n",
    "\n",
    "label_array = np.array(list(gen_labels(target_train,sequence_length)))\n",
    "label_array.shape"
   ]
  },
  {
   "cell_type": "code",
   "execution_count": 19,
   "metadata": {},
   "outputs": [
    {
     "data": {
      "text/plain": [
       "(520, 5, 496)"
      ]
     },
     "execution_count": 19,
     "metadata": {},
     "output_type": "execute_result"
    }
   ],
   "source": [
    "seq_array_test = np.array(list(gen_sequence(features_test,sequence_length)))\n",
    "seq_array_test.shape"
   ]
  },
  {
   "cell_type": "code",
   "execution_count": 20,
   "metadata": {},
   "outputs": [
    {
     "data": {
      "text/plain": [
       "(520,)"
      ]
     },
     "execution_count": 20,
     "metadata": {},
     "output_type": "execute_result"
    }
   ],
   "source": [
    "label_array_test = np.array(list(gen_labels(target_test,sequence_length)))\n",
    "label_array_test.shape"
   ]
  },
  {
   "cell_type": "markdown",
   "metadata": {},
   "source": [
    "# Benchmark Model - Linear Regression (with PCA)"
   ]
  },
  {
   "cell_type": "markdown",
   "metadata": {},
   "source": [
    "Here, we show the results of linear regression implemented on the principal components generated from the PCA earlier. Notice that the results are significantly better compared to without implementing PCA."
   ]
  },
  {
   "cell_type": "code",
   "execution_count": 21,
   "metadata": {},
   "outputs": [
    {
     "data": {
      "text/plain": [
       "LinearRegression()"
      ]
     },
     "execution_count": 21,
     "metadata": {},
     "output_type": "execute_result"
    }
   ],
   "source": [
    "from sklearn.linear_model import LinearRegression\n",
    "\n",
    "linearregression = LinearRegression()\n",
    "linearregression.fit(np.array([seq_array[i][sequence_length-1] for i in range(seq_array.shape[0])]),label_array)"
   ]
  },
  {
   "cell_type": "code",
   "execution_count": 22,
   "metadata": {},
   "outputs": [],
   "source": [
    "prediction = linearregression.predict(np.array([seq_array_test[i][sequence_length-1] for i in range(seq_array_test.shape[0])]))\n"
   ]
  },
  {
   "cell_type": "code",
   "execution_count": 23,
   "metadata": {},
   "outputs": [],
   "source": [
    "pd.DataFrame([prediction,label_array_test]).T\\\n",
    ".rename({0:'prediction',1:'truth'},axis=1)\\\n",
    ".set_index(target.index[target.index> target.index[int(len(target) * 0.9) + sequence_length]])\\\n",
    ".to_csv('LR_prediction.csv')"
   ]
  },
  {
   "cell_type": "code",
   "execution_count": 24,
   "metadata": {},
   "outputs": [
    {
     "data": {
      "image/png": "[encoded data removed]",
      "text/plain": [
       "<Figure size 432x288 with 1 Axes>"
      ]
     },
     "metadata": {
      "needs_background": "light"
     },
     "output_type": "display_data"
    }
   ],
   "source": [
    "plt.plot(prediction, label='prediction')\n",
    "plt.plot(label_array_test, label='truth')\n",
    "plt.legend()\n",
    "plt.show()"
   ]
  },
  {
   "cell_type": "code",
   "execution_count": 25,
   "metadata": {},
   "outputs": [
    {
     "data": {
      "text/plain": [
       "(0.1783193333039762, 23.281993144805348)"
      ]
     },
     "execution_count": 25,
     "metadata": {},
     "output_type": "execute_result"
    }
   ],
   "source": [
    "from sklearn.metrics import r2_score, mean_squared_error\n",
    "r2_score(label_array_test,prediction),np.sqrt(mean_squared_error(label_array_test,prediction))"
   ]
  },
  {
   "cell_type": "markdown",
   "metadata": {},
   "source": [
    "# Neural Network"
   ]
  },
  {
   "cell_type": "markdown",
   "metadata": {},
   "source": [
    "LSTM model"
   ]
  },
  {
   "cell_type": "code",
   "execution_count": 44,
   "metadata": {
    "scrolled": true
   },
   "outputs": [
    {
     "name": "stdout",
     "output_type": "stream",
     "text": [
      "5\n",
      "496\n"
     ]
    }
   ],
   "source": [
    "from tensorflow import keras\n",
    "from keras.models import Sequential\n",
    "from keras.layers import Dense, Dropout, LSTM\n",
    "from numpy.random import seed\n",
    "import random as python_random\n",
    "import tensorflow\n",
    "tensorflow.random.set_seed(1)\n",
    "seed(1)\n",
    "python_random.seed(123)\n",
    "\n",
    "# build the network\n",
    "nb_features = seq_array.shape[2]\n",
    "print(sequence_length)\n",
    "print(nb_features)\n",
    "model = Sequential()\n",
    "\n",
    "model.add(LSTM(\n",
    "         input_shape=(sequence_length, nb_features),\n",
    "         units=75,\n",
    "         return_sequences=True))\n",
    "model.add(Dropout(0.2))\n",
    "model.add(LSTM(\n",
    "          units=50,\n",
    "          return_sequences=True))\n",
    "model.add(Dropout(0.2))\n",
    "model.add(LSTM(\n",
    "          units=50,\n",
    "          return_sequences=False))\n",
    "model.add(Dropout(0.2))\n",
    "\n",
    "model.add(Dense(1))\n",
    "model.compile(loss='mae', optimizer='nadam', metrics=['mean_squared_error'])"
   ]
  },
  {
   "cell_type": "code",
   "execution_count": 45,
   "metadata": {},
   "outputs": [
    {
     "name": "stdout",
     "output_type": "stream",
     "text": [
      "Model: \"sequential_2\"\n",
      "_________________________________________________________________\n",
      "Layer (type)                 Output Shape              Param #   \n",
      "=================================================================\n",
      "lstm_6 (LSTM)                (None, 5, 75)             171600    \n",
      "_________________________________________________________________\n",
      "dropout_6 (Dropout)          (None, 5, 75)             0         \n",
      "_________________________________________________________________\n",
      "lstm_7 (LSTM)                (None, 5, 50)             25200     \n",
      "_________________________________________________________________\n",
      "dropout_7 (Dropout)          (None, 5, 50)             0         \n",
      "_________________________________________________________________\n",
      "lstm_8 (LSTM)                (None, 50)                20200     \n",
      "_________________________________________________________________\n",
      "dropout_8 (Dropout)          (None, 50)                0         \n",
      "_________________________________________________________________\n",
      "dense_2 (Dense)              (None, 1)                 51        \n",
      "=================================================================\n",
      "Total params: 217,051\n",
      "Trainable params: 217,051\n",
      "Non-trainable params: 0\n",
      "_________________________________________________________________\n"
     ]
    }
   ],
   "source": [
    "model.summary()"
   ]
  },
  {
   "cell_type": "code",
   "execution_count": 46,
   "metadata": {},
   "outputs": [
    {
     "name": "stdout",
     "output_type": "stream",
     "text": [
      "Epoch 1/200\n",
      "134/134 - 2s - loss: 41.0492 - mean_squared_error: 3097.9236 - val_loss: 109.9148 - val_mean_squared_error: 12599.7451\n",
      "Epoch 2/200\n",
      "134/134 - 1s - loss: 36.8710 - mean_squared_error: 2569.5574 - val_loss: 104.7829 - val_mean_squared_error: 11497.9258\n",
      "Epoch 3/200\n",
      "134/134 - 1s - loss: 35.0709 - mean_squared_error: 2282.2612 - val_loss: 100.2789 - val_mean_squared_error: 10574.3379\n",
      "Epoch 4/200\n",
      "134/134 - 1s - loss: 33.6916 - mean_squared_error: 2058.8628 - val_loss: 96.2102 - val_mean_squared_error: 9774.8896\n",
      "Epoch 5/200\n",
      "134/134 - 1s - loss: 32.7492 - mean_squared_error: 1891.1565 - val_loss: 93.1262 - val_mean_squared_error: 9190.9746\n",
      "Epoch 6/200\n",
      "134/134 - 1s - loss: 32.3960 - mean_squared_error: 1806.5118 - val_loss: 90.9859 - val_mean_squared_error: 8796.9033\n",
      "Epoch 7/200\n",
      "134/134 - 1s - loss: 32.1791 - mean_squared_error: 1741.3079 - val_loss: 89.6399 - val_mean_squared_error: 8553.7871\n",
      "Epoch 8/200\n",
      "134/134 - 1s - loss: 32.1251 - mean_squared_error: 1711.5739 - val_loss: 88.7656 - val_mean_squared_error: 8397.8047\n",
      "Epoch 9/200\n",
      "134/134 - 1s - loss: 32.0893 - mean_squared_error: 1690.6721 - val_loss: 88.3436 - val_mean_squared_error: 8323.0781\n",
      "Epoch 10/200\n",
      "134/134 - 1s - loss: 32.0102 - mean_squared_error: 1678.7356 - val_loss: 87.9057 - val_mean_squared_error: 8245.8916\n",
      "Epoch 11/200\n",
      "134/134 - 1s - loss: 32.1176 - mean_squared_error: 1672.2097 - val_loss: 87.5280 - val_mean_squared_error: 8179.6216\n",
      "Epoch 12/200\n",
      "134/134 - 1s - loss: 32.0799 - mean_squared_error: 1661.5847 - val_loss: 87.2446 - val_mean_squared_error: 8130.0923\n",
      "Epoch 13/200\n",
      "134/134 - 1s - loss: 31.9996 - mean_squared_error: 1652.8990 - val_loss: 86.9411 - val_mean_squared_error: 8077.2319\n",
      "Epoch 14/200\n",
      "134/134 - 1s - loss: 32.0274 - mean_squared_error: 1652.0806 - val_loss: 86.9092 - val_mean_squared_error: 8071.6797\n",
      "Epoch 15/200\n",
      "134/134 - 1s - loss: 32.0325 - mean_squared_error: 1649.9956 - val_loss: 86.9338 - val_mean_squared_error: 8075.9604\n",
      "Epoch 16/200\n",
      "134/134 - 1s - loss: 32.0768 - mean_squared_error: 1648.2551 - val_loss: 86.7483 - val_mean_squared_error: 8043.7524\n",
      "Epoch 17/200\n",
      "134/134 - 1s - loss: 32.0119 - mean_squared_error: 1641.0530 - val_loss: 86.7729 - val_mean_squared_error: 8048.0093\n",
      "Epoch 18/200\n",
      "134/134 - 1s - loss: 32.0369 - mean_squared_error: 1648.5807 - val_loss: 86.8532 - val_mean_squared_error: 8061.9658\n",
      "Epoch 19/200\n",
      "134/134 - 1s - loss: 32.0722 - mean_squared_error: 1649.4167 - val_loss: 86.6447 - val_mean_squared_error: 8025.7856\n",
      "Epoch 20/200\n",
      "134/134 - 1s - loss: 32.0954 - mean_squared_error: 1645.3835 - val_loss: 86.8891 - val_mean_squared_error: 8068.1997\n",
      "Epoch 21/200\n",
      "134/134 - 1s - loss: 32.1309 - mean_squared_error: 1658.5410 - val_loss: 87.1053 - val_mean_squared_error: 8105.8032\n",
      "Epoch 22/200\n",
      "134/134 - 1s - loss: 32.1011 - mean_squared_error: 1649.5618 - val_loss: 87.1338 - val_mean_squared_error: 8110.7729\n",
      "Epoch 23/200\n",
      "134/134 - 1s - loss: 32.0800 - mean_squared_error: 1659.3717 - val_loss: 87.5528 - val_mean_squared_error: 8183.9624\n",
      "Epoch 24/200\n",
      "134/134 - 1s - loss: 32.1710 - mean_squared_error: 1698.6674 - val_loss: 86.9980 - val_mean_squared_error: 8087.1357\n",
      "Epoch 25/200\n",
      "134/134 - 1s - loss: 32.0754 - mean_squared_error: 1661.1134 - val_loss: 86.9696 - val_mean_squared_error: 8082.1934\n",
      "Epoch 26/200\n",
      "134/134 - 1s - loss: 32.0577 - mean_squared_error: 1651.3472 - val_loss: 86.6326 - val_mean_squared_error: 8023.6870\n",
      "Epoch 27/200\n",
      "134/134 - 1s - loss: 32.0588 - mean_squared_error: 1642.3389 - val_loss: 86.6163 - val_mean_squared_error: 8020.8530\n",
      "Epoch 28/200\n",
      "134/134 - 1s - loss: 32.0682 - mean_squared_error: 1646.8612 - val_loss: 86.7704 - val_mean_squared_error: 8047.5859\n",
      "Epoch 29/200\n",
      "134/134 - 1s - loss: 32.0372 - mean_squared_error: 1638.3296 - val_loss: 86.9865 - val_mean_squared_error: 8085.1367\n",
      "Epoch 30/200\n",
      "134/134 - 1s - loss: 32.0328 - mean_squared_error: 1652.4290 - val_loss: 87.1709 - val_mean_squared_error: 8117.2388\n",
      "Epoch 31/200\n",
      "134/134 - 1s - loss: 32.1140 - mean_squared_error: 1664.3971 - val_loss: 87.2746 - val_mean_squared_error: 8135.3369\n",
      "Epoch 32/200\n",
      "134/134 - 1s - loss: 32.0787 - mean_squared_error: 1652.7894 - val_loss: 86.9081 - val_mean_squared_error: 8071.4917\n",
      "Epoch 33/200\n",
      "134/134 - 1s - loss: 31.9999 - mean_squared_error: 1708.3425 - val_loss: 91.3048 - val_mean_squared_error: 8855.0176\n",
      "Epoch 34/200\n",
      "134/134 - 1s - loss: 28.0569 - mean_squared_error: 1447.9261 - val_loss: 79.2899 - val_mean_squared_error: 6805.3643\n",
      "Epoch 35/200\n",
      "134/134 - 1s - loss: 32.1467 - mean_squared_error: 1605.5492 - val_loss: 86.2485 - val_mean_squared_error: 7957.2778\n",
      "Epoch 36/200\n",
      "134/134 - 1s - loss: 32.0323 - mean_squared_error: 1623.5743 - val_loss: 86.7130 - val_mean_squared_error: 8037.6167\n",
      "Epoch 37/200\n",
      "134/134 - 1s - loss: 32.0727 - mean_squared_error: 1654.1982 - val_loss: 86.9427 - val_mean_squared_error: 8077.5073\n",
      "Epoch 38/200\n",
      "134/134 - 1s - loss: 32.0776 - mean_squared_error: 1649.6786 - val_loss: 87.3390 - val_mean_squared_error: 8146.5688\n",
      "Epoch 39/200\n",
      "134/134 - 1s - loss: 32.1662 - mean_squared_error: 1653.2053 - val_loss: 86.8946 - val_mean_squared_error: 8069.1270\n",
      "Epoch 40/200\n",
      "134/134 - 1s - loss: 32.1373 - mean_squared_error: 1641.1948 - val_loss: 86.9586 - val_mean_squared_error: 8080.1831\n",
      "Epoch 41/200\n",
      "134/134 - 1s - loss: 32.0462 - mean_squared_error: 1645.5917 - val_loss: 86.0450 - val_mean_squared_error: 7922.1963\n",
      "Epoch 42/200\n",
      "134/134 - 1s - loss: 31.9150 - mean_squared_error: 1631.3079 - val_loss: 85.3343 - val_mean_squared_error: 7800.3643\n",
      "Epoch 43/200\n",
      "134/134 - 1s - loss: 32.1130 - mean_squared_error: 1649.6272 - val_loss: 86.6952 - val_mean_squared_error: 8034.5298\n",
      "Epoch 44/200\n",
      "134/134 - 1s - loss: 32.1151 - mean_squared_error: 1650.8553 - val_loss: 86.9734 - val_mean_squared_error: 8082.8589\n",
      "Epoch 45/200\n",
      "134/134 - 1s - loss: 32.0116 - mean_squared_error: 1645.2244 - val_loss: 86.3709 - val_mean_squared_error: 7978.3975\n",
      "Epoch 46/200\n",
      "134/134 - 1s - loss: 31.8489 - mean_squared_error: 1578.1150 - val_loss: 86.8739 - val_mean_squared_error: 8065.5488\n",
      "Epoch 47/200\n",
      "134/134 - 1s - loss: 32.0499 - mean_squared_error: 1648.7196 - val_loss: 87.7589 - val_mean_squared_error: 8220.1113\n",
      "Epoch 48/200\n",
      "134/134 - 1s - loss: 32.1580 - mean_squared_error: 1660.2573 - val_loss: 87.9390 - val_mean_squared_error: 8251.7607\n",
      "Epoch 49/200\n",
      "134/134 - 1s - loss: 31.9317 - mean_squared_error: 1724.1348 - val_loss: 95.9624 - val_mean_squared_error: 9727.2227\n",
      "Epoch 50/200\n",
      "134/134 - 1s - loss: 26.0652 - mean_squared_error: 1302.3041 - val_loss: 73.8287 - val_mean_squared_error: 5969.1426\n",
      "Epoch 51/200\n",
      "134/134 - 1s - loss: 19.2028 - mean_squared_error: 848.1108 - val_loss: 65.7560 - val_mean_squared_error: 4842.3213\n",
      "Epoch 52/200\n",
      "134/134 - 1s - loss: 16.6546 - mean_squared_error: 651.4109 - val_loss: 59.4299 - val_mean_squared_error: 4050.3557\n",
      "Epoch 53/200\n",
      "134/134 - 1s - loss: 14.6619 - mean_squared_error: 502.5292 - val_loss: 54.3928 - val_mean_squared_error: 3476.5310\n",
      "Epoch 54/200\n",
      "134/134 - 1s - loss: 13.1298 - mean_squared_error: 410.2181 - val_loss: 49.0288 - val_mean_squared_error: 2922.2881\n",
      "Epoch 55/200\n",
      "134/134 - 1s - loss: 12.0586 - mean_squared_error: 341.4133 - val_loss: 46.1589 - val_mean_squared_error: 2646.4883\n",
      "Epoch 56/200\n",
      "134/134 - 1s - loss: 10.8639 - mean_squared_error: 273.0504 - val_loss: 43.4430 - val_mean_squared_error: 2396.1667\n",
      "Epoch 57/200\n",
      "134/134 - 1s - loss: 9.9235 - mean_squared_error: 225.2531 - val_loss: 36.3660 - val_mean_squared_error: 1825.1561\n",
      "Epoch 58/200\n",
      "134/134 - 1s - loss: 10.7324 - mean_squared_error: 255.4878 - val_loss: 33.8505 - val_mean_squared_error: 1602.8910\n",
      "Epoch 59/200\n",
      "134/134 - 1s - loss: 8.3990 - mean_squared_error: 155.2676 - val_loss: 35.0818 - val_mean_squared_error: 1650.1135\n",
      "Epoch 60/200\n",
      "134/134 - 1s - loss: 7.7426 - mean_squared_error: 132.8434 - val_loss: 29.5504 - val_mean_squared_error: 1240.2739\n",
      "Epoch 61/200\n",
      "134/134 - 1s - loss: 7.4782 - mean_squared_error: 121.8680 - val_loss: 28.4759 - val_mean_squared_error: 1136.6735\n",
      "Epoch 62/200\n",
      "134/134 - 1s - loss: 7.3266 - mean_squared_error: 118.6487 - val_loss: 26.9495 - val_mean_squared_error: 1013.1723\n",
      "Epoch 63/200\n",
      "134/134 - 1s - loss: 7.0455 - mean_squared_error: 108.0497 - val_loss: 27.0825 - val_mean_squared_error: 1003.4037\n",
      "Epoch 64/200\n",
      "134/134 - 1s - loss: 6.8206 - mean_squared_error: 102.5572 - val_loss: 29.5759 - val_mean_squared_error: 1164.4500\n"
     ]
    },
    {
     "name": "stdout",
     "output_type": "stream",
     "text": [
      "Epoch 65/200\n",
      "134/134 - 1s - loss: 6.5380 - mean_squared_error: 97.7308 - val_loss: 31.5938 - val_mean_squared_error: 1333.0000\n",
      "Epoch 66/200\n",
      "134/134 - 1s - loss: 6.5676 - mean_squared_error: 96.4807 - val_loss: 24.9659 - val_mean_squared_error: 836.1227\n",
      "Epoch 67/200\n",
      "134/134 - 1s - loss: 6.4025 - mean_squared_error: 96.0882 - val_loss: 24.6762 - val_mean_squared_error: 812.9497\n",
      "Epoch 68/200\n",
      "134/134 - 1s - loss: 6.4724 - mean_squared_error: 98.7608 - val_loss: 30.8344 - val_mean_squared_error: 1286.8844\n",
      "Epoch 69/200\n",
      "134/134 - 1s - loss: 6.2710 - mean_squared_error: 91.2679 - val_loss: 24.1505 - val_mean_squared_error: 772.6100\n",
      "Epoch 70/200\n",
      "134/134 - 1s - loss: 6.1856 - mean_squared_error: 88.1238 - val_loss: 23.9483 - val_mean_squared_error: 757.5993\n",
      "Epoch 71/200\n",
      "134/134 - 1s - loss: 6.4849 - mean_squared_error: 101.3617 - val_loss: 24.0290 - val_mean_squared_error: 763.1477\n",
      "Epoch 72/200\n",
      "134/134 - 1s - loss: 5.9437 - mean_squared_error: 81.1934 - val_loss: 23.9583 - val_mean_squared_error: 757.0247\n",
      "Epoch 73/200\n",
      "134/134 - 1s - loss: 5.7998 - mean_squared_error: 76.6599 - val_loss: 23.4933 - val_mean_squared_error: 723.8028\n",
      "Epoch 74/200\n",
      "134/134 - 1s - loss: 5.7068 - mean_squared_error: 72.0931 - val_loss: 69.2378 - val_mean_squared_error: 5258.9897\n",
      "Epoch 75/200\n",
      "134/134 - 1s - loss: 8.2776 - mean_squared_error: 169.2096 - val_loss: 28.1788 - val_mean_squared_error: 1111.6293\n",
      "Epoch 76/200\n",
      "134/134 - 1s - loss: 6.2456 - mean_squared_error: 85.7338 - val_loss: 23.6911 - val_mean_squared_error: 739.1282\n",
      "Epoch 77/200\n",
      "134/134 - 1s - loss: 5.9634 - mean_squared_error: 79.1432 - val_loss: 23.1505 - val_mean_squared_error: 699.4268\n",
      "Epoch 78/200\n",
      "134/134 - 1s - loss: 6.4635 - mean_squared_error: 97.3652 - val_loss: 24.1861 - val_mean_squared_error: 790.4142\n",
      "Epoch 79/200\n",
      "134/134 - 1s - loss: 5.2696 - mean_squared_error: 61.4910 - val_loss: 23.3574 - val_mean_squared_error: 718.7899\n",
      "Epoch 80/200\n",
      "134/134 - 1s - loss: 5.2266 - mean_squared_error: 59.9868 - val_loss: 23.1180 - val_mean_squared_error: 710.3956\n",
      "Epoch 81/200\n",
      "134/134 - 1s - loss: 4.9903 - mean_squared_error: 54.0933 - val_loss: 23.4810 - val_mean_squared_error: 752.7083\n",
      "Epoch 82/200\n",
      "134/134 - 1s - loss: 4.8989 - mean_squared_error: 52.4345 - val_loss: 22.0498 - val_mean_squared_error: 632.0165\n",
      "Epoch 83/200\n",
      "134/134 - 1s - loss: 4.9611 - mean_squared_error: 51.8854 - val_loss: 22.3079 - val_mean_squared_error: 661.8364\n",
      "Epoch 84/200\n",
      "134/134 - 1s - loss: 4.8626 - mean_squared_error: 52.1793 - val_loss: 24.5763 - val_mean_squared_error: 841.8384\n",
      "Epoch 85/200\n",
      "134/134 - 1s - loss: 4.7694 - mean_squared_error: 49.4909 - val_loss: 22.2891 - val_mean_squared_error: 668.9656\n",
      "Epoch 86/200\n",
      "134/134 - 1s - loss: 4.7953 - mean_squared_error: 48.9390 - val_loss: 21.6533 - val_mean_squared_error: 614.5577\n",
      "Epoch 87/200\n",
      "134/134 - 1s - loss: 4.6950 - mean_squared_error: 46.8574 - val_loss: 23.6745 - val_mean_squared_error: 785.6797\n",
      "Epoch 88/200\n",
      "134/134 - 1s - loss: 4.6368 - mean_squared_error: 45.9654 - val_loss: 20.6236 - val_mean_squared_error: 554.3460\n",
      "Epoch 89/200\n",
      "134/134 - 1s - loss: 4.7018 - mean_squared_error: 47.8085 - val_loss: 22.8626 - val_mean_squared_error: 714.7792\n",
      "Epoch 90/200\n",
      "134/134 - 1s - loss: 4.7125 - mean_squared_error: 45.6172 - val_loss: 25.9084 - val_mean_squared_error: 937.1026\n",
      "Epoch 91/200\n",
      "134/134 - 1s - loss: 4.4776 - mean_squared_error: 42.1008 - val_loss: 21.8673 - val_mean_squared_error: 638.5626\n",
      "Epoch 92/200\n",
      "134/134 - 1s - loss: 4.5429 - mean_squared_error: 43.7206 - val_loss: 21.5155 - val_mean_squared_error: 616.8783\n",
      "Epoch 93/200\n",
      "134/134 - 1s - loss: 4.4826 - mean_squared_error: 43.0878 - val_loss: 20.6955 - val_mean_squared_error: 556.9000\n",
      "Epoch 94/200\n",
      "134/134 - 1s - loss: 5.2924 - mean_squared_error: 69.3493 - val_loss: 24.5066 - val_mean_squared_error: 828.5200\n",
      "Epoch 95/200\n",
      "134/134 - 1s - loss: 4.3765 - mean_squared_error: 41.0237 - val_loss: 23.1932 - val_mean_squared_error: 736.8412\n",
      "Epoch 96/200\n",
      "134/134 - 1s - loss: 4.4876 - mean_squared_error: 44.1253 - val_loss: 20.6670 - val_mean_squared_error: 555.7434\n",
      "Epoch 97/200\n",
      "134/134 - 1s - loss: 4.5894 - mean_squared_error: 46.4704 - val_loss: 23.3350 - val_mean_squared_error: 745.9116\n",
      "Epoch 98/200\n",
      "134/134 - 1s - loss: 4.3036 - mean_squared_error: 39.9315 - val_loss: 23.2673 - val_mean_squared_error: 741.5699\n",
      "Epoch 99/200\n",
      "134/134 - 1s - loss: 4.2387 - mean_squared_error: 39.3444 - val_loss: 23.0505 - val_mean_squared_error: 723.8118\n",
      "Epoch 100/200\n",
      "134/134 - 1s - loss: 4.3448 - mean_squared_error: 40.4933 - val_loss: 21.8772 - val_mean_squared_error: 640.4602\n",
      "Epoch 101/200\n",
      "134/134 - 1s - loss: 4.2701 - mean_squared_error: 38.4742 - val_loss: 46.5921 - val_mean_squared_error: 2554.3052\n",
      "Epoch 102/200\n",
      "134/134 - 1s - loss: 4.4317 - mean_squared_error: 42.5943 - val_loss: 36.9062 - val_mean_squared_error: 1771.4658\n",
      "Epoch 103/200\n",
      "134/134 - 1s - loss: 4.2385 - mean_squared_error: 39.9375 - val_loss: 25.1288 - val_mean_squared_error: 868.2852\n",
      "Epoch 104/200\n",
      "134/134 - 1s - loss: 4.1812 - mean_squared_error: 38.1710 - val_loss: 36.9133 - val_mean_squared_error: 1769.1505\n",
      "Epoch 105/200\n",
      "134/134 - 1s - loss: 4.3430 - mean_squared_error: 41.2877 - val_loss: 23.1869 - val_mean_squared_error: 729.4241\n",
      "Epoch 106/200\n",
      "134/134 - 1s - loss: 4.1543 - mean_squared_error: 37.7193 - val_loss: 24.1363 - val_mean_squared_error: 796.2141\n",
      "Epoch 107/200\n",
      "134/134 - 1s - loss: 4.1986 - mean_squared_error: 37.0680 - val_loss: 23.4614 - val_mean_squared_error: 745.6680\n",
      "Epoch 108/200\n",
      "134/134 - 1s - loss: 4.1462 - mean_squared_error: 36.7589 - val_loss: 22.7337 - val_mean_squared_error: 701.5071\n",
      "Epoch 109/200\n",
      "134/134 - 1s - loss: 4.0582 - mean_squared_error: 35.4357 - val_loss: 26.1448 - val_mean_squared_error: 945.1655\n",
      "Epoch 110/200\n",
      "134/134 - 1s - loss: 4.0512 - mean_squared_error: 35.5682 - val_loss: 20.1950 - val_mean_squared_error: 533.8158\n",
      "Epoch 111/200\n",
      "134/134 - 1s - loss: 4.1007 - mean_squared_error: 36.1623 - val_loss: 21.6223 - val_mean_squared_error: 616.1282\n",
      "Epoch 112/200\n",
      "134/134 - 1s - loss: 4.0983 - mean_squared_error: 36.3833 - val_loss: 19.7705 - val_mean_squared_error: 517.8267\n",
      "Epoch 113/200\n",
      "134/134 - 1s - loss: 4.1582 - mean_squared_error: 39.8763 - val_loss: 25.4962 - val_mean_squared_error: 895.6178\n",
      "Epoch 114/200\n",
      "134/134 - 1s - loss: 3.9806 - mean_squared_error: 34.7969 - val_loss: 24.7581 - val_mean_squared_error: 838.8598\n",
      "Epoch 115/200\n",
      "134/134 - 1s - loss: 3.9345 - mean_squared_error: 32.8856 - val_loss: 38.7507 - val_mean_squared_error: 1876.4264\n",
      "Epoch 116/200\n",
      "134/134 - 1s - loss: 4.1754 - mean_squared_error: 38.0345 - val_loss: 19.7086 - val_mean_squared_error: 516.7866\n",
      "Epoch 117/200\n",
      "134/134 - 1s - loss: 4.1830 - mean_squared_error: 38.8868 - val_loss: 28.9530 - val_mean_squared_error: 1161.7975\n",
      "Epoch 118/200\n",
      "134/134 - 1s - loss: 3.8747 - mean_squared_error: 32.7514 - val_loss: 19.8152 - val_mean_squared_error: 523.0987\n",
      "Epoch 119/200\n",
      "134/134 - 1s - loss: 4.1405 - mean_squared_error: 40.1779 - val_loss: 35.8906 - val_mean_squared_error: 1670.6685\n",
      "Epoch 120/200\n",
      "134/134 - 1s - loss: 3.9451 - mean_squared_error: 33.9490 - val_loss: 24.2756 - val_mean_squared_error: 802.5356\n",
      "Epoch 121/200\n",
      "134/134 - 1s - loss: 3.8385 - mean_squared_error: 31.9357 - val_loss: 25.9080 - val_mean_squared_error: 922.6908\n",
      "Epoch 122/200\n",
      "134/134 - 1s - loss: 3.9202 - mean_squared_error: 33.3166 - val_loss: 55.4394 - val_mean_squared_error: 3473.4836\n",
      "Epoch 123/200\n",
      "134/134 - 1s - loss: 4.2755 - mean_squared_error: 43.6518 - val_loss: 26.6648 - val_mean_squared_error: 978.2192\n",
      "Epoch 124/200\n",
      "134/134 - 1s - loss: 3.9581 - mean_squared_error: 34.5267 - val_loss: 24.1654 - val_mean_squared_error: 792.2648\n",
      "Epoch 125/200\n",
      "134/134 - 1s - loss: 3.8075 - mean_squared_error: 31.6667 - val_loss: 22.7320 - val_mean_squared_error: 694.2238\n",
      "Epoch 126/200\n",
      "134/134 - 1s - loss: 3.7614 - mean_squared_error: 31.1035 - val_loss: 23.5651 - val_mean_squared_error: 749.7672\n",
      "Epoch 127/200\n",
      "134/134 - 1s - loss: 3.8145 - mean_squared_error: 32.1262 - val_loss: 27.4167 - val_mean_squared_error: 1037.5715\n",
      "Epoch 128/200\n",
      "134/134 - 1s - loss: 3.8449 - mean_squared_error: 32.1562 - val_loss: 43.0794 - val_mean_squared_error: 2258.5493\n",
      "Epoch 129/200\n",
      "134/134 - 1s - loss: 3.9774 - mean_squared_error: 35.5937 - val_loss: 24.8574 - val_mean_squared_error: 844.3651\n"
     ]
    },
    {
     "name": "stdout",
     "output_type": "stream",
     "text": [
      "Epoch 130/200\n",
      "134/134 - 1s - loss: 3.7788 - mean_squared_error: 30.2490 - val_loss: 23.7163 - val_mean_squared_error: 764.1252\n",
      "Epoch 131/200\n",
      "134/134 - 1s - loss: 3.7580 - mean_squared_error: 31.5166 - val_loss: 24.8756 - val_mean_squared_error: 846.8502\n",
      "Epoch 132/200\n",
      "134/134 - 1s - loss: 3.8888 - mean_squared_error: 33.0559 - val_loss: 19.7591 - val_mean_squared_error: 512.3172\n",
      "Epoch 133/200\n",
      "134/134 - 1s - loss: 3.9026 - mean_squared_error: 33.9318 - val_loss: 25.3011 - val_mean_squared_error: 877.8046\n",
      "Epoch 134/200\n",
      "134/134 - 1s - loss: 3.8216 - mean_squared_error: 32.7061 - val_loss: 25.8851 - val_mean_squared_error: 921.4418\n",
      "Epoch 135/200\n",
      "134/134 - 1s - loss: 3.6788 - mean_squared_error: 30.1217 - val_loss: 31.8702 - val_mean_squared_error: 1392.0370\n",
      "Epoch 136/200\n",
      "134/134 - 1s - loss: 3.8490 - mean_squared_error: 33.4889 - val_loss: 35.4503 - val_mean_squared_error: 1641.9882\n",
      "Epoch 137/200\n",
      "134/134 - 1s - loss: 3.8271 - mean_squared_error: 33.4953 - val_loss: 20.1380 - val_mean_squared_error: 530.1878\n",
      "Epoch 138/200\n",
      "134/134 - 1s - loss: 3.8456 - mean_squared_error: 33.5148 - val_loss: 25.5524 - val_mean_squared_error: 894.9495\n",
      "Epoch 139/200\n",
      "134/134 - 1s - loss: 3.8528 - mean_squared_error: 33.1568 - val_loss: 25.5147 - val_mean_squared_error: 892.1664\n",
      "Epoch 140/200\n",
      "134/134 - 1s - loss: 3.6301 - mean_squared_error: 29.1057 - val_loss: 37.9292 - val_mean_squared_error: 1825.7410\n",
      "Epoch 141/200\n",
      "134/134 - 1s - loss: 3.7906 - mean_squared_error: 32.6342 - val_loss: 35.3094 - val_mean_squared_error: 1642.3713\n",
      "Epoch 142/200\n",
      "134/134 - 1s - loss: 3.8312 - mean_squared_error: 33.4546 - val_loss: 24.2091 - val_mean_squared_error: 799.0821\n",
      "Epoch 143/200\n",
      "134/134 - 1s - loss: 3.7435 - mean_squared_error: 31.0470 - val_loss: 19.0399 - val_mean_squared_error: 482.8888\n",
      "Epoch 144/200\n",
      "134/134 - 1s - loss: 3.8548 - mean_squared_error: 34.7430 - val_loss: 23.3703 - val_mean_squared_error: 738.8383\n",
      "Epoch 145/200\n",
      "134/134 - 1s - loss: 3.6601 - mean_squared_error: 30.0746 - val_loss: 21.2341 - val_mean_squared_error: 589.4109\n",
      "Epoch 146/200\n",
      "134/134 - 2s - loss: 3.7012 - mean_squared_error: 31.4538 - val_loss: 25.2145 - val_mean_squared_error: 868.3603\n",
      "Epoch 147/200\n",
      "134/134 - 2s - loss: 3.6074 - mean_squared_error: 29.3542 - val_loss: 19.1806 - val_mean_squared_error: 487.7268\n",
      "Epoch 148/200\n",
      "134/134 - 1s - loss: 3.7303 - mean_squared_error: 30.8303 - val_loss: 25.7565 - val_mean_squared_error: 913.6192\n",
      "Epoch 149/200\n",
      "134/134 - 1s - loss: 3.6668 - mean_squared_error: 29.9512 - val_loss: 29.4342 - val_mean_squared_error: 1206.1427\n",
      "Epoch 150/200\n",
      "134/134 - 1s - loss: 3.5946 - mean_squared_error: 29.2762 - val_loss: 31.7805 - val_mean_squared_error: 1382.7931\n",
      "Epoch 151/200\n",
      "134/134 - 1s - loss: 3.6071 - mean_squared_error: 29.6536 - val_loss: 24.2582 - val_mean_squared_error: 801.9321\n",
      "Epoch 152/200\n",
      "134/134 - 1s - loss: 3.5434 - mean_squared_error: 28.0016 - val_loss: 40.4181 - val_mean_squared_error: 2030.7115\n",
      "Epoch 153/200\n",
      "134/134 - 1s - loss: 3.7302 - mean_squared_error: 30.5478 - val_loss: 25.6248 - val_mean_squared_error: 900.6390\n",
      "Epoch 154/200\n",
      "134/134 - 1s - loss: 3.6484 - mean_squared_error: 30.0370 - val_loss: 20.1546 - val_mean_squared_error: 532.1474\n",
      "Epoch 155/200\n",
      "134/134 - 1s - loss: 3.6664 - mean_squared_error: 30.5370 - val_loss: 20.4372 - val_mean_squared_error: 547.5548\n",
      "Epoch 156/200\n",
      "134/134 - 1s - loss: 3.6702 - mean_squared_error: 30.6607 - val_loss: 26.2792 - val_mean_squared_error: 952.0949\n",
      "Epoch 157/200\n",
      "134/134 - 1s - loss: 3.5454 - mean_squared_error: 28.7077 - val_loss: 20.6285 - val_mean_squared_error: 557.7716\n",
      "Epoch 158/200\n",
      "134/134 - 1s - loss: 3.6841 - mean_squared_error: 30.2273 - val_loss: 22.1820 - val_mean_squared_error: 660.0593\n",
      "Epoch 159/200\n",
      "134/134 - 1s - loss: 3.4918 - mean_squared_error: 28.3400 - val_loss: 25.9932 - val_mean_squared_error: 931.0591\n",
      "Epoch 160/200\n",
      "134/134 - 1s - loss: 3.5452 - mean_squared_error: 28.5968 - val_loss: 29.8145 - val_mean_squared_error: 1236.1464\n",
      "Epoch 161/200\n",
      "134/134 - 1s - loss: 3.5102 - mean_squared_error: 27.2816 - val_loss: 21.3337 - val_mean_squared_error: 602.5588\n",
      "Epoch 162/200\n",
      "134/134 - 1s - loss: 3.8021 - mean_squared_error: 32.9307 - val_loss: 43.9672 - val_mean_squared_error: 2354.7371\n",
      "Epoch 163/200\n",
      "134/134 - 1s - loss: 3.6997 - mean_squared_error: 31.7095 - val_loss: 25.9772 - val_mean_squared_error: 927.5663\n",
      "Epoch 164/200\n",
      "134/134 - 1s - loss: 3.4759 - mean_squared_error: 26.1695 - val_loss: 27.1832 - val_mean_squared_error: 1025.0105\n",
      "Epoch 165/200\n",
      "134/134 - 1s - loss: 3.4723 - mean_squared_error: 27.8872 - val_loss: 24.9363 - val_mean_squared_error: 848.4670\n",
      "Epoch 166/200\n",
      "134/134 - 1s - loss: 3.5688 - mean_squared_error: 28.7959 - val_loss: 22.4192 - val_mean_squared_error: 679.1868\n",
      "Epoch 167/200\n",
      "134/134 - 1s - loss: 3.5969 - mean_squared_error: 29.2591 - val_loss: 18.4813 - val_mean_squared_error: 470.2308\n",
      "Epoch 168/200\n",
      "134/134 - 1s - loss: 3.7305 - mean_squared_error: 32.9304 - val_loss: 25.8495 - val_mean_squared_error: 916.4536\n",
      "Epoch 169/200\n",
      "134/134 - 1s - loss: 3.5608 - mean_squared_error: 28.2958 - val_loss: 26.3660 - val_mean_squared_error: 956.7545\n",
      "Epoch 170/200\n",
      "134/134 - 1s - loss: 3.4780 - mean_squared_error: 27.5024 - val_loss: 35.5549 - val_mean_squared_error: 1671.2539\n",
      "Epoch 171/200\n",
      "134/134 - 1s - loss: 3.5919 - mean_squared_error: 30.3870 - val_loss: 20.4400 - val_mean_squared_error: 544.7938\n",
      "Epoch 172/200\n",
      "134/134 - 1s - loss: 3.5924 - mean_squared_error: 28.9399 - val_loss: 24.4753 - val_mean_squared_error: 816.7110\n",
      "Epoch 173/200\n",
      "134/134 - 1s - loss: 3.5040 - mean_squared_error: 26.8893 - val_loss: 27.2238 - val_mean_squared_error: 1028.7313\n",
      "Epoch 174/200\n",
      "134/134 - 1s - loss: 3.5859 - mean_squared_error: 29.4010 - val_loss: 22.8723 - val_mean_squared_error: 702.7031\n",
      "Epoch 175/200\n",
      "134/134 - 1s - loss: 3.5255 - mean_squared_error: 27.4783 - val_loss: 25.8552 - val_mean_squared_error: 918.0830\n",
      "Epoch 176/200\n",
      "134/134 - 1s - loss: 3.3959 - mean_squared_error: 26.4991 - val_loss: 27.5726 - val_mean_squared_error: 1056.0453\n",
      "Epoch 177/200\n",
      "134/134 - 1s - loss: 3.4760 - mean_squared_error: 26.9513 - val_loss: 29.0682 - val_mean_squared_error: 1178.0475\n",
      "Epoch 178/200\n",
      "134/134 - 1s - loss: 3.4462 - mean_squared_error: 27.4352 - val_loss: 26.8878 - val_mean_squared_error: 997.3922\n",
      "Epoch 179/200\n",
      "134/134 - 1s - loss: 3.4974 - mean_squared_error: 27.6990 - val_loss: 31.5435 - val_mean_squared_error: 1371.8241\n",
      "Epoch 180/200\n",
      "134/134 - 1s - loss: 3.4825 - mean_squared_error: 27.3712 - val_loss: 20.8147 - val_mean_squared_error: 566.7336\n",
      "Epoch 181/200\n",
      "134/134 - 1s - loss: 3.5120 - mean_squared_error: 28.6620 - val_loss: 30.0366 - val_mean_squared_error: 1248.9673\n",
      "Epoch 182/200\n",
      "134/134 - 1s - loss: 3.5035 - mean_squared_error: 28.6036 - val_loss: 32.0914 - val_mean_squared_error: 1406.5568\n",
      "Epoch 183/200\n",
      "134/134 - 1s - loss: 3.4999 - mean_squared_error: 28.0021 - val_loss: 25.8360 - val_mean_squared_error: 916.6357\n",
      "Epoch 184/200\n",
      "134/134 - 1s - loss: 3.3419 - mean_squared_error: 26.1110 - val_loss: 22.0718 - val_mean_squared_error: 640.9954\n",
      "Epoch 185/200\n",
      "134/134 - 1s - loss: 3.5606 - mean_squared_error: 29.4164 - val_loss: 35.5320 - val_mean_squared_error: 1661.3909\n",
      "Epoch 186/200\n",
      "134/134 - 1s - loss: 3.5544 - mean_squared_error: 29.0031 - val_loss: 23.6719 - val_mean_squared_error: 760.4156\n",
      "Epoch 187/200\n",
      "134/134 - 1s - loss: 3.5067 - mean_squared_error: 27.7543 - val_loss: 18.6838 - val_mean_squared_error: 475.4982\n",
      "Epoch 188/200\n",
      "134/134 - 1s - loss: 3.5590 - mean_squared_error: 30.7650 - val_loss: 39.5864 - val_mean_squared_error: 1966.6177\n",
      "Epoch 189/200\n",
      "134/134 - 1s - loss: 3.5291 - mean_squared_error: 28.9874 - val_loss: 26.3392 - val_mean_squared_error: 956.7084\n",
      "Epoch 190/200\n",
      "134/134 - 1s - loss: 3.4983 - mean_squared_error: 27.7600 - val_loss: 25.6604 - val_mean_squared_error: 905.0157\n",
      "Epoch 191/200\n",
      "134/134 - 1s - loss: 3.4338 - mean_squared_error: 26.8440 - val_loss: 24.1905 - val_mean_squared_error: 797.3940\n",
      "Epoch 192/200\n",
      "134/134 - 1s - loss: 3.5642 - mean_squared_error: 29.1410 - val_loss: 24.2322 - val_mean_squared_error: 799.1252\n",
      "Epoch 193/200\n",
      "134/134 - 1s - loss: 3.4272 - mean_squared_error: 27.4718 - val_loss: 25.6769 - val_mean_squared_error: 905.6082\n",
      "Epoch 194/200\n",
      "134/134 - 1s - loss: 3.4554 - mean_squared_error: 28.3469 - val_loss: 19.9194 - val_mean_squared_error: 522.7073\n"
     ]
    },
    {
     "name": "stdout",
     "output_type": "stream",
     "text": [
      "Epoch 195/200\n",
      "134/134 - 1s - loss: 3.5572 - mean_squared_error: 30.0880 - val_loss: 31.4013 - val_mean_squared_error: 1358.2094\n",
      "Epoch 196/200\n",
      "134/134 - 1s - loss: 3.5449 - mean_squared_error: 28.0783 - val_loss: 23.9282 - val_mean_squared_error: 780.1522\n",
      "Epoch 197/200\n",
      "134/134 - 1s - loss: 3.3296 - mean_squared_error: 25.8448 - val_loss: 25.0144 - val_mean_squared_error: 854.5471\n",
      "Epoch 198/200\n",
      "134/134 - 1s - loss: 3.4649 - mean_squared_error: 27.7037 - val_loss: 25.5167 - val_mean_squared_error: 894.3588\n",
      "Epoch 199/200\n",
      "134/134 - 1s - loss: 3.4211 - mean_squared_error: 26.8134 - val_loss: 50.0033 - val_mean_squared_error: 2917.5444\n",
      "Epoch 200/200\n",
      "134/134 - 1s - loss: 3.6894 - mean_squared_error: 34.0081 - val_loss: 22.4907 - val_mean_squared_error: 678.8075\n"
     ]
    }
   ],
   "source": [
    "history = model.fit(seq_array, label_array, epochs=200, batch_size=32, validation_split=0.1, verbose=2)"
   ]
  },
  {
   "cell_type": "code",
   "execution_count": 47,
   "metadata": {},
   "outputs": [
    {
     "data": {
      "image/png": "[encoded data removed]",
      "text/plain": [
       "<Figure size 432x288 with 1 Axes>"
      ]
     },
     "metadata": {
      "needs_background": "light"
     },
     "output_type": "display_data"
    }
   ],
   "source": [
    "\n",
    "plt.plot(history.history['loss'], label='train')\n",
    "plt.plot(history.history['val_loss'], label='valid')\n",
    "plt.legend()\n",
    "plt.show()"
   ]
  },
  {
   "cell_type": "code",
   "execution_count": 48,
   "metadata": {},
   "outputs": [],
   "source": [
    "pd.DataFrame([history.history['loss'],history.history['val_loss']]).T\\\n",
    ".rename({0:'train',1:'test'},axis=1)\\\n",
    ".to_csv('history.csv')"
   ]
  },
  {
   "cell_type": "code",
   "execution_count": 49,
   "metadata": {},
   "outputs": [
    {
     "data": {
      "image/png": "[encoded data removed]",
      "text/plain": [
       "<Figure size 432x288 with 1 Axes>"
      ]
     },
     "metadata": {
      "needs_background": "light"
     },
     "output_type": "display_data"
    }
   ],
   "source": [
    "prediction = model.predict(seq_array_test)\n",
    "plt.plot(prediction, label='prediction')\n",
    "plt.plot(label_array_test, label='truth')\n",
    "plt.legend()\n",
    "plt.show()"
   ]
  },
  {
   "cell_type": "code",
   "execution_count": 50,
   "metadata": {},
   "outputs": [],
   "source": [
    "pd.DataFrame([np.squeeze(prediction),label_array_test]).T\\\n",
    ".rename({0:'prediction',1:'truth'},axis=1)\\\n",
    ".set_index(target.index[target.index> target.index[int(len(target) * 0.9) + sequence_length]])\\\n",
    ".to_csv('LSTM_prediction.csv')"
   ]
  },
  {
   "cell_type": "code",
   "execution_count": 51,
   "metadata": {},
   "outputs": [
    {
     "data": {
      "text/plain": [
       "(-0.7216160902969468, 33.70053374257614)"
      ]
     },
     "execution_count": 51,
     "metadata": {},
     "output_type": "execute_result"
    }
   ],
   "source": [
    "r2_score(label_array_test,prediction),np.sqrt(mean_squared_error(label_array_test,prediction))"
   ]
  },
  {
   "cell_type": "code",
   "execution_count": 52,
   "metadata": {},
   "outputs": [
    {
     "name": "stdout",
     "output_type": "stream",
     "text": [
      "1135.7259745345132\n"
     ]
    }
   ],
   "source": [
    "print(mean_squared_error (label_array_test,prediction))"
   ]
  }
 ],
 "metadata": {
  "kernelspec": {
   "display_name": "Python 3",
   "language": "python",
   "name": "python3"
  },
  "language_info": {
   "codemirror_mode": {
    "name": "ipython",
    "version": 3
   },
   "file_extension": ".py",
   "mimetype": "text/x-python",
   "name": "python",
   "nbconvert_exporter": "python",
   "pygments_lexer": "ipython3",
   "version": "3.8.5"
  }
 },
 "nbformat": 4,
 "nbformat_minor": 2
}
