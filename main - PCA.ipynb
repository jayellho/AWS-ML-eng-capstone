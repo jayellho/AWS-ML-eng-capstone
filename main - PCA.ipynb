{
 "cells": [
  {
   "cell_type": "markdown",
   "metadata": {},
   "source": [
    "# Import relevant libraries"
   ]
  },
  {
   "cell_type": "markdown",
   "metadata": {},
   "source": [
    "Imports the relevant python libraries needed."
   ]
  },
  {
   "cell_type": "code",
   "execution_count": 1,
   "metadata": {},
   "outputs": [],
   "source": [
    "import yahoo_fin\n",
    "import yahoo_fin.stock_info as si\n",
    "from yahoo_fin.stock_info import get_data\n",
    "import numpy as np\n",
    "import pandas as pd\n",
    "import datetime\n",
    "from datetime import datetime\n",
    "import matplotlib.pyplot as plt\n",
    "from sklearn.decomposition import PCA\n",
    "from sklearn.preprocessing import StandardScaler\n",
    "\n"
   ]
  },
  {
   "cell_type": "markdown",
   "metadata": {},
   "source": [
    "# Import and preprocess data"
   ]
  },
  {
   "cell_type": "markdown",
   "metadata": {},
   "source": [
    "Data is scraped from Yahoo!Finance for all S&P 500 companies using the yahoo_fin Python library."
   ]
  },
  {
   "cell_type": "markdown",
   "metadata": {},
   "source": [
    "The below extracts the list of S&P500 companies' tickers. 2 of the tickers' values were replaced so that they can be searched using the yahoo_fin library."
   ]
  },
  {
   "cell_type": "code",
   "execution_count": 2,
   "metadata": {},
   "outputs": [],
   "source": [
    "sp500_list = pd.read_html('https://en.wikipedia.org/wiki/List_of_S%26P_500_companies', attrs={'class': 'wikitable sortable'},header=0)[0]['Symbol']\n",
    "sp500_list.replace(to_replace='BRK.B',value='BRK-B',inplace=True)\n",
    "sp500_list.replace(to_replace='BF.B',value='BF-B',inplace=True)"
   ]
  },
  {
   "cell_type": "markdown",
   "metadata": {},
   "source": [
    "The below extracts the information from Yahoo!Finance according to the start date and end date specified. Information for each ticker is extracted for the 'daily' time interval."
   ]
  },
  {
   "cell_type": "code",
   "execution_count": 3,
   "metadata": {},
   "outputs": [
    {
     "name": "stdout",
     "output_type": "stream",
     "text": [
      "Please enter START date for the date range you want the model to be trained on. Format of input: DD-MM-YY.01-01-00\n",
      "Start date: 01-01-00\n",
      "Please enter END date for the date range you want the model to be trained on. Format of input: DD-MM-YY.30-11-20\n",
      "End date: 30-11-20\n",
      "No. of stocks with data successfully generated: 505.\n",
      "No. of stocks with KeyError: 0.\n",
      "No. of stocks with AssertionError: 0.\n"
     ]
    }
   ],
   "source": [
    "#Variables created.\n",
    "historical_data = {}\n",
    "counter = 0\n",
    "key_err = 0\n",
    "assert_err = 0\n",
    "tickers_key_err = []\n",
    "tickers_assert_err= []\n",
    "\n",
    "#User input - start date and end date\n",
    "while True:\n",
    "    try:\n",
    "        start_date_input = input(\"Please enter START date for the date range you want the model to be trained on. Format of input: DD-MM-YY.\")\n",
    "        start_date = datetime.strptime(start_date_input, '%d-%m-%y')\n",
    "        print(\"Start date: \" + str(start_date_input))\n",
    "        break\n",
    "    except ValueError:\n",
    "        print(\"                             \", end='\\r')\n",
    "        print(\"Please ensure input is in the format DD-MM-YY.\", end='\\r')\n",
    "\n",
    "while True:\n",
    "    try:\n",
    "        end_date_input = input(\"Please enter END date for the date range you want the model to be trained on. Format of input: DD-MM-YY.\")\n",
    "        end_date = datetime.strptime(end_date_input, '%d-%m-%y')\n",
    "        print(\"End date: \" + str(end_date_input))\n",
    "        break\n",
    "    except ValueError:\n",
    "        print(\"                             \", end='\\r')\n",
    "        print(\"Please ensure input is in the format DD-MM-YY.\", end='\\r')\n",
    "\n",
    "\n",
    "for ticker in sp500_list:\n",
    "    counter += 1\n",
    "    print(\"                             \", end='\\r')\n",
    "    print(str(ticker) + \" \" + str(counter), end='\\r')\n",
    "    try:\n",
    "        historical_data[ticker] = get_data(ticker, start_date = start_date_input, end_date = end_date_input)\n",
    "        historical_data[ticker] = historical_data[ticker].drop(labels='ticker',axis=1)\n",
    "        historical_data[ticker].columns = str(ticker) + \"_\" + historical_data[ticker].columns\n",
    "        \n",
    "    except KeyError:\n",
    "        historical_data[ticker] = None\n",
    "        key_err += 1\n",
    "        tickers_key_err.append(ticker)\n",
    "    except AssertionError:\n",
    "        historical_data[ticker] = None\n",
    "        assert_err += 1\n",
    "        tickers_assert_err.append(ticker)\n",
    "        \n",
    "print(\"No. of stocks with data successfully generated: \" + str(counter-key_err-assert_err) + \".\")\n",
    "print(\"No. of stocks with KeyError: \" + str(key_err) + \".\")\n",
    "if key_err>0:\n",
    "    print(\"Tickers with KeyError (to investigate if needed): \" + str(tickers_key_err))\n",
    "print(\"No. of stocks with AssertionError: \" + str(assert_err) + \".\")\n",
    "if assert_err>0:\n",
    "    print(\"Tickers with AssertionError (to investigate if needed): \" + str(tickers_assert_err))"
   ]
  },
  {
   "cell_type": "markdown",
   "metadata": {},
   "source": [
    "Merge the dictionary of dataframes column-wise on the index (which is the date). Drop all columns with NaN values."
   ]
  },
  {
   "cell_type": "code",
   "execution_count": 4,
   "metadata": {},
   "outputs": [
    {
     "data": {
      "text/plain": [
       "(5261, 2256)"
      ]
     },
     "execution_count": 4,
     "metadata": {},
     "output_type": "execute_result"
    }
   ],
   "source": [
    "merged_data = pd.concat(historical_data, axis=1)\n",
    "merged_data = merged_data.dropna(axis='columns')\n",
    "merged_tickers = list(set(merged_data.columns.get_level_values(0))) #Store all remaining tickers' names for further use later.\n",
    "merged_data.columns = merged_data.columns.droplevel(0)\n",
    "\n",
    "merged_data.head()\n",
    "merged_data.shape\n"
   ]
  },
  {
   "cell_type": "markdown",
   "metadata": {},
   "source": [
    "# Picking of target stock"
   ]
  },
  {
   "cell_type": "markdown",
   "metadata": {},
   "source": [
    "User to pick the target stock out of the remaining tickers in the pre-processed data for training and testing of the model."
   ]
  },
  {
   "cell_type": "code",
   "execution_count": 5,
   "metadata": {},
   "outputs": [
    {
     "name": "stdout",
     "output_type": "stream",
     "text": [
      "List of all tickers in data: \n",
      "['PAYX', 'PGR', 'VLO', 'WBA', 'VFC', 'TT', 'COP', 'NI', 'MLM', 'ORLY', 'AZO', 'AAPL', 'EXC', 'DIS', 'HBAN', 'AXP', 'LUV', 'UPS', 'STE', 'XLNX', 'AFL', 'BDX', 'GILD', 'ANSS', 'STZ', 'AMT', 'MHK', 'DE', 'SEE', 'SRE', 'UDR', 'JKHY', 'NEE', 'C', 'MU', 'PNR', 'WHR', 'AVY', 'SO', 'POOL', 'BAC', 'GS', 'LIN', 'SLB', 'BA', 'CVS', 'RF', 'FFIV', 'MS', 'NOV', 'LRCX', 'HUM', 'DVN', 'CPRT', 'NUE', 'DRI', 'SPG', 'REGN', 'HSY', 'CMS', 'MO', 'AMAT', 'BLK', 'VRTX', 'BKR', 'AKAM', 'K', 'SYY', 'ODFL', 'PEP', 'CAT', 'BAX', 'CINF', 'PWR', 'EXPD', 'AOS', 'PLD', 'SBAC', 'ABC', 'CL', 'BRK-B', 'NWL', 'EL', 'STT', 'FMC', 'PHM', 'GLW', 'FDX', 'HOLX', 'JNJ', 'UHS', 'ALL', 'LEN', 'CHD', 'F', 'UNM', 'DVA', 'MSFT', 'ED', 'ES', 'ROST', 'APA', 'NSC', 'OMC', 'JNPR', 'DUK', 'KIM', 'TMO', 'EVRG', 'VTR', 'TAP', 'TSN', 'CHRW', 'MAR', 'SCHW', 'FLIR', 'SNA', 'HAL', 'HFC', 'MCO', 'LH', 'INTC', 'KSU', 'BF-B', 'JPM', 'TROW', 'DHR', 'AMD', 'EIX', 'CI', 'MRK', 'INTU', 'AMZN', 'BBY', 'DXC', 'ABMD', 'WELL', 'IT', 'VNO', 'MDT', 'CTAS', 'DGX', 'A', 'AMGN', 'BK', 'GL', 'USB', 'WM', 'MGM', 'MOS', 'CTSH', 'CCI', 'AEE', 'GD', 'PKI', 'WAT', 'ADM', 'BKNG', 'AVB', 'FLS', 'LNT', 'ABT', 'MCD', 'RL', 'COO', 'ETN', 'DLTR', 'DISH', 'DHI', 'IDXX', 'MCK', 'PBCT', 'XRX', 'SNPS', 'BLL', 'LEG', 'ATVI', 'ETR', 'BMY', 'LB', 'MTD', 'MAS', 'LHX', 'IRM', 'REG', 'VTRS', 'INCY', 'TYL', 'SLG', 'PXD', 'UNP', 'CSCO', 'WMT', 'TXN', 'SHW', 'MMM', 'PH', 'ZBRA', 'GIS', 'CPB', 'EQR', 'HAS', 'LMT', 'NVDA', 'FRT', 'KMX', 'URI', 'PNC', 'D', 'PNW', 'ADSK', 'CVX', 'GPC', 'BXP', 'IEX', 'EA', 'CMA', 'XEL', 'JBHT', 'JCI', 'RSG', 'CERN', 'IBM', 'EOG', 'VMC', 'PRGO', 'RTX', 'KEY', 'HIG', 'FCX', 'RCL', 'ADI', 'NVR', 'KLAC', 'WFC', 'CCL', 'BIO', 'WY', 'PSA', 'APH', 'CLX', 'AEP', 'EMR', 'SIVB', 'O', 'NTRS', 'MCHP', 'NTAP', 'NEM', 'LOW', 'PPG', 'FE', 'CSX', 'ARE', 'CB', 'ATO', 'AJG', 'TIF', 'HST', 'GWW', 'LLY', 'WMB', 'MRO', 'HD', 'IP', 'RHI', 'WEC', 'KO', 'PEAK', 'HRL', 'SJM', 'DRE', 'GE', 'PG', 'YUM', 'ITW', 'PFE', 'IFF', 'CMCSA', 'MMC', 'T', 'TFX', 'WST', 'BSX', 'SYK', 'WAB', 'PVH', 'TFC', 'VAR', 'EBAY', 'NOC', 'ADP', 'ECL', 'DOV', 'TJX', 'KMB', 'TDY', 'IPG', 'ADBE', 'HSIC', 'MXIM', 'TRV', 'QCOM', 'L', 'ORCL', 'TER', 'CAG', 'RJF', 'WDC', 'AIG', 'TXT', 'EFX', 'BWA', 'FISV', 'WRB', 'LNC', 'DTE', 'CTXS', 'ZION', 'KR', 'OKE', 'RE', 'IVZ', 'TSCO', 'SWK', 'FAST', 'DD', 'CNP', 'ALXN', 'OXY', 'COST', 'MKC', 'PPL', 'MTB', 'AON', 'FITB', 'CDNS', 'NLOK', 'NKE', 'APD', 'ESS', 'ROL', 'TGT', 'ALK', 'EMN', 'XOM', 'PEG', 'ALB', 'ROK', 'VZ', 'ROP', 'UNH', 'MNST', 'RMD', 'SBUX', 'HON', 'HPQ', 'COG', 'MAA', 'PCAR', 'SWKS', 'J', 'BEN', 'VRSN', 'SPGI', 'CAH', 'TTWO', 'COF', 'CMI', 'XRAY', 'BIIB', 'GPS', 'AME', 'AES', 'MSI', 'HES']\n",
      "Indicate a ticker. Pick one from the print statement below.PVH\n"
     ]
    }
   ],
   "source": [
    "print(\"List of all tickers in data: \\n\" + str(merged_tickers))\n",
    "chosen_ticker = input(\"Indicate a ticker. Pick one from the print statement below.\")\n",
    "chosen_adjclose = chosen_ticker + \"_adjclose\""
   ]
  },
  {
   "cell_type": "markdown",
   "metadata": {},
   "source": [
    "# Exploratory Data Analysis"
   ]
  },
  {
   "cell_type": "markdown",
   "metadata": {},
   "source": [
    "Plot of price over time period for chosen stock's adjusted close, open, high, low and close prices."
   ]
  },
  {
   "cell_type": "code",
   "execution_count": 6,
   "metadata": {},
   "outputs": [
    {
     "data": {
      "text/plain": [
       "<matplotlib.legend.Legend at 0x1557fea4850>"
      ]
     },
     "execution_count": 6,
     "metadata": {},
     "output_type": "execute_result"
    },
    {
     "data": {
      "image/png": "[encoded data removed]",
      "text/plain": [
       "<Figure size 432x288 with 1 Axes>"
      ]
     },
     "metadata": {
      "needs_background": "light"
     },
     "output_type": "display_data"
    }
   ],
   "source": [
    "\n",
    "%matplotlib inline\n",
    "merged_data[chosen_adjclose].plot()\n",
    "merged_data[chosen_ticker+\"_open\"].plot()\n",
    "merged_data[chosen_ticker+\"_high\"].plot()\n",
    "merged_data[chosen_ticker+\"_low\"].plot()\n",
    "merged_data[chosen_ticker+\"_close\"].plot()\n",
    "\n",
    "\n",
    "plt.legend()"
   ]
  },
  {
   "cell_type": "markdown",
   "metadata": {},
   "source": [
    "Summary statistics over entire time period for chosen stock using pandas' describe function."
   ]
  },
  {
   "cell_type": "code",
   "execution_count": 7,
   "metadata": {},
   "outputs": [
    {
     "data": {
      "text/plain": [
       "count    5261.000000\n",
       "mean       62.258707\n",
       "std        42.630146\n",
       "min         5.307689\n",
       "25%        22.210590\n",
       "50%        53.264847\n",
       "75%       102.160294\n",
       "max       167.603027\n",
       "Name: PVH_adjclose, dtype: float64"
      ]
     },
     "execution_count": 7,
     "metadata": {},
     "output_type": "execute_result"
    }
   ],
   "source": [
    "merged_data[chosen_adjclose].describe()"
   ]
  },
  {
   "cell_type": "markdown",
   "metadata": {},
   "source": [
    "# Creating Target and Feature Variables"
   ]
  },
  {
   "cell_type": "code",
   "execution_count": 8,
   "metadata": {},
   "outputs": [
    {
     "name": "stdout",
     "output_type": "stream",
     "text": [
      "How many days would you like to lag the features by?1\n",
      "              MMM_open    MMM_high     MMM_low   MMM_close  MMM_adjclose  \\\n",
      "2000-01-03   48.031250   48.250000   47.031250   47.187500     27.815882   \n",
      "2000-01-04   46.437500   47.406250   45.312500   45.312500     26.710594   \n",
      "2000-01-05   45.562500   48.125000   45.562500   46.625000     27.484299   \n",
      "2000-01-06   47.156250   51.250000   47.156250   50.375000     29.694832   \n",
      "2000-01-07   50.562500   51.906250   49.968750   51.375000     30.284302   \n",
      "...                ...         ...         ...         ...           ...   \n",
      "2020-11-20  171.500000  172.949997  170.960007  172.889999    172.889999   \n",
      "2020-11-23  173.759995  174.860001  173.449997  174.139999    174.139999   \n",
      "2020-11-24  175.000000  177.220001  174.899994  177.080002    177.080002   \n",
      "2020-11-25  176.839996  177.339996  175.449997  177.119995    177.119995   \n",
      "2020-11-27  177.820007  179.630005  175.570007  176.889999    176.889999   \n",
      "\n",
      "            MMM_volume    ABT_open    ABT_high     ABT_low   ABT_close  ...  \\\n",
      "2000-01-03     2173400   15.823756   16.160431   15.599305   15.711531  ...   \n",
      "2000-01-04     2713800   15.459024   15.599305   15.150405   15.262630  ...   \n",
      "2000-01-05     3699400   15.066236   15.402911   15.066236   15.234573  ...   \n",
      "2000-01-06     5975800   15.262630   15.823756   15.178461   15.767643  ...   \n",
      "2000-01-07     4101200   15.487081   16.272657   15.487081   15.935981  ...   \n",
      "...                ...         ...         ...         ...         ...  ...   \n",
      "2020-11-20     2656900  110.739998  111.760002  110.070000  110.889999  ...   \n",
      "2020-11-23     2064300  111.430000  111.519997  108.860001  109.269997  ...   \n",
      "2020-11-24     3086000  109.309998  109.589996  107.250000  107.610001  ...   \n",
      "2020-11-25     2052200  107.050003  108.400002  105.629997  106.410004  ...   \n",
      "2020-11-27     1267100  106.669998  107.750000  105.870003  107.620003  ...   \n",
      "\n",
      "              ZBRA_low  ZBRA_close  ZBRA_adjclose  ZBRA_volume  ZION_open  \\\n",
      "2000-01-03   24.777779   25.027779      25.027779      1055700  59.031250   \n",
      "2000-01-04   23.000000   24.666666      24.666666       522400  54.625000   \n",
      "2000-01-05   23.555555   25.138889      25.138889       612100  52.750000   \n",
      "2000-01-06   23.722221   23.777779      23.777779       263800  52.750000   \n",
      "2000-01-07   23.111111   23.513889      23.513889       333900  53.750000   \n",
      "...                ...         ...            ...          ...        ...   \n",
      "2020-11-20  354.160004  354.989990     354.989990       694100  38.009998   \n",
      "2020-11-23  358.549988  362.690002     362.690002       590100  38.950001   \n",
      "2020-11-24  362.359985  373.470001     373.470001       566700  40.439999   \n",
      "2020-11-25  369.290009  372.730011     372.730011       345000  40.880001   \n",
      "2020-11-27  375.119995  377.000000     377.000000       206000  40.439999   \n",
      "\n",
      "            ZION_high   ZION_low  ZION_close  ZION_adjclose  ZION_volume  \n",
      "2000-01-03  59.125000  53.437500   55.500000      39.996193      1199600  \n",
      "2000-01-04  55.000000  52.500000   52.812500      38.059437       816100  \n",
      "2000-01-05  53.250000  51.062500   52.750000      38.014412      1124700  \n",
      "2000-01-06  54.937500  52.375000   53.500000      38.554890      1112100  \n",
      "2000-01-07  54.250000  53.312500   53.625000      38.644981       782000  \n",
      "...               ...        ...         ...            ...          ...  \n",
      "2020-11-20  38.540001  37.669998   38.279999      38.279999      2011400  \n",
      "2020-11-23  39.639999  38.720001   39.560001      39.560001      1872500  \n",
      "2020-11-24  42.240002  40.060001   41.860001      41.860001      2578600  \n",
      "2020-11-25  41.049999  40.310001   40.950001      40.950001      2633900  \n",
      "2020-11-27  41.020000  39.299999   39.459999      39.459999      2027900  \n",
      "\n",
      "[5261 rows x 2256 columns]\n",
      "              MMM_open    MMM_high     MMM_low   MMM_close  MMM_adjclose  \\\n",
      "2000-01-04   48.031250   48.250000   47.031250   47.187500     27.815882   \n",
      "2000-01-05   46.437500   47.406250   45.312500   45.312500     26.710594   \n",
      "2000-01-06   45.562500   48.125000   45.562500   46.625000     27.484299   \n",
      "2000-01-07   47.156250   51.250000   47.156250   50.375000     29.694832   \n",
      "2000-01-10   50.562500   51.906250   49.968750   51.375000     30.284302   \n",
      "...                ...         ...         ...         ...           ...   \n",
      "2020-11-20  170.570007  171.880005  169.300003  171.610001    171.610001   \n",
      "2020-11-23  171.500000  172.949997  170.960007  172.889999    172.889999   \n",
      "2020-11-24  173.759995  174.860001  173.449997  174.139999    174.139999   \n",
      "2020-11-25  175.000000  177.220001  174.899994  177.080002    177.080002   \n",
      "2020-11-27  176.839996  177.339996  175.449997  177.119995    177.119995   \n",
      "\n",
      "            MMM_volume    ABT_open    ABT_high     ABT_low   ABT_close  ...  \\\n",
      "2000-01-04   2173400.0   15.823756   16.160431   15.599305   15.711531  ...   \n",
      "2000-01-05   2713800.0   15.459024   15.599305   15.150405   15.262630  ...   \n",
      "2000-01-06   3699400.0   15.066236   15.402911   15.066236   15.234573  ...   \n",
      "2000-01-07   5975800.0   15.262630   15.823756   15.178461   15.767643  ...   \n",
      "2000-01-10   4101200.0   15.487081   16.272657   15.487081   15.935981  ...   \n",
      "...                ...         ...         ...         ...         ...  ...   \n",
      "2020-11-20   2986000.0  110.000000  111.199997  109.260002  111.000000  ...   \n",
      "2020-11-23   2656900.0  110.739998  111.760002  110.070000  110.889999  ...   \n",
      "2020-11-24   2064300.0  111.430000  111.519997  108.860001  109.269997  ...   \n",
      "2020-11-25   3086000.0  109.309998  109.589996  107.250000  107.610001  ...   \n",
      "2020-11-27   2052200.0  107.050003  108.400002  105.629997  106.410004  ...   \n",
      "\n",
      "              ZBRA_low  ZBRA_close  ZBRA_adjclose  ZBRA_volume  ZION_open  \\\n",
      "2000-01-04   24.777779   25.027779      25.027779    1055700.0  59.031250   \n",
      "2000-01-05   23.000000   24.666666      24.666666     522400.0  54.625000   \n",
      "2000-01-06   23.555555   25.138889      25.138889     612100.0  52.750000   \n",
      "2000-01-07   23.722221   23.777779      23.777779     263800.0  52.750000   \n",
      "2000-01-10   23.111111   23.513889      23.513889     333900.0  53.750000   \n",
      "...                ...         ...            ...          ...        ...   \n",
      "2020-11-20  333.059998  358.390015     358.390015    1189700.0  38.349998   \n",
      "2020-11-23  354.160004  354.989990     354.989990     694100.0  38.009998   \n",
      "2020-11-24  358.549988  362.690002     362.690002     590100.0  38.950001   \n",
      "2020-11-25  362.359985  373.470001     373.470001     566700.0  40.439999   \n",
      "2020-11-27  369.290009  372.730011     372.730011     345000.0  40.880001   \n",
      "\n",
      "            ZION_high   ZION_low  ZION_close  ZION_adjclose  ZION_volume  \n",
      "2000-01-04  59.125000  53.437500   55.500000      39.996193    1199600.0  \n",
      "2000-01-05  55.000000  52.500000   52.812500      38.059437     816100.0  \n",
      "2000-01-06  53.250000  51.062500   52.750000      38.014412    1124700.0  \n",
      "2000-01-07  54.937500  52.375000   53.500000      38.554890    1112100.0  \n",
      "2000-01-10  54.250000  53.312500   53.625000      38.644981     782000.0  \n",
      "...               ...        ...         ...            ...          ...  \n",
      "2020-11-20  38.700001  37.720001   38.389999      38.389999    1993500.0  \n",
      "2020-11-23  38.540001  37.669998   38.279999      38.279999    2011400.0  \n",
      "2020-11-24  39.639999  38.720001   39.560001      39.560001    1872500.0  \n",
      "2020-11-25  42.240002  40.060001   41.860001      41.860001    2578600.0  \n",
      "2020-11-27  41.049999  40.310001   40.950001      40.950001    2633900.0  \n",
      "\n",
      "[5260 rows x 2255 columns]\n",
      "2000-01-04     6.775772\n",
      "2000-01-05     6.662845\n",
      "2000-01-06     6.832240\n",
      "2000-01-07     6.662845\n",
      "2000-01-10     6.380521\n",
      "                ...    \n",
      "2020-11-20    76.760002\n",
      "2020-11-23    81.099998\n",
      "2020-11-24    86.379997\n",
      "2020-11-25    84.720001\n",
      "2020-11-27    83.870003\n",
      "Name: PVH_adjclose, Length: 5260, dtype: float64\n"
     ]
    }
   ],
   "source": [
    "lagged_days = int(input(\"How many days would you like to lag the features by?\"))\n",
    "print(merged_data)\n",
    "features_wo_pca = merged_data.drop(columns = [chosen_adjclose]).shift(lagged_days).dropna()\n",
    "print(features_wo_pca)\n",
    "target = merged_data[chosen_adjclose][lagged_days:]\n",
    "print(target)"
   ]
  },
  {
   "cell_type": "markdown",
   "metadata": {},
   "source": [
    "# Dimensionality Reduction Using PCA"
   ]
  },
  {
   "cell_type": "markdown",
   "metadata": {},
   "source": [
    "Implement Principal Component Analysis (PCA) for dimensionality reduction using the sklearn library. This would help us to decide which features to pick to have the most explained variance with the least number of features."
   ]
  },
  {
   "cell_type": "markdown",
   "metadata": {},
   "source": [
    "Below, we set the n_components to be 0.999. This means that the number of components chosen will be such that 99.9% of the variance is explained by them."
   ]
  },
  {
   "cell_type": "code",
   "execution_count": 9,
   "metadata": {},
   "outputs": [],
   "source": [
    "pca = PCA(n_components = 0.999)\n"
   ]
  },
  {
   "cell_type": "markdown",
   "metadata": {},
   "source": [
    "Scale the data using sklearn's StandardScaler module to ensure that the features all follow a standard normal distribution with a mean of zero and standard deviation of one."
   ]
  },
  {
   "cell_type": "code",
   "execution_count": 10,
   "metadata": {},
   "outputs": [],
   "source": [
    "stdscaler = StandardScaler()\n",
    "features_wo_pca_scaled = pd.DataFrame(stdscaler.fit_transform(features_wo_pca), \n",
    "                              columns = features_wo_pca.columns, \n",
    "                              index = features_wo_pca.index)"
   ]
  },
  {
   "cell_type": "markdown",
   "metadata": {},
   "source": [
    "We plot the cumulative explained variance against the number of components to get an illustration of the amount of variance explained by each cumulative component."
   ]
  },
  {
   "cell_type": "code",
   "execution_count": 11,
   "metadata": {},
   "outputs": [
    {
     "data": {
      "text/plain": [
       "Text(0, 0.5, 'cumulative explained variance')"
      ]
     },
     "execution_count": 11,
     "metadata": {},
     "output_type": "execute_result"
    },
    {
     "data": {
      "image/png": "[encoded data removed]",
      "text/plain": [
       "<Figure size 432x288 with 1 Axes>"
      ]
     },
     "metadata": {
      "needs_background": "light"
     },
     "output_type": "display_data"
    }
   ],
   "source": [
    "pca.fit(features_wo_pca_scaled)\n",
    "plt.plot(np.cumsum(pca.explained_variance_ratio_))\n",
    "plt.xlabel('number of components')\n",
    "plt.ylabel('cumulative explained variance')"
   ]
  },
  {
   "cell_type": "markdown",
   "metadata": {},
   "source": [
    "The following prints out the contribution of each original individual feature column to each newly created PCA component row. The index here represents each PCA component; the columns represent each original individual feature; the values represent the amount contributed by the individual feature to the PCA component. We will be able to identify which features contribute the most to each component if needed."
   ]
  },
  {
   "cell_type": "code",
   "execution_count": 12,
   "metadata": {},
   "outputs": [
    {
     "data": {
      "text/html": [
       "<div>\n",
       "<style scoped>\n",
       "    .dataframe tbody tr th:only-of-type {\n",
       "        vertical-align: middle;\n",
       "    }\n",
       "\n",
       "    .dataframe tbody tr th {\n",
       "        vertical-align: top;\n",
       "    }\n",
       "\n",
       "    .dataframe thead th {\n",
       "        text-align: right;\n",
       "    }\n",
       "</style>\n",
       "<table border=\"1\" class=\"dataframe\">\n",
       "  <thead>\n",
       "    <tr style=\"text-align: right;\">\n",
       "      <th></th>\n",
       "      <th>MMM_open</th>\n",
       "      <th>MMM_high</th>\n",
       "      <th>MMM_low</th>\n",
       "      <th>MMM_close</th>\n",
       "      <th>MMM_adjclose</th>\n",
       "      <th>MMM_volume</th>\n",
       "      <th>ABT_open</th>\n",
       "      <th>ABT_high</th>\n",
       "      <th>ABT_low</th>\n",
       "      <th>ABT_close</th>\n",
       "      <th>...</th>\n",
       "      <th>ZBRA_low</th>\n",
       "      <th>ZBRA_close</th>\n",
       "      <th>ZBRA_adjclose</th>\n",
       "      <th>ZBRA_volume</th>\n",
       "      <th>ZION_open</th>\n",
       "      <th>ZION_high</th>\n",
       "      <th>ZION_low</th>\n",
       "      <th>ZION_close</th>\n",
       "      <th>ZION_adjclose</th>\n",
       "      <th>ZION_volume</th>\n",
       "    </tr>\n",
       "  </thead>\n",
       "  <tbody>\n",
       "    <tr>\n",
       "      <th>0</th>\n",
       "      <td>0.025833</td>\n",
       "      <td>0.025854</td>\n",
       "      <td>0.025803</td>\n",
       "      <td>0.025825</td>\n",
       "      <td>0.026501</td>\n",
       "      <td>-0.009411</td>\n",
       "      <td>0.025723</td>\n",
       "      <td>0.025688</td>\n",
       "      <td>0.025770</td>\n",
       "      <td>0.025729</td>\n",
       "      <td>...</td>\n",
       "      <td>0.024276</td>\n",
       "      <td>0.024258</td>\n",
       "      <td>0.024258</td>\n",
       "      <td>-0.002237</td>\n",
       "      <td>-0.004884</td>\n",
       "      <td>-0.004969</td>\n",
       "      <td>-0.004799</td>\n",
       "      <td>-0.004889</td>\n",
       "      <td>-0.000105</td>\n",
       "      <td>0.003842</td>\n",
       "    </tr>\n",
       "    <tr>\n",
       "      <th>1</th>\n",
       "      <td>0.004184</td>\n",
       "      <td>0.004095</td>\n",
       "      <td>0.004292</td>\n",
       "      <td>0.004224</td>\n",
       "      <td>0.002885</td>\n",
       "      <td>0.005261</td>\n",
       "      <td>-0.012158</td>\n",
       "      <td>-0.012285</td>\n",
       "      <td>-0.012043</td>\n",
       "      <td>-0.012182</td>\n",
       "      <td>...</td>\n",
       "      <td>-0.020590</td>\n",
       "      <td>-0.020654</td>\n",
       "      <td>-0.020654</td>\n",
       "      <td>-0.012515</td>\n",
       "      <td>-0.040295</td>\n",
       "      <td>-0.040314</td>\n",
       "      <td>-0.040273</td>\n",
       "      <td>-0.040301</td>\n",
       "      <td>-0.037769</td>\n",
       "      <td>0.036614</td>\n",
       "    </tr>\n",
       "    <tr>\n",
       "      <th>2</th>\n",
       "      <td>-0.016429</td>\n",
       "      <td>-0.016070</td>\n",
       "      <td>-0.016917</td>\n",
       "      <td>-0.016499</td>\n",
       "      <td>-0.009763</td>\n",
       "      <td>0.036224</td>\n",
       "      <td>0.021041</td>\n",
       "      <td>0.021366</td>\n",
       "      <td>0.020597</td>\n",
       "      <td>0.020982</td>\n",
       "      <td>...</td>\n",
       "      <td>0.022319</td>\n",
       "      <td>0.022536</td>\n",
       "      <td>0.022536</td>\n",
       "      <td>-0.002158</td>\n",
       "      <td>-0.032940</td>\n",
       "      <td>-0.032324</td>\n",
       "      <td>-0.033532</td>\n",
       "      <td>-0.032946</td>\n",
       "      <td>-0.031388</td>\n",
       "      <td>0.035417</td>\n",
       "    </tr>\n",
       "    <tr>\n",
       "      <th>3</th>\n",
       "      <td>0.000034</td>\n",
       "      <td>0.000007</td>\n",
       "      <td>-0.000050</td>\n",
       "      <td>-0.000049</td>\n",
       "      <td>-0.002404</td>\n",
       "      <td>0.009382</td>\n",
       "      <td>-0.000313</td>\n",
       "      <td>-0.000366</td>\n",
       "      <td>-0.000298</td>\n",
       "      <td>-0.000344</td>\n",
       "      <td>...</td>\n",
       "      <td>0.007991</td>\n",
       "      <td>0.007894</td>\n",
       "      <td>0.007894</td>\n",
       "      <td>0.007015</td>\n",
       "      <td>0.063769</td>\n",
       "      <td>0.064030</td>\n",
       "      <td>0.063543</td>\n",
       "      <td>0.063744</td>\n",
       "      <td>0.070177</td>\n",
       "      <td>-0.009566</td>\n",
       "    </tr>\n",
       "    <tr>\n",
       "      <th>4</th>\n",
       "      <td>-0.014027</td>\n",
       "      <td>-0.013865</td>\n",
       "      <td>-0.014277</td>\n",
       "      <td>-0.014118</td>\n",
       "      <td>-0.010889</td>\n",
       "      <td>0.008232</td>\n",
       "      <td>0.000302</td>\n",
       "      <td>0.000395</td>\n",
       "      <td>0.000223</td>\n",
       "      <td>0.000325</td>\n",
       "      <td>...</td>\n",
       "      <td>-0.004203</td>\n",
       "      <td>-0.004169</td>\n",
       "      <td>-0.004169</td>\n",
       "      <td>-0.002712</td>\n",
       "      <td>0.005136</td>\n",
       "      <td>0.006072</td>\n",
       "      <td>0.004057</td>\n",
       "      <td>0.005008</td>\n",
       "      <td>0.005720</td>\n",
       "      <td>0.014343</td>\n",
       "    </tr>\n",
       "  </tbody>\n",
       "</table>\n",
       "<p>5 rows × 2255 columns</p>\n",
       "</div>"
      ],
      "text/plain": [
       "   MMM_open  MMM_high   MMM_low  MMM_close  MMM_adjclose  MMM_volume  \\\n",
       "0  0.025833  0.025854  0.025803   0.025825      0.026501   -0.009411   \n",
       "1  0.004184  0.004095  0.004292   0.004224      0.002885    0.005261   \n",
       "2 -0.016429 -0.016070 -0.016917  -0.016499     -0.009763    0.036224   \n",
       "3  0.000034  0.000007 -0.000050  -0.000049     -0.002404    0.009382   \n",
       "4 -0.014027 -0.013865 -0.014277  -0.014118     -0.010889    0.008232   \n",
       "\n",
       "   ABT_open  ABT_high   ABT_low  ABT_close  ...  ZBRA_low  ZBRA_close  \\\n",
       "0  0.025723  0.025688  0.025770   0.025729  ...  0.024276    0.024258   \n",
       "1 -0.012158 -0.012285 -0.012043  -0.012182  ... -0.020590   -0.020654   \n",
       "2  0.021041  0.021366  0.020597   0.020982  ...  0.022319    0.022536   \n",
       "3 -0.000313 -0.000366 -0.000298  -0.000344  ...  0.007991    0.007894   \n",
       "4  0.000302  0.000395  0.000223   0.000325  ... -0.004203   -0.004169   \n",
       "\n",
       "   ZBRA_adjclose  ZBRA_volume  ZION_open  ZION_high  ZION_low  ZION_close  \\\n",
       "0       0.024258    -0.002237  -0.004884  -0.004969 -0.004799   -0.004889   \n",
       "1      -0.020654    -0.012515  -0.040295  -0.040314 -0.040273   -0.040301   \n",
       "2       0.022536    -0.002158  -0.032940  -0.032324 -0.033532   -0.032946   \n",
       "3       0.007894     0.007015   0.063769   0.064030  0.063543    0.063744   \n",
       "4      -0.004169    -0.002712   0.005136   0.006072  0.004057    0.005008   \n",
       "\n",
       "   ZION_adjclose  ZION_volume  \n",
       "0      -0.000105     0.003842  \n",
       "1      -0.037769     0.036614  \n",
       "2      -0.031388     0.035417  \n",
       "3       0.070177    -0.009566  \n",
       "4       0.005720     0.014343  \n",
       "\n",
       "[5 rows x 2255 columns]"
      ]
     },
     "execution_count": 12,
     "metadata": {},
     "output_type": "execute_result"
    }
   ],
   "source": [
    "feature_contribution = pd.DataFrame(pca.components_, columns = features_wo_pca_scaled.columns)\n",
    "feature_contribution.head()"
   ]
  },
  {
   "cell_type": "code",
   "execution_count": 13,
   "metadata": {},
   "outputs": [
    {
     "name": "stdout",
     "output_type": "stream",
     "text": [
      "                  0          1          2          3          4          5    \\\n",
      "2000-01-04 -35.960069 -23.552294  -4.597713 -17.453207  14.531658  -0.316768   \n",
      "2000-01-05 -36.836905 -22.743318  -3.564498 -17.286059  13.297864  -0.338797   \n",
      "2000-01-06 -37.487364 -22.279747  -2.514318 -16.556027  12.748698   1.037776   \n",
      "2000-01-07 -37.299430 -21.751025  -2.901471 -16.130542  12.180725   1.006383   \n",
      "2000-01-10 -36.589754 -21.807640  -3.366668 -16.198530  12.671839   1.904084   \n",
      "...               ...        ...        ...        ...        ...        ...   \n",
      "2020-11-20  90.183917 -29.257544  29.608164   1.440382   1.369148 -14.483319   \n",
      "2020-11-23  90.293720 -29.171203  29.370437   1.104830   1.314000 -14.337519   \n",
      "2020-11-24  91.138682 -28.987513  29.047628   1.801778   1.875908 -14.181955   \n",
      "2020-11-25  93.325207 -26.612906  30.748859   3.270064   3.702518 -10.343187   \n",
      "2020-11-27  92.693270 -29.498647  26.804316   1.978321   2.750035 -14.897862   \n",
      "\n",
      "                  6         7          8         9    ...       484       485  \\\n",
      "2000-01-04   1.837064 -5.557118   6.445745  7.134478  ... -0.102697  0.191460   \n",
      "2000-01-05   1.653585 -5.952876   5.737803  6.734188  ... -0.169704  0.063710   \n",
      "2000-01-06   1.662251 -3.820102   5.670758  6.328497  ... -0.025842 -0.003553   \n",
      "2000-01-07   1.352454 -4.331947   5.176838  5.595753  ...  0.056210 -0.111642   \n",
      "2000-01-10   1.588168 -3.468694   5.502676  5.688328  ...  0.080631  0.131515   \n",
      "...               ...       ...        ...       ...  ...       ...       ...   \n",
      "2020-11-20  10.708497 -2.182065   9.220458 -9.080787  ... -0.030874  0.601885   \n",
      "2020-11-23  10.552448 -2.189723   9.552510 -8.976104  ... -0.048796  0.559202   \n",
      "2020-11-24  10.950489 -2.206034   9.988495 -8.778935  ...  0.206683  0.617742   \n",
      "2020-11-25  11.680070  0.284350  11.540207 -7.703188  ...  0.222632  0.522251   \n",
      "2020-11-27   9.750733 -2.425046   9.104195 -9.304018  ...  0.140116  0.504725   \n",
      "\n",
      "                 486       487       488       489       490       491  \\\n",
      "2000-01-04  0.326529 -0.340247  0.574970  0.409953  0.814601 -0.344856   \n",
      "2000-01-05  0.475654 -0.045786  0.426728  0.459711  0.754394 -0.266338   \n",
      "2000-01-06  0.583344  0.126365  0.326041  0.343992  0.656207 -0.202724   \n",
      "2000-01-07  0.662752  0.147918  0.274288  0.352098  0.360995 -0.068347   \n",
      "2000-01-10  0.601800  0.171921 -0.093605  0.363420  0.323483  0.204240   \n",
      "...              ...       ...       ...       ...       ...       ...   \n",
      "2020-11-20 -0.086160  0.262710 -0.184483  0.520238  0.415993 -0.162759   \n",
      "2020-11-23 -0.003600  0.463364  0.047818  0.574734  0.282141 -0.329044   \n",
      "2020-11-24  0.142283  0.346015  0.072583  0.584119  0.451806 -0.081729   \n",
      "2020-11-25 -0.036524  0.227898  0.365667  0.503604  0.250229 -0.561425   \n",
      "2020-11-27  0.107598  0.409965  0.439101  0.456490  0.362069 -0.693470   \n",
      "\n",
      "                 492       493  \n",
      "2000-01-04 -0.023026  0.176701  \n",
      "2000-01-05  0.013016  0.146214  \n",
      "2000-01-06  0.113223  0.137970  \n",
      "2000-01-07  0.253306  0.087982  \n",
      "2000-01-10  0.190937  0.274407  \n",
      "...              ...       ...  \n",
      "2020-11-20  0.153579 -0.047388  \n",
      "2020-11-23  0.054661 -0.003908  \n",
      "2020-11-24  0.104261 -0.363782  \n",
      "2020-11-25 -0.014086 -0.358320  \n",
      "2020-11-27 -0.031444 -0.183147  \n",
      "\n",
      "[5260 rows x 494 columns]\n",
      "(5260, 494)\n"
     ]
    }
   ],
   "source": [
    "features_w_pca = pd.DataFrame(pca.fit_transform(features_wo_pca_scaled), index = features_wo_pca_scaled.index)\n",
    "print(features_w_pca)\n",
    "print(features_w_pca.shape)"
   ]
  },
  {
   "cell_type": "markdown",
   "metadata": {},
   "source": [
    "Determine the proportion of the split between train and test set. Here, arbitrarily determined as 90% for training, 10% for testing. Note: For extremely large data sets, it may be good to specify a number value (as opposed to a percentage) for the test set as the test set need not be too large, and also it would be good for the training set to be larger where possible.\n"
   ]
  },
  {
   "cell_type": "code",
   "execution_count": 14,
   "metadata": {},
   "outputs": [
    {
     "name": "stdout",
     "output_type": "stream",
     "text": [
      "Check of train-test split: \n",
      "features = 5260\n",
      "features_train = 4735\n",
      "features_test = 525\n"
     ]
    }
   ],
   "source": [
    "traintest_index = int(len(features_w_pca) * 0.9) #This returns the row number for the boundary between train and test sets.\n",
    "traintest_value = features_w_pca.index[traintest_index] #This returns the datetimeindex at the row where we want to split between train and test sets.\n",
    "features_train = features_w_pca[features_w_pca.index <= traintest_value]\n",
    "features_test = features_w_pca[features_w_pca.index > traintest_value]\n",
    "target_train = target[target.index <= traintest_value]\n",
    "target_test = target[target.index > traintest_value]\n",
    "\n",
    "print(\"Check of train-test split: \")\n",
    "print(\"features = \" + str(len(features_w_pca)))\n",
    "print(\"features_train = \" + str(len(features_train)))\n",
    "print(\"features_test = \" + str(len(features_test)))\n"
   ]
  },
  {
   "cell_type": "markdown",
   "metadata": {},
   "source": [
    "Perform a min-max scaling on the features for both train and test sets using sklearn's MinMaxScaler class to ensure that data is all within the same scale. Note that we use 'fit_transform' for the training data and 'transform' for the testing data. Reason for this is so that the model is not trained on the testing data as well but uses the same mean and variance (and hence keeps it on the same scale) as the training data."
   ]
  },
  {
   "cell_type": "code",
   "execution_count": 15,
   "metadata": {},
   "outputs": [
    {
     "data": {
      "text/html": [
       "<div>\n",
       "<style scoped>\n",
       "    .dataframe tbody tr th:only-of-type {\n",
       "        vertical-align: middle;\n",
       "    }\n",
       "\n",
       "    .dataframe tbody tr th {\n",
       "        vertical-align: top;\n",
       "    }\n",
       "\n",
       "    .dataframe thead th {\n",
       "        text-align: right;\n",
       "    }\n",
       "</style>\n",
       "<table border=\"1\" class=\"dataframe\">\n",
       "  <thead>\n",
       "    <tr style=\"text-align: right;\">\n",
       "      <th></th>\n",
       "      <th>0</th>\n",
       "      <th>1</th>\n",
       "      <th>2</th>\n",
       "      <th>3</th>\n",
       "      <th>4</th>\n",
       "      <th>5</th>\n",
       "      <th>6</th>\n",
       "      <th>7</th>\n",
       "      <th>8</th>\n",
       "      <th>9</th>\n",
       "      <th>...</th>\n",
       "      <th>484</th>\n",
       "      <th>485</th>\n",
       "      <th>486</th>\n",
       "      <th>487</th>\n",
       "      <th>488</th>\n",
       "      <th>489</th>\n",
       "      <th>490</th>\n",
       "      <th>491</th>\n",
       "      <th>492</th>\n",
       "      <th>493</th>\n",
       "    </tr>\n",
       "  </thead>\n",
       "  <tbody>\n",
       "    <tr>\n",
       "      <th>2000-01-04</th>\n",
       "      <td>0.080346</td>\n",
       "      <td>0.086215</td>\n",
       "      <td>0.267637</td>\n",
       "      <td>0.084071</td>\n",
       "      <td>0.716226</td>\n",
       "      <td>0.306049</td>\n",
       "      <td>0.635637</td>\n",
       "      <td>0.261882</td>\n",
       "      <td>0.733939</td>\n",
       "      <td>0.753355</td>\n",
       "      <td>...</td>\n",
       "      <td>0.497736</td>\n",
       "      <td>0.599269</td>\n",
       "      <td>0.613212</td>\n",
       "      <td>0.224835</td>\n",
       "      <td>0.948498</td>\n",
       "      <td>0.723981</td>\n",
       "      <td>1.000000</td>\n",
       "      <td>0.274054</td>\n",
       "      <td>0.494194</td>\n",
       "      <td>0.582357</td>\n",
       "    </tr>\n",
       "    <tr>\n",
       "      <th>2000-01-05</th>\n",
       "      <td>0.072510</td>\n",
       "      <td>0.098882</td>\n",
       "      <td>0.283051</td>\n",
       "      <td>0.087615</td>\n",
       "      <td>0.686940</td>\n",
       "      <td>0.305658</td>\n",
       "      <td>0.629378</td>\n",
       "      <td>0.248896</td>\n",
       "      <td>0.702178</td>\n",
       "      <td>0.735536</td>\n",
       "      <td>...</td>\n",
       "      <td>0.454394</td>\n",
       "      <td>0.507286</td>\n",
       "      <td>0.700701</td>\n",
       "      <td>0.449640</td>\n",
       "      <td>0.831537</td>\n",
       "      <td>0.755582</td>\n",
       "      <td>0.956234</td>\n",
       "      <td>0.321931</td>\n",
       "      <td>0.523861</td>\n",
       "      <td>0.561679</td>\n",
       "    </tr>\n",
       "    <tr>\n",
       "      <th>2000-01-06</th>\n",
       "      <td>0.066697</td>\n",
       "      <td>0.106141</td>\n",
       "      <td>0.298719</td>\n",
       "      <td>0.103090</td>\n",
       "      <td>0.673905</td>\n",
       "      <td>0.330081</td>\n",
       "      <td>0.629674</td>\n",
       "      <td>0.318880</td>\n",
       "      <td>0.699170</td>\n",
       "      <td>0.717477</td>\n",
       "      <td>...</td>\n",
       "      <td>0.547447</td>\n",
       "      <td>0.458854</td>\n",
       "      <td>0.763881</td>\n",
       "      <td>0.581068</td>\n",
       "      <td>0.752095</td>\n",
       "      <td>0.682091</td>\n",
       "      <td>0.884859</td>\n",
       "      <td>0.360721</td>\n",
       "      <td>0.606345</td>\n",
       "      <td>0.556088</td>\n",
       "    </tr>\n",
       "    <tr>\n",
       "      <th>2000-01-07</th>\n",
       "      <td>0.068377</td>\n",
       "      <td>0.114420</td>\n",
       "      <td>0.292943</td>\n",
       "      <td>0.112110</td>\n",
       "      <td>0.660423</td>\n",
       "      <td>0.329524</td>\n",
       "      <td>0.619107</td>\n",
       "      <td>0.302085</td>\n",
       "      <td>0.677012</td>\n",
       "      <td>0.684860</td>\n",
       "      <td>...</td>\n",
       "      <td>0.600520</td>\n",
       "      <td>0.381028</td>\n",
       "      <td>0.810468</td>\n",
       "      <td>0.597523</td>\n",
       "      <td>0.711263</td>\n",
       "      <td>0.687239</td>\n",
       "      <td>0.670261</td>\n",
       "      <td>0.442660</td>\n",
       "      <td>0.721653</td>\n",
       "      <td>0.522182</td>\n",
       "    </tr>\n",
       "    <tr>\n",
       "      <th>2000-01-10</th>\n",
       "      <td>0.074719</td>\n",
       "      <td>0.113533</td>\n",
       "      <td>0.286003</td>\n",
       "      <td>0.110669</td>\n",
       "      <td>0.672080</td>\n",
       "      <td>0.345451</td>\n",
       "      <td>0.627147</td>\n",
       "      <td>0.330411</td>\n",
       "      <td>0.691630</td>\n",
       "      <td>0.688981</td>\n",
       "      <td>...</td>\n",
       "      <td>0.616317</td>\n",
       "      <td>0.556107</td>\n",
       "      <td>0.774709</td>\n",
       "      <td>0.615848</td>\n",
       "      <td>0.421000</td>\n",
       "      <td>0.694429</td>\n",
       "      <td>0.642993</td>\n",
       "      <td>0.608873</td>\n",
       "      <td>0.670314</td>\n",
       "      <td>0.648630</td>\n",
       "    </tr>\n",
       "  </tbody>\n",
       "</table>\n",
       "<p>5 rows × 494 columns</p>\n",
       "</div>"
      ],
      "text/plain": [
       "                 0         1         2         3         4         5    \\\n",
       "2000-01-04  0.080346  0.086215  0.267637  0.084071  0.716226  0.306049   \n",
       "2000-01-05  0.072510  0.098882  0.283051  0.087615  0.686940  0.305658   \n",
       "2000-01-06  0.066697  0.106141  0.298719  0.103090  0.673905  0.330081   \n",
       "2000-01-07  0.068377  0.114420  0.292943  0.112110  0.660423  0.329524   \n",
       "2000-01-10  0.074719  0.113533  0.286003  0.110669  0.672080  0.345451   \n",
       "\n",
       "                 6         7         8         9    ...       484       485  \\\n",
       "2000-01-04  0.635637  0.261882  0.733939  0.753355  ...  0.497736  0.599269   \n",
       "2000-01-05  0.629378  0.248896  0.702178  0.735536  ...  0.454394  0.507286   \n",
       "2000-01-06  0.629674  0.318880  0.699170  0.717477  ...  0.547447  0.458854   \n",
       "2000-01-07  0.619107  0.302085  0.677012  0.684860  ...  0.600520  0.381028   \n",
       "2000-01-10  0.627147  0.330411  0.691630  0.688981  ...  0.616317  0.556107   \n",
       "\n",
       "                 486       487       488       489       490       491  \\\n",
       "2000-01-04  0.613212  0.224835  0.948498  0.723981  1.000000  0.274054   \n",
       "2000-01-05  0.700701  0.449640  0.831537  0.755582  0.956234  0.321931   \n",
       "2000-01-06  0.763881  0.581068  0.752095  0.682091  0.884859  0.360721   \n",
       "2000-01-07  0.810468  0.597523  0.711263  0.687239  0.670261  0.442660   \n",
       "2000-01-10  0.774709  0.615848  0.421000  0.694429  0.642993  0.608873   \n",
       "\n",
       "                 492       493  \n",
       "2000-01-04  0.494194  0.582357  \n",
       "2000-01-05  0.523861  0.561679  \n",
       "2000-01-06  0.606345  0.556088  \n",
       "2000-01-07  0.721653  0.522182  \n",
       "2000-01-10  0.670314  0.648630  \n",
       "\n",
       "[5 rows x 494 columns]"
      ]
     },
     "execution_count": 15,
     "metadata": {},
     "output_type": "execute_result"
    }
   ],
   "source": [
    "from sklearn.preprocessing import MinMaxScaler\n",
    "minmax_scaler = MinMaxScaler()\n",
    "features_train = pd.DataFrame(minmax_scaler.fit_transform(features_train), \n",
    "                              columns = features_train.columns, \n",
    "                              index = features_train.index)\n",
    "features_train.head()"
   ]
  },
  {
   "cell_type": "code",
   "execution_count": 16,
   "metadata": {},
   "outputs": [
    {
     "data": {
      "text/html": [
       "<div>\n",
       "<style scoped>\n",
       "    .dataframe tbody tr th:only-of-type {\n",
       "        vertical-align: middle;\n",
       "    }\n",
       "\n",
       "    .dataframe tbody tr th {\n",
       "        vertical-align: top;\n",
       "    }\n",
       "\n",
       "    .dataframe thead th {\n",
       "        text-align: right;\n",
       "    }\n",
       "</style>\n",
       "<table border=\"1\" class=\"dataframe\">\n",
       "  <thead>\n",
       "    <tr style=\"text-align: right;\">\n",
       "      <th></th>\n",
       "      <th>0</th>\n",
       "      <th>1</th>\n",
       "      <th>2</th>\n",
       "      <th>3</th>\n",
       "      <th>4</th>\n",
       "      <th>5</th>\n",
       "      <th>6</th>\n",
       "      <th>7</th>\n",
       "      <th>8</th>\n",
       "      <th>9</th>\n",
       "      <th>...</th>\n",
       "      <th>484</th>\n",
       "      <th>485</th>\n",
       "      <th>486</th>\n",
       "      <th>487</th>\n",
       "      <th>488</th>\n",
       "      <th>489</th>\n",
       "      <th>490</th>\n",
       "      <th>491</th>\n",
       "      <th>492</th>\n",
       "      <th>493</th>\n",
       "    </tr>\n",
       "  </thead>\n",
       "  <tbody>\n",
       "    <tr>\n",
       "      <th>2018-10-29</th>\n",
       "      <td>0.875244</td>\n",
       "      <td>0.426924</td>\n",
       "      <td>0.474209</td>\n",
       "      <td>0.531476</td>\n",
       "      <td>0.481723</td>\n",
       "      <td>0.499746</td>\n",
       "      <td>0.250140</td>\n",
       "      <td>0.743806</td>\n",
       "      <td>0.509392</td>\n",
       "      <td>0.694923</td>\n",
       "      <td>...</td>\n",
       "      <td>0.287672</td>\n",
       "      <td>0.462057</td>\n",
       "      <td>0.428650</td>\n",
       "      <td>0.433284</td>\n",
       "      <td>0.397332</td>\n",
       "      <td>0.518625</td>\n",
       "      <td>0.541688</td>\n",
       "      <td>0.558171</td>\n",
       "      <td>0.488421</td>\n",
       "      <td>0.506283</td>\n",
       "    </tr>\n",
       "    <tr>\n",
       "      <th>2018-10-30</th>\n",
       "      <td>0.878182</td>\n",
       "      <td>0.396310</td>\n",
       "      <td>0.430733</td>\n",
       "      <td>0.517363</td>\n",
       "      <td>0.456945</td>\n",
       "      <td>0.443255</td>\n",
       "      <td>0.248123</td>\n",
       "      <td>0.679780</td>\n",
       "      <td>0.447277</td>\n",
       "      <td>0.632933</td>\n",
       "      <td>...</td>\n",
       "      <td>0.336187</td>\n",
       "      <td>0.455420</td>\n",
       "      <td>0.578153</td>\n",
       "      <td>0.525779</td>\n",
       "      <td>0.328957</td>\n",
       "      <td>0.363712</td>\n",
       "      <td>0.392274</td>\n",
       "      <td>0.393553</td>\n",
       "      <td>0.614790</td>\n",
       "      <td>0.435152</td>\n",
       "    </tr>\n",
       "    <tr>\n",
       "      <th>2018-10-31</th>\n",
       "      <td>0.888277</td>\n",
       "      <td>0.411553</td>\n",
       "      <td>0.459703</td>\n",
       "      <td>0.530872</td>\n",
       "      <td>0.482423</td>\n",
       "      <td>0.499231</td>\n",
       "      <td>0.265684</td>\n",
       "      <td>0.731946</td>\n",
       "      <td>0.491828</td>\n",
       "      <td>0.685709</td>\n",
       "      <td>...</td>\n",
       "      <td>0.621578</td>\n",
       "      <td>0.513967</td>\n",
       "      <td>0.444095</td>\n",
       "      <td>0.412815</td>\n",
       "      <td>0.431203</td>\n",
       "      <td>0.510057</td>\n",
       "      <td>0.445698</td>\n",
       "      <td>0.579469</td>\n",
       "      <td>0.534374</td>\n",
       "      <td>0.428494</td>\n",
       "    </tr>\n",
       "    <tr>\n",
       "      <th>2018-11-01</th>\n",
       "      <td>0.903747</td>\n",
       "      <td>0.422174</td>\n",
       "      <td>0.460379</td>\n",
       "      <td>0.536303</td>\n",
       "      <td>0.495887</td>\n",
       "      <td>0.503532</td>\n",
       "      <td>0.255734</td>\n",
       "      <td>0.741951</td>\n",
       "      <td>0.549814</td>\n",
       "      <td>0.686604</td>\n",
       "      <td>...</td>\n",
       "      <td>0.571677</td>\n",
       "      <td>0.571369</td>\n",
       "      <td>0.470009</td>\n",
       "      <td>0.592083</td>\n",
       "      <td>0.215673</td>\n",
       "      <td>0.526608</td>\n",
       "      <td>0.163579</td>\n",
       "      <td>0.349318</td>\n",
       "      <td>0.552168</td>\n",
       "      <td>0.467043</td>\n",
       "    </tr>\n",
       "    <tr>\n",
       "      <th>2018-11-02</th>\n",
       "      <td>0.910751</td>\n",
       "      <td>0.379231</td>\n",
       "      <td>0.409397</td>\n",
       "      <td>0.517518</td>\n",
       "      <td>0.472733</td>\n",
       "      <td>0.439492</td>\n",
       "      <td>0.216127</td>\n",
       "      <td>0.659401</td>\n",
       "      <td>0.504065</td>\n",
       "      <td>0.629334</td>\n",
       "      <td>...</td>\n",
       "      <td>0.518342</td>\n",
       "      <td>0.589489</td>\n",
       "      <td>0.416592</td>\n",
       "      <td>0.659116</td>\n",
       "      <td>0.264454</td>\n",
       "      <td>0.567854</td>\n",
       "      <td>0.224485</td>\n",
       "      <td>0.315475</td>\n",
       "      <td>0.663829</td>\n",
       "      <td>0.420296</td>\n",
       "    </tr>\n",
       "  </tbody>\n",
       "</table>\n",
       "<p>5 rows × 494 columns</p>\n",
       "</div>"
      ],
      "text/plain": [
       "                 0         1         2         3         4         5    \\\n",
       "2018-10-29  0.875244  0.426924  0.474209  0.531476  0.481723  0.499746   \n",
       "2018-10-30  0.878182  0.396310  0.430733  0.517363  0.456945  0.443255   \n",
       "2018-10-31  0.888277  0.411553  0.459703  0.530872  0.482423  0.499231   \n",
       "2018-11-01  0.903747  0.422174  0.460379  0.536303  0.495887  0.503532   \n",
       "2018-11-02  0.910751  0.379231  0.409397  0.517518  0.472733  0.439492   \n",
       "\n",
       "                 6         7         8         9    ...       484       485  \\\n",
       "2018-10-29  0.250140  0.743806  0.509392  0.694923  ...  0.287672  0.462057   \n",
       "2018-10-30  0.248123  0.679780  0.447277  0.632933  ...  0.336187  0.455420   \n",
       "2018-10-31  0.265684  0.731946  0.491828  0.685709  ...  0.621578  0.513967   \n",
       "2018-11-01  0.255734  0.741951  0.549814  0.686604  ...  0.571677  0.571369   \n",
       "2018-11-02  0.216127  0.659401  0.504065  0.629334  ...  0.518342  0.589489   \n",
       "\n",
       "                 486       487       488       489       490       491  \\\n",
       "2018-10-29  0.428650  0.433284  0.397332  0.518625  0.541688  0.558171   \n",
       "2018-10-30  0.578153  0.525779  0.328957  0.363712  0.392274  0.393553   \n",
       "2018-10-31  0.444095  0.412815  0.431203  0.510057  0.445698  0.579469   \n",
       "2018-11-01  0.470009  0.592083  0.215673  0.526608  0.163579  0.349318   \n",
       "2018-11-02  0.416592  0.659116  0.264454  0.567854  0.224485  0.315475   \n",
       "\n",
       "                 492       493  \n",
       "2018-10-29  0.488421  0.506283  \n",
       "2018-10-30  0.614790  0.435152  \n",
       "2018-10-31  0.534374  0.428494  \n",
       "2018-11-01  0.552168  0.467043  \n",
       "2018-11-02  0.663829  0.420296  \n",
       "\n",
       "[5 rows x 494 columns]"
      ]
     },
     "execution_count": 16,
     "metadata": {},
     "output_type": "execute_result"
    }
   ],
   "source": [
    "features_test = pd.DataFrame(minmax_scaler.transform(features_test), \n",
    "                             columns = features_test.columns, \n",
    "                             index = features_test.index)\n",
    "features_test.head()"
   ]
  },
  {
   "cell_type": "markdown",
   "metadata": {},
   "source": [
    "Sequence generation"
   ]
  },
  {
   "cell_type": "code",
   "execution_count": 17,
   "metadata": {},
   "outputs": [
    {
     "name": "stdout",
     "output_type": "stream",
     "text": [
      "(4730, 5, 494)\n"
     ]
    }
   ],
   "source": [
    "sequence_length = 5\n",
    "def gen_sequence(df, seq_length):\n",
    "    data_array = df.values\n",
    "    num_elements = data_array.shape[0]\n",
    "    for start, stop in zip(range(0, num_elements-seq_length), range(seq_length, num_elements)):\n",
    "        yield data_array[start:stop, :]\n",
    "\n",
    "seq_array = np.array(list(gen_sequence(features_train,sequence_length)))\n",
    "print(seq_array.shape)"
   ]
  },
  {
   "cell_type": "code",
   "execution_count": 18,
   "metadata": {},
   "outputs": [
    {
     "data": {
      "text/plain": [
       "(4730,)"
      ]
     },
     "execution_count": 18,
     "metadata": {},
     "output_type": "execute_result"
    }
   ],
   "source": [
    "def gen_labels(df, seq_length):\n",
    "    data_array = df.values\n",
    "    num_elements = data_array.shape[0]\n",
    "    return data_array[seq_length:num_elements]\n",
    "\n",
    "label_array = np.array(list(gen_labels(target_train,sequence_length)))\n",
    "label_array.shape"
   ]
  },
  {
   "cell_type": "code",
   "execution_count": 19,
   "metadata": {},
   "outputs": [
    {
     "data": {
      "text/plain": [
       "(520, 5, 494)"
      ]
     },
     "execution_count": 19,
     "metadata": {},
     "output_type": "execute_result"
    }
   ],
   "source": [
    "seq_array_test = np.array(list(gen_sequence(features_test,sequence_length)))\n",
    "seq_array_test.shape"
   ]
  },
  {
   "cell_type": "code",
   "execution_count": 20,
   "metadata": {},
   "outputs": [
    {
     "data": {
      "text/plain": [
       "(520,)"
      ]
     },
     "execution_count": 20,
     "metadata": {},
     "output_type": "execute_result"
    }
   ],
   "source": [
    "label_array_test = np.array(list(gen_labels(target_test,sequence_length)))\n",
    "label_array_test.shape"
   ]
  },
  {
   "cell_type": "markdown",
   "metadata": {},
   "source": [
    "# Benchmark Model - Linear Regression (with PCA)"
   ]
  },
  {
   "cell_type": "markdown",
   "metadata": {},
   "source": [
    "Here, we show the results of linear regression implemented on the principal components generated from the PCA earlier. Notice that the results are significantly better compared to without implementing PCA."
   ]
  },
  {
   "cell_type": "code",
   "execution_count": 21,
   "metadata": {},
   "outputs": [
    {
     "data": {
      "text/plain": [
       "LinearRegression()"
      ]
     },
     "execution_count": 21,
     "metadata": {},
     "output_type": "execute_result"
    }
   ],
   "source": [
    "from sklearn.linear_model import LinearRegression\n",
    "\n",
    "linearregression = LinearRegression()\n",
    "linearregression.fit(np.array([seq_array[i][sequence_length-1] for i in range(seq_array.shape[0])]),label_array)"
   ]
  },
  {
   "cell_type": "code",
   "execution_count": 22,
   "metadata": {},
   "outputs": [],
   "source": [
    "prediction = linearregression.predict(np.array([seq_array_test[i][sequence_length-1] for i in range(seq_array_test.shape[0])]))\n"
   ]
  },
  {
   "cell_type": "code",
   "execution_count": 23,
   "metadata": {},
   "outputs": [],
   "source": [
    "pd.DataFrame([prediction,label_array_test]).T\\\n",
    ".rename({0:'prediction',1:'truth'},axis=1)\\\n",
    ".set_index(target.index[target.index> target.index[int(len(target) * 0.9) + sequence_length]])\\\n",
    ".to_csv('LR_prediction.csv')"
   ]
  },
  {
   "cell_type": "code",
   "execution_count": 24,
   "metadata": {},
   "outputs": [
    {
     "data": {
      "image/png": "[encoded data removed]",
      "text/plain": [
       "<Figure size 432x288 with 1 Axes>"
      ]
     },
     "metadata": {
      "needs_background": "light"
     },
     "output_type": "display_data"
    }
   ],
   "source": [
    "plt.plot(prediction, label='prediction')\n",
    "plt.plot(label_array_test, label='truth')\n",
    "plt.legend()\n",
    "plt.show()"
   ]
  },
  {
   "cell_type": "code",
   "execution_count": 25,
   "metadata": {},
   "outputs": [
    {
     "data": {
      "text/plain": [
       "(0.1547596269069199, 23.613411707770045)"
      ]
     },
     "execution_count": 25,
     "metadata": {},
     "output_type": "execute_result"
    }
   ],
   "source": [
    "from sklearn.metrics import r2_score, mean_squared_error\n",
    "r2_score(label_array_test,prediction),np.sqrt(mean_squared_error(label_array_test,prediction))"
   ]
  },
  {
   "cell_type": "markdown",
   "metadata": {},
   "source": [
    "# Neural Network"
   ]
  },
  {
   "cell_type": "markdown",
   "metadata": {},
   "source": [
    "LSTM model"
   ]
  },
  {
   "cell_type": "code",
   "execution_count": 26,
   "metadata": {
    "scrolled": true
   },
   "outputs": [
    {
     "name": "stdout",
     "output_type": "stream",
     "text": [
      "5\n",
      "494\n"
     ]
    }
   ],
   "source": [
    "from tensorflow import keras\n",
    "from keras.models import Sequential\n",
    "from keras.layers import Dense, Dropout, LSTM\n",
    "from numpy.random import seed\n",
    "import random as python_random\n",
    "import tensorflow\n",
    "tensorflow.random.set_seed(1)\n",
    "seed(1)\n",
    "python_random.seed(123)\n",
    "\n",
    "# build the network\n",
    "nb_features = seq_array.shape[2]\n",
    "print(sequence_length)\n",
    "print(nb_features)\n",
    "model = Sequential()\n",
    "\n",
    "model.add(LSTM(\n",
    "         input_shape=(sequence_length, nb_features),\n",
    "         units=75,\n",
    "         return_sequences=True))\n",
    "model.add(Dropout(0.2))\n",
    "model.add(LSTM(\n",
    "          units=50,\n",
    "          return_sequences=True))\n",
    "model.add(Dropout(0.2))\n",
    "model.add(LSTM(\n",
    "          units=50,\n",
    "          return_sequences=False))\n",
    "model.add(Dropout(0.2))\n",
    "\n",
    "model.add(Dense(1))\n",
    "model.compile(loss='mae', optimizer='nadam', metrics=['mean_squared_error'])"
   ]
  },
  {
   "cell_type": "code",
   "execution_count": 27,
   "metadata": {},
   "outputs": [
    {
     "name": "stdout",
     "output_type": "stream",
     "text": [
      "Model: \"sequential\"\n",
      "_________________________________________________________________\n",
      "Layer (type)                 Output Shape              Param #   \n",
      "=================================================================\n",
      "lstm (LSTM)                  (None, 5, 75)             171000    \n",
      "_________________________________________________________________\n",
      "dropout (Dropout)            (None, 5, 75)             0         \n",
      "_________________________________________________________________\n",
      "lstm_1 (LSTM)                (None, 5, 50)             25200     \n",
      "_________________________________________________________________\n",
      "dropout_1 (Dropout)          (None, 5, 50)             0         \n",
      "_________________________________________________________________\n",
      "lstm_2 (LSTM)                (None, 50)                20200     \n",
      "_________________________________________________________________\n",
      "dropout_2 (Dropout)          (None, 50)                0         \n",
      "_________________________________________________________________\n",
      "dense (Dense)                (None, 1)                 51        \n",
      "=================================================================\n",
      "Total params: 216,451\n",
      "Trainable params: 216,451\n",
      "Non-trainable params: 0\n",
      "_________________________________________________________________\n"
     ]
    }
   ],
   "source": [
    "model.summary()"
   ]
  },
  {
   "cell_type": "code",
   "execution_count": 28,
   "metadata": {},
   "outputs": [
    {
     "name": "stdout",
     "output_type": "stream",
     "text": [
      "Epoch 1/200\n",
      "134/134 - 2s - loss: 41.0562 - mean_squared_error: 3098.5637 - val_loss: 109.9151 - val_mean_squared_error: 12599.7979\n",
      "Epoch 2/200\n",
      "134/134 - 1s - loss: 36.8713 - mean_squared_error: 2569.6123 - val_loss: 104.7843 - val_mean_squared_error: 11498.2334\n",
      "Epoch 3/200\n",
      "134/134 - 1s - loss: 35.0716 - mean_squared_error: 2282.3682 - val_loss: 100.2811 - val_mean_squared_error: 10574.7832\n",
      "Epoch 4/200\n",
      "134/134 - 1s - loss: 33.6923 - mean_squared_error: 2058.9822 - val_loss: 96.2130 - val_mean_squared_error: 9775.4229\n",
      "Epoch 5/200\n",
      "134/134 - 1s - loss: 32.7498 - mean_squared_error: 1891.2722 - val_loss: 93.1293 - val_mean_squared_error: 9191.5527\n",
      "Epoch 6/200\n",
      "134/134 - 1s - loss: 32.3964 - mean_squared_error: 1806.6171 - val_loss: 90.9892 - val_mean_squared_error: 8797.5107\n",
      "Epoch 7/200\n",
      "134/134 - 1s - loss: 32.1796 - mean_squared_error: 1741.4204 - val_loss: 89.6434 - val_mean_squared_error: 8554.4111\n",
      "Epoch 8/200\n",
      "134/134 - 1s - loss: 32.1252 - mean_squared_error: 1711.6761 - val_loss: 88.7691 - val_mean_squared_error: 8398.4336\n",
      "Epoch 9/200\n",
      "134/134 - 1s - loss: 32.0895 - mean_squared_error: 1690.7736 - val_loss: 88.3472 - val_mean_squared_error: 8323.7061\n",
      "Epoch 10/200\n",
      "134/134 - 1s - loss: 32.0100 - mean_squared_error: 1678.6031 - val_loss: 87.8990 - val_mean_squared_error: 8244.7061\n",
      "Epoch 11/200\n",
      "134/134 - 1s - loss: 32.1174 - mean_squared_error: 1672.0339 - val_loss: 87.5213 - val_mean_squared_error: 8178.4531\n",
      "Epoch 12/200\n",
      "134/134 - 1s - loss: 32.0798 - mean_squared_error: 1661.4153 - val_loss: 87.2379 - val_mean_squared_error: 8128.9360\n",
      "Epoch 13/200\n",
      "134/134 - 1s - loss: 31.9996 - mean_squared_error: 1652.9799 - val_loss: 86.9462 - val_mean_squared_error: 8078.1226\n",
      "Epoch 14/200\n",
      "134/134 - 1s - loss: 32.0276 - mean_squared_error: 1652.2168 - val_loss: 86.9143 - val_mean_squared_error: 8072.5786\n",
      "Epoch 15/200\n",
      "134/134 - 1s - loss: 32.0324 - mean_squared_error: 1650.1165 - val_loss: 86.9390 - val_mean_squared_error: 8076.8647\n",
      "Epoch 16/200\n",
      "134/134 - 1s - loss: 32.0768 - mean_squared_error: 1648.3805 - val_loss: 86.7536 - val_mean_squared_error: 8044.6592\n",
      "Epoch 17/200\n",
      "134/134 - 1s - loss: 32.0119 - mean_squared_error: 1641.1722 - val_loss: 86.7782 - val_mean_squared_error: 8048.9268\n",
      "Epoch 18/200\n",
      "134/134 - 1s - loss: 32.0365 - mean_squared_error: 1648.6873 - val_loss: 86.8583 - val_mean_squared_error: 8062.8511\n",
      "Epoch 19/200\n",
      "134/134 - 1s - loss: 32.0628 - mean_squared_error: 1650.2255 - val_loss: 88.5806 - val_mean_squared_error: 8364.9990\n",
      "Epoch 20/200\n",
      "134/134 - 1s - loss: 32.1175 - mean_squared_error: 1682.7546 - val_loss: 87.8806 - val_mean_squared_error: 8241.4766\n",
      "Epoch 21/200\n",
      "134/134 - 1s - loss: 32.1293 - mean_squared_error: 1673.3691 - val_loss: 87.4486 - val_mean_squared_error: 8165.7407\n",
      "Epoch 22/200\n",
      "134/134 - 1s - loss: 32.4067 - mean_squared_error: 1691.8462 - val_loss: 87.1091 - val_mean_squared_error: 8106.4834\n",
      "Epoch 23/200\n",
      "134/134 - 1s - loss: 32.0744 - mean_squared_error: 1653.0652 - val_loss: 86.8735 - val_mean_squared_error: 8065.4888\n",
      "Epoch 24/200\n",
      "134/134 - 1s - loss: 32.0769 - mean_squared_error: 1647.8773 - val_loss: 86.8147 - val_mean_squared_error: 8055.2651\n",
      "Epoch 25/200\n",
      "134/134 - 1s - loss: 31.9193 - mean_squared_error: 1657.5334 - val_loss: 85.6260 - val_mean_squared_error: 7850.2969\n",
      "Epoch 26/200\n",
      "134/134 - 1s - loss: 30.4739 - mean_squared_error: 1615.8331 - val_loss: 82.7270 - val_mean_squared_error: 7362.2256\n",
      "Epoch 27/200\n",
      "134/134 - 1s - loss: 23.0796 - mean_squared_error: 1155.2283 - val_loss: 74.0172 - val_mean_squared_error: 5996.9673\n",
      "Epoch 28/200\n",
      "134/134 - 1s - loss: 19.4017 - mean_squared_error: 862.5071 - val_loss: 66.9606 - val_mean_squared_error: 5002.1611\n",
      "Epoch 29/200\n",
      "134/134 - 1s - loss: 17.1211 - mean_squared_error: 679.7262 - val_loss: 61.4414 - val_mean_squared_error: 4292.1909\n",
      "Epoch 30/200\n",
      "134/134 - 1s - loss: 15.2962 - mean_squared_error: 549.4328 - val_loss: 56.2978 - val_mean_squared_error: 3686.0747\n",
      "Epoch 31/200\n",
      "134/134 - 1s - loss: 13.6570 - mean_squared_error: 451.5664 - val_loss: 51.2845 - val_mean_squared_error: 3147.8855\n",
      "Epoch 32/200\n",
      "134/134 - 1s - loss: 12.4512 - mean_squared_error: 367.0365 - val_loss: 48.0569 - val_mean_squared_error: 2820.7217\n",
      "Epoch 33/200\n",
      "134/134 - 1s - loss: 11.3988 - mean_squared_error: 307.7802 - val_loss: 42.8116 - val_mean_squared_error: 2351.2336\n",
      "Epoch 34/200\n",
      "134/134 - 1s - loss: 10.2874 - mean_squared_error: 246.4846 - val_loss: 38.7913 - val_mean_squared_error: 2020.4795\n",
      "Epoch 35/200\n",
      "134/134 - 1s - loss: 9.5282 - mean_squared_error: 207.0353 - val_loss: 85.6476 - val_mean_squared_error: 7830.8486\n",
      "Epoch 36/200\n",
      "134/134 - 1s - loss: 10.8942 - mean_squared_error: 295.4841 - val_loss: 33.3737 - val_mean_squared_error: 1556.4889\n",
      "Epoch 37/200\n",
      "134/134 - 1s - loss: 8.0093 - mean_squared_error: 143.4793 - val_loss: 30.9194 - val_mean_squared_error: 1351.3744\n",
      "Epoch 38/200\n",
      "134/134 - 2s - loss: 8.2814 - mean_squared_error: 167.0259 - val_loss: 29.3209 - val_mean_squared_error: 1221.3872\n",
      "Epoch 39/200\n",
      "134/134 - 1s - loss: 7.1551 - mean_squared_error: 112.9742 - val_loss: 27.8674 - val_mean_squared_error: 1096.5975\n",
      "Epoch 40/200\n",
      "134/134 - 2s - loss: 7.0958 - mean_squared_error: 113.6710 - val_loss: 26.9419 - val_mean_squared_error: 1012.4190\n",
      "Epoch 41/200\n",
      "134/134 - 2s - loss: 6.5814 - mean_squared_error: 98.0961 - val_loss: 26.2498 - val_mean_squared_error: 948.2975\n",
      "Epoch 42/200\n",
      "134/134 - 1s - loss: 6.5844 - mean_squared_error: 97.6987 - val_loss: 25.6633 - val_mean_squared_error: 894.9431\n",
      "Epoch 43/200\n",
      "134/134 - 1s - loss: 6.4848 - mean_squared_error: 93.9584 - val_loss: 25.2077 - val_mean_squared_error: 855.2091\n",
      "Epoch 44/200\n",
      "134/134 - 1s - loss: 6.2327 - mean_squared_error: 89.9387 - val_loss: 24.9352 - val_mean_squared_error: 833.6011\n",
      "Epoch 45/200\n",
      "134/134 - 1s - loss: 6.2023 - mean_squared_error: 91.5072 - val_loss: 44.5515 - val_mean_squared_error: 2413.3081\n",
      "Epoch 46/200\n",
      "134/134 - 1s - loss: 6.1997 - mean_squared_error: 90.3319 - val_loss: 25.2568 - val_mean_squared_error: 846.5255\n",
      "Epoch 47/200\n",
      "134/134 - 1s - loss: 6.0445 - mean_squared_error: 86.7773 - val_loss: 24.3784 - val_mean_squared_error: 789.7205\n",
      "Epoch 48/200\n",
      "134/134 - 1s - loss: 6.0895 - mean_squared_error: 87.5804 - val_loss: 24.1908 - val_mean_squared_error: 775.2766\n",
      "Epoch 49/200\n",
      "134/134 - 1s - loss: 5.7683 - mean_squared_error: 77.1862 - val_loss: 49.1013 - val_mean_squared_error: 2843.4321\n",
      "Epoch 50/200\n",
      "134/134 - 1s - loss: 5.7200 - mean_squared_error: 77.0044 - val_loss: 23.7870 - val_mean_squared_error: 745.6801\n",
      "Epoch 51/200\n",
      "134/134 - 1s - loss: 5.5741 - mean_squared_error: 69.3327 - val_loss: 54.2773 - val_mean_squared_error: 3378.8018\n",
      "Epoch 52/200\n",
      "134/134 - 1s - loss: 5.5645 - mean_squared_error: 68.4666 - val_loss: 23.0622 - val_mean_squared_error: 693.2476\n",
      "Epoch 53/200\n",
      "134/134 - 1s - loss: 5.1769 - mean_squared_error: 57.5505 - val_loss: 22.7304 - val_mean_squared_error: 669.5727\n",
      "Epoch 54/200\n",
      "134/134 - 1s - loss: 5.2628 - mean_squared_error: 60.6745 - val_loss: 39.2773 - val_mean_squared_error: 1937.8130\n",
      "Epoch 55/200\n",
      "134/134 - 1s - loss: 5.0433 - mean_squared_error: 53.2282 - val_loss: 21.9703 - val_mean_squared_error: 637.5583\n",
      "Epoch 56/200\n",
      "134/134 - 1s - loss: 4.9449 - mean_squared_error: 52.1147 - val_loss: 21.8737 - val_mean_squared_error: 627.1985\n",
      "Epoch 57/200\n",
      "134/134 - 1s - loss: 4.8070 - mean_squared_error: 48.9093 - val_loss: 69.9628 - val_mean_squared_error: 5343.5410\n",
      "Epoch 58/200\n",
      "134/134 - 1s - loss: 7.3294 - mean_squared_error: 137.6187 - val_loss: 43.2064 - val_mean_squared_error: 2252.5549\n",
      "Epoch 59/200\n",
      "134/134 - 1s - loss: 5.1886 - mean_squared_error: 58.0404 - val_loss: 22.4994 - val_mean_squared_error: 670.5176\n",
      "Epoch 60/200\n",
      "134/134 - 1s - loss: 4.8587 - mean_squared_error: 50.1453 - val_loss: 22.0444 - val_mean_squared_error: 656.2075\n",
      "Epoch 61/200\n",
      "134/134 - 1s - loss: 4.6363 - mean_squared_error: 45.8045 - val_loss: 20.7631 - val_mean_squared_error: 582.8742\n",
      "Epoch 62/200\n",
      "134/134 - 1s - loss: 4.6311 - mean_squared_error: 45.7976 - val_loss: 20.5564 - val_mean_squared_error: 550.1602\n",
      "Epoch 63/200\n",
      "134/134 - 1s - loss: 4.5379 - mean_squared_error: 43.4145 - val_loss: 24.7468 - val_mean_squared_error: 855.2443\n",
      "Epoch 64/200\n",
      "134/134 - 1s - loss: 4.4394 - mean_squared_error: 40.7619 - val_loss: 24.8762 - val_mean_squared_error: 867.5587\n"
     ]
    },
    {
     "name": "stdout",
     "output_type": "stream",
     "text": [
      "Epoch 65/200\n",
      "134/134 - 1s - loss: 4.5426 - mean_squared_error: 42.5794 - val_loss: 20.7951 - val_mean_squared_error: 561.5086\n",
      "Epoch 66/200\n",
      "134/134 - 1s - loss: 4.6334 - mean_squared_error: 44.7755 - val_loss: 22.7092 - val_mean_squared_error: 710.2739\n",
      "Epoch 67/200\n",
      "134/134 - 1s - loss: 4.4558 - mean_squared_error: 42.0334 - val_loss: 43.2361 - val_mean_squared_error: 2231.8860\n",
      "Epoch 68/200\n",
      "134/134 - 1s - loss: 4.5256 - mean_squared_error: 45.0415 - val_loss: 25.4290 - val_mean_squared_error: 901.9038\n",
      "Epoch 69/200\n",
      "134/134 - 1s - loss: 4.3239 - mean_squared_error: 39.4178 - val_loss: 20.4383 - val_mean_squared_error: 544.3937\n",
      "Epoch 70/200\n",
      "134/134 - 1s - loss: 4.3834 - mean_squared_error: 40.8320 - val_loss: 20.1523 - val_mean_squared_error: 543.7614\n",
      "Epoch 71/200\n",
      "134/134 - 1s - loss: 4.2961 - mean_squared_error: 38.9070 - val_loss: 21.3866 - val_mean_squared_error: 621.1056\n",
      "Epoch 72/200\n",
      "134/134 - 1s - loss: 4.3955 - mean_squared_error: 40.6560 - val_loss: 21.5106 - val_mean_squared_error: 626.2410\n",
      "Epoch 73/200\n",
      "134/134 - 1s - loss: 4.3019 - mean_squared_error: 39.8967 - val_loss: 24.5581 - val_mean_squared_error: 830.5455\n",
      "Epoch 74/200\n",
      "134/134 - 1s - loss: 4.3179 - mean_squared_error: 39.4657 - val_loss: 20.6848 - val_mean_squared_error: 556.4007\n",
      "Epoch 75/200\n",
      "134/134 - 1s - loss: 4.2665 - mean_squared_error: 39.5306 - val_loss: 19.9464 - val_mean_squared_error: 533.1949\n",
      "Epoch 76/200\n",
      "134/134 - 1s - loss: 4.2368 - mean_squared_error: 38.0339 - val_loss: 20.5276 - val_mean_squared_error: 558.8864\n",
      "Epoch 77/200\n",
      "134/134 - 1s - loss: 4.2661 - mean_squared_error: 38.7290 - val_loss: 44.5561 - val_mean_squared_error: 2376.8242\n",
      "Epoch 78/200\n",
      "134/134 - 1s - loss: 4.3203 - mean_squared_error: 40.3649 - val_loss: 19.8151 - val_mean_squared_error: 528.3312\n",
      "Epoch 79/200\n",
      "134/134 - 1s - loss: 4.1163 - mean_squared_error: 37.1220 - val_loss: 20.9385 - val_mean_squared_error: 581.7253\n",
      "Epoch 80/200\n",
      "134/134 - 1s - loss: 4.1410 - mean_squared_error: 36.6433 - val_loss: 22.5813 - val_mean_squared_error: 689.2748\n",
      "Epoch 81/200\n",
      "134/134 - 1s - loss: 4.0344 - mean_squared_error: 35.5058 - val_loss: 19.8514 - val_mean_squared_error: 520.9000\n",
      "Epoch 82/200\n",
      "134/134 - 1s - loss: 4.0993 - mean_squared_error: 36.8475 - val_loss: 27.1545 - val_mean_squared_error: 1018.0546\n",
      "Epoch 83/200\n",
      "134/134 - 1s - loss: 4.1310 - mean_squared_error: 36.4920 - val_loss: 24.3344 - val_mean_squared_error: 811.5160\n",
      "Epoch 84/200\n",
      "134/134 - 1s - loss: 4.1944 - mean_squared_error: 37.8744 - val_loss: 22.2377 - val_mean_squared_error: 668.8027\n",
      "Epoch 85/200\n",
      "134/134 - 2s - loss: 3.9724 - mean_squared_error: 35.1679 - val_loss: 20.8072 - val_mean_squared_error: 582.0991\n",
      "Epoch 86/200\n",
      "134/134 - 1s - loss: 4.0096 - mean_squared_error: 35.0574 - val_loss: 25.7430 - val_mean_squared_error: 914.2001\n",
      "Epoch 87/200\n",
      "134/134 - 1s - loss: 4.1017 - mean_squared_error: 36.9610 - val_loss: 20.0582 - val_mean_squared_error: 536.4988\n",
      "Epoch 88/200\n",
      "134/134 - 2s - loss: 3.9913 - mean_squared_error: 35.1161 - val_loss: 42.9714 - val_mean_squared_error: 2196.5586\n",
      "Epoch 89/200\n",
      "134/134 - 1s - loss: 4.1627 - mean_squared_error: 38.1848 - val_loss: 22.1778 - val_mean_squared_error: 667.4765\n",
      "Epoch 90/200\n",
      "134/134 - 1s - loss: 3.9931 - mean_squared_error: 34.1644 - val_loss: 24.5497 - val_mean_squared_error: 823.3130\n",
      "Epoch 91/200\n",
      "134/134 - 1s - loss: 3.9404 - mean_squared_error: 33.3507 - val_loss: 23.8906 - val_mean_squared_error: 779.9173\n",
      "Epoch 92/200\n",
      "134/134 - 1s - loss: 4.0018 - mean_squared_error: 34.5606 - val_loss: 22.6972 - val_mean_squared_error: 698.5468\n",
      "Epoch 93/200\n",
      "134/134 - 1s - loss: 3.9109 - mean_squared_error: 34.0032 - val_loss: 19.4307 - val_mean_squared_error: 505.0768\n",
      "Epoch 94/200\n",
      "134/134 - 1s - loss: 4.1681 - mean_squared_error: 39.0936 - val_loss: 24.6711 - val_mean_squared_error: 827.5807\n",
      "Epoch 95/200\n",
      "134/134 - 1s - loss: 3.8390 - mean_squared_error: 32.6439 - val_loss: 22.8378 - val_mean_squared_error: 706.0513\n",
      "Epoch 96/200\n",
      "134/134 - 1s - loss: 3.9776 - mean_squared_error: 34.8129 - val_loss: 19.0523 - val_mean_squared_error: 481.8171\n",
      "Epoch 97/200\n",
      "134/134 - 1s - loss: 3.8632 - mean_squared_error: 32.5062 - val_loss: 22.2245 - val_mean_squared_error: 667.3793\n",
      "Epoch 98/200\n",
      "134/134 - 1s - loss: 3.8343 - mean_squared_error: 32.3706 - val_loss: 23.2920 - val_mean_squared_error: 736.1923\n",
      "Epoch 99/200\n",
      "134/134 - 1s - loss: 3.8837 - mean_squared_error: 33.4076 - val_loss: 22.1143 - val_mean_squared_error: 661.0002\n",
      "Epoch 100/200\n",
      "134/134 - 1s - loss: 3.9550 - mean_squared_error: 34.3795 - val_loss: 22.2333 - val_mean_squared_error: 664.9659\n",
      "Epoch 101/200\n",
      "134/134 - 1s - loss: 3.8951 - mean_squared_error: 33.6880 - val_loss: 38.6269 - val_mean_squared_error: 1845.2439\n",
      "Epoch 102/200\n",
      "134/134 - 1s - loss: 3.9233 - mean_squared_error: 34.5003 - val_loss: 32.1188 - val_mean_squared_error: 1400.0298\n",
      "Epoch 103/200\n",
      "134/134 - 2s - loss: 3.9565 - mean_squared_error: 34.2136 - val_loss: 21.5642 - val_mean_squared_error: 627.8926\n",
      "Epoch 104/200\n",
      "134/134 - 1s - loss: 3.7034 - mean_squared_error: 30.9212 - val_loss: 35.6868 - val_mean_squared_error: 1660.9860\n",
      "Epoch 105/200\n",
      "134/134 - 1s - loss: 3.9905 - mean_squared_error: 36.1745 - val_loss: 22.5218 - val_mean_squared_error: 685.4097\n",
      "Epoch 106/200\n",
      "134/134 - 1s - loss: 3.7935 - mean_squared_error: 32.1996 - val_loss: 23.7961 - val_mean_squared_error: 772.4804\n",
      "Epoch 107/200\n",
      "134/134 - 1s - loss: 3.7638 - mean_squared_error: 31.2430 - val_loss: 25.8201 - val_mean_squared_error: 919.5637\n",
      "Epoch 108/200\n",
      "134/134 - 1s - loss: 3.9003 - mean_squared_error: 33.1788 - val_loss: 21.6322 - val_mean_squared_error: 632.1641\n",
      "Epoch 109/200\n",
      "134/134 - 1s - loss: 3.7306 - mean_squared_error: 30.0124 - val_loss: 27.1385 - val_mean_squared_error: 1018.2622\n",
      "Epoch 110/200\n",
      "134/134 - 1s - loss: 3.6841 - mean_squared_error: 31.1678 - val_loss: 18.7885 - val_mean_squared_error: 475.5974\n",
      "Epoch 111/200\n",
      "134/134 - 1s - loss: 3.8904 - mean_squared_error: 34.5808 - val_loss: 27.0469 - val_mean_squared_error: 1008.0969\n",
      "Epoch 112/200\n",
      "134/134 - 1s - loss: 3.7522 - mean_squared_error: 31.2805 - val_loss: 21.2671 - val_mean_squared_error: 600.4825\n",
      "Epoch 113/200\n",
      "134/134 - 1s - loss: 3.7577 - mean_squared_error: 32.6584 - val_loss: 24.0699 - val_mean_squared_error: 789.7682\n",
      "Epoch 114/200\n",
      "134/134 - 1s - loss: 3.6557 - mean_squared_error: 29.6545 - val_loss: 23.4832 - val_mean_squared_error: 749.6741\n",
      "Epoch 115/200\n",
      "134/134 - 1s - loss: 3.6922 - mean_squared_error: 30.0137 - val_loss: 20.2578 - val_mean_squared_error: 542.4865\n",
      "Epoch 116/200\n",
      "134/134 - 1s - loss: 3.8828 - mean_squared_error: 32.8347 - val_loss: 44.5146 - val_mean_squared_error: 2348.6924\n",
      "Epoch 117/200\n",
      "134/134 - 1s - loss: 3.9355 - mean_squared_error: 36.7261 - val_loss: 23.2639 - val_mean_squared_error: 736.5670\n",
      "Epoch 118/200\n",
      "134/134 - 1s - loss: 3.5931 - mean_squared_error: 29.3159 - val_loss: 19.0959 - val_mean_squared_error: 494.2323\n",
      "Epoch 119/200\n",
      "134/134 - 1s - loss: 3.8740 - mean_squared_error: 35.8569 - val_loss: 37.1637 - val_mean_squared_error: 1726.5388\n",
      "Epoch 120/200\n",
      "134/134 - 1s - loss: 3.6827 - mean_squared_error: 31.1705 - val_loss: 22.2958 - val_mean_squared_error: 669.3754\n",
      "Epoch 121/200\n",
      "134/134 - 1s - loss: 3.6516 - mean_squared_error: 29.9305 - val_loss: 23.8920 - val_mean_squared_error: 777.7010\n",
      "Epoch 122/200\n",
      "134/134 - 1s - loss: 3.7269 - mean_squared_error: 31.0570 - val_loss: 49.6516 - val_mean_squared_error: 2846.4934\n",
      "Epoch 123/200\n",
      "134/134 - 1s - loss: 3.9338 - mean_squared_error: 37.0582 - val_loss: 24.0101 - val_mean_squared_error: 784.0914\n",
      "Epoch 124/200\n",
      "134/134 - 1s - loss: 3.7538 - mean_squared_error: 31.6813 - val_loss: 26.2559 - val_mean_squared_error: 949.4326\n",
      "Epoch 125/200\n",
      "134/134 - 1s - loss: 3.6581 - mean_squared_error: 29.8012 - val_loss: 20.5085 - val_mean_squared_error: 565.1043\n",
      "Epoch 126/200\n",
      "134/134 - 1s - loss: 3.5786 - mean_squared_error: 28.8878 - val_loss: 18.8604 - val_mean_squared_error: 474.2367\n",
      "Epoch 127/200\n",
      "134/134 - 1s - loss: 3.6669 - mean_squared_error: 30.3974 - val_loss: 24.1366 - val_mean_squared_error: 794.3639\n",
      "Epoch 128/200\n",
      "134/134 - 1s - loss: 3.5844 - mean_squared_error: 29.1472 - val_loss: 40.7297 - val_mean_squared_error: 2050.2471\n",
      "Epoch 129/200\n",
      "134/134 - 1s - loss: 3.9401 - mean_squared_error: 36.5932 - val_loss: 22.9818 - val_mean_squared_error: 719.2950\n"
     ]
    },
    {
     "name": "stdout",
     "output_type": "stream",
     "text": [
      "Epoch 130/200\n",
      "134/134 - 1s - loss: 3.5575 - mean_squared_error: 28.1648 - val_loss: 21.6528 - val_mean_squared_error: 636.6967\n",
      "Epoch 131/200\n",
      "134/134 - 1s - loss: 3.6403 - mean_squared_error: 30.0392 - val_loss: 24.4740 - val_mean_squared_error: 819.3557\n",
      "Epoch 132/200\n",
      "134/134 - 1s - loss: 3.7019 - mean_squared_error: 30.9206 - val_loss: 18.6655 - val_mean_squared_error: 465.0424\n",
      "Epoch 133/200\n",
      "134/134 - 1s - loss: 3.6754 - mean_squared_error: 30.8618 - val_loss: 23.7701 - val_mean_squared_error: 769.7577\n",
      "Epoch 134/200\n",
      "134/134 - 1s - loss: 3.6136 - mean_squared_error: 29.8980 - val_loss: 24.4480 - val_mean_squared_error: 816.1096\n",
      "Epoch 135/200\n",
      "134/134 - 1s - loss: 3.5582 - mean_squared_error: 28.2666 - val_loss: 19.4264 - val_mean_squared_error: 502.1174\n",
      "Epoch 136/200\n",
      "134/134 - 1s - loss: 3.6223 - mean_squared_error: 30.0682 - val_loss: 29.8902 - val_mean_squared_error: 1227.3047\n",
      "Epoch 137/200\n",
      "134/134 - 1s - loss: 3.6620 - mean_squared_error: 30.2767 - val_loss: 18.3728 - val_mean_squared_error: 466.0624\n",
      "Epoch 138/200\n",
      "134/134 - 1s - loss: 3.8091 - mean_squared_error: 34.9042 - val_loss: 24.2358 - val_mean_squared_error: 804.1443\n",
      "Epoch 139/200\n",
      "134/134 - 1s - loss: 3.6487 - mean_squared_error: 30.6678 - val_loss: 20.9283 - val_mean_squared_error: 594.5630\n",
      "Epoch 140/200\n",
      "134/134 - 1s - loss: 3.4623 - mean_squared_error: 27.0883 - val_loss: 35.2457 - val_mean_squared_error: 1598.0004\n",
      "Epoch 141/200\n",
      "134/134 - 1s - loss: 3.6045 - mean_squared_error: 30.2078 - val_loss: 31.3167 - val_mean_squared_error: 1343.6221\n",
      "Epoch 142/200\n",
      "134/134 - 1s - loss: 3.6720 - mean_squared_error: 31.8366 - val_loss: 22.5302 - val_mean_squared_error: 689.9594\n",
      "Epoch 143/200\n",
      "134/134 - 1s - loss: 3.5906 - mean_squared_error: 28.6144 - val_loss: 37.0948 - val_mean_squared_error: 1730.2611\n",
      "Epoch 144/200\n",
      "134/134 - 1s - loss: 3.6960 - mean_squared_error: 32.1251 - val_loss: 21.8567 - val_mean_squared_error: 647.4122\n",
      "Epoch 145/200\n",
      "134/134 - 1s - loss: 3.5519 - mean_squared_error: 28.7675 - val_loss: 21.1788 - val_mean_squared_error: 593.8936\n",
      "Epoch 146/200\n",
      "134/134 - 1s - loss: 3.6298 - mean_squared_error: 30.5767 - val_loss: 23.1332 - val_mean_squared_error: 725.7906\n",
      "Epoch 147/200\n",
      "134/134 - 1s - loss: 3.5058 - mean_squared_error: 28.0730 - val_loss: 20.5965 - val_mean_squared_error: 567.9865\n",
      "Epoch 148/200\n",
      "134/134 - 1s - loss: 3.5019 - mean_squared_error: 27.7440 - val_loss: 22.6242 - val_mean_squared_error: 693.4410\n",
      "Epoch 149/200\n",
      "134/134 - 1s - loss: 3.5181 - mean_squared_error: 27.9136 - val_loss: 30.0605 - val_mean_squared_error: 1249.3218\n",
      "Epoch 150/200\n",
      "134/134 - 1s - loss: 3.5305 - mean_squared_error: 28.7304 - val_loss: 31.3817 - val_mean_squared_error: 1334.8688\n",
      "Epoch 151/200\n",
      "134/134 - 1s - loss: 3.5206 - mean_squared_error: 28.8103 - val_loss: 25.7505 - val_mean_squared_error: 907.7891\n",
      "Epoch 152/200\n",
      "134/134 - 1s - loss: 3.3692 - mean_squared_error: 25.3882 - val_loss: 35.1335 - val_mean_squared_error: 1587.4128\n",
      "Epoch 153/200\n",
      "134/134 - 1s - loss: 3.5554 - mean_squared_error: 28.0044 - val_loss: 23.4529 - val_mean_squared_error: 744.9296\n",
      "Epoch 154/200\n",
      "134/134 - 1s - loss: 3.5271 - mean_squared_error: 28.0307 - val_loss: 19.3265 - val_mean_squared_error: 494.0406\n",
      "Epoch 155/200\n",
      "134/134 - 1s - loss: 3.5109 - mean_squared_error: 28.8815 - val_loss: 19.8469 - val_mean_squared_error: 520.3466\n",
      "Epoch 156/200\n",
      "134/134 - 1s - loss: 3.6088 - mean_squared_error: 30.0591 - val_loss: 24.2681 - val_mean_squared_error: 800.7514\n",
      "Epoch 157/200\n",
      "134/134 - 1s - loss: 3.4633 - mean_squared_error: 27.4537 - val_loss: 20.8580 - val_mean_squared_error: 580.9535\n",
      "Epoch 158/200\n",
      "134/134 - 1s - loss: 3.5919 - mean_squared_error: 29.2484 - val_loss: 18.8780 - val_mean_squared_error: 485.1309\n",
      "Epoch 159/200\n",
      "134/134 - 1s - loss: 3.5363 - mean_squared_error: 29.1794 - val_loss: 22.9649 - val_mean_squared_error: 712.0584\n",
      "Epoch 160/200\n",
      "134/134 - 1s - loss: 3.4707 - mean_squared_error: 27.6827 - val_loss: 23.3963 - val_mean_squared_error: 739.2344\n",
      "Epoch 161/200\n",
      "134/134 - 1s - loss: 3.4460 - mean_squared_error: 26.9018 - val_loss: 18.2750 - val_mean_squared_error: 457.0888\n",
      "Epoch 162/200\n",
      "134/134 - 1s - loss: 3.7891 - mean_squared_error: 35.4260 - val_loss: 20.2536 - val_mean_squared_error: 539.5210\n",
      "Epoch 163/200\n",
      "134/134 - 1s - loss: 3.4587 - mean_squared_error: 27.1597 - val_loss: 24.2513 - val_mean_squared_error: 801.6146\n",
      "Epoch 164/200\n",
      "134/134 - 1s - loss: 3.4001 - mean_squared_error: 25.4701 - val_loss: 24.7504 - val_mean_squared_error: 836.6336\n",
      "Epoch 165/200\n",
      "134/134 - 1s - loss: 3.3782 - mean_squared_error: 26.2839 - val_loss: 24.5045 - val_mean_squared_error: 820.0822\n",
      "Epoch 166/200\n",
      "134/134 - 1s - loss: 3.5363 - mean_squared_error: 28.8528 - val_loss: 28.1758 - val_mean_squared_error: 1094.7328\n",
      "Epoch 167/200\n",
      "134/134 - 1s - loss: 3.6861 - mean_squared_error: 30.9332 - val_loss: 18.8559 - val_mean_squared_error: 476.2169\n",
      "Epoch 168/200\n",
      "134/134 - 1s - loss: 3.5637 - mean_squared_error: 29.7577 - val_loss: 23.7382 - val_mean_squared_error: 766.1297\n",
      "Epoch 169/200\n",
      "134/134 - 1s - loss: 3.4998 - mean_squared_error: 27.4549 - val_loss: 24.6207 - val_mean_squared_error: 822.7518\n",
      "Epoch 170/200\n",
      "134/134 - 1s - loss: 3.3614 - mean_squared_error: 26.3091 - val_loss: 28.8672 - val_mean_squared_error: 1152.9220\n",
      "Epoch 171/200\n",
      "134/134 - 1s - loss: 3.4881 - mean_squared_error: 28.4524 - val_loss: 39.6263 - val_mean_squared_error: 1931.7590\n",
      "Epoch 172/200\n",
      "134/134 - 1s - loss: 3.5682 - mean_squared_error: 29.6339 - val_loss: 25.0171 - val_mean_squared_error: 855.8383\n",
      "Epoch 173/200\n",
      "134/134 - 1s - loss: 3.4286 - mean_squared_error: 26.4043 - val_loss: 25.0887 - val_mean_squared_error: 859.8156\n",
      "Epoch 174/200\n",
      "134/134 - 1s - loss: 3.5331 - mean_squared_error: 28.5249 - val_loss: 22.9325 - val_mean_squared_error: 714.8460\n",
      "Epoch 175/200\n",
      "134/134 - 1s - loss: 3.4058 - mean_squared_error: 25.9197 - val_loss: 23.7116 - val_mean_squared_error: 764.7820\n",
      "Epoch 176/200\n",
      "134/134 - 1s - loss: 3.3881 - mean_squared_error: 26.5053 - val_loss: 27.1367 - val_mean_squared_error: 1019.5186\n",
      "Epoch 177/200\n",
      "134/134 - 1s - loss: 3.3925 - mean_squared_error: 26.0632 - val_loss: 26.9034 - val_mean_squared_error: 1000.9196\n",
      "Epoch 178/200\n",
      "134/134 - 1s - loss: 3.3920 - mean_squared_error: 27.0979 - val_loss: 24.9455 - val_mean_squared_error: 850.1003\n",
      "Epoch 179/200\n",
      "134/134 - 1s - loss: 3.4779 - mean_squared_error: 27.5981 - val_loss: 33.0165 - val_mean_squared_error: 1455.2495\n",
      "Epoch 180/200\n",
      "134/134 - 1s - loss: 3.4379 - mean_squared_error: 27.4392 - val_loss: 20.6935 - val_mean_squared_error: 563.7153\n",
      "Epoch 181/200\n",
      "134/134 - 1s - loss: 3.4581 - mean_squared_error: 27.2967 - val_loss: 25.2220 - val_mean_squared_error: 871.7230\n",
      "Epoch 182/200\n",
      "134/134 - 1s - loss: 3.4290 - mean_squared_error: 27.6978 - val_loss: 30.9525 - val_mean_squared_error: 1304.1427\n",
      "Epoch 183/200\n",
      "134/134 - 1s - loss: 3.4276 - mean_squared_error: 27.7750 - val_loss: 24.1422 - val_mean_squared_error: 794.9266\n",
      "Epoch 184/200\n",
      "134/134 - 1s - loss: 3.3127 - mean_squared_error: 25.7117 - val_loss: 21.2615 - val_mean_squared_error: 602.1429\n",
      "Epoch 185/200\n",
      "134/134 - 1s - loss: 3.4334 - mean_squared_error: 27.4149 - val_loss: 33.1437 - val_mean_squared_error: 1468.7139\n",
      "Epoch 186/200\n",
      "134/134 - 1s - loss: 3.5782 - mean_squared_error: 29.5778 - val_loss: 22.5137 - val_mean_squared_error: 688.1571\n",
      "Epoch 187/200\n",
      "134/134 - 1s - loss: 3.4206 - mean_squared_error: 26.8949 - val_loss: 17.8582 - val_mean_squared_error: 444.8163\n",
      "Epoch 188/200\n",
      "134/134 - 1s - loss: 3.5428 - mean_squared_error: 29.4287 - val_loss: 37.9581 - val_mean_squared_error: 1817.6825\n",
      "Epoch 189/200\n",
      "134/134 - 1s - loss: 3.4201 - mean_squared_error: 27.9421 - val_loss: 24.7257 - val_mean_squared_error: 833.2763\n",
      "Epoch 190/200\n",
      "134/134 - 1s - loss: 3.4067 - mean_squared_error: 26.6233 - val_loss: 25.3442 - val_mean_squared_error: 882.1651\n",
      "Epoch 191/200\n",
      "134/134 - 1s - loss: 3.3678 - mean_squared_error: 26.3160 - val_loss: 31.2615 - val_mean_squared_error: 1328.2517\n",
      "Epoch 192/200\n",
      "134/134 - 1s - loss: 3.5305 - mean_squared_error: 28.9898 - val_loss: 23.4067 - val_mean_squared_error: 748.1909\n",
      "Epoch 193/200\n",
      "134/134 - 1s - loss: 3.3993 - mean_squared_error: 26.5238 - val_loss: 23.1901 - val_mean_squared_error: 728.4508\n",
      "Epoch 194/200\n",
      "134/134 - 1s - loss: 3.3895 - mean_squared_error: 27.4896 - val_loss: 18.4568 - val_mean_squared_error: 461.6081\n"
     ]
    },
    {
     "name": "stdout",
     "output_type": "stream",
     "text": [
      "Epoch 195/200\n",
      "134/134 - 1s - loss: 3.5039 - mean_squared_error: 29.5398 - val_loss: 20.7692 - val_mean_squared_error: 573.5241\n",
      "Epoch 196/200\n",
      "134/134 - 1s - loss: 3.5274 - mean_squared_error: 28.7584 - val_loss: 21.3715 - val_mean_squared_error: 618.3721\n",
      "Epoch 197/200\n",
      "134/134 - 1s - loss: 3.2485 - mean_squared_error: 25.1689 - val_loss: 24.6216 - val_mean_squared_error: 831.1704\n",
      "Epoch 198/200\n",
      "134/134 - 1s - loss: 3.4436 - mean_squared_error: 27.7403 - val_loss: 24.0770 - val_mean_squared_error: 789.4611\n",
      "Epoch 199/200\n",
      "134/134 - 1s - loss: 3.3839 - mean_squared_error: 26.3858 - val_loss: 48.5617 - val_mean_squared_error: 2749.0901\n",
      "Epoch 200/200\n",
      "134/134 - 1s - loss: 3.6991 - mean_squared_error: 34.5047 - val_loss: 38.4640 - val_mean_squared_error: 1858.0732\n"
     ]
    }
   ],
   "source": [
    "history = model.fit(seq_array, label_array, epochs=200, batch_size=32, validation_split=0.1, verbose=2)"
   ]
  },
  {
   "cell_type": "code",
   "execution_count": 29,
   "metadata": {},
   "outputs": [
    {
     "data": {
      "image/png": "[encoded data removed]",
      "text/plain": [
       "<Figure size 432x288 with 1 Axes>"
      ]
     },
     "metadata": {
      "needs_background": "light"
     },
     "output_type": "display_data"
    }
   ],
   "source": [
    "\n",
    "plt.plot(history.history['loss'], label='train')\n",
    "plt.plot(history.history['val_loss'], label='valid')\n",
    "plt.legend()\n",
    "plt.show()"
   ]
  },
  {
   "cell_type": "code",
   "execution_count": 30,
   "metadata": {},
   "outputs": [],
   "source": [
    "pd.DataFrame([history.history['loss'],history.history['val_loss']]).T\\\n",
    ".rename({0:'train',1:'test'},axis=1)\\\n",
    ".to_csv('history.csv')"
   ]
  },
  {
   "cell_type": "code",
   "execution_count": 31,
   "metadata": {},
   "outputs": [
    {
     "data": {
      "image/png": "[encoded data removed]",
      "text/plain": [
       "<Figure size 432x288 with 1 Axes>"
      ]
     },
     "metadata": {
      "needs_background": "light"
     },
     "output_type": "display_data"
    }
   ],
   "source": [
    "prediction = model.predict(seq_array_test)\n",
    "plt.plot(prediction, label='prediction')\n",
    "plt.plot(label_array_test, label='truth')\n",
    "plt.legend()\n",
    "plt.show()"
   ]
  },
  {
   "cell_type": "code",
   "execution_count": 32,
   "metadata": {},
   "outputs": [],
   "source": [
    "pd.DataFrame([np.squeeze(prediction),label_array_test]).T\\\n",
    ".rename({0:'prediction',1:'truth'},axis=1)\\\n",
    ".set_index(target.index[target.index> target.index[int(len(target) * 0.9) + sequence_length]])\\\n",
    ".to_csv('LSTM_prediction.csv')"
   ]
  },
  {
   "cell_type": "code",
   "execution_count": 33,
   "metadata": {},
   "outputs": [
    {
     "data": {
      "text/plain": [
       "(0.15611925802638693, 23.594412112012265)"
      ]
     },
     "execution_count": 33,
     "metadata": {},
     "output_type": "execute_result"
    }
   ],
   "source": [
    "r2_score(label_array_test,prediction),np.sqrt(mean_squared_error(label_array_test,prediction))"
   ]
  },
  {
   "cell_type": "code",
   "execution_count": 34,
   "metadata": {},
   "outputs": [
    {
     "name": "stdout",
     "output_type": "stream",
     "text": [
      "556.696282911471\n"
     ]
    }
   ],
   "source": [
    "print(mean_squared_error (label_array_test,prediction))"
   ]
  }
 ],
 "metadata": {
  "kernelspec": {
   "display_name": "Python 3",
   "language": "python",
   "name": "python3"
  },
  "language_info": {
   "codemirror_mode": {
    "name": "ipython",
    "version": 3
   },
   "file_extension": ".py",
   "mimetype": "text/x-python",
   "name": "python",
   "nbconvert_exporter": "python",
   "pygments_lexer": "ipython3",
   "version": "3.8.5"
  }
 },
 "nbformat": 4,
 "nbformat_minor": 2
}
