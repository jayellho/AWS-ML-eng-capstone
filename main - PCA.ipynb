{
 "cells": [
  {
   "cell_type": "markdown",
   "metadata": {},
   "source": [
    "# Import relevant libraries"
   ]
  },
  {
   "cell_type": "markdown",
   "metadata": {},
   "source": [
    "Imports the relevant python libraries needed."
   ]
  },
  {
   "cell_type": "code",
   "execution_count": 1,
   "metadata": {},
   "outputs": [],
   "source": [
    "import yahoo_fin\n",
    "import yahoo_fin.stock_info as si\n",
    "from yahoo_fin.stock_info import get_data\n",
    "import numpy as np\n",
    "import pandas as pd\n",
    "import datetime\n",
    "from datetime import datetime\n",
    "import matplotlib.pyplot as plt\n",
    "from sklearn.decomposition import PCA\n",
    "from sklearn.preprocessing import StandardScaler\n"
   ]
  },
  {
   "cell_type": "markdown",
   "metadata": {},
   "source": [
    "# Import and preprocess data"
   ]
  },
  {
   "cell_type": "markdown",
   "metadata": {},
   "source": [
    "Data is scraped from Yahoo!Finance for all S&P 500 companies using the yahoo_fin Python library."
   ]
  },
  {
   "cell_type": "markdown",
   "metadata": {},
   "source": [
    "The below extracts the list of S&P500 companies' tickers. 2 of the tickers' values were replaced so that they can be searched using the yahoo_fin library."
   ]
  },
  {
   "cell_type": "code",
   "execution_count": 2,
   "metadata": {},
   "outputs": [],
   "source": [
    "sp500_list = pd.read_html('https://en.wikipedia.org/wiki/List_of_S%26P_500_companies', attrs={'class': 'wikitable sortable'},header=0)[0]['Symbol']\n",
    "sp500_list.replace(to_replace='BRK.B',value='BRK-B',inplace=True)\n",
    "sp500_list.replace(to_replace='BF.B',value='BF-B',inplace=True)"
   ]
  },
  {
   "cell_type": "markdown",
   "metadata": {},
   "source": [
    "The below extracts the information from Yahoo!Finance according to the start date and end date specified. Information for each ticker is extracted for the 'daily' time interval."
   ]
  },
  {
   "cell_type": "code",
   "execution_count": 3,
   "metadata": {},
   "outputs": [
    {
     "name": "stdout",
     "output_type": "stream",
     "text": [
      "Please enter START date for the date range you want the model to be trained on. Format of input: DD-MM-YY.01-01-00\n",
      "Start date: 01-01-00\n",
      "Please enter END date for the date range you want the model to be trained on. Format of input: DD-MM-YY.30-11-20\n",
      "End date: 30-11-20\n",
      "No. of stocks with data successfully generated: 506.\n",
      "No. of stocks with KeyError: 0.\n",
      "No. of stocks with AssertionError: 0.\n"
     ]
    }
   ],
   "source": [
    "#Variables created.\n",
    "historical_data = {}\n",
    "counter = 0\n",
    "key_err = 0\n",
    "assert_err = 0\n",
    "tickers_key_err = []\n",
    "tickers_assert_err= []\n",
    "\n",
    "#User input - start date and end date\n",
    "while True:\n",
    "    try:\n",
    "        start_date_input = input(\"Please enter START date for the date range you want the model to be trained on. Format of input: DD-MM-YY.\")\n",
    "        start_date = datetime.strptime(start_date_input, '%d-%m-%y')\n",
    "        print(\"Start date: \" + str(start_date_input))\n",
    "        break\n",
    "    except ValueError:\n",
    "        print(\"                             \", end='\\r')\n",
    "        print(\"Please ensure input is in the format DD-MM-YY.\", end='\\r')\n",
    "\n",
    "while True:\n",
    "    try:\n",
    "        end_date_input = input(\"Please enter END date for the date range you want the model to be trained on. Format of input: DD-MM-YY.\")\n",
    "        end_date = datetime.strptime(end_date_input, '%d-%m-%y')\n",
    "        print(\"End date: \" + str(end_date_input))\n",
    "        break\n",
    "    except ValueError:\n",
    "        print(\"                             \", end='\\r')\n",
    "        print(\"Please ensure input is in the format DD-MM-YY.\", end='\\r')\n",
    "\n",
    "\n",
    "for ticker in sp500_list:\n",
    "    counter += 1\n",
    "    print(\"                             \", end='\\r')\n",
    "    print(str(ticker) + \" \" + str(counter), end='\\r')\n",
    "    try:\n",
    "        historical_data[ticker] = get_data(ticker, start_date = start_date_input, end_date = end_date_input)\n",
    "        historical_data[ticker] = historical_data[ticker].drop(labels='ticker',axis=1)\n",
    "        historical_data[ticker].columns = str(ticker) + \"_\" + historical_data[ticker].columns\n",
    "        \n",
    "    except KeyError:\n",
    "        historical_data[ticker] = None\n",
    "        key_err += 1\n",
    "        tickers_key_err.append(ticker)\n",
    "    except AssertionError:\n",
    "        historical_data[ticker] = None\n",
    "        assert_err += 1\n",
    "        tickers_assert_err.append(ticker)\n",
    "        \n",
    "print(\"No. of stocks with data successfully generated: \" + str(counter-key_err-assert_err) + \".\")\n",
    "print(\"No. of stocks with KeyError: \" + str(key_err) + \".\")\n",
    "if key_err>0:\n",
    "    print(\"Tickers with KeyError (to investigate if needed): \" + str(tickers_key_err))\n",
    "print(\"No. of stocks with AssertionError: \" + str(assert_err) + \".\")\n",
    "if assert_err>0:\n",
    "    print(\"Tickers with AssertionError (to investigate if needed): \" + str(tickers_assert_err))"
   ]
  },
  {
   "cell_type": "markdown",
   "metadata": {},
   "source": [
    "Merge the dictionary of dataframes column-wise on the index (which is the date). Drop all columns with NaN values."
   ]
  },
  {
   "cell_type": "code",
   "execution_count": 4,
   "metadata": {},
   "outputs": [
    {
     "data": {
      "text/plain": [
       "(5261, 2262)"
      ]
     },
     "execution_count": 4,
     "metadata": {},
     "output_type": "execute_result"
    }
   ],
   "source": [
    "merged_data = pd.concat(historical_data, axis=1)\n",
    "merged_data = merged_data.dropna(axis='columns')\n",
    "merged_tickers = list(set(merged_data.columns.get_level_values(0))) #Store all remaining tickers' names for further use later.\n",
    "merged_data.columns = merged_data.columns.droplevel(0)\n",
    "\n",
    "merged_data.head()\n",
    "merged_data.shape\n"
   ]
  },
  {
   "cell_type": "markdown",
   "metadata": {},
   "source": [
    "# Picking of target stock"
   ]
  },
  {
   "cell_type": "markdown",
   "metadata": {},
   "source": [
    "User to pick the target stock out of the remaining tickers in the pre-processed data for training and testing of the model."
   ]
  },
  {
   "cell_type": "code",
   "execution_count": 5,
   "metadata": {},
   "outputs": [
    {
     "name": "stdout",
     "output_type": "stream",
     "text": [
      "List of all tickers in data: \n",
      "['AMZN', 'VTRS', 'BBY', 'BIIB', 'ROP', 'APA', 'AME', 'MS', 'EVRG', 'HD', 'ABMD', 'CTXS', 'MNST', 'LNC', 'AJG', 'CTAS', 'KLAC', 'PWR', 'JNJ', 'HAS', 'JNPR', 'NVR', 'PGR', 'TGT', 'AES', 'CL', 'OXY', 'BWA', 'WDC', 'MCD', 'CCI', 'GPS', 'XEL', 'GS', 'SWK', 'LB', 'IPG', 'TDY', 'LUV', 'DD', 'IP', 'ADBE', 'UHS', 'CB', 'POOL', 'TTWO', 'MRO', 'NTRS', 'COG', 'BLL', 'ARE', 'PG', 'DE', 'SRE', 'DISH', 'FCX', 'CSCO', 'KR', 'NUE', 'UNP', 'TROW', 'JKHY', 'ADM', 'ROST', 'ATO', 'ODFL', 'HAL', 'DXC', 'BKNG', 'SBAC', 'INTC', 'SYY', 'APH', 'XOM', 'AAPL', 'TFC', 'MCO', 'IFF', 'PPL', 'ITW', 'AXP', 'EXC', 'CI', 'GLW', 'COF', 'ROK', 'BK', 'JCI', 'EL', 'NSC', 'CERN', 'FLS', 'WM', 'IEX', 'FMC', 'STE', 'WMB', 'LRCX', 'DHR', 'NOV', 'SBUX', 'SNA', 'FITB', 'MSI', 'INTU', 'BDX', 'MU', 'F', 'BMY', 'WMT', 'WELL', 'CLX', 'GE', 'URI', 'EMR', 'LEG', 'RF', 'NOC', 'KSU', 'NVDA', 'C', 'SO', 'J', 'COP', 'WRB', 'ROL', 'PAYX', 'PLD', 'BAC', 'HSY', 'WHR', 'FISV', 'NEM', 'AVY', 'ALL', 'JPM', 'LLY', 'XRAY', 'ABC', 'GL', 'WFC', 'DVA', 'IVZ', 'WY', 'HFC', 'TER', 'MO', 'LMT', 'ADI', 'TIF', 'CAH', 'SPGI', 'MTB', 'AZO', 'EQR', 'MAS', 'YUM', 'EBAY', 'DIS', 'SWKS', 'CMCSA', 'PKI', 'PNR', 'WST', 'LEN', 'JBHT', 'PSA', 'MRK', 'SCHW', 'KMB', 'HST', 'BLK', 'VRSN', 'MLM', 'REG', 'PVH', 'MAR', 'CNP', 'AMD', 'MSFT', 'SHW', 'BIO', 'VFC', 'VAR', 'FE', 'QCOM', 'HES', 'ANSS', 'NI', 'VTR', 'EA', 'AMAT', 'SJM', 'HSIC', 'LHX', 'IBM', 'TJX', 'RJF', 'TRV', 'VNO', 'TT', 'DRI', 'BAX', 'KEY', 'ATVI', 'WAT', 'T', 'BXP', 'MHK', 'MCHP', 'ZBRA', 'MXIM', 'PBCT', 'PNC', 'VLO', 'BRK-B', 'UPS', 'CTSH', 'CSX', 'CDNS', 'PH', 'REGN', 'AKAM', 'NWL', 'XRX', 'PEAK', 'SIVB', 'SEE', 'GD', 'VZ', 'ORLY', 'MMM', 'ALK', 'MAA', 'BKR', 'ETN', 'FLIR', 'TSN', 'CMA', 'MGM', 'VMC', 'LNT', 'XLNX', 'ALXN', 'DHI', 'ESS', 'FDX', 'ES', 'ADSK', 'SLB', 'PRGO', 'WEC', 'KMX', 'RL', 'KO', 'HOLX', 'ABT', 'WAB', 'HON', 'BEN', 'MCK', 'ADP', 'AMGN', 'O', 'HUM', 'K', 'AVB', 'AMT', 'CAT', 'DOV', 'DTE', 'ALB', 'RTX', 'ORCL', 'AIG', 'DGX', 'STT', 'DRE', 'MDT', 'MTD', 'HIG', 'TSCO', 'HBAN', 'PHM', 'GWW', 'WBA', 'DLTR', 'D', 'LH', 'EIX', 'VRTX', 'PCAR', 'TXT', 'ECL', 'PXD', 'CHRW', 'AON', 'INCY', 'TYL', 'CPB', 'COO', 'LIN', 'SYK', 'DVN', 'AFL', 'DUK', 'RSG', 'AEE', 'GIS', 'SPG', 'FRT', 'PEG', 'EOG', 'ED', 'BSX', 'SNPS', 'HPQ', 'CVS', 'RCL', 'NTAP', 'CMI', 'CMS', 'APD', 'EFX', 'OMC', 'USB', 'PEP', 'PPG', 'RHI', 'GPC', 'TAP', 'BF-B', 'AEP', 'LOW', 'CVX', 'PFE', 'COST', 'CAG', 'ETR', 'NEE', 'NKE', 'EXPD', 'MMC', 'FFIV', 'EMN', 'AOS', 'STZ', 'L', 'AIV', 'IRM', 'UDR', 'OKE', 'BA', 'RE', 'CPRT', 'A', 'TFX', 'UNM', 'RMD', 'MOS', 'FAST', 'GILD', 'IDXX', 'IT', 'CINF', 'TMO', 'NLOK', 'MKC', 'CHD', 'PNW', 'CCL', 'SLG', 'UNH', 'KIM', 'ZION', 'HRL', 'TXN']\n",
      "Indicate a ticker. Pick one from the print statement below.PVH\n"
     ]
    }
   ],
   "source": [
    "print(\"List of all tickers in data: \\n\" + str(merged_tickers))\n",
    "chosen_ticker = input(\"Indicate a ticker. Pick one from the print statement below.\")\n",
    "chosen_adjclose = chosen_ticker + \"_adjclose\""
   ]
  },
  {
   "cell_type": "markdown",
   "metadata": {},
   "source": [
    "# Exploratory Data Analysis"
   ]
  },
  {
   "cell_type": "markdown",
   "metadata": {},
   "source": [
    "Plot of price over time period for chosen stock's adjusted close and open prices."
   ]
  },
  {
   "cell_type": "code",
   "execution_count": 6,
   "metadata": {},
   "outputs": [
    {
     "data": {
      "text/plain": [
       "<matplotlib.legend.Legend at 0x2c82bc1ed90>"
      ]
     },
     "execution_count": 6,
     "metadata": {},
     "output_type": "execute_result"
    },
    {
     "data": {
      "image/png": "[encoded data removed]",
      "text/plain": [
       "<Figure size 432x288 with 1 Axes>"
      ]
     },
     "metadata": {
      "needs_background": "light"
     },
     "output_type": "display_data"
    }
   ],
   "source": [
    "\n",
    "%matplotlib inline\n",
    "merged_data[chosen_adjclose].plot()\n",
    "merged_data[chosen_ticker+\"_open\"].plot()\n",
    "plt.legend()"
   ]
  },
  {
   "cell_type": "markdown",
   "metadata": {},
   "source": [
    "Summary statistics over entire time period for chosen stock using pandas' describe function."
   ]
  },
  {
   "cell_type": "code",
   "execution_count": 7,
   "metadata": {},
   "outputs": [
    {
     "data": {
      "text/plain": [
       "count    5261.000000\n",
       "mean       62.258707\n",
       "std        42.630146\n",
       "min         5.307689\n",
       "25%        22.210590\n",
       "50%        53.264847\n",
       "75%       102.160294\n",
       "max       167.603027\n",
       "Name: PVH_adjclose, dtype: float64"
      ]
     },
     "execution_count": 7,
     "metadata": {},
     "output_type": "execute_result"
    }
   ],
   "source": [
    "merged_data[chosen_adjclose].describe()"
   ]
  },
  {
   "cell_type": "markdown",
   "metadata": {},
   "source": [
    "# Creating Target and Feature Variables"
   ]
  },
  {
   "cell_type": "code",
   "execution_count": 8,
   "metadata": {},
   "outputs": [
    {
     "name": "stdout",
     "output_type": "stream",
     "text": [
      "How many days would you like to lag the features by?1\n",
      "              MMM_open    MMM_high     MMM_low   MMM_close  MMM_adjclose  \\\n",
      "2000-01-03   48.031250   48.250000   47.031250   47.187500     27.815882   \n",
      "2000-01-04   46.437500   47.406250   45.312500   45.312500     26.710594   \n",
      "2000-01-05   45.562500   48.125000   45.562500   46.625000     27.484299   \n",
      "2000-01-06   47.156250   51.250000   47.156250   50.375000     29.694832   \n",
      "2000-01-07   50.562500   51.906250   49.968750   51.375000     30.284302   \n",
      "...                ...         ...         ...         ...           ...   \n",
      "2020-11-20  171.500000  172.949997  170.960007  172.889999    172.889999   \n",
      "2020-11-23  173.759995  174.860001  173.449997  174.139999    174.139999   \n",
      "2020-11-24  175.000000  177.220001  174.899994  177.080002    177.080002   \n",
      "2020-11-25  176.839996  177.339996  175.449997  177.119995    177.119995   \n",
      "2020-11-27  177.820007  179.630005  175.570007  176.889999    176.889999   \n",
      "\n",
      "            MMM_volume    ABT_open    ABT_high     ABT_low   ABT_close  ...  \\\n",
      "2000-01-03     2173400   15.823756   16.160431   15.599305   15.711531  ...   \n",
      "2000-01-04     2713800   15.459024   15.599305   15.150405   15.262630  ...   \n",
      "2000-01-05     3699400   15.066236   15.402911   15.066236   15.234573  ...   \n",
      "2000-01-06     5975800   15.262630   15.823756   15.178461   15.767643  ...   \n",
      "2000-01-07     4101200   15.487081   16.272657   15.487081   15.935981  ...   \n",
      "...                ...         ...         ...         ...         ...  ...   \n",
      "2020-11-20     2656900  110.739998  111.760002  110.070000  110.889999  ...   \n",
      "2020-11-23     2064300  111.430000  111.519997  108.860001  109.269997  ...   \n",
      "2020-11-24     3086000  109.309998  109.589996  107.250000  107.610001  ...   \n",
      "2020-11-25     2052200  107.050003  108.400002  105.629997  106.410004  ...   \n",
      "2020-11-27     1267100  106.669998  107.750000  105.870003  107.620003  ...   \n",
      "\n",
      "              ZBRA_low  ZBRA_close  ZBRA_adjclose  ZBRA_volume  ZION_open  \\\n",
      "2000-01-03   24.777779   25.027779      25.027779      1055700  59.031250   \n",
      "2000-01-04   23.000000   24.666666      24.666666       522400  54.625000   \n",
      "2000-01-05   23.555555   25.138889      25.138889       612100  52.750000   \n",
      "2000-01-06   23.722221   23.777779      23.777779       263800  52.750000   \n",
      "2000-01-07   23.111111   23.513889      23.513889       333900  53.750000   \n",
      "...                ...         ...            ...          ...        ...   \n",
      "2020-11-20  354.160004  354.989990     354.989990       694100  38.009998   \n",
      "2020-11-23  358.549988  362.690002     362.690002       590100  38.950001   \n",
      "2020-11-24  362.359985  373.470001     373.470001       566700  40.439999   \n",
      "2020-11-25  369.290009  372.730011     372.730011       345000  40.880001   \n",
      "2020-11-27  375.119995  377.000000     377.000000       206000  40.439999   \n",
      "\n",
      "            ZION_high   ZION_low  ZION_close  ZION_adjclose  ZION_volume  \n",
      "2000-01-03  59.125000  53.437500   55.500000      39.996193      1199600  \n",
      "2000-01-04  55.000000  52.500000   52.812500      38.059437       816100  \n",
      "2000-01-05  53.250000  51.062500   52.750000      38.014412      1124700  \n",
      "2000-01-06  54.937500  52.375000   53.500000      38.554890      1112100  \n",
      "2000-01-07  54.250000  53.312500   53.625000      38.644981       782000  \n",
      "...               ...        ...         ...            ...          ...  \n",
      "2020-11-20  38.540001  37.669998   38.279999      38.279999      2011400  \n",
      "2020-11-23  39.639999  38.720001   39.560001      39.560001      1872500  \n",
      "2020-11-24  42.240002  40.060001   41.860001      41.860001      2578600  \n",
      "2020-11-25  41.049999  40.310001   40.950001      40.950001      2633900  \n",
      "2020-11-27  41.020000  39.299999   39.459999      39.459999      2027900  \n",
      "\n",
      "[5261 rows x 2262 columns]\n",
      "              MMM_open    MMM_high     MMM_low   MMM_close  MMM_adjclose  \\\n",
      "2000-01-04   48.031250   48.250000   47.031250   47.187500     27.815882   \n",
      "2000-01-05   46.437500   47.406250   45.312500   45.312500     26.710594   \n",
      "2000-01-06   45.562500   48.125000   45.562500   46.625000     27.484299   \n",
      "2000-01-07   47.156250   51.250000   47.156250   50.375000     29.694832   \n",
      "2000-01-10   50.562500   51.906250   49.968750   51.375000     30.284302   \n",
      "...                ...         ...         ...         ...           ...   \n",
      "2020-11-20  170.570007  171.880005  169.300003  171.610001    171.610001   \n",
      "2020-11-23  171.500000  172.949997  170.960007  172.889999    172.889999   \n",
      "2020-11-24  173.759995  174.860001  173.449997  174.139999    174.139999   \n",
      "2020-11-25  175.000000  177.220001  174.899994  177.080002    177.080002   \n",
      "2020-11-27  176.839996  177.339996  175.449997  177.119995    177.119995   \n",
      "\n",
      "            MMM_volume    ABT_open    ABT_high     ABT_low   ABT_close  ...  \\\n",
      "2000-01-04   2173400.0   15.823756   16.160431   15.599305   15.711531  ...   \n",
      "2000-01-05   2713800.0   15.459024   15.599305   15.150405   15.262630  ...   \n",
      "2000-01-06   3699400.0   15.066236   15.402911   15.066236   15.234573  ...   \n",
      "2000-01-07   5975800.0   15.262630   15.823756   15.178461   15.767643  ...   \n",
      "2000-01-10   4101200.0   15.487081   16.272657   15.487081   15.935981  ...   \n",
      "...                ...         ...         ...         ...         ...  ...   \n",
      "2020-11-20   2986000.0  110.000000  111.199997  109.260002  111.000000  ...   \n",
      "2020-11-23   2656900.0  110.739998  111.760002  110.070000  110.889999  ...   \n",
      "2020-11-24   2064300.0  111.430000  111.519997  108.860001  109.269997  ...   \n",
      "2020-11-25   3086000.0  109.309998  109.589996  107.250000  107.610001  ...   \n",
      "2020-11-27   2052200.0  107.050003  108.400002  105.629997  106.410004  ...   \n",
      "\n",
      "              ZBRA_low  ZBRA_close  ZBRA_adjclose  ZBRA_volume  ZION_open  \\\n",
      "2000-01-04   24.777779   25.027779      25.027779    1055700.0  59.031250   \n",
      "2000-01-05   23.000000   24.666666      24.666666     522400.0  54.625000   \n",
      "2000-01-06   23.555555   25.138889      25.138889     612100.0  52.750000   \n",
      "2000-01-07   23.722221   23.777779      23.777779     263800.0  52.750000   \n",
      "2000-01-10   23.111111   23.513889      23.513889     333900.0  53.750000   \n",
      "...                ...         ...            ...          ...        ...   \n",
      "2020-11-20  333.059998  358.390015     358.390015    1189700.0  38.349998   \n",
      "2020-11-23  354.160004  354.989990     354.989990     694100.0  38.009998   \n",
      "2020-11-24  358.549988  362.690002     362.690002     590100.0  38.950001   \n",
      "2020-11-25  362.359985  373.470001     373.470001     566700.0  40.439999   \n",
      "2020-11-27  369.290009  372.730011     372.730011     345000.0  40.880001   \n",
      "\n",
      "            ZION_high   ZION_low  ZION_close  ZION_adjclose  ZION_volume  \n",
      "2000-01-04  59.125000  53.437500   55.500000      39.996193    1199600.0  \n",
      "2000-01-05  55.000000  52.500000   52.812500      38.059437     816100.0  \n",
      "2000-01-06  53.250000  51.062500   52.750000      38.014412    1124700.0  \n",
      "2000-01-07  54.937500  52.375000   53.500000      38.554890    1112100.0  \n",
      "2000-01-10  54.250000  53.312500   53.625000      38.644981     782000.0  \n",
      "...               ...        ...         ...            ...          ...  \n",
      "2020-11-20  38.700001  37.720001   38.389999      38.389999    1993500.0  \n",
      "2020-11-23  38.540001  37.669998   38.279999      38.279999    2011400.0  \n",
      "2020-11-24  39.639999  38.720001   39.560001      39.560001    1872500.0  \n",
      "2020-11-25  42.240002  40.060001   41.860001      41.860001    2578600.0  \n",
      "2020-11-27  41.049999  40.310001   40.950001      40.950001    2633900.0  \n",
      "\n",
      "[5260 rows x 2261 columns]\n",
      "2000-01-04     6.775772\n",
      "2000-01-05     6.662845\n",
      "2000-01-06     6.832240\n",
      "2000-01-07     6.662845\n",
      "2000-01-10     6.380521\n",
      "                ...    \n",
      "2020-11-20    76.760002\n",
      "2020-11-23    81.099998\n",
      "2020-11-24    86.379997\n",
      "2020-11-25    84.720001\n",
      "2020-11-27    83.870003\n",
      "Name: PVH_adjclose, Length: 5260, dtype: float64\n"
     ]
    }
   ],
   "source": [
    "lagged_days = int(input(\"How many days would you like to lag the features by?\"))\n",
    "print(merged_data)\n",
    "features_wo_pca = merged_data.drop(columns = [chosen_adjclose]).shift(lagged_days).dropna()\n",
    "print(features_wo_pca)\n",
    "target = merged_data[chosen_adjclose][lagged_days:]\n",
    "print(target)"
   ]
  },
  {
   "cell_type": "markdown",
   "metadata": {},
   "source": [
    "# Dimensionality Reduction Using PCA"
   ]
  },
  {
   "cell_type": "markdown",
   "metadata": {},
   "source": [
    "Implement Principal Component Analysis (PCA) for dimensionality reduction using the sklearn library. This would help us to decide which features to pick to have the most explained variance with the least number of features.\n",
    "\n",
    "General steps:\n",
    "1. Scale/Normalise the feature variables\n",
    "2. Fit using the PCA method to obtain the actual components\n",
    "3. "
   ]
  },
  {
   "cell_type": "markdown",
   "metadata": {},
   "source": [
    "Below, we set the n_components to be 0.999. This means that the number of components chosen will be such that 99.9% of the variance is explained by them."
   ]
  },
  {
   "cell_type": "code",
   "execution_count": 9,
   "metadata": {},
   "outputs": [],
   "source": [
    "pca = PCA(n_components = 0.999)\n"
   ]
  },
  {
   "cell_type": "markdown",
   "metadata": {},
   "source": [
    "Scale the data using sklearn's StandardScaler module to ensure that the features all follow a standard normal distribution with a mean of zero and standard deviation of one."
   ]
  },
  {
   "cell_type": "code",
   "execution_count": 10,
   "metadata": {},
   "outputs": [],
   "source": [
    "stdscaler = StandardScaler()\n",
    "features_wo_pca_scaled = pd.DataFrame(stdscaler.fit_transform(features_wo_pca), \n",
    "                              columns = features_wo_pca.columns, \n",
    "                              index = features_wo_pca.index)"
   ]
  },
  {
   "cell_type": "markdown",
   "metadata": {},
   "source": [
    "We plot the cumulative explained variance against the number of components to get an illustration of the amount of variance explained by each cumulative component."
   ]
  },
  {
   "cell_type": "code",
   "execution_count": 11,
   "metadata": {},
   "outputs": [
    {
     "data": {
      "text/plain": [
       "Text(0, 0.5, 'cumulative explained variance')"
      ]
     },
     "execution_count": 11,
     "metadata": {},
     "output_type": "execute_result"
    },
    {
     "data": {
      "image/png": "[encoded data removed]",
      "text/plain": [
       "<Figure size 432x288 with 1 Axes>"
      ]
     },
     "metadata": {
      "needs_background": "light"
     },
     "output_type": "display_data"
    }
   ],
   "source": [
    "pca.fit(features_wo_pca_scaled)\n",
    "plt.plot(np.cumsum(pca.explained_variance_ratio_))\n",
    "plt.xlabel('number of components')\n",
    "plt.ylabel('cumulative explained variance')"
   ]
  },
  {
   "cell_type": "markdown",
   "metadata": {},
   "source": [
    "The following prints out the contribution of each original individual feature column to each newly created PCA component row. The index here represents each PCA component; the columns represent each original individual feature; the values represent the amount contributed by the individual feature to the PCA component. We will be able to identify which features contribute the most to each component if needed."
   ]
  },
  {
   "cell_type": "code",
   "execution_count": 12,
   "metadata": {},
   "outputs": [
    {
     "data": {
      "text/html": [
       "<div>\n",
       "<style scoped>\n",
       "    .dataframe tbody tr th:only-of-type {\n",
       "        vertical-align: middle;\n",
       "    }\n",
       "\n",
       "    .dataframe tbody tr th {\n",
       "        vertical-align: top;\n",
       "    }\n",
       "\n",
       "    .dataframe thead th {\n",
       "        text-align: right;\n",
       "    }\n",
       "</style>\n",
       "<table border=\"1\" class=\"dataframe\">\n",
       "  <thead>\n",
       "    <tr style=\"text-align: right;\">\n",
       "      <th></th>\n",
       "      <th>MMM_open</th>\n",
       "      <th>MMM_high</th>\n",
       "      <th>MMM_low</th>\n",
       "      <th>MMM_close</th>\n",
       "      <th>MMM_adjclose</th>\n",
       "      <th>MMM_volume</th>\n",
       "      <th>ABT_open</th>\n",
       "      <th>ABT_high</th>\n",
       "      <th>ABT_low</th>\n",
       "      <th>ABT_close</th>\n",
       "      <th>...</th>\n",
       "      <th>ZBRA_low</th>\n",
       "      <th>ZBRA_close</th>\n",
       "      <th>ZBRA_adjclose</th>\n",
       "      <th>ZBRA_volume</th>\n",
       "      <th>ZION_open</th>\n",
       "      <th>ZION_high</th>\n",
       "      <th>ZION_low</th>\n",
       "      <th>ZION_close</th>\n",
       "      <th>ZION_adjclose</th>\n",
       "      <th>ZION_volume</th>\n",
       "    </tr>\n",
       "  </thead>\n",
       "  <tbody>\n",
       "    <tr>\n",
       "      <th>0</th>\n",
       "      <td>0.025821</td>\n",
       "      <td>0.025843</td>\n",
       "      <td>0.025792</td>\n",
       "      <td>0.025813</td>\n",
       "      <td>0.026489</td>\n",
       "      <td>-0.009411</td>\n",
       "      <td>0.025711</td>\n",
       "      <td>0.025675</td>\n",
       "      <td>0.025757</td>\n",
       "      <td>0.025716</td>\n",
       "      <td>...</td>\n",
       "      <td>0.024266</td>\n",
       "      <td>0.024248</td>\n",
       "      <td>0.024248</td>\n",
       "      <td>-0.002230</td>\n",
       "      <td>-0.004858</td>\n",
       "      <td>-0.004943</td>\n",
       "      <td>-0.004773</td>\n",
       "      <td>-0.004863</td>\n",
       "      <td>-0.000082</td>\n",
       "      <td>0.003823</td>\n",
       "    </tr>\n",
       "    <tr>\n",
       "      <th>1</th>\n",
       "      <td>0.004039</td>\n",
       "      <td>0.003955</td>\n",
       "      <td>0.004142</td>\n",
       "      <td>0.004079</td>\n",
       "      <td>0.002834</td>\n",
       "      <td>0.005582</td>\n",
       "      <td>-0.011799</td>\n",
       "      <td>-0.011922</td>\n",
       "      <td>-0.011689</td>\n",
       "      <td>-0.011824</td>\n",
       "      <td>...</td>\n",
       "      <td>-0.020186</td>\n",
       "      <td>-0.020248</td>\n",
       "      <td>-0.020248</td>\n",
       "      <td>-0.012551</td>\n",
       "      <td>-0.040830</td>\n",
       "      <td>-0.040842</td>\n",
       "      <td>-0.040813</td>\n",
       "      <td>-0.040835</td>\n",
       "      <td>-0.038305</td>\n",
       "      <td>0.036987</td>\n",
       "    </tr>\n",
       "    <tr>\n",
       "      <th>2</th>\n",
       "      <td>-0.016311</td>\n",
       "      <td>-0.015952</td>\n",
       "      <td>-0.016797</td>\n",
       "      <td>-0.016381</td>\n",
       "      <td>-0.009636</td>\n",
       "      <td>0.035670</td>\n",
       "      <td>0.021234</td>\n",
       "      <td>0.021560</td>\n",
       "      <td>0.020791</td>\n",
       "      <td>0.021177</td>\n",
       "      <td>...</td>\n",
       "      <td>0.022635</td>\n",
       "      <td>0.022852</td>\n",
       "      <td>0.022852</td>\n",
       "      <td>-0.002012</td>\n",
       "      <td>-0.032696</td>\n",
       "      <td>-0.032087</td>\n",
       "      <td>-0.033281</td>\n",
       "      <td>-0.032702</td>\n",
       "      <td>-0.031264</td>\n",
       "      <td>0.034604</td>\n",
       "    </tr>\n",
       "    <tr>\n",
       "      <th>3</th>\n",
       "      <td>-0.000316</td>\n",
       "      <td>-0.000336</td>\n",
       "      <td>-0.000408</td>\n",
       "      <td>-0.000400</td>\n",
       "      <td>-0.002631</td>\n",
       "      <td>0.010229</td>\n",
       "      <td>-0.000088</td>\n",
       "      <td>-0.000135</td>\n",
       "      <td>-0.000082</td>\n",
       "      <td>-0.000120</td>\n",
       "      <td>...</td>\n",
       "      <td>0.008086</td>\n",
       "      <td>0.007994</td>\n",
       "      <td>0.007994</td>\n",
       "      <td>0.006961</td>\n",
       "      <td>0.062806</td>\n",
       "      <td>0.063081</td>\n",
       "      <td>0.062565</td>\n",
       "      <td>0.062780</td>\n",
       "      <td>0.069232</td>\n",
       "      <td>-0.008619</td>\n",
       "    </tr>\n",
       "    <tr>\n",
       "      <th>4</th>\n",
       "      <td>-0.014047</td>\n",
       "      <td>-0.013882</td>\n",
       "      <td>-0.014300</td>\n",
       "      <td>-0.014139</td>\n",
       "      <td>-0.010882</td>\n",
       "      <td>0.008619</td>\n",
       "      <td>0.000305</td>\n",
       "      <td>0.000401</td>\n",
       "      <td>0.000221</td>\n",
       "      <td>0.000327</td>\n",
       "      <td>...</td>\n",
       "      <td>-0.004324</td>\n",
       "      <td>-0.004287</td>\n",
       "      <td>-0.004287</td>\n",
       "      <td>-0.002572</td>\n",
       "      <td>0.004725</td>\n",
       "      <td>0.005666</td>\n",
       "      <td>0.003639</td>\n",
       "      <td>0.004598</td>\n",
       "      <td>0.005281</td>\n",
       "      <td>0.014685</td>\n",
       "    </tr>\n",
       "  </tbody>\n",
       "</table>\n",
       "<p>5 rows × 2261 columns</p>\n",
       "</div>"
      ],
      "text/plain": [
       "   MMM_open  MMM_high   MMM_low  MMM_close  MMM_adjclose  MMM_volume  \\\n",
       "0  0.025821  0.025843  0.025792   0.025813      0.026489   -0.009411   \n",
       "1  0.004039  0.003955  0.004142   0.004079      0.002834    0.005582   \n",
       "2 -0.016311 -0.015952 -0.016797  -0.016381     -0.009636    0.035670   \n",
       "3 -0.000316 -0.000336 -0.000408  -0.000400     -0.002631    0.010229   \n",
       "4 -0.014047 -0.013882 -0.014300  -0.014139     -0.010882    0.008619   \n",
       "\n",
       "   ABT_open  ABT_high   ABT_low  ABT_close  ...  ZBRA_low  ZBRA_close  \\\n",
       "0  0.025711  0.025675  0.025757   0.025716  ...  0.024266    0.024248   \n",
       "1 -0.011799 -0.011922 -0.011689  -0.011824  ... -0.020186   -0.020248   \n",
       "2  0.021234  0.021560  0.020791   0.021177  ...  0.022635    0.022852   \n",
       "3 -0.000088 -0.000135 -0.000082  -0.000120  ...  0.008086    0.007994   \n",
       "4  0.000305  0.000401  0.000221   0.000327  ... -0.004324   -0.004287   \n",
       "\n",
       "   ZBRA_adjclose  ZBRA_volume  ZION_open  ZION_high  ZION_low  ZION_close  \\\n",
       "0       0.024248    -0.002230  -0.004858  -0.004943 -0.004773   -0.004863   \n",
       "1      -0.020248    -0.012551  -0.040830  -0.040842 -0.040813   -0.040835   \n",
       "2       0.022852    -0.002012  -0.032696  -0.032087 -0.033281   -0.032702   \n",
       "3       0.007994     0.006961   0.062806   0.063081  0.062565    0.062780   \n",
       "4      -0.004287    -0.002572   0.004725   0.005666  0.003639    0.004598   \n",
       "\n",
       "   ZION_adjclose  ZION_volume  \n",
       "0      -0.000082     0.003823  \n",
       "1      -0.038305     0.036987  \n",
       "2      -0.031264     0.034604  \n",
       "3       0.069232    -0.008619  \n",
       "4       0.005281     0.014685  \n",
       "\n",
       "[5 rows x 2261 columns]"
      ]
     },
     "execution_count": 12,
     "metadata": {},
     "output_type": "execute_result"
    }
   ],
   "source": [
    "feature_contribution = pd.DataFrame(pca.components_, columns = features_wo_pca_scaled.columns)\n",
    "feature_contribution.head()"
   ]
  },
  {
   "cell_type": "code",
   "execution_count": 13,
   "metadata": {},
   "outputs": [
    {
     "name": "stdout",
     "output_type": "stream",
     "text": [
      "                  0          1          2          3          4          5    \\\n",
      "2000-01-04 -35.960625 -23.579470  -4.003544 -17.606808  14.536161  -0.372489   \n",
      "2000-01-05 -36.841050 -22.742040  -2.974257 -17.430787  13.301949  -0.389820   \n",
      "2000-01-06 -37.491331 -22.275951  -1.956246 -16.677797  12.761608   0.983001   \n",
      "2000-01-07 -37.301441 -21.764235  -2.365436 -16.251824  12.193429   0.953994   \n",
      "2000-01-10 -36.589707 -21.835399  -2.836206 -16.317104  12.691584   1.852655   \n",
      "...               ...        ...        ...        ...        ...        ...   \n",
      "2020-11-20  90.169134 -28.528320  30.311490   1.496883   1.251119 -14.546927   \n",
      "2020-11-23  90.277710 -28.426148  30.097950   1.158040   1.199360 -14.386895   \n",
      "2020-11-24  91.124295 -28.240156  29.776709   1.855758   1.762781 -14.220944   \n",
      "2020-11-25  93.313282 -25.874541  31.381664   3.385146   3.613445 -10.402420   \n",
      "2020-11-27  92.681446 -28.801734  27.526240   1.991029   2.620798 -14.963136   \n",
      "\n",
      "                  6         7          8         9    ...       486       487  \\\n",
      "2000-01-04   1.706540 -7.328174   3.619585  7.513015  ... -0.110119  0.399411   \n",
      "2000-01-05   1.525685 -7.451076   2.833919  7.088114  ... -0.055813  0.499079   \n",
      "2000-01-06   1.553919 -5.452596   3.586925  6.639555  ...  0.098508  0.601303   \n",
      "2000-01-07   1.245660 -5.767784   2.960399  5.893983  ...  0.232740  0.656866   \n",
      "2000-01-10   1.485786 -5.081231   3.581863  5.985818  ...  0.030149  0.632265   \n",
      "...               ...       ...        ...       ...  ...       ...       ...   \n",
      "2020-11-20  10.487598 -6.153495   8.104492 -8.726777  ... -0.495636  0.020406   \n",
      "2020-11-23  10.329680 -6.278177   8.401823 -8.603620  ... -0.493188  0.077622   \n",
      "2020-11-24  10.718984 -6.477417   8.806800 -8.393340  ... -0.360895  0.262534   \n",
      "2020-11-25  11.453665 -4.706185  11.146048 -7.305964  ... -0.311735  0.062982   \n",
      "2020-11-27   9.513174 -6.358542   7.919671 -8.949726  ... -0.330806  0.193952   \n",
      "\n",
      "                 488       489       490       491       492       493  \\\n",
      "2000-01-04 -0.386645  0.552395  0.118920  0.955646 -0.343839  0.050240   \n",
      "2000-01-05 -0.064332  0.401524  0.186865  0.906632 -0.263046  0.031216   \n",
      "2000-01-06  0.104186  0.297159  0.095339  0.786233 -0.184858 -0.092262   \n",
      "2000-01-07  0.146597  0.251495  0.189968  0.504714 -0.027933 -0.246563   \n",
      "2000-01-10  0.151520 -0.114551  0.204611  0.457590  0.229583 -0.133902   \n",
      "...              ...       ...       ...       ...       ...       ...   \n",
      "2020-11-20  0.174389 -0.224601  0.325163  0.625070 -0.127400 -0.163000   \n",
      "2020-11-23  0.398007  0.006815  0.418483  0.542501 -0.279523 -0.141984   \n",
      "2020-11-24  0.257820  0.024318  0.363537  0.715263 -0.032639 -0.174537   \n",
      "2020-11-25  0.166913  0.331177  0.372347  0.484544 -0.511047 -0.179295   \n",
      "2020-11-27  0.352119  0.397439  0.292570  0.589836 -0.644214 -0.160392   \n",
      "\n",
      "                 494       495  \n",
      "2000-01-04  0.254576  0.208868  \n",
      "2000-01-05  0.212487  0.174125  \n",
      "2000-01-06  0.156278 -0.014894  \n",
      "2000-01-07  0.109340 -0.014904  \n",
      "2000-01-10  0.291648 -0.028518  \n",
      "...              ...       ...  \n",
      "2020-11-20 -0.008358  0.101844  \n",
      "2020-11-23  0.014553  0.081544  \n",
      "2020-11-24 -0.384987 -0.021050  \n",
      "2020-11-25 -0.418877 -0.115649  \n",
      "2020-11-27 -0.229545 -0.086609  \n",
      "\n",
      "[5260 rows x 496 columns]\n",
      "(5260, 496)\n"
     ]
    }
   ],
   "source": [
    "features_w_pca = pd.DataFrame(pca.fit_transform(features_wo_pca_scaled), index = features_wo_pca_scaled.index)\n",
    "print(features_w_pca)\n",
    "print(features_w_pca.shape)"
   ]
  },
  {
   "cell_type": "markdown",
   "metadata": {},
   "source": [
    "Determine the proportion of the split between train and test set. Here, arbitrarily determined as 90% for training, 10% for testing. Note: For extremely large data sets, it may be good to specify a number value (as opposed to a percentage) for the test set as the test set need not be too large, and also it would be good for the training set to be larger where possible.\n"
   ]
  },
  {
   "cell_type": "code",
   "execution_count": 14,
   "metadata": {},
   "outputs": [
    {
     "name": "stdout",
     "output_type": "stream",
     "text": [
      "Check of train-test split: \n",
      "features = 5260\n",
      "features_train = 4735\n",
      "features_test = 525\n"
     ]
    }
   ],
   "source": [
    "traintest_index = int(len(features_w_pca) * 0.9) #This returns the row number for the boundary between train and test sets.\n",
    "traintest_value = features_w_pca.index[traintest_index] #This returns the datetimeindex at the row where we want to split between train and test sets.\n",
    "features_train = features_w_pca[features_w_pca.index <= traintest_value]\n",
    "features_test = features_w_pca[features_w_pca.index > traintest_value]\n",
    "target_train = target[target.index <= traintest_value]\n",
    "target_test = target[target.index > traintest_value]\n",
    "\n",
    "print(\"Check of train-test split: \")\n",
    "print(\"features = \" + str(len(features_w_pca)))\n",
    "print(\"features_train = \" + str(len(features_train)))\n",
    "print(\"features_test = \" + str(len(features_test)))\n"
   ]
  },
  {
   "cell_type": "markdown",
   "metadata": {},
   "source": [
    "Perform a min-max scaling on the features for both train and test sets using sklearn's MinMaxScaler module to ensure that data is all within the same scale. Note that we use 'fit_transform' for the training data "
   ]
  },
  {
   "cell_type": "code",
   "execution_count": 15,
   "metadata": {},
   "outputs": [
    {
     "data": {
      "text/html": [
       "<div>\n",
       "<style scoped>\n",
       "    .dataframe tbody tr th:only-of-type {\n",
       "        vertical-align: middle;\n",
       "    }\n",
       "\n",
       "    .dataframe tbody tr th {\n",
       "        vertical-align: top;\n",
       "    }\n",
       "\n",
       "    .dataframe thead th {\n",
       "        text-align: right;\n",
       "    }\n",
       "</style>\n",
       "<table border=\"1\" class=\"dataframe\">\n",
       "  <thead>\n",
       "    <tr style=\"text-align: right;\">\n",
       "      <th></th>\n",
       "      <th>0</th>\n",
       "      <th>1</th>\n",
       "      <th>2</th>\n",
       "      <th>3</th>\n",
       "      <th>4</th>\n",
       "      <th>5</th>\n",
       "      <th>6</th>\n",
       "      <th>7</th>\n",
       "      <th>8</th>\n",
       "      <th>9</th>\n",
       "      <th>...</th>\n",
       "      <th>486</th>\n",
       "      <th>487</th>\n",
       "      <th>488</th>\n",
       "      <th>489</th>\n",
       "      <th>490</th>\n",
       "      <th>491</th>\n",
       "      <th>492</th>\n",
       "      <th>493</th>\n",
       "      <th>494</th>\n",
       "      <th>495</th>\n",
       "    </tr>\n",
       "  </thead>\n",
       "  <tbody>\n",
       "    <tr>\n",
       "      <th>2000-01-04</th>\n",
       "      <td>0.080385</td>\n",
       "      <td>0.087099</td>\n",
       "      <td>0.279482</td>\n",
       "      <td>0.082147</td>\n",
       "      <td>0.715719</td>\n",
       "      <td>0.304768</td>\n",
       "      <td>0.632782</td>\n",
       "      <td>0.217595</td>\n",
       "      <td>0.548317</td>\n",
       "      <td>0.753612</td>\n",
       "      <td>...</td>\n",
       "      <td>0.455914</td>\n",
       "      <td>0.635463</td>\n",
       "      <td>0.200103</td>\n",
       "      <td>0.936115</td>\n",
       "      <td>0.550433</td>\n",
       "      <td>1.000000</td>\n",
       "      <td>0.282250</td>\n",
       "      <td>0.511537</td>\n",
       "      <td>0.677123</td>\n",
       "      <td>0.645985</td>\n",
       "    </tr>\n",
       "    <tr>\n",
       "      <th>2000-01-05</th>\n",
       "      <td>0.072520</td>\n",
       "      <td>0.100060</td>\n",
       "      <td>0.294999</td>\n",
       "      <td>0.085854</td>\n",
       "      <td>0.686424</td>\n",
       "      <td>0.304461</td>\n",
       "      <td>0.626661</td>\n",
       "      <td>0.212681</td>\n",
       "      <td>0.522096</td>\n",
       "      <td>0.735429</td>\n",
       "      <td>...</td>\n",
       "      <td>0.491755</td>\n",
       "      <td>0.694814</td>\n",
       "      <td>0.438695</td>\n",
       "      <td>0.816842</td>\n",
       "      <td>0.595511</td>\n",
       "      <td>0.968410</td>\n",
       "      <td>0.327161</td>\n",
       "      <td>0.496514</td>\n",
       "      <td>0.647442</td>\n",
       "      <td>0.620796</td>\n",
       "    </tr>\n",
       "    <tr>\n",
       "      <th>2000-01-06</th>\n",
       "      <td>0.066711</td>\n",
       "      <td>0.107273</td>\n",
       "      <td>0.310346</td>\n",
       "      <td>0.101713</td>\n",
       "      <td>0.673599</td>\n",
       "      <td>0.328812</td>\n",
       "      <td>0.627616</td>\n",
       "      <td>0.292595</td>\n",
       "      <td>0.547227</td>\n",
       "      <td>0.716233</td>\n",
       "      <td>...</td>\n",
       "      <td>0.593605</td>\n",
       "      <td>0.755686</td>\n",
       "      <td>0.563440</td>\n",
       "      <td>0.734335</td>\n",
       "      <td>0.534789</td>\n",
       "      <td>0.890812</td>\n",
       "      <td>0.370624</td>\n",
       "      <td>0.399002</td>\n",
       "      <td>0.607802</td>\n",
       "      <td>0.483759</td>\n",
       "    </tr>\n",
       "    <tr>\n",
       "      <th>2000-01-07</th>\n",
       "      <td>0.068407</td>\n",
       "      <td>0.115193</td>\n",
       "      <td>0.304177</td>\n",
       "      <td>0.110685</td>\n",
       "      <td>0.660113</td>\n",
       "      <td>0.328297</td>\n",
       "      <td>0.617183</td>\n",
       "      <td>0.279991</td>\n",
       "      <td>0.526317</td>\n",
       "      <td>0.684327</td>\n",
       "      <td>...</td>\n",
       "      <td>0.682198</td>\n",
       "      <td>0.788772</td>\n",
       "      <td>0.594835</td>\n",
       "      <td>0.698235</td>\n",
       "      <td>0.597569</td>\n",
       "      <td>0.709373</td>\n",
       "      <td>0.457854</td>\n",
       "      <td>0.277149</td>\n",
       "      <td>0.574701</td>\n",
       "      <td>0.483751</td>\n",
       "    </tr>\n",
       "    <tr>\n",
       "      <th>2000-01-10</th>\n",
       "      <td>0.074765</td>\n",
       "      <td>0.114092</td>\n",
       "      <td>0.297080</td>\n",
       "      <td>0.109310</td>\n",
       "      <td>0.671937</td>\n",
       "      <td>0.344238</td>\n",
       "      <td>0.625310</td>\n",
       "      <td>0.307445</td>\n",
       "      <td>0.547058</td>\n",
       "      <td>0.688257</td>\n",
       "      <td>...</td>\n",
       "      <td>0.548489</td>\n",
       "      <td>0.774123</td>\n",
       "      <td>0.598479</td>\n",
       "      <td>0.408852</td>\n",
       "      <td>0.607284</td>\n",
       "      <td>0.679001</td>\n",
       "      <td>0.600999</td>\n",
       "      <td>0.366119</td>\n",
       "      <td>0.703266</td>\n",
       "      <td>0.473881</td>\n",
       "    </tr>\n",
       "  </tbody>\n",
       "</table>\n",
       "<p>5 rows × 496 columns</p>\n",
       "</div>"
      ],
      "text/plain": [
       "                 0         1         2         3         4         5    \\\n",
       "2000-01-04  0.080385  0.087099  0.279482  0.082147  0.715719  0.304768   \n",
       "2000-01-05  0.072520  0.100060  0.294999  0.085854  0.686424  0.304461   \n",
       "2000-01-06  0.066711  0.107273  0.310346  0.101713  0.673599  0.328812   \n",
       "2000-01-07  0.068407  0.115193  0.304177  0.110685  0.660113  0.328297   \n",
       "2000-01-10  0.074765  0.114092  0.297080  0.109310  0.671937  0.344238   \n",
       "\n",
       "                 6         7         8         9    ...       486       487  \\\n",
       "2000-01-04  0.632782  0.217595  0.548317  0.753612  ...  0.455914  0.635463   \n",
       "2000-01-05  0.626661  0.212681  0.522096  0.735429  ...  0.491755  0.694814   \n",
       "2000-01-06  0.627616  0.292595  0.547227  0.716233  ...  0.593605  0.755686   \n",
       "2000-01-07  0.617183  0.279991  0.526317  0.684327  ...  0.682198  0.788772   \n",
       "2000-01-10  0.625310  0.307445  0.547058  0.688257  ...  0.548489  0.774123   \n",
       "\n",
       "                 488       489       490       491       492       493  \\\n",
       "2000-01-04  0.200103  0.936115  0.550433  1.000000  0.282250  0.511537   \n",
       "2000-01-05  0.438695  0.816842  0.595511  0.968410  0.327161  0.496514   \n",
       "2000-01-06  0.563440  0.734335  0.534789  0.890812  0.370624  0.399002   \n",
       "2000-01-07  0.594835  0.698235  0.597569  0.709373  0.457854  0.277149   \n",
       "2000-01-10  0.598479  0.408852  0.607284  0.679001  0.600999  0.366119   \n",
       "\n",
       "                 494       495  \n",
       "2000-01-04  0.677123  0.645985  \n",
       "2000-01-05  0.647442  0.620796  \n",
       "2000-01-06  0.607802  0.483759  \n",
       "2000-01-07  0.574701  0.483751  \n",
       "2000-01-10  0.703266  0.473881  \n",
       "\n",
       "[5 rows x 496 columns]"
      ]
     },
     "execution_count": 15,
     "metadata": {},
     "output_type": "execute_result"
    }
   ],
   "source": [
    "from sklearn.preprocessing import MinMaxScaler\n",
    "minmax_scaler = MinMaxScaler()\n",
    "features_train = pd.DataFrame(minmax_scaler.fit_transform(features_train), \n",
    "                              columns = features_train.columns, \n",
    "                              index = features_train.index)\n",
    "features_train.head()"
   ]
  },
  {
   "cell_type": "code",
   "execution_count": 16,
   "metadata": {},
   "outputs": [
    {
     "data": {
      "text/html": [
       "<div>\n",
       "<style scoped>\n",
       "    .dataframe tbody tr th:only-of-type {\n",
       "        vertical-align: middle;\n",
       "    }\n",
       "\n",
       "    .dataframe tbody tr th {\n",
       "        vertical-align: top;\n",
       "    }\n",
       "\n",
       "    .dataframe thead th {\n",
       "        text-align: right;\n",
       "    }\n",
       "</style>\n",
       "<table border=\"1\" class=\"dataframe\">\n",
       "  <thead>\n",
       "    <tr style=\"text-align: right;\">\n",
       "      <th></th>\n",
       "      <th>0</th>\n",
       "      <th>1</th>\n",
       "      <th>2</th>\n",
       "      <th>3</th>\n",
       "      <th>4</th>\n",
       "      <th>5</th>\n",
       "      <th>6</th>\n",
       "      <th>7</th>\n",
       "      <th>8</th>\n",
       "      <th>9</th>\n",
       "      <th>...</th>\n",
       "      <th>486</th>\n",
       "      <th>487</th>\n",
       "      <th>488</th>\n",
       "      <th>489</th>\n",
       "      <th>490</th>\n",
       "      <th>491</th>\n",
       "      <th>492</th>\n",
       "      <th>493</th>\n",
       "      <th>494</th>\n",
       "      <th>495</th>\n",
       "    </tr>\n",
       "  </thead>\n",
       "  <tbody>\n",
       "    <tr>\n",
       "      <th>2018-10-29</th>\n",
       "      <td>0.875255</td>\n",
       "      <td>0.425823</td>\n",
       "      <td>0.478170</td>\n",
       "      <td>0.533470</td>\n",
       "      <td>0.482428</td>\n",
       "      <td>0.498375</td>\n",
       "      <td>0.257382</td>\n",
       "      <td>0.841462</td>\n",
       "      <td>0.579608</td>\n",
       "      <td>0.676270</td>\n",
       "      <td>...</td>\n",
       "      <td>0.344758</td>\n",
       "      <td>0.376584</td>\n",
       "      <td>0.469242</td>\n",
       "      <td>0.411433</td>\n",
       "      <td>0.506528</td>\n",
       "      <td>0.475067</td>\n",
       "      <td>0.519204</td>\n",
       "      <td>0.588510</td>\n",
       "      <td>0.525680</td>\n",
       "      <td>0.384808</td>\n",
       "    </tr>\n",
       "    <tr>\n",
       "      <th>2018-10-30</th>\n",
       "      <td>0.878225</td>\n",
       "      <td>0.394998</td>\n",
       "      <td>0.435058</td>\n",
       "      <td>0.518027</td>\n",
       "      <td>0.457064</td>\n",
       "      <td>0.442004</td>\n",
       "      <td>0.255041</td>\n",
       "      <td>0.787281</td>\n",
       "      <td>0.513919</td>\n",
       "      <td>0.615935</td>\n",
       "      <td>...</td>\n",
       "      <td>0.393872</td>\n",
       "      <td>0.524779</td>\n",
       "      <td>0.572045</td>\n",
       "      <td>0.349406</td>\n",
       "      <td>0.400313</td>\n",
       "      <td>0.294907</td>\n",
       "      <td>0.375899</td>\n",
       "      <td>0.469236</td>\n",
       "      <td>0.527038</td>\n",
       "      <td>0.633674</td>\n",
       "    </tr>\n",
       "    <tr>\n",
       "      <th>2018-10-31</th>\n",
       "      <td>0.888329</td>\n",
       "      <td>0.410246</td>\n",
       "      <td>0.463636</td>\n",
       "      <td>0.532567</td>\n",
       "      <td>0.483092</td>\n",
       "      <td>0.497869</td>\n",
       "      <td>0.272691</td>\n",
       "      <td>0.833099</td>\n",
       "      <td>0.563424</td>\n",
       "      <td>0.666912</td>\n",
       "      <td>...</td>\n",
       "      <td>0.537380</td>\n",
       "      <td>0.443310</td>\n",
       "      <td>0.391816</td>\n",
       "      <td>0.428200</td>\n",
       "      <td>0.491493</td>\n",
       "      <td>0.458744</td>\n",
       "      <td>0.574731</td>\n",
       "      <td>0.419425</td>\n",
       "      <td>0.424877</td>\n",
       "      <td>0.390768</td>\n",
       "    </tr>\n",
       "    <tr>\n",
       "      <th>2018-11-01</th>\n",
       "      <td>0.903763</td>\n",
       "      <td>0.420953</td>\n",
       "      <td>0.464346</td>\n",
       "      <td>0.537962</td>\n",
       "      <td>0.496545</td>\n",
       "      <td>0.502166</td>\n",
       "      <td>0.262308</td>\n",
       "      <td>0.824523</td>\n",
       "      <td>0.607280</td>\n",
       "      <td>0.669625</td>\n",
       "      <td>...</td>\n",
       "      <td>0.466092</td>\n",
       "      <td>0.462750</td>\n",
       "      <td>0.583091</td>\n",
       "      <td>0.220916</td>\n",
       "      <td>0.595950</td>\n",
       "      <td>0.205172</td>\n",
       "      <td>0.366606</td>\n",
       "      <td>0.377489</td>\n",
       "      <td>0.542736</td>\n",
       "      <td>0.647877</td>\n",
       "    </tr>\n",
       "    <tr>\n",
       "      <th>2018-11-02</th>\n",
       "      <td>0.910761</td>\n",
       "      <td>0.378054</td>\n",
       "      <td>0.414145</td>\n",
       "      <td>0.517303</td>\n",
       "      <td>0.472533</td>\n",
       "      <td>0.438038</td>\n",
       "      <td>0.222047</td>\n",
       "      <td>0.744101</td>\n",
       "      <td>0.545599</td>\n",
       "      <td>0.614847</td>\n",
       "      <td>...</td>\n",
       "      <td>0.391703</td>\n",
       "      <td>0.395165</td>\n",
       "      <td>0.664435</td>\n",
       "      <td>0.272105</td>\n",
       "      <td>0.630714</td>\n",
       "      <td>0.252655</td>\n",
       "      <td>0.328262</td>\n",
       "      <td>0.358581</td>\n",
       "      <td>0.569253</td>\n",
       "      <td>0.834693</td>\n",
       "    </tr>\n",
       "  </tbody>\n",
       "</table>\n",
       "<p>5 rows × 496 columns</p>\n",
       "</div>"
      ],
      "text/plain": [
       "                 0         1         2         3         4         5    \\\n",
       "2018-10-29  0.875255  0.425823  0.478170  0.533470  0.482428  0.498375   \n",
       "2018-10-30  0.878225  0.394998  0.435058  0.518027  0.457064  0.442004   \n",
       "2018-10-31  0.888329  0.410246  0.463636  0.532567  0.483092  0.497869   \n",
       "2018-11-01  0.903763  0.420953  0.464346  0.537962  0.496545  0.502166   \n",
       "2018-11-02  0.910761  0.378054  0.414145  0.517303  0.472533  0.438038   \n",
       "\n",
       "                 6         7         8         9    ...       486       487  \\\n",
       "2018-10-29  0.257382  0.841462  0.579608  0.676270  ...  0.344758  0.376584   \n",
       "2018-10-30  0.255041  0.787281  0.513919  0.615935  ...  0.393872  0.524779   \n",
       "2018-10-31  0.272691  0.833099  0.563424  0.666912  ...  0.537380  0.443310   \n",
       "2018-11-01  0.262308  0.824523  0.607280  0.669625  ...  0.466092  0.462750   \n",
       "2018-11-02  0.222047  0.744101  0.545599  0.614847  ...  0.391703  0.395165   \n",
       "\n",
       "                 488       489       490       491       492       493  \\\n",
       "2018-10-29  0.469242  0.411433  0.506528  0.475067  0.519204  0.588510   \n",
       "2018-10-30  0.572045  0.349406  0.400313  0.294907  0.375899  0.469236   \n",
       "2018-10-31  0.391816  0.428200  0.491493  0.458744  0.574731  0.419425   \n",
       "2018-11-01  0.583091  0.220916  0.595950  0.205172  0.366606  0.377489   \n",
       "2018-11-02  0.664435  0.272105  0.630714  0.252655  0.328262  0.358581   \n",
       "\n",
       "                 494       495  \n",
       "2018-10-29  0.525680  0.384808  \n",
       "2018-10-30  0.527038  0.633674  \n",
       "2018-10-31  0.424877  0.390768  \n",
       "2018-11-01  0.542736  0.647877  \n",
       "2018-11-02  0.569253  0.834693  \n",
       "\n",
       "[5 rows x 496 columns]"
      ]
     },
     "execution_count": 16,
     "metadata": {},
     "output_type": "execute_result"
    }
   ],
   "source": [
    "features_test = pd.DataFrame(minmax_scaler.transform(features_test), \n",
    "                             columns = features_test.columns, \n",
    "                             index = features_test.index)\n",
    "features_test.head()"
   ]
  },
  {
   "cell_type": "markdown",
   "metadata": {},
   "source": [
    "Sequence generation"
   ]
  },
  {
   "cell_type": "code",
   "execution_count": 17,
   "metadata": {},
   "outputs": [
    {
     "name": "stdout",
     "output_type": "stream",
     "text": [
      "(4730, 5, 496)\n"
     ]
    }
   ],
   "source": [
    "sequence_length = 5\n",
    "def gen_sequence(df, seq_length):\n",
    "    data_array = df.values\n",
    "    num_elements = data_array.shape[0]\n",
    "    for start, stop in zip(range(0, num_elements-seq_length), range(seq_length, num_elements)):\n",
    "        yield data_array[start:stop, :]\n",
    "\n",
    "seq_array = np.array(list(gen_sequence(features_train,sequence_length)))\n",
    "print(seq_array.shape)"
   ]
  },
  {
   "cell_type": "code",
   "execution_count": 18,
   "metadata": {},
   "outputs": [
    {
     "data": {
      "text/plain": [
       "(4730,)"
      ]
     },
     "execution_count": 18,
     "metadata": {},
     "output_type": "execute_result"
    }
   ],
   "source": [
    "def gen_labels(df, seq_length):\n",
    "    data_array = df.values\n",
    "    num_elements = data_array.shape[0]\n",
    "    return data_array[seq_length:num_elements]\n",
    "\n",
    "label_array = np.array(list(gen_labels(target_train,sequence_length)))\n",
    "label_array.shape"
   ]
  },
  {
   "cell_type": "code",
   "execution_count": 19,
   "metadata": {},
   "outputs": [
    {
     "data": {
      "text/plain": [
       "(520, 5, 496)"
      ]
     },
     "execution_count": 19,
     "metadata": {},
     "output_type": "execute_result"
    }
   ],
   "source": [
    "seq_array_test = np.array(list(gen_sequence(features_test,sequence_length)))\n",
    "seq_array_test.shape"
   ]
  },
  {
   "cell_type": "code",
   "execution_count": 20,
   "metadata": {},
   "outputs": [
    {
     "data": {
      "text/plain": [
       "(520,)"
      ]
     },
     "execution_count": 20,
     "metadata": {},
     "output_type": "execute_result"
    }
   ],
   "source": [
    "label_array_test = np.array(list(gen_labels(target_test,sequence_length)))\n",
    "label_array_test.shape"
   ]
  },
  {
   "cell_type": "markdown",
   "metadata": {},
   "source": [
    "# Benchmark Model - Linear Regression (with PCA)"
   ]
  },
  {
   "cell_type": "markdown",
   "metadata": {},
   "source": [
    "Here, we show the results of linear regression implemented on the principal components generated from the PCA earlier. Notice that the results are significantly better compared to without implementing PCA."
   ]
  },
  {
   "cell_type": "code",
   "execution_count": 21,
   "metadata": {},
   "outputs": [
    {
     "data": {
      "text/plain": [
       "LinearRegression()"
      ]
     },
     "execution_count": 21,
     "metadata": {},
     "output_type": "execute_result"
    }
   ],
   "source": [
    "from sklearn.linear_model import LinearRegression\n",
    "\n",
    "linearregression = LinearRegression()\n",
    "linearregression.fit(np.array([seq_array[i][sequence_length-1] for i in range(seq_array.shape[0])]),label_array)"
   ]
  },
  {
   "cell_type": "code",
   "execution_count": 22,
   "metadata": {},
   "outputs": [],
   "source": [
    "prediction = linearregression.predict(np.array([seq_array_test[i][sequence_length-1] for i in range(seq_array_test.shape[0])]))\n"
   ]
  },
  {
   "cell_type": "code",
   "execution_count": 23,
   "metadata": {},
   "outputs": [],
   "source": [
    "pd.DataFrame([prediction,label_array_test]).T\\\n",
    ".rename({0:'prediction',1:'truth'},axis=1)\\\n",
    ".set_index(target.index[target.index> target.index[int(len(target) * 0.9) + sequence_length]])\\\n",
    ".to_csv('LR_prediction.csv')"
   ]
  },
  {
   "cell_type": "code",
   "execution_count": 24,
   "metadata": {},
   "outputs": [
    {
     "data": {
      "image/png": "[encoded data removed]",
      "text/plain": [
       "<Figure size 432x288 with 1 Axes>"
      ]
     },
     "metadata": {
      "needs_background": "light"
     },
     "output_type": "display_data"
    }
   ],
   "source": [
    "plt.plot(prediction, label='prediction')\n",
    "plt.plot(label_array_test, label='truth')\n",
    "plt.legend()\n",
    "plt.show()"
   ]
  },
  {
   "cell_type": "code",
   "execution_count": 25,
   "metadata": {},
   "outputs": [
    {
     "data": {
      "text/plain": [
       "(0.1783193333039762, 23.281993144805348)"
      ]
     },
     "execution_count": 25,
     "metadata": {},
     "output_type": "execute_result"
    }
   ],
   "source": [
    "from sklearn.metrics import r2_score, mean_squared_error\n",
    "r2_score(label_array_test,prediction),np.sqrt(mean_squared_error(label_array_test,prediction))"
   ]
  },
  {
   "cell_type": "markdown",
   "metadata": {},
   "source": [
    "# Neural Network"
   ]
  },
  {
   "cell_type": "markdown",
   "metadata": {},
   "source": [
    "LSTM model"
   ]
  },
  {
   "cell_type": "code",
   "execution_count": 73,
   "metadata": {
    "scrolled": true
   },
   "outputs": [
    {
     "name": "stdout",
     "output_type": "stream",
     "text": [
      "5\n",
      "496\n"
     ]
    }
   ],
   "source": [
    "from tensorflow import keras\n",
    "from keras.models import Sequential\n",
    "from keras.layers import Dense, Dropout, LSTM\n",
    "from numpy.random import seed\n",
    "import random as python_random\n",
    "import tensorflow\n",
    "tensorflow.random.set_seed(1)\n",
    "seed(1)\n",
    "python_random.seed(123)\n",
    "\n",
    "# build the network\n",
    "nb_features = seq_array.shape[2]\n",
    "print(sequence_length)\n",
    "print(nb_features)\n",
    "model = Sequential()\n",
    "\n",
    "model.add(LSTM(\n",
    "         input_shape=(sequence_length, nb_features),\n",
    "         units=75,\n",
    "         return_sequences=True))\n",
    "model.add(Dropout(0.2))\n",
    "\n",
    "model.add(LSTM(\n",
    "          units=50,\n",
    "          return_sequences=False))\n",
    "model.add(Dropout(0.2))\n",
    "\n",
    "model.add(Dense(1))\n",
    "model.compile(loss='mae', optimizer='nadam', metrics=['mean_squared_error'])"
   ]
  },
  {
   "cell_type": "code",
   "execution_count": 74,
   "metadata": {},
   "outputs": [
    {
     "name": "stdout",
     "output_type": "stream",
     "text": [
      "Model: \"sequential_6\"\n",
      "_________________________________________________________________\n",
      "Layer (type)                 Output Shape              Param #   \n",
      "=================================================================\n",
      "lstm_16 (LSTM)               (None, 5, 75)             171600    \n",
      "_________________________________________________________________\n",
      "dropout_16 (Dropout)         (None, 5, 75)             0         \n",
      "_________________________________________________________________\n",
      "lstm_17 (LSTM)               (None, 50)                25200     \n",
      "_________________________________________________________________\n",
      "dropout_17 (Dropout)         (None, 50)                0         \n",
      "_________________________________________________________________\n",
      "dense_6 (Dense)              (None, 1)                 51        \n",
      "=================================================================\n",
      "Total params: 196,851\n",
      "Trainable params: 196,851\n",
      "Non-trainable params: 0\n",
      "_________________________________________________________________\n"
     ]
    }
   ],
   "source": [
    "model.summary()"
   ]
  },
  {
   "cell_type": "code",
   "execution_count": 75,
   "metadata": {},
   "outputs": [
    {
     "name": "stdout",
     "output_type": "stream",
     "text": [
      "Epoch 1/200\n",
      "134/134 - 2s - loss: 41.8705 - mean_squared_error: 3194.9312 - val_loss: 111.6525 - val_mean_squared_error: 12984.7568\n",
      "Epoch 2/200\n",
      "134/134 - 1s - loss: 37.7017 - mean_squared_error: 2692.4365 - val_loss: 106.7456 - val_mean_squared_error: 11913.1064\n",
      "Epoch 3/200\n",
      "134/134 - 1s - loss: 35.6980 - mean_squared_error: 2390.4512 - val_loss: 102.3301 - val_mean_squared_error: 10989.9346\n",
      "Epoch 4/200\n",
      "134/134 - 1s - loss: 34.2726 - mean_squared_error: 2161.0098 - val_loss: 98.2036 - val_mean_squared_error: 10162.4180\n",
      "Epoch 5/200\n",
      "134/134 - 1s - loss: 33.1669 - mean_squared_error: 1971.1761 - val_loss: 94.8017 - val_mean_squared_error: 9505.8311\n",
      "Epoch 6/200\n",
      "134/134 - 1s - loss: 32.6022 - mean_squared_error: 1858.0520 - val_loss: 92.3712 - val_mean_squared_error: 9050.9189\n",
      "Epoch 7/200\n",
      "134/134 - 1s - loss: 32.3035 - mean_squared_error: 1780.8934 - val_loss: 90.6309 - val_mean_squared_error: 8732.4395\n",
      "Epoch 8/200\n",
      "134/134 - 1s - loss: 32.2303 - mean_squared_error: 1742.8625 - val_loss: 89.4958 - val_mean_squared_error: 8527.9824\n",
      "Epoch 9/200\n",
      "134/134 - 1s - loss: 32.1203 - mean_squared_error: 1708.4368 - val_loss: 88.7026 - val_mean_squared_error: 8386.6328\n",
      "Epoch 10/200\n",
      "134/134 - 1s - loss: 32.1251 - mean_squared_error: 1689.8491 - val_loss: 88.0925 - val_mean_squared_error: 8278.7676\n",
      "Epoch 11/200\n",
      "134/134 - 1s - loss: 32.1113 - mean_squared_error: 1674.2731 - val_loss: 87.6433 - val_mean_squared_error: 8199.8223\n",
      "Epoch 12/200\n",
      "134/134 - 1s - loss: 32.1235 - mean_squared_error: 1662.4487 - val_loss: 87.2591 - val_mean_squared_error: 8132.6240\n",
      "Epoch 13/200\n",
      "134/134 - 1s - loss: 32.0874 - mean_squared_error: 1657.2748 - val_loss: 87.0309 - val_mean_squared_error: 8092.8662\n",
      "Epoch 14/200\n",
      "134/134 - 1s - loss: 32.0545 - mean_squared_error: 1655.0353 - val_loss: 87.0880 - val_mean_squared_error: 8102.7949\n",
      "Epoch 15/200\n",
      "134/134 - 1s - loss: 32.0991 - mean_squared_error: 1656.4015 - val_loss: 86.9761 - val_mean_squared_error: 8083.3179\n",
      "Epoch 16/200\n",
      "134/134 - 1s - loss: 32.1391 - mean_squared_error: 1662.5298 - val_loss: 86.8957 - val_mean_squared_error: 8069.3394\n",
      "Epoch 17/200\n",
      "134/134 - 1s - loss: 32.0492 - mean_squared_error: 1645.6307 - val_loss: 86.7121 - val_mean_squared_error: 8037.4580\n",
      "Epoch 18/200\n",
      "134/134 - 1s - loss: 32.1106 - mean_squared_error: 1647.6903 - val_loss: 86.5950 - val_mean_squared_error: 8017.1831\n",
      "Epoch 19/200\n",
      "134/134 - 1s - loss: 32.0645 - mean_squared_error: 1641.4182 - val_loss: 86.5591 - val_mean_squared_error: 8010.9590\n",
      "Epoch 20/200\n",
      "134/134 - 1s - loss: 32.0467 - mean_squared_error: 1641.5963 - val_loss: 86.7534 - val_mean_squared_error: 8044.6392\n",
      "Epoch 21/200\n",
      "134/134 - 1s - loss: 32.1395 - mean_squared_error: 1646.5558 - val_loss: 86.7478 - val_mean_squared_error: 8043.6665\n",
      "Epoch 22/200\n",
      "134/134 - 1s - loss: 32.0328 - mean_squared_error: 1633.1450 - val_loss: 86.4405 - val_mean_squared_error: 7990.4370\n",
      "Epoch 23/200\n",
      "134/134 - 1s - loss: 32.1103 - mean_squared_error: 1644.8008 - val_loss: 86.6686 - val_mean_squared_error: 8029.9233\n",
      "Epoch 24/200\n",
      "134/134 - 1s - loss: 32.0036 - mean_squared_error: 1639.1643 - val_loss: 86.7531 - val_mean_squared_error: 8044.5869\n",
      "Epoch 25/200\n",
      "134/134 - 1s - loss: 32.0861 - mean_squared_error: 1655.1919 - val_loss: 86.9005 - val_mean_squared_error: 8070.1738\n",
      "Epoch 26/200\n",
      "134/134 - 1s - loss: 32.0693 - mean_squared_error: 1651.0109 - val_loss: 86.8284 - val_mean_squared_error: 8057.6514\n",
      "Epoch 27/200\n",
      "134/134 - 1s - loss: 32.1269 - mean_squared_error: 1652.6339 - val_loss: 87.0775 - val_mean_squared_error: 8100.9702\n",
      "Epoch 28/200\n",
      "134/134 - 1s - loss: 32.1048 - mean_squared_error: 1677.5244 - val_loss: 88.4096 - val_mean_squared_error: 8334.7383\n",
      "Epoch 29/200\n",
      "134/134 - 1s - loss: 32.0549 - mean_squared_error: 1687.0941 - val_loss: 89.5221 - val_mean_squared_error: 8532.7607\n",
      "Epoch 30/200\n",
      "134/134 - 1s - loss: 31.7474 - mean_squared_error: 1740.9333 - val_loss: 87.8858 - val_mean_squared_error: 8242.3496\n",
      "Epoch 31/200\n",
      "134/134 - 1s - loss: 24.7452 - mean_squared_error: 1319.6915 - val_loss: 78.4364 - val_mean_squared_error: 6670.3291\n",
      "Epoch 32/200\n",
      "134/134 - 1s - loss: 20.3147 - mean_squared_error: 973.9684 - val_loss: 70.9416 - val_mean_squared_error: 5551.1401\n",
      "Epoch 33/200\n",
      "134/134 - 1s - loss: 17.7385 - mean_squared_error: 767.3303 - val_loss: 64.8778 - val_mean_squared_error: 4727.5918\n",
      "Epoch 34/200\n",
      "134/134 - 1s - loss: 16.1588 - mean_squared_error: 628.5897 - val_loss: 59.8778 - val_mean_squared_error: 4103.8066\n",
      "Epoch 35/200\n",
      "134/134 - 1s - loss: 14.6358 - mean_squared_error: 528.3976 - val_loss: 55.3070 - val_mean_squared_error: 3577.2727\n",
      "Epoch 36/200\n",
      "134/134 - 1s - loss: 13.3212 - mean_squared_error: 437.1781 - val_loss: 50.9227 - val_mean_squared_error: 3111.5532\n",
      "Epoch 37/200\n",
      "134/134 - 1s - loss: 11.9973 - mean_squared_error: 353.6920 - val_loss: 46.7972 - val_mean_squared_error: 2708.3760\n",
      "Epoch 38/200\n",
      "134/134 - 1s - loss: 11.0773 - mean_squared_error: 296.2685 - val_loss: 43.0190 - val_mean_squared_error: 2368.6670\n",
      "Epoch 39/200\n",
      "134/134 - 1s - loss: 10.3508 - mean_squared_error: 258.8454 - val_loss: 41.2477 - val_mean_squared_error: 2209.4875\n",
      "Epoch 40/200\n",
      "134/134 - 1s - loss: 9.5084 - mean_squared_error: 211.3342 - val_loss: 36.2490 - val_mean_squared_error: 1815.0347\n",
      "Epoch 41/200\n",
      "134/134 - 1s - loss: 8.7267 - mean_squared_error: 175.3790 - val_loss: 33.6745 - val_mean_squared_error: 1587.1556\n",
      "Epoch 42/200\n",
      "134/134 - 1s - loss: 8.3203 - mean_squared_error: 158.6166 - val_loss: 31.7903 - val_mean_squared_error: 1422.5498\n",
      "Epoch 43/200\n",
      "134/134 - 1s - loss: 7.7788 - mean_squared_error: 133.8452 - val_loss: 30.0403 - val_mean_squared_error: 1279.8722\n",
      "Epoch 44/200\n",
      "134/134 - 1s - loss: 7.2501 - mean_squared_error: 118.0490 - val_loss: 49.2642 - val_mean_squared_error: 2863.6348\n",
      "Epoch 45/200\n",
      "134/134 - 1s - loss: 7.2538 - mean_squared_error: 119.4499 - val_loss: 38.9373 - val_mean_squared_error: 1942.4106\n",
      "Epoch 46/200\n",
      "134/134 - 1s - loss: 6.9073 - mean_squared_error: 106.5290 - val_loss: 29.6363 - val_mean_squared_error: 1215.1896\n",
      "Epoch 47/200\n",
      "134/134 - 1s - loss: 6.9644 - mean_squared_error: 105.9713 - val_loss: 26.2100 - val_mean_squared_error: 944.6210\n",
      "Epoch 48/200\n",
      "134/134 - 1s - loss: 6.7047 - mean_squared_error: 100.6413 - val_loss: 25.9281 - val_mean_squared_error: 917.5171\n",
      "Epoch 49/200\n",
      "134/134 - 1s - loss: 6.4174 - mean_squared_error: 91.9336 - val_loss: 34.6689 - val_mean_squared_error: 1599.6078\n",
      "Epoch 50/200\n",
      "134/134 - 1s - loss: 6.3472 - mean_squared_error: 90.8384 - val_loss: 24.9961 - val_mean_squared_error: 838.4962\n",
      "Epoch 51/200\n",
      "134/134 - 1s - loss: 6.2801 - mean_squared_error: 91.7960 - val_loss: 24.6998 - val_mean_squared_error: 814.7991\n",
      "Epoch 52/200\n",
      "134/134 - 1s - loss: 6.3953 - mean_squared_error: 93.7366 - val_loss: 24.4574 - val_mean_squared_error: 795.7875\n",
      "Epoch 53/200\n",
      "134/134 - 1s - loss: 6.1102 - mean_squared_error: 86.2583 - val_loss: 24.1200 - val_mean_squared_error: 770.3462\n",
      "Epoch 54/200\n",
      "134/134 - 1s - loss: 6.0960 - mean_squared_error: 87.4275 - val_loss: 30.3699 - val_mean_squared_error: 1283.0822\n",
      "Epoch 55/200\n",
      "134/134 - 1s - loss: 5.9295 - mean_squared_error: 78.4571 - val_loss: 24.0618 - val_mean_squared_error: 764.1127\n",
      "Epoch 56/200\n",
      "134/134 - 1s - loss: 5.6398 - mean_squared_error: 69.5246 - val_loss: 23.9010 - val_mean_squared_error: 750.3107\n",
      "Epoch 57/200\n",
      "134/134 - 1s - loss: 5.4701 - mean_squared_error: 65.4435 - val_loss: 23.2779 - val_mean_squared_error: 708.3333\n",
      "Epoch 58/200\n",
      "134/134 - 1s - loss: 5.3879 - mean_squared_error: 61.9530 - val_loss: 22.9910 - val_mean_squared_error: 687.6188\n",
      "Epoch 59/200\n",
      "134/134 - 1s - loss: 5.2591 - mean_squared_error: 57.7207 - val_loss: 25.3087 - val_mean_squared_error: 915.8515\n",
      "Epoch 60/200\n",
      "134/134 - 1s - loss: 5.0032 - mean_squared_error: 52.0328 - val_loss: 22.6881 - val_mean_squared_error: 667.8898\n",
      "Epoch 61/200\n",
      "134/134 - 1s - loss: 5.0556 - mean_squared_error: 53.7073 - val_loss: 22.5977 - val_mean_squared_error: 670.7437\n",
      "Epoch 62/200\n",
      "134/134 - 1s - loss: 4.7864 - mean_squared_error: 47.7878 - val_loss: 22.8905 - val_mean_squared_error: 722.4338\n",
      "Epoch 63/200\n",
      "134/134 - 1s - loss: 4.7157 - mean_squared_error: 47.4464 - val_loss: 22.1779 - val_mean_squared_error: 640.6024\n",
      "Epoch 64/200\n",
      "134/134 - 1s - loss: 5.0411 - mean_squared_error: 53.0253 - val_loss: 23.4332 - val_mean_squared_error: 774.7463\n"
     ]
    },
    {
     "name": "stdout",
     "output_type": "stream",
     "text": [
      "Epoch 65/200\n",
      "134/134 - 1s - loss: 4.7881 - mean_squared_error: 48.6721 - val_loss: 21.8779 - val_mean_squared_error: 616.3619\n",
      "Epoch 66/200\n",
      "134/134 - 1s - loss: 4.7250 - mean_squared_error: 47.0723 - val_loss: 24.7166 - val_mean_squared_error: 864.8021\n",
      "Epoch 67/200\n",
      "134/134 - 1s - loss: 4.7180 - mean_squared_error: 45.9583 - val_loss: 49.5821 - val_mean_squared_error: 2858.6025\n",
      "Epoch 68/200\n",
      "134/134 - 1s - loss: 4.7337 - mean_squared_error: 50.5665 - val_loss: 21.3057 - val_mean_squared_error: 591.0380\n",
      "Epoch 69/200\n",
      "134/134 - 1s - loss: 4.6464 - mean_squared_error: 45.3139 - val_loss: 21.4358 - val_mean_squared_error: 592.3144\n",
      "Epoch 70/200\n",
      "134/134 - 1s - loss: 4.5357 - mean_squared_error: 43.2411 - val_loss: 21.3080 - val_mean_squared_error: 594.1580\n",
      "Epoch 71/200\n",
      "134/134 - 1s - loss: 4.5473 - mean_squared_error: 43.6248 - val_loss: 22.0252 - val_mean_squared_error: 653.7470\n",
      "Epoch 72/200\n",
      "134/134 - 1s - loss: 4.4331 - mean_squared_error: 42.6075 - val_loss: 25.4882 - val_mean_squared_error: 923.8172\n",
      "Epoch 73/200\n",
      "134/134 - 1s - loss: 4.5005 - mean_squared_error: 43.0125 - val_loss: 21.5501 - val_mean_squared_error: 635.0399\n",
      "Epoch 74/200\n",
      "134/134 - 1s - loss: 4.4111 - mean_squared_error: 41.7877 - val_loss: 21.0151 - val_mean_squared_error: 571.7352\n",
      "Epoch 75/200\n",
      "134/134 - 1s - loss: 4.5102 - mean_squared_error: 44.5274 - val_loss: 20.8643 - val_mean_squared_error: 564.1721\n",
      "Epoch 76/200\n",
      "134/134 - 1s - loss: 4.4858 - mean_squared_error: 43.0494 - val_loss: 36.1165 - val_mean_squared_error: 1685.7861\n",
      "Epoch 77/200\n",
      "134/134 - 1s - loss: 4.4854 - mean_squared_error: 44.5211 - val_loss: 20.9062 - val_mean_squared_error: 566.5790\n",
      "Epoch 78/200\n",
      "134/134 - 1s - loss: 4.4250 - mean_squared_error: 42.5138 - val_loss: 20.4737 - val_mean_squared_error: 552.9139\n",
      "Epoch 79/200\n",
      "134/134 - 1s - loss: 4.1759 - mean_squared_error: 36.9131 - val_loss: 20.5234 - val_mean_squared_error: 549.3435\n",
      "Epoch 80/200\n",
      "134/134 - 1s - loss: 4.3332 - mean_squared_error: 39.8840 - val_loss: 22.5316 - val_mean_squared_error: 700.2122\n",
      "Epoch 81/200\n",
      "134/134 - 1s - loss: 4.2389 - mean_squared_error: 38.7832 - val_loss: 19.9915 - val_mean_squared_error: 531.2205\n",
      "Epoch 82/200\n",
      "134/134 - 1s - loss: 4.2020 - mean_squared_error: 37.8388 - val_loss: 28.4573 - val_mean_squared_error: 1141.7589\n",
      "Epoch 83/200\n",
      "134/134 - 1s - loss: 4.2165 - mean_squared_error: 37.9319 - val_loss: 27.1264 - val_mean_squared_error: 1040.6560\n",
      "Epoch 84/200\n",
      "134/134 - 1s - loss: 4.2177 - mean_squared_error: 38.6510 - val_loss: 23.0636 - val_mean_squared_error: 719.5449\n",
      "Epoch 85/200\n",
      "134/134 - 1s - loss: 4.3420 - mean_squared_error: 40.7970 - val_loss: 22.2824 - val_mean_squared_error: 678.7191\n",
      "Epoch 86/200\n",
      "134/134 - 1s - loss: 4.2289 - mean_squared_error: 38.0799 - val_loss: 24.1610 - val_mean_squared_error: 817.5206\n",
      "Epoch 87/200\n",
      "134/134 - 1s - loss: 4.0779 - mean_squared_error: 36.0320 - val_loss: 24.0791 - val_mean_squared_error: 808.5215\n",
      "Epoch 88/200\n",
      "134/134 - 1s - loss: 4.1048 - mean_squared_error: 37.1753 - val_loss: 20.2700 - val_mean_squared_error: 538.5789\n",
      "Epoch 89/200\n",
      "134/134 - 1s - loss: 4.2761 - mean_squared_error: 39.2721 - val_loss: 23.8984 - val_mean_squared_error: 800.0786\n",
      "Epoch 90/200\n",
      "134/134 - 1s - loss: 4.1009 - mean_squared_error: 36.2958 - val_loss: 25.2722 - val_mean_squared_error: 895.8004\n",
      "Epoch 91/200\n",
      "134/134 - 1s - loss: 4.1382 - mean_squared_error: 36.7297 - val_loss: 23.2605 - val_mean_squared_error: 744.5594\n",
      "Epoch 92/200\n",
      "134/134 - 1s - loss: 4.0830 - mean_squared_error: 36.4991 - val_loss: 21.8253 - val_mean_squared_error: 650.4244\n",
      "Epoch 93/200\n",
      "134/134 - 1s - loss: 4.0968 - mean_squared_error: 36.4832 - val_loss: 20.1533 - val_mean_squared_error: 534.2299\n",
      "Epoch 94/200\n",
      "134/134 - 1s - loss: 4.1545 - mean_squared_error: 40.0096 - val_loss: 23.0670 - val_mean_squared_error: 738.8077\n",
      "Epoch 95/200\n",
      "134/134 - 1s - loss: 4.0610 - mean_squared_error: 35.2969 - val_loss: 24.2540 - val_mean_squared_error: 813.5394\n",
      "Epoch 96/200\n",
      "134/134 - 1s - loss: 3.9461 - mean_squared_error: 34.0997 - val_loss: 29.0943 - val_mean_squared_error: 1195.1168\n",
      "Epoch 97/200\n",
      "134/134 - 1s - loss: 4.0304 - mean_squared_error: 36.6866 - val_loss: 26.2995 - val_mean_squared_error: 976.1102\n",
      "Epoch 98/200\n",
      "134/134 - 1s - loss: 4.0055 - mean_squared_error: 35.1234 - val_loss: 23.0068 - val_mean_squared_error: 725.6909\n",
      "Epoch 99/200\n",
      "134/134 - 1s - loss: 3.9223 - mean_squared_error: 33.6970 - val_loss: 27.1792 - val_mean_squared_error: 1044.5836\n",
      "Epoch 100/200\n",
      "134/134 - 1s - loss: 3.9653 - mean_squared_error: 34.4887 - val_loss: 24.9324 - val_mean_squared_error: 866.9264\n",
      "Epoch 101/200\n",
      "134/134 - 1s - loss: 3.9985 - mean_squared_error: 35.4646 - val_loss: 20.6492 - val_mean_squared_error: 565.5465\n",
      "Epoch 102/200\n",
      "134/134 - 1s - loss: 4.0289 - mean_squared_error: 35.8502 - val_loss: 19.5055 - val_mean_squared_error: 505.8776\n",
      "Epoch 103/200\n",
      "134/134 - 1s - loss: 3.9317 - mean_squared_error: 33.4179 - val_loss: 22.9764 - val_mean_squared_error: 725.3066\n",
      "Epoch 104/200\n",
      "134/134 - 1s - loss: 3.9155 - mean_squared_error: 33.4160 - val_loss: 34.3809 - val_mean_squared_error: 1579.8362\n",
      "Epoch 105/200\n",
      "134/134 - 1s - loss: 4.0497 - mean_squared_error: 36.6153 - val_loss: 21.0854 - val_mean_squared_error: 592.6044\n",
      "Epoch 106/200\n",
      "134/134 - 1s - loss: 3.9078 - mean_squared_error: 34.3202 - val_loss: 25.4045 - val_mean_squared_error: 907.2076\n",
      "Epoch 107/200\n",
      "134/134 - 1s - loss: 3.8503 - mean_squared_error: 32.4070 - val_loss: 23.9207 - val_mean_squared_error: 790.4363\n",
      "Epoch 108/200\n",
      "134/134 - 1s - loss: 3.9691 - mean_squared_error: 34.7240 - val_loss: 22.7919 - val_mean_squared_error: 715.2787\n",
      "Epoch 109/200\n",
      "134/134 - 1s - loss: 3.8507 - mean_squared_error: 33.5270 - val_loss: 37.1459 - val_mean_squared_error: 1776.0229\n",
      "Epoch 110/200\n",
      "134/134 - 1s - loss: 4.1395 - mean_squared_error: 39.8749 - val_loss: 19.5001 - val_mean_squared_error: 502.6390\n",
      "Epoch 111/200\n",
      "134/134 - 1s - loss: 3.8473 - mean_squared_error: 32.8226 - val_loss: 20.1365 - val_mean_squared_error: 542.2539\n",
      "Epoch 112/200\n",
      "134/134 - 1s - loss: 3.8088 - mean_squared_error: 32.8077 - val_loss: 41.8325 - val_mean_squared_error: 2118.6548\n",
      "Epoch 113/200\n",
      "134/134 - 1s - loss: 4.0012 - mean_squared_error: 37.4068 - val_loss: 23.5947 - val_mean_squared_error: 773.1990\n",
      "Epoch 114/200\n",
      "134/134 - 1s - loss: 3.8379 - mean_squared_error: 33.2553 - val_loss: 24.7673 - val_mean_squared_error: 856.6284\n",
      "Epoch 115/200\n",
      "134/134 - 1s - loss: 3.6608 - mean_squared_error: 30.1179 - val_loss: 35.1880 - val_mean_squared_error: 1606.5859\n",
      "Epoch 116/200\n",
      "134/134 - 1s - loss: 3.9228 - mean_squared_error: 34.9158 - val_loss: 18.9585 - val_mean_squared_error: 482.8705\n",
      "Epoch 117/200\n",
      "134/134 - 1s - loss: 3.9857 - mean_squared_error: 36.2090 - val_loss: 22.8116 - val_mean_squared_error: 712.1186\n",
      "Epoch 118/200\n",
      "134/134 - 1s - loss: 3.7744 - mean_squared_error: 31.5635 - val_loss: 45.0562 - val_mean_squared_error: 2419.8518\n",
      "Epoch 119/200\n",
      "134/134 - 1s - loss: 3.9628 - mean_squared_error: 37.3409 - val_loss: 20.9023 - val_mean_squared_error: 578.0009\n",
      "Epoch 120/200\n",
      "134/134 - 1s - loss: 3.7844 - mean_squared_error: 32.8768 - val_loss: 26.4442 - val_mean_squared_error: 990.2068\n",
      "Epoch 121/200\n",
      "134/134 - 1s - loss: 3.7919 - mean_squared_error: 31.9143 - val_loss: 24.1719 - val_mean_squared_error: 808.7889\n",
      "Epoch 122/200\n",
      "134/134 - 1s - loss: 3.7342 - mean_squared_error: 31.5232 - val_loss: 19.2710 - val_mean_squared_error: 494.9478\n",
      "Epoch 123/200\n",
      "134/134 - 1s - loss: 3.8861 - mean_squared_error: 35.8706 - val_loss: 27.2089 - val_mean_squared_error: 1049.3555\n",
      "Epoch 124/200\n",
      "134/134 - 1s - loss: 3.8288 - mean_squared_error: 33.7617 - val_loss: 23.0635 - val_mean_squared_error: 727.7021\n",
      "Epoch 125/200\n",
      "134/134 - 1s - loss: 3.6729 - mean_squared_error: 30.3852 - val_loss: 22.7650 - val_mean_squared_error: 704.5419\n",
      "Epoch 126/200\n",
      "134/134 - 1s - loss: 3.7197 - mean_squared_error: 32.0291 - val_loss: 31.9006 - val_mean_squared_error: 1377.4563\n",
      "Epoch 127/200\n",
      "134/134 - 1s - loss: 3.9040 - mean_squared_error: 35.5448 - val_loss: 26.5382 - val_mean_squared_error: 995.0617\n",
      "Epoch 128/200\n",
      "134/134 - 1s - loss: 3.8129 - mean_squared_error: 33.0355 - val_loss: 29.0975 - val_mean_squared_error: 1198.2664\n",
      "Epoch 129/200\n",
      "134/134 - 1s - loss: 3.6510 - mean_squared_error: 31.3713 - val_loss: 23.7296 - val_mean_squared_error: 782.7819\n"
     ]
    },
    {
     "name": "stdout",
     "output_type": "stream",
     "text": [
      "Epoch 130/200\n",
      "134/134 - 1s - loss: 3.6741 - mean_squared_error: 30.5538 - val_loss: 24.3037 - val_mean_squared_error: 818.4105\n",
      "Epoch 131/200\n",
      "134/134 - 1s - loss: 3.7221 - mean_squared_error: 32.4967 - val_loss: 22.5563 - val_mean_squared_error: 688.2311\n",
      "Epoch 132/200\n",
      "134/134 - 1s - loss: 3.7406 - mean_squared_error: 31.9092 - val_loss: 34.7927 - val_mean_squared_error: 1593.8419\n",
      "Epoch 133/200\n",
      "134/134 - 1s - loss: 3.7673 - mean_squared_error: 33.4861 - val_loss: 23.4179 - val_mean_squared_error: 755.0919\n",
      "Epoch 134/200\n",
      "134/134 - 1s - loss: 3.6185 - mean_squared_error: 29.3962 - val_loss: 22.0010 - val_mean_squared_error: 647.3027\n",
      "Epoch 135/200\n",
      "134/134 - 1s - loss: 3.6936 - mean_squared_error: 31.1847 - val_loss: 34.6817 - val_mean_squared_error: 1608.0896\n",
      "Epoch 136/200\n",
      "134/134 - 1s - loss: 3.8694 - mean_squared_error: 35.8077 - val_loss: 38.3242 - val_mean_squared_error: 1850.3140\n",
      "Epoch 137/200\n",
      "134/134 - 1s - loss: 3.6968 - mean_squared_error: 32.1965 - val_loss: 20.1472 - val_mean_squared_error: 532.6326\n",
      "Epoch 138/200\n",
      "134/134 - 1s - loss: 3.6610 - mean_squared_error: 30.6480 - val_loss: 22.6106 - val_mean_squared_error: 705.5872\n",
      "Epoch 139/200\n",
      "134/134 - 1s - loss: 3.6410 - mean_squared_error: 30.4395 - val_loss: 22.7169 - val_mean_squared_error: 713.9064\n",
      "Epoch 140/200\n",
      "134/134 - 1s - loss: 3.6288 - mean_squared_error: 29.7916 - val_loss: 42.8483 - val_mean_squared_error: 2222.3984\n",
      "Epoch 141/200\n",
      "134/134 - 1s - loss: 3.8890 - mean_squared_error: 37.0013 - val_loss: 32.9797 - val_mean_squared_error: 1492.7501\n",
      "Epoch 142/200\n",
      "134/134 - 1s - loss: 3.8059 - mean_squared_error: 35.3468 - val_loss: 24.1290 - val_mean_squared_error: 816.6551\n",
      "Epoch 143/200\n",
      "134/134 - 1s - loss: 3.7079 - mean_squared_error: 30.6576 - val_loss: 32.8173 - val_mean_squared_error: 1456.1207\n",
      "Epoch 144/200\n",
      "134/134 - 1s - loss: 3.6357 - mean_squared_error: 30.0891 - val_loss: 31.6246 - val_mean_squared_error: 1373.3949\n",
      "Epoch 145/200\n",
      "134/134 - 1s - loss: 3.7197 - mean_squared_error: 32.4311 - val_loss: 19.7209 - val_mean_squared_error: 512.7321\n",
      "Epoch 146/200\n",
      "134/134 - 1s - loss: 3.7618 - mean_squared_error: 34.1736 - val_loss: 21.1893 - val_mean_squared_error: 606.0683\n",
      "Epoch 147/200\n",
      "134/134 - 1s - loss: 3.5717 - mean_squared_error: 29.7776 - val_loss: 37.0040 - val_mean_squared_error: 1782.4602\n",
      "Epoch 148/200\n",
      "134/134 - 1s - loss: 3.7177 - mean_squared_error: 32.2524 - val_loss: 25.1161 - val_mean_squared_error: 886.7943\n",
      "Epoch 149/200\n",
      "134/134 - 1s - loss: 3.6223 - mean_squared_error: 30.1949 - val_loss: 18.8923 - val_mean_squared_error: 478.9337\n",
      "Epoch 150/200\n",
      "134/134 - 1s - loss: 3.5731 - mean_squared_error: 29.4235 - val_loss: 36.6570 - val_mean_squared_error: 1735.0193\n",
      "Epoch 151/200\n",
      "134/134 - 1s - loss: 3.7241 - mean_squared_error: 32.3116 - val_loss: 19.5620 - val_mean_squared_error: 508.9585\n",
      "Epoch 152/200\n",
      "134/134 - 1s - loss: 3.5664 - mean_squared_error: 29.6872 - val_loss: 18.6455 - val_mean_squared_error: 473.1014\n",
      "Epoch 153/200\n",
      "134/134 - 1s - loss: 3.7386 - mean_squared_error: 32.2719 - val_loss: 27.2661 - val_mean_squared_error: 1053.1219\n",
      "Epoch 154/200\n",
      "134/134 - 1s - loss: 3.5965 - mean_squared_error: 30.1792 - val_loss: 19.2512 - val_mean_squared_error: 493.8988\n",
      "Epoch 155/200\n",
      "134/134 - 1s - loss: 3.6230 - mean_squared_error: 30.1107 - val_loss: 20.5053 - val_mean_squared_error: 555.8284\n",
      "Epoch 156/200\n",
      "134/134 - 1s - loss: 3.7003 - mean_squared_error: 31.5801 - val_loss: 26.9235 - val_mean_squared_error: 1027.6515\n",
      "Epoch 157/200\n",
      "134/134 - 2s - loss: 3.5967 - mean_squared_error: 29.0481 - val_loss: 38.8105 - val_mean_squared_error: 1885.0070\n",
      "Epoch 158/200\n",
      "134/134 - 1s - loss: 3.6238 - mean_squared_error: 30.8435 - val_loss: 25.4499 - val_mean_squared_error: 910.2155\n",
      "Epoch 159/200\n",
      "134/134 - 1s - loss: 3.5573 - mean_squared_error: 29.6539 - val_loss: 21.7726 - val_mean_squared_error: 650.0620\n",
      "Epoch 160/200\n",
      "134/134 - 1s - loss: 3.4936 - mean_squared_error: 28.1135 - val_loss: 24.1513 - val_mean_squared_error: 815.2324\n",
      "Epoch 161/200\n",
      "134/134 - 1s - loss: 3.5161 - mean_squared_error: 28.4171 - val_loss: 18.5775 - val_mean_squared_error: 474.7185\n",
      "Epoch 162/200\n",
      "134/134 - 1s - loss: 3.5834 - mean_squared_error: 30.5788 - val_loss: 20.5820 - val_mean_squared_error: 559.2903\n",
      "Epoch 163/200\n",
      "134/134 - 1s - loss: 3.5396 - mean_squared_error: 28.4152 - val_loss: 22.6482 - val_mean_squared_error: 688.0280\n",
      "Epoch 164/200\n",
      "134/134 - 1s - loss: 3.4581 - mean_squared_error: 26.8367 - val_loss: 21.9055 - val_mean_squared_error: 639.6135\n",
      "Epoch 165/200\n",
      "134/134 - 1s - loss: 3.5287 - mean_squared_error: 28.7359 - val_loss: 24.9825 - val_mean_squared_error: 876.1845\n",
      "Epoch 166/200\n",
      "134/134 - 2s - loss: 3.4735 - mean_squared_error: 28.1583 - val_loss: 28.9517 - val_mean_squared_error: 1173.4165\n",
      "Epoch 167/200\n",
      "134/134 - 2s - loss: 3.5792 - mean_squared_error: 29.5409 - val_loss: 34.3182 - val_mean_squared_error: 1573.9244\n",
      "Epoch 168/200\n",
      "134/134 - 2s - loss: 3.4679 - mean_squared_error: 29.0856 - val_loss: 25.1042 - val_mean_squared_error: 885.5301\n",
      "Epoch 169/200\n",
      "134/134 - 1s - loss: 3.5515 - mean_squared_error: 28.8547 - val_loss: 23.8777 - val_mean_squared_error: 792.6243\n",
      "Epoch 170/200\n",
      "134/134 - 1s - loss: 3.4103 - mean_squared_error: 26.7875 - val_loss: 19.6995 - val_mean_squared_error: 513.8811\n",
      "Epoch 171/200\n",
      "134/134 - 1s - loss: 3.4752 - mean_squared_error: 28.5678 - val_loss: 32.2359 - val_mean_squared_error: 1415.5980\n",
      "Epoch 172/200\n",
      "134/134 - 1s - loss: 3.5120 - mean_squared_error: 28.5538 - val_loss: 22.3734 - val_mean_squared_error: 686.1423\n",
      "Epoch 173/200\n",
      "134/134 - 1s - loss: 3.5590 - mean_squared_error: 30.1315 - val_loss: 23.4943 - val_mean_squared_error: 761.6395\n",
      "Epoch 174/200\n",
      "134/134 - 1s - loss: 3.6156 - mean_squared_error: 30.2354 - val_loss: 27.3017 - val_mean_squared_error: 1059.7854\n",
      "Epoch 175/200\n",
      "134/134 - 1s - loss: 3.5358 - mean_squared_error: 28.9314 - val_loss: 28.1227 - val_mean_squared_error: 1122.6678\n",
      "Epoch 176/200\n",
      "134/134 - 1s - loss: 3.4819 - mean_squared_error: 27.6158 - val_loss: 27.5920 - val_mean_squared_error: 1082.3153\n",
      "Epoch 177/200\n",
      "134/134 - 1s - loss: 3.5156 - mean_squared_error: 28.2594 - val_loss: 24.7062 - val_mean_squared_error: 856.4978\n",
      "Epoch 178/200\n",
      "134/134 - 1s - loss: 3.3966 - mean_squared_error: 26.9321 - val_loss: 27.0100 - val_mean_squared_error: 1035.8340\n",
      "Epoch 179/200\n",
      "134/134 - 1s - loss: 3.5443 - mean_squared_error: 29.1135 - val_loss: 19.3264 - val_mean_squared_error: 497.1341\n",
      "Epoch 180/200\n",
      "134/134 - 1s - loss: 3.4692 - mean_squared_error: 28.4507 - val_loss: 21.6336 - val_mean_squared_error: 619.2905\n",
      "Epoch 181/200\n",
      "134/134 - 1s - loss: 3.4837 - mean_squared_error: 28.8426 - val_loss: 30.5222 - val_mean_squared_error: 1294.8475\n",
      "Epoch 182/200\n",
      "134/134 - 1s - loss: 3.4924 - mean_squared_error: 27.8170 - val_loss: 25.6922 - val_mean_squared_error: 929.7202\n",
      "Epoch 183/200\n",
      "134/134 - 1s - loss: 3.4847 - mean_squared_error: 27.5045 - val_loss: 25.2506 - val_mean_squared_error: 894.0849\n",
      "Epoch 184/200\n",
      "134/134 - 1s - loss: 3.4547 - mean_squared_error: 28.1265 - val_loss: 19.9976 - val_mean_squared_error: 527.0222\n",
      "Epoch 185/200\n",
      "134/134 - 1s - loss: 3.5676 - mean_squared_error: 29.9603 - val_loss: 40.2987 - val_mean_squared_error: 2024.0238\n",
      "Epoch 186/200\n",
      "134/134 - 1s - loss: 3.6705 - mean_squared_error: 33.1569 - val_loss: 24.6236 - val_mean_squared_error: 842.9472\n",
      "Epoch 187/200\n",
      "134/134 - 1s - loss: 3.4208 - mean_squared_error: 27.8477 - val_loss: 27.6467 - val_mean_squared_error: 1083.2192\n",
      "Epoch 188/200\n",
      "134/134 - 1s - loss: 3.4192 - mean_squared_error: 27.2357 - val_loss: 32.2850 - val_mean_squared_error: 1419.5415\n",
      "Epoch 189/200\n",
      "134/134 - 1s - loss: 3.4324 - mean_squared_error: 27.2314 - val_loss: 24.1829 - val_mean_squared_error: 812.8522\n",
      "Epoch 190/200\n",
      "134/134 - 1s - loss: 3.4734 - mean_squared_error: 28.8823 - val_loss: 25.3142 - val_mean_squared_error: 897.1917\n",
      "Epoch 191/200\n",
      "134/134 - 1s - loss: 3.4367 - mean_squared_error: 27.8468 - val_loss: 31.3830 - val_mean_squared_error: 1359.5515\n",
      "Epoch 192/200\n",
      "134/134 - 1s - loss: 3.4178 - mean_squared_error: 27.7388 - val_loss: 21.5211 - val_mean_squared_error: 621.3151\n",
      "Epoch 193/200\n",
      "134/134 - 1s - loss: 3.3806 - mean_squared_error: 26.7908 - val_loss: 23.6906 - val_mean_squared_error: 775.9672\n",
      "Epoch 194/200\n",
      "134/134 - 1s - loss: 3.2594 - mean_squared_error: 25.2016 - val_loss: 29.1520 - val_mean_squared_error: 1201.7114\n"
     ]
    },
    {
     "name": "stdout",
     "output_type": "stream",
     "text": [
      "Epoch 195/200\n",
      "134/134 - 1s - loss: 3.3270 - mean_squared_error: 25.6039 - val_loss: 20.8699 - val_mean_squared_error: 574.9663\n",
      "Epoch 196/200\n",
      "134/134 - 1s - loss: 3.4350 - mean_squared_error: 27.9495 - val_loss: 34.3455 - val_mean_squared_error: 1599.3632\n",
      "Epoch 197/200\n",
      "134/134 - 1s - loss: 3.6992 - mean_squared_error: 33.0216 - val_loss: 26.8770 - val_mean_squared_error: 1024.5879\n",
      "Epoch 198/200\n",
      "134/134 - 1s - loss: 3.4716 - mean_squared_error: 27.6608 - val_loss: 23.8260 - val_mean_squared_error: 789.9819\n",
      "Epoch 199/200\n",
      "134/134 - 1s - loss: 3.2642 - mean_squared_error: 24.8509 - val_loss: 20.2874 - val_mean_squared_error: 544.2674\n",
      "Epoch 200/200\n",
      "134/134 - 1s - loss: 3.3612 - mean_squared_error: 26.3407 - val_loss: 36.1636 - val_mean_squared_error: 1701.8296\n"
     ]
    }
   ],
   "source": [
    "history = model.fit(seq_array, label_array, epochs=200, batch_size=32, validation_split=0.1, verbose=2)"
   ]
  },
  {
   "cell_type": "code",
   "execution_count": 76,
   "metadata": {},
   "outputs": [
    {
     "data": {
      "image/png": "[encoded data removed]",
      "text/plain": [
       "<Figure size 432x288 with 1 Axes>"
      ]
     },
     "metadata": {
      "needs_background": "light"
     },
     "output_type": "display_data"
    }
   ],
   "source": [
    "\n",
    "plt.plot(history.history['loss'], label='train')\n",
    "plt.plot(history.history['val_loss'], label='valid')\n",
    "plt.legend()\n",
    "plt.show()"
   ]
  },
  {
   "cell_type": "code",
   "execution_count": 77,
   "metadata": {},
   "outputs": [],
   "source": [
    "pd.DataFrame([history.history['loss'],history.history['val_loss']]).T\\\n",
    ".rename({0:'train',1:'test'},axis=1)\\\n",
    ".to_csv('history.csv')"
   ]
  },
  {
   "cell_type": "code",
   "execution_count": 78,
   "metadata": {},
   "outputs": [
    {
     "data": {
      "image/png": "[encoded data removed]",
      "text/plain": [
       "<Figure size 432x288 with 1 Axes>"
      ]
     },
     "metadata": {
      "needs_background": "light"
     },
     "output_type": "display_data"
    }
   ],
   "source": [
    "prediction = model.predict(seq_array_test)\n",
    "plt.plot(prediction, label='prediction')\n",
    "plt.plot(label_array_test, label='truth')\n",
    "plt.legend()\n",
    "plt.show()"
   ]
  },
  {
   "cell_type": "code",
   "execution_count": 79,
   "metadata": {},
   "outputs": [],
   "source": [
    "pd.DataFrame([np.squeeze(prediction),label_array_test]).T\\\n",
    ".rename({0:'prediction',1:'truth'},axis=1)\\\n",
    ".set_index(target.index[target.index> target.index[int(len(target) * 0.9) + sequence_length]])\\\n",
    ".to_csv('LSTM_prediction.csv')"
   ]
  },
  {
   "cell_type": "code",
   "execution_count": 80,
   "metadata": {},
   "outputs": [
    {
     "data": {
      "text/plain": [
       "(0.22386084890151536, 22.627596117577447)"
      ]
     },
     "execution_count": 80,
     "metadata": {},
     "output_type": "execute_result"
    }
   ],
   "source": [
    "r2_score(label_array_test,prediction),np.sqrt(mean_squared_error(label_array_test,prediction))"
   ]
  },
  {
   "cell_type": "code",
   "execution_count": 81,
   "metadata": {},
   "outputs": [
    {
     "name": "stdout",
     "output_type": "stream",
     "text": [
      "512.0081060602059\n"
     ]
    }
   ],
   "source": [
    "print(mean_squared_error (label_array_test,prediction))"
   ]
  }
 ],
 "metadata": {
  "kernelspec": {
   "display_name": "Python 3",
   "language": "python",
   "name": "python3"
  },
  "language_info": {
   "codemirror_mode": {
    "name": "ipython",
    "version": 3
   },
   "file_extension": ".py",
   "mimetype": "text/x-python",
   "name": "python",
   "nbconvert_exporter": "python",
   "pygments_lexer": "ipython3",
   "version": "3.8.5"
  }
 },
 "nbformat": 4,
 "nbformat_minor": 2
}
