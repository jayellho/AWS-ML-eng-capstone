{
 "cells": [
  {
   "cell_type": "markdown",
   "metadata": {},
   "source": [
    "# Import relevant libraries"
   ]
  },
  {
   "cell_type": "markdown",
   "metadata": {},
   "source": [
    "Imports the relevant python libraries needed."
   ]
  },
  {
   "cell_type": "code",
   "execution_count": 1,
   "metadata": {},
   "outputs": [],
   "source": [
    "import yahoo_fin\n",
    "import yahoo_fin.stock_info as si\n",
    "from yahoo_fin.stock_info import get_data\n",
    "import numpy as np\n",
    "import pandas as pd\n",
    "import datetime\n",
    "from datetime import datetime\n",
    "import matplotlib.pyplot as plt\n",
    "from sklearn.decomposition import PCA\n",
    "from sklearn.preprocessing import StandardScaler"
   ]
  },
  {
   "cell_type": "markdown",
   "metadata": {},
   "source": [
    "# Import and preprocess data"
   ]
  },
  {
   "cell_type": "markdown",
   "metadata": {},
   "source": [
    "Data is scraped from Yahoo!Finance for all S&P 500 companies using the yahoo_fin Python library."
   ]
  },
  {
   "cell_type": "markdown",
   "metadata": {},
   "source": [
    "The below extracts the list of S&P500 companies' tickers. 2 of the tickers' values were replaced so that they can be searched using the yahoo_fin library."
   ]
  },
  {
   "cell_type": "code",
   "execution_count": 2,
   "metadata": {},
   "outputs": [],
   "source": [
    "sp500_list = pd.read_html('https://en.wikipedia.org/wiki/List_of_S%26P_500_companies', attrs={'class': 'wikitable sortable'},header=0)[0]['Symbol']\n",
    "sp500_list.replace(to_replace='BRK.B',value='BRK-B',inplace=True)\n",
    "sp500_list.replace(to_replace='BF.B',value='BF-B',inplace=True)"
   ]
  },
  {
   "cell_type": "markdown",
   "metadata": {},
   "source": [
    "The below extracts the information from Yahoo!Finance according to the start date and end date specified. Information for each ticker is extracted for the 'daily' time interval."
   ]
  },
  {
   "cell_type": "code",
   "execution_count": 3,
   "metadata": {},
   "outputs": [
    {
     "name": "stdout",
     "output_type": "stream",
     "text": [
      "Please enter START date for the date range you want the model to be trained on. Format of input: DD-MM-YY.01-01-00\n",
      "Start date: 01-01-00\n",
      "Please enter END date for the date range you want the model to be trained on. Format of input: DD-MM-YY.30-11-20\n",
      "End date: 30-11-20\n",
      "No. of stocks with data successfully generated: 505.\n",
      "No. of stocks with KeyError: 0.\n",
      "No. of stocks with AssertionError: 0.\n"
     ]
    }
   ],
   "source": [
    "#Variables created.\n",
    "historical_data = {}\n",
    "counter = 0\n",
    "key_err = 0\n",
    "assert_err = 0\n",
    "tickers_key_err = []\n",
    "tickers_assert_err= []\n",
    "\n",
    "#User input - start date and end date\n",
    "while True:\n",
    "    try:\n",
    "        start_date_input = input(\"Please enter START date for the date range you want the model to be trained on. Format of input: DD-MM-YY.\")\n",
    "        start_date = datetime.strptime(start_date_input, '%d-%m-%y')\n",
    "        print(\"Start date: \" + str(start_date_input))\n",
    "        break\n",
    "    except ValueError:\n",
    "        print(\"                             \", end='\\r')\n",
    "        print(\"Please ensure input is in the format DD-MM-YY.\", end='\\r')\n",
    "\n",
    "while True:\n",
    "    try:\n",
    "        end_date_input = input(\"Please enter END date for the date range you want the model to be trained on. Format of input: DD-MM-YY.\")\n",
    "        end_date = datetime.strptime(end_date_input, '%d-%m-%y')\n",
    "        print(\"End date: \" + str(end_date_input))\n",
    "        break\n",
    "    except ValueError:\n",
    "        print(\"                             \", end='\\r')\n",
    "        print(\"Please ensure input is in the format DD-MM-YY.\", end='\\r')\n",
    "\n",
    "\n",
    "for ticker in sp500_list:\n",
    "    counter += 1\n",
    "    print(\"                             \", end='\\r')\n",
    "    print(str(ticker) + \" \" + str(counter), end='\\r')\n",
    "    try:\n",
    "        historical_data[ticker] = get_data(ticker, start_date = start_date_input, end_date = end_date_input)\n",
    "        historical_data[ticker] = historical_data[ticker].drop(labels='ticker',axis=1)\n",
    "        historical_data[ticker].columns = str(ticker) + \"_\" + historical_data[ticker].columns\n",
    "        \n",
    "    except KeyError:\n",
    "        historical_data[ticker] = None\n",
    "        key_err += 1\n",
    "        tickers_key_err.append(ticker)\n",
    "    except AssertionError:\n",
    "        historical_data[ticker] = None\n",
    "        assert_err += 1\n",
    "        tickers_assert_err.append(ticker)\n",
    "        \n",
    "print(\"No. of stocks with data successfully generated: \" + str(counter-key_err-assert_err) + \".\")\n",
    "print(\"No. of stocks with KeyError: \" + str(key_err) + \".\")\n",
    "if key_err>0:\n",
    "    print(\"Tickers with KeyError (to investigate if needed): \" + str(tickers_key_err))\n",
    "print(\"No. of stocks with AssertionError: \" + str(assert_err) + \".\")\n",
    "if assert_err>0:\n",
    "    print(\"Tickers with AssertionError (to investigate if needed): \" + str(tickers_assert_err))"
   ]
  },
  {
   "cell_type": "markdown",
   "metadata": {},
   "source": [
    "Merge the dictionary of dataframes column-wise on the index (which is the date). Drop all columns with NaN values."
   ]
  },
  {
   "cell_type": "code",
   "execution_count": 4,
   "metadata": {},
   "outputs": [
    {
     "data": {
      "text/plain": [
       "(5261, 2262)"
      ]
     },
     "execution_count": 4,
     "metadata": {},
     "output_type": "execute_result"
    }
   ],
   "source": [
    "merged_data = pd.concat(historical_data, axis=1)\n",
    "merged_data = merged_data.dropna(axis='columns')\n",
    "merged_tickers = list(set(merged_data.columns.get_level_values(0))) #Store all remaining tickers' names for further use later.\n",
    "merged_data.columns = merged_data.columns.droplevel(0)\n",
    "\n",
    "merged_data.head()\n",
    "merged_data.shape\n"
   ]
  },
  {
   "cell_type": "markdown",
   "metadata": {},
   "source": [
    "# Picking of target stock"
   ]
  },
  {
   "cell_type": "markdown",
   "metadata": {},
   "source": [
    "User to pick the target stock out of the remaining tickers in the pre-processed data for training and testing of the model."
   ]
  },
  {
   "cell_type": "code",
   "execution_count": 11,
   "metadata": {},
   "outputs": [
    {
     "name": "stdout",
     "output_type": "stream",
     "text": [
      "List of all tickers in data: \n",
      "['XOM', 'J', 'MKC', 'NVDA', 'K', 'HIG', 'FLIR', 'GPS', 'PHM', 'HAS', 'RL', 'KMX', 'LNT', 'GD', 'SCHW', 'DOV', 'LMT', 'MRK', 'CCI', 'POOL', 'BIO', 'AMT', 'SEE', 'HFC', 'SWKS', 'A', 'LOW', 'LHX', 'WY', 'BEN', 'TFX', 'PPG', 'SPGI', 'CLX', 'RSG', 'INTC', 'CMI', 'BXP', 'WELL', 'EA', 'BWA', 'CMS', 'UNP', 'BIIB', 'PWR', 'BK', 'ATO', 'RF', 'COO', 'WRB', 'DISH', 'MRO', 'NUE', 'CSCO', 'PGR', 'EMN', 'HES', 'JCI', 'NTAP', 'RJF', 'STE', 'ROP', 'LNC', 'SYY', 'MU', 'LUV', 'T', 'SLG', 'COG', 'YUM', 'MMM', 'AMZN', 'CPB', 'MAA', 'NOC', 'AOS', 'OKE', 'TXT', 'CMCSA', 'AVB', 'SIVB', 'JPM', 'F', 'JNJ', 'XRAY', 'ALXN', 'IDXX', 'IEX', 'IPG', 'DRI', 'AKAM', 'MNST', 'ZION', 'PCAR', 'BMY', 'BA', 'AFL', 'AEP', 'ATVI', 'TAP', 'NWL', 'ADP', 'URI', 'ABT', 'AMGN', 'HOLX', 'FITB', 'PVH', 'ETN', 'MCD', 'KIM', 'MMC', 'STT', 'CI', 'BSX', 'EIX', 'UPS', 'GE', 'TJX', 'CSX', 'ALL', 'LEG', 'TGT', 'BAC', 'EL', 'VZ', 'KSU', 'COST', 'CB', 'MXIM', 'XLNX', 'DUK', 'ADSK', 'EMR', 'ORLY', 'PEAK', 'DGX', 'GLW', 'ADM', 'PG', 'MSI', 'PAYX', 'FDX', 'IVZ', 'CTXS', 'WAT', 'TIF', 'TXN', 'ABMD', 'AMD', 'IFF', 'SNA', 'ALK', 'CMA', 'WAB', 'CCL', 'BLK', 'OXY', 'BKR', 'KEY', 'BF-B', 'VMC', 'MDT', 'MCK', 'DHI', 'LEN', 'JKHY', 'CDNS', 'AZO', 'MO', 'FCX', 'COF', 'DIS', 'AME', 'VNO', 'WHR', 'XEL', 'SNPS', 'NVR', 'SHW', 'HSY', 'L', 'VLO', 'NI', 'VTR', 'ROK', 'GL', 'FRT', 'WMB', 'FMC', 'TT', 'ORCL', 'LLY', 'UNM', 'NTRS', 'SLB', 'EFX', 'AVY', 'DRE', 'CHD', 'JBHT', 'WEC', 'TSN', 'LH', 'DTE', 'CHRW', 'KLAC', 'PSA', 'LIN', 'PPL', 'ZBRA', 'MCHP', 'NKE', 'NLOK', 'APA', 'HAL', 'PH', 'GPC', 'XRX', 'CVS', 'EQR', 'LB', 'GIS', 'REGN', 'GS', 'TFC', 'MOS', 'EXC', 'BDX', 'PEP', 'D', 'WDC', 'CPRT', 'AIG', 'C', 'RE', 'STZ', 'WBA', 'INCY', 'ADBE', 'COP', 'TSCO', 'TER', 'IT', 'RHI', 'CAT', 'PFE', 'WMT', 'CTSH', 'PXD', 'APD', 'BLL', 'TROW', 'ADI', 'PLD', 'HPQ', 'SRE', 'UNH', 'VAR', 'PRGO', 'TDY', 'DE', 'ARE', 'HUM', 'GWW', 'RCL', 'REG', 'ROL', 'HSIC', 'DHR', 'DVN', 'CL', 'BAX', 'PNC', 'RTX', 'CERN', 'AAPL', 'ED', 'DXC', 'FFIV', 'HON', 'INTU', 'AEE', 'SWK', 'VFC', 'CAG', 'WST', 'IP', 'SBUX', 'QCOM', 'FAST', 'CNP', 'USB', 'WFC', 'BKNG', 'O', 'SO', 'KO', 'HBAN', 'MGM', 'MAR', 'WM', 'AES', 'TMO', 'AJG', 'ITW', 'APH', 'TTWO', 'ALB', 'ETR', 'ABC', 'EVRG', 'TYL', 'MTB', 'LRCX', 'NOV', 'TRV', 'ESS', 'VRSN', 'PKI', 'SYK', 'MAS', 'NEM', 'UDR', 'EOG', 'KR', 'MTD', 'NSC', 'PBCT', 'ODFL', 'ES', 'IBM', 'DD', 'JNPR', 'VTRS', 'ECL', 'EXPD', 'VRTX', 'HRL', 'FLS', 'AIV', 'SJM', 'KMB', 'CAH', 'NEE', 'RMD', 'SBAC', 'MSFT', 'PNR', 'CTAS', 'MS', 'HD', 'OMC', 'MLM', 'FISV', 'EBAY', 'HST', 'CINF', 'BBY', 'ROST', 'ANSS', 'UHS', 'FE', 'PEG', 'GILD', 'CVX', 'AXP', 'MCO', 'MHK', 'BRK-B', 'DLTR', 'SPG', 'DVA', 'PNW', 'IRM', 'AON', 'AMAT']\n",
      "Indicate a ticker. Pick one from the print statement below.PVH\n"
     ]
    }
   ],
   "source": [
    "print(\"List of all tickers in data: \\n\" + str(merged_tickers))\n",
    "chosen_ticker = input(\"Indicate a ticker. Pick one from the print statement below.\")\n",
    "chosen_adjclose = chosen_ticker + \"_adjclose\""
   ]
  },
  {
   "cell_type": "markdown",
   "metadata": {},
   "source": [
    "# Exploratory Data Analysis"
   ]
  },
  {
   "cell_type": "markdown",
   "metadata": {},
   "source": [
    "Plot of price over time period for chosen stock's adjusted close and open prices."
   ]
  },
  {
   "cell_type": "code",
   "execution_count": 12,
   "metadata": {},
   "outputs": [
    {
     "data": {
      "text/plain": [
       "<matplotlib.legend.Legend at 0x1ecbd0cce80>"
      ]
     },
     "execution_count": 12,
     "metadata": {},
     "output_type": "execute_result"
    },
    {
     "data": {
      "image/png": "[encoded data removed]",
      "text/plain": [
       "<Figure size 432x288 with 1 Axes>"
      ]
     },
     "metadata": {
      "needs_background": "light"
     },
     "output_type": "display_data"
    }
   ],
   "source": [
    "\n",
    "%matplotlib inline\n",
    "merged_data[chosen_adjclose].plot()\n",
    "merged_data[chosen_ticker+\"_open\"].plot()\n",
    "plt.legend()"
   ]
  },
  {
   "cell_type": "markdown",
   "metadata": {},
   "source": [
    "Summary statistics over entire time period for chosen stock using pandas' describe function."
   ]
  },
  {
   "cell_type": "code",
   "execution_count": 13,
   "metadata": {},
   "outputs": [
    {
     "data": {
      "text/plain": [
       "count    5261.000000\n",
       "mean       62.258707\n",
       "std        42.630146\n",
       "min         5.307689\n",
       "25%        22.210590\n",
       "50%        53.264847\n",
       "75%       102.160294\n",
       "max       167.603027\n",
       "Name: PVH_adjclose, dtype: float64"
      ]
     },
     "execution_count": 13,
     "metadata": {},
     "output_type": "execute_result"
    }
   ],
   "source": [
    "merged_data[chosen_adjclose].describe()"
   ]
  },
  {
   "cell_type": "markdown",
   "metadata": {},
   "source": [
    "# Creating Target and Feature Variables"
   ]
  },
  {
   "cell_type": "code",
   "execution_count": 14,
   "metadata": {},
   "outputs": [
    {
     "name": "stdout",
     "output_type": "stream",
     "text": [
      "How many days would you like to lag the features by?1\n",
      "              MMM_open    MMM_high     MMM_low   MMM_close  MMM_adjclose  \\\n",
      "2000-01-03   48.031250   48.250000   47.031250   47.187500     27.815882   \n",
      "2000-01-04   46.437500   47.406250   45.312500   45.312500     26.710594   \n",
      "2000-01-05   45.562500   48.125000   45.562500   46.625000     27.484299   \n",
      "2000-01-06   47.156250   51.250000   47.156250   50.375000     29.694832   \n",
      "2000-01-07   50.562500   51.906250   49.968750   51.375000     30.284302   \n",
      "...                ...         ...         ...         ...           ...   \n",
      "2020-11-20  171.500000  172.949997  170.960007  172.889999    172.889999   \n",
      "2020-11-23  173.759995  174.860001  173.449997  174.139999    174.139999   \n",
      "2020-11-24  175.000000  177.220001  174.899994  177.080002    177.080002   \n",
      "2020-11-25  176.839996  177.339996  175.449997  177.119995    177.119995   \n",
      "2020-11-27  177.820007  179.630005  175.570007  176.889999    176.889999   \n",
      "\n",
      "            MMM_volume    ABT_open    ABT_high     ABT_low   ABT_close  ...  \\\n",
      "2000-01-03     2173400   15.823756   16.160431   15.599305   15.711531  ...   \n",
      "2000-01-04     2713800   15.459024   15.599305   15.150405   15.262630  ...   \n",
      "2000-01-05     3699400   15.066236   15.402911   15.066236   15.234573  ...   \n",
      "2000-01-06     5975800   15.262630   15.823756   15.178461   15.767643  ...   \n",
      "2000-01-07     4101200   15.487081   16.272657   15.487081   15.935981  ...   \n",
      "...                ...         ...         ...         ...         ...  ...   \n",
      "2020-11-20     2656900  110.739998  111.760002  110.070000  110.889999  ...   \n",
      "2020-11-23     2064300  111.430000  111.519997  108.860001  109.269997  ...   \n",
      "2020-11-24     3086000  109.309998  109.589996  107.250000  107.610001  ...   \n",
      "2020-11-25     2052200  107.050003  108.400002  105.629997  106.410004  ...   \n",
      "2020-11-27     1267100  106.669998  107.750000  105.870003  107.620003  ...   \n",
      "\n",
      "              ZBRA_low  ZBRA_close  ZBRA_adjclose  ZBRA_volume  ZION_open  \\\n",
      "2000-01-03   24.777779   25.027779      25.027779      1055700  59.031250   \n",
      "2000-01-04   23.000000   24.666666      24.666666       522400  54.625000   \n",
      "2000-01-05   23.555555   25.138889      25.138889       612100  52.750000   \n",
      "2000-01-06   23.722221   23.777779      23.777779       263800  52.750000   \n",
      "2000-01-07   23.111111   23.513889      23.513889       333900  53.750000   \n",
      "...                ...         ...            ...          ...        ...   \n",
      "2020-11-20  354.160004  354.989990     354.989990       694100  38.009998   \n",
      "2020-11-23  358.549988  362.690002     362.690002       590100  38.950001   \n",
      "2020-11-24  362.359985  373.470001     373.470001       566700  40.439999   \n",
      "2020-11-25  369.290009  372.730011     372.730011       345000  40.880001   \n",
      "2020-11-27  375.119995  377.000000     377.000000       206000  40.439999   \n",
      "\n",
      "            ZION_high   ZION_low  ZION_close  ZION_adjclose  ZION_volume  \n",
      "2000-01-03  59.125000  53.437500   55.500000      39.996193      1199600  \n",
      "2000-01-04  55.000000  52.500000   52.812500      38.059437       816100  \n",
      "2000-01-05  53.250000  51.062500   52.750000      38.014412      1124700  \n",
      "2000-01-06  54.937500  52.375000   53.500000      38.554890      1112100  \n",
      "2000-01-07  54.250000  53.312500   53.625000      38.644981       782000  \n",
      "...               ...        ...         ...            ...          ...  \n",
      "2020-11-20  38.540001  37.669998   38.279999      38.279999      2011400  \n",
      "2020-11-23  39.639999  38.720001   39.560001      39.560001      1872500  \n",
      "2020-11-24  42.240002  40.060001   41.860001      41.860001      2578600  \n",
      "2020-11-25  41.049999  40.310001   40.950001      40.950001      2633900  \n",
      "2020-11-27  41.020000  39.299999   39.459999      39.459999      2027900  \n",
      "\n",
      "[5261 rows x 2262 columns]\n",
      "              MMM_open    MMM_high     MMM_low   MMM_close  MMM_adjclose  \\\n",
      "2000-01-04   48.031250   48.250000   47.031250   47.187500     27.815882   \n",
      "2000-01-05   46.437500   47.406250   45.312500   45.312500     26.710594   \n",
      "2000-01-06   45.562500   48.125000   45.562500   46.625000     27.484299   \n",
      "2000-01-07   47.156250   51.250000   47.156250   50.375000     29.694832   \n",
      "2000-01-10   50.562500   51.906250   49.968750   51.375000     30.284302   \n",
      "...                ...         ...         ...         ...           ...   \n",
      "2020-11-20  170.570007  171.880005  169.300003  171.610001    171.610001   \n",
      "2020-11-23  171.500000  172.949997  170.960007  172.889999    172.889999   \n",
      "2020-11-24  173.759995  174.860001  173.449997  174.139999    174.139999   \n",
      "2020-11-25  175.000000  177.220001  174.899994  177.080002    177.080002   \n",
      "2020-11-27  176.839996  177.339996  175.449997  177.119995    177.119995   \n",
      "\n",
      "            MMM_volume    ABT_open    ABT_high     ABT_low   ABT_close  ...  \\\n",
      "2000-01-04   2173400.0   15.823756   16.160431   15.599305   15.711531  ...   \n",
      "2000-01-05   2713800.0   15.459024   15.599305   15.150405   15.262630  ...   \n",
      "2000-01-06   3699400.0   15.066236   15.402911   15.066236   15.234573  ...   \n",
      "2000-01-07   5975800.0   15.262630   15.823756   15.178461   15.767643  ...   \n",
      "2000-01-10   4101200.0   15.487081   16.272657   15.487081   15.935981  ...   \n",
      "...                ...         ...         ...         ...         ...  ...   \n",
      "2020-11-20   2986000.0  110.000000  111.199997  109.260002  111.000000  ...   \n",
      "2020-11-23   2656900.0  110.739998  111.760002  110.070000  110.889999  ...   \n",
      "2020-11-24   2064300.0  111.430000  111.519997  108.860001  109.269997  ...   \n",
      "2020-11-25   3086000.0  109.309998  109.589996  107.250000  107.610001  ...   \n",
      "2020-11-27   2052200.0  107.050003  108.400002  105.629997  106.410004  ...   \n",
      "\n",
      "              ZBRA_low  ZBRA_close  ZBRA_adjclose  ZBRA_volume  ZION_open  \\\n",
      "2000-01-04   24.777779   25.027779      25.027779    1055700.0  59.031250   \n",
      "2000-01-05   23.000000   24.666666      24.666666     522400.0  54.625000   \n",
      "2000-01-06   23.555555   25.138889      25.138889     612100.0  52.750000   \n",
      "2000-01-07   23.722221   23.777779      23.777779     263800.0  52.750000   \n",
      "2000-01-10   23.111111   23.513889      23.513889     333900.0  53.750000   \n",
      "...                ...         ...            ...          ...        ...   \n",
      "2020-11-20  333.059998  358.390015     358.390015    1189700.0  38.349998   \n",
      "2020-11-23  354.160004  354.989990     354.989990     694100.0  38.009998   \n",
      "2020-11-24  358.549988  362.690002     362.690002     590100.0  38.950001   \n",
      "2020-11-25  362.359985  373.470001     373.470001     566700.0  40.439999   \n",
      "2020-11-27  369.290009  372.730011     372.730011     345000.0  40.880001   \n",
      "\n",
      "            ZION_high   ZION_low  ZION_close  ZION_adjclose  ZION_volume  \n",
      "2000-01-04  59.125000  53.437500   55.500000      39.996193    1199600.0  \n",
      "2000-01-05  55.000000  52.500000   52.812500      38.059437     816100.0  \n",
      "2000-01-06  53.250000  51.062500   52.750000      38.014412    1124700.0  \n",
      "2000-01-07  54.937500  52.375000   53.500000      38.554890    1112100.0  \n",
      "2000-01-10  54.250000  53.312500   53.625000      38.644981     782000.0  \n",
      "...               ...        ...         ...            ...          ...  \n",
      "2020-11-20  38.700001  37.720001   38.389999      38.389999    1993500.0  \n",
      "2020-11-23  38.540001  37.669998   38.279999      38.279999    2011400.0  \n",
      "2020-11-24  39.639999  38.720001   39.560001      39.560001    1872500.0  \n",
      "2020-11-25  42.240002  40.060001   41.860001      41.860001    2578600.0  \n",
      "2020-11-27  41.049999  40.310001   40.950001      40.950001    2633900.0  \n",
      "\n",
      "[5260 rows x 2261 columns]\n"
     ]
    }
   ],
   "source": [
    "lagged_days = int(input(\"How many days would you like to lag the features by?\"))\n",
    "print(merged_data)\n",
    "features_wo_pca = merged_data.drop(columns = [chosen_adjclose]).shift(lagged_days).dropna()\n",
    "print(features_wo_pca)\n",
    "target = merged_data[chosen_adjclose][lagged_days:]"
   ]
  },
  {
   "cell_type": "markdown",
   "metadata": {},
   "source": [
    "# Dimensionality Reduction Using PCA"
   ]
  },
  {
   "cell_type": "markdown",
   "metadata": {},
   "source": [
    "Implement Principal Component Analysis (PCA) for dimensionality reduction using the sklearn library. This would help us to decide which features to pick to have the most explained variance with the least number of features.\n",
    "\n",
    "General steps:\n",
    "1. Scale/Normalise the feature variables\n",
    "2. Fit using the PCA method to obtain the actual components\n",
    "3. "
   ]
  },
  {
   "cell_type": "markdown",
   "metadata": {},
   "source": [
    "Below, we set the n_components to be 0.999. This means that the number of components chosen will be such that 99.9% of the variance is explained by them."
   ]
  },
  {
   "cell_type": "code",
   "execution_count": 15,
   "metadata": {},
   "outputs": [],
   "source": [
    "pca = PCA(n_components = 0.999)"
   ]
  },
  {
   "cell_type": "markdown",
   "metadata": {},
   "source": [
    "Scale the data using sklearn's StandardScaler module to ensure that the features all follow a standard normal distribution with a mean of zero and standard deviation of one."
   ]
  },
  {
   "cell_type": "code",
   "execution_count": 17,
   "metadata": {},
   "outputs": [],
   "source": [
    "stdscaler = StandardScaler()\n",
    "features_wo_pca_scaled = pd.DataFrame(stdscaler.fit_transform(features_wo_pca), \n",
    "                              columns = features_wo_pca.columns, \n",
    "                              index = features_wo_pca.index)"
   ]
  },
  {
   "cell_type": "markdown",
   "metadata": {},
   "source": [
    "We plot the cumulative explained variance against the number of components to get an illustration of the amount of variance explained by each cumulative component."
   ]
  },
  {
   "cell_type": "code",
   "execution_count": 18,
   "metadata": {},
   "outputs": [
    {
     "data": {
      "text/plain": [
       "Text(0, 0.5, 'cumulative explained variance')"
      ]
     },
     "execution_count": 18,
     "metadata": {},
     "output_type": "execute_result"
    },
    {
     "data": {
      "image/png": "[encoded data removed]",
      "text/plain": [
       "<Figure size 432x288 with 1 Axes>"
      ]
     },
     "metadata": {
      "needs_background": "light"
     },
     "output_type": "display_data"
    }
   ],
   "source": [
    "pca.fit(features_wo_pca_scaled)\n",
    "plt.plot(np.cumsum(pca.explained_variance_ratio_))\n",
    "plt.xlabel('number of components')\n",
    "plt.ylabel('cumulative explained variance')"
   ]
  },
  {
   "cell_type": "markdown",
   "metadata": {},
   "source": [
    "The following prints out the contribution of each original individual feature column to each newly created PCA component row. The index here represents each PCA component; the columns represent each original individual feature; the values represent the amount contributed by the individual feature to the PCA component. We will be able to identify which features contribute the most to each component if needed."
   ]
  },
  {
   "cell_type": "code",
   "execution_count": 23,
   "metadata": {},
   "outputs": [
    {
     "data": {
      "text/html": [
       "<div>\n",
       "<style scoped>\n",
       "    .dataframe tbody tr th:only-of-type {\n",
       "        vertical-align: middle;\n",
       "    }\n",
       "\n",
       "    .dataframe tbody tr th {\n",
       "        vertical-align: top;\n",
       "    }\n",
       "\n",
       "    .dataframe thead th {\n",
       "        text-align: right;\n",
       "    }\n",
       "</style>\n",
       "<table border=\"1\" class=\"dataframe\">\n",
       "  <thead>\n",
       "    <tr style=\"text-align: right;\">\n",
       "      <th></th>\n",
       "      <th>MMM_open</th>\n",
       "      <th>MMM_high</th>\n",
       "      <th>MMM_low</th>\n",
       "      <th>MMM_close</th>\n",
       "      <th>MMM_adjclose</th>\n",
       "      <th>MMM_volume</th>\n",
       "      <th>ABT_open</th>\n",
       "      <th>ABT_high</th>\n",
       "      <th>ABT_low</th>\n",
       "      <th>ABT_close</th>\n",
       "      <th>...</th>\n",
       "      <th>ZBRA_low</th>\n",
       "      <th>ZBRA_close</th>\n",
       "      <th>ZBRA_adjclose</th>\n",
       "      <th>ZBRA_volume</th>\n",
       "      <th>ZION_open</th>\n",
       "      <th>ZION_high</th>\n",
       "      <th>ZION_low</th>\n",
       "      <th>ZION_close</th>\n",
       "      <th>ZION_adjclose</th>\n",
       "      <th>ZION_volume</th>\n",
       "    </tr>\n",
       "  </thead>\n",
       "  <tbody>\n",
       "    <tr>\n",
       "      <th>0</th>\n",
       "      <td>0.025821</td>\n",
       "      <td>0.025843</td>\n",
       "      <td>0.025792</td>\n",
       "      <td>0.025813</td>\n",
       "      <td>0.026489</td>\n",
       "      <td>-0.009411</td>\n",
       "      <td>0.025711</td>\n",
       "      <td>0.025675</td>\n",
       "      <td>0.025757</td>\n",
       "      <td>0.025716</td>\n",
       "      <td>...</td>\n",
       "      <td>0.024266</td>\n",
       "      <td>0.024248</td>\n",
       "      <td>0.024248</td>\n",
       "      <td>-0.002230</td>\n",
       "      <td>-0.004858</td>\n",
       "      <td>-0.004943</td>\n",
       "      <td>-0.004773</td>\n",
       "      <td>-0.004863</td>\n",
       "      <td>-0.000082</td>\n",
       "      <td>0.003823</td>\n",
       "    </tr>\n",
       "    <tr>\n",
       "      <th>1</th>\n",
       "      <td>0.004039</td>\n",
       "      <td>0.003954</td>\n",
       "      <td>0.004141</td>\n",
       "      <td>0.004078</td>\n",
       "      <td>0.002834</td>\n",
       "      <td>0.005582</td>\n",
       "      <td>-0.011799</td>\n",
       "      <td>-0.011922</td>\n",
       "      <td>-0.011689</td>\n",
       "      <td>-0.011824</td>\n",
       "      <td>...</td>\n",
       "      <td>-0.020186</td>\n",
       "      <td>-0.020248</td>\n",
       "      <td>-0.020248</td>\n",
       "      <td>-0.012551</td>\n",
       "      <td>-0.040830</td>\n",
       "      <td>-0.040843</td>\n",
       "      <td>-0.040814</td>\n",
       "      <td>-0.040836</td>\n",
       "      <td>-0.038305</td>\n",
       "      <td>0.036987</td>\n",
       "    </tr>\n",
       "    <tr>\n",
       "      <th>2</th>\n",
       "      <td>-0.016311</td>\n",
       "      <td>-0.015952</td>\n",
       "      <td>-0.016796</td>\n",
       "      <td>-0.016380</td>\n",
       "      <td>-0.009636</td>\n",
       "      <td>0.035670</td>\n",
       "      <td>0.021233</td>\n",
       "      <td>0.021559</td>\n",
       "      <td>0.020790</td>\n",
       "      <td>0.021176</td>\n",
       "      <td>...</td>\n",
       "      <td>0.022635</td>\n",
       "      <td>0.022852</td>\n",
       "      <td>0.022852</td>\n",
       "      <td>-0.002010</td>\n",
       "      <td>-0.032692</td>\n",
       "      <td>-0.032083</td>\n",
       "      <td>-0.033277</td>\n",
       "      <td>-0.032698</td>\n",
       "      <td>-0.031260</td>\n",
       "      <td>0.034603</td>\n",
       "    </tr>\n",
       "    <tr>\n",
       "      <th>3</th>\n",
       "      <td>-0.000315</td>\n",
       "      <td>-0.000336</td>\n",
       "      <td>-0.000408</td>\n",
       "      <td>-0.000399</td>\n",
       "      <td>-0.002631</td>\n",
       "      <td>0.010228</td>\n",
       "      <td>-0.000088</td>\n",
       "      <td>-0.000136</td>\n",
       "      <td>-0.000083</td>\n",
       "      <td>-0.000121</td>\n",
       "      <td>...</td>\n",
       "      <td>0.008085</td>\n",
       "      <td>0.007993</td>\n",
       "      <td>0.007993</td>\n",
       "      <td>0.006962</td>\n",
       "      <td>0.062807</td>\n",
       "      <td>0.063082</td>\n",
       "      <td>0.062566</td>\n",
       "      <td>0.062782</td>\n",
       "      <td>0.069233</td>\n",
       "      <td>-0.008620</td>\n",
       "    </tr>\n",
       "    <tr>\n",
       "      <th>4</th>\n",
       "      <td>-0.014047</td>\n",
       "      <td>-0.013882</td>\n",
       "      <td>-0.014300</td>\n",
       "      <td>-0.014138</td>\n",
       "      <td>-0.010881</td>\n",
       "      <td>0.008620</td>\n",
       "      <td>0.000304</td>\n",
       "      <td>0.000400</td>\n",
       "      <td>0.000221</td>\n",
       "      <td>0.000327</td>\n",
       "      <td>...</td>\n",
       "      <td>-0.004324</td>\n",
       "      <td>-0.004287</td>\n",
       "      <td>-0.004287</td>\n",
       "      <td>-0.002572</td>\n",
       "      <td>0.004725</td>\n",
       "      <td>0.005666</td>\n",
       "      <td>0.003639</td>\n",
       "      <td>0.004598</td>\n",
       "      <td>0.005281</td>\n",
       "      <td>0.014686</td>\n",
       "    </tr>\n",
       "  </tbody>\n",
       "</table>\n",
       "<p>5 rows × 2261 columns</p>\n",
       "</div>"
      ],
      "text/plain": [
       "   MMM_open  MMM_high   MMM_low  MMM_close  MMM_adjclose  MMM_volume  \\\n",
       "0  0.025821  0.025843  0.025792   0.025813      0.026489   -0.009411   \n",
       "1  0.004039  0.003954  0.004141   0.004078      0.002834    0.005582   \n",
       "2 -0.016311 -0.015952 -0.016796  -0.016380     -0.009636    0.035670   \n",
       "3 -0.000315 -0.000336 -0.000408  -0.000399     -0.002631    0.010228   \n",
       "4 -0.014047 -0.013882 -0.014300  -0.014138     -0.010881    0.008620   \n",
       "\n",
       "   ABT_open  ABT_high   ABT_low  ABT_close  ...  ZBRA_low  ZBRA_close  \\\n",
       "0  0.025711  0.025675  0.025757   0.025716  ...  0.024266    0.024248   \n",
       "1 -0.011799 -0.011922 -0.011689  -0.011824  ... -0.020186   -0.020248   \n",
       "2  0.021233  0.021559  0.020790   0.021176  ...  0.022635    0.022852   \n",
       "3 -0.000088 -0.000136 -0.000083  -0.000121  ...  0.008085    0.007993   \n",
       "4  0.000304  0.000400  0.000221   0.000327  ... -0.004324   -0.004287   \n",
       "\n",
       "   ZBRA_adjclose  ZBRA_volume  ZION_open  ZION_high  ZION_low  ZION_close  \\\n",
       "0       0.024248    -0.002230  -0.004858  -0.004943 -0.004773   -0.004863   \n",
       "1      -0.020248    -0.012551  -0.040830  -0.040843 -0.040814   -0.040836   \n",
       "2       0.022852    -0.002010  -0.032692  -0.032083 -0.033277   -0.032698   \n",
       "3       0.007993     0.006962   0.062807   0.063082  0.062566    0.062782   \n",
       "4      -0.004287    -0.002572   0.004725   0.005666  0.003639    0.004598   \n",
       "\n",
       "   ZION_adjclose  ZION_volume  \n",
       "0      -0.000082     0.003823  \n",
       "1      -0.038305     0.036987  \n",
       "2      -0.031260     0.034603  \n",
       "3       0.069233    -0.008620  \n",
       "4       0.005281     0.014686  \n",
       "\n",
       "[5 rows x 2261 columns]"
      ]
     },
     "execution_count": 23,
     "metadata": {},
     "output_type": "execute_result"
    }
   ],
   "source": [
    "feature_contribution = pd.DataFrame(pca.components_, columns = features_wo_pca_scaled.columns)\n",
    "feature_contribution.head()"
   ]
  },
  {
   "cell_type": "code",
   "execution_count": 32,
   "metadata": {},
   "outputs": [
    {
     "name": "stdout",
     "output_type": "stream",
     "text": [
      "                  0          1          2          3          4          5    \\\n",
      "2000-01-04 -35.960830 -23.579301  -4.004063 -17.606716  14.536225  -0.372127   \n",
      "2000-01-05 -36.841245 -22.741855  -2.974723 -17.430708  13.302021  -0.389461   \n",
      "2000-01-06 -37.491520 -22.275745  -1.956787 -16.677781  12.761680   0.983279   \n",
      "2000-01-07 -37.301735 -21.763903  -2.366533 -16.251859  12.193519   0.954269   \n",
      "2000-01-10 -36.589816 -21.835334  -2.836171 -16.316980  12.691647   1.852844   \n",
      "...               ...        ...        ...        ...        ...        ...   \n",
      "2020-11-20  90.169296 -28.528439  30.310977   1.495465   1.250961 -14.550047   \n",
      "2020-11-23  90.277840 -28.426238  30.097223   1.156592   1.199209 -14.389981   \n",
      "2020-11-24  91.124485 -28.240306  29.776373   1.854405   1.762648 -14.223777   \n",
      "2020-11-25  93.313518 -25.874702  31.381588   3.383825   3.613377 -10.405121   \n",
      "2020-11-27  92.681564 -28.801861  27.525568   1.989690   2.620653 -14.966160   \n",
      "\n",
      "                  6         7          8         9    ...       486       487  \\\n",
      "2000-01-04   1.706657 -7.327746   3.621754  7.511531  ... -0.110224  0.398018   \n",
      "2000-01-05   1.525733 -7.450813   2.836300  7.086883  ... -0.055045  0.498718   \n",
      "2000-01-06   1.553558 -5.452083   3.588077  6.638226  ...  0.098036  0.601177   \n",
      "2000-01-07   1.244138 -5.767335   2.960805  5.892942  ...  0.235298  0.657297   \n",
      "2000-01-10   1.486235 -5.080775   3.583300  5.984275  ...  0.032910  0.633312   \n",
      "...               ...       ...        ...       ...  ...       ...       ...   \n",
      "2020-11-20  10.490217 -6.153985   8.100476 -8.733619  ... -0.494032  0.020219   \n",
      "2020-11-23  10.331974 -6.278571   8.397635 -8.610481  ... -0.489710  0.076614   \n",
      "2020-11-24  10.721894 -6.477433   8.803353 -8.399946  ... -0.358087  0.262308   \n",
      "2020-11-25  11.456213 -4.705400  11.141588 -7.312474  ... -0.309656  0.062271   \n",
      "2020-11-27   9.515653 -6.358779   7.916048 -8.956150  ... -0.327600  0.193673   \n",
      "\n",
      "                 488       489       490       491       492       493  \\\n",
      "2000-01-04 -0.387286  0.565083  0.130672  0.948282 -0.346777  0.054501   \n",
      "2000-01-05 -0.065509  0.411760  0.198697  0.898879 -0.265305  0.034225   \n",
      "2000-01-06  0.103127  0.306466  0.105419  0.780179 -0.185255 -0.090925   \n",
      "2000-01-07  0.145068  0.257777  0.197342  0.498964 -0.027994 -0.245036   \n",
      "2000-01-10  0.151406 -0.108728  0.212340  0.457569  0.228658 -0.132224   \n",
      "...              ...       ...       ...       ...       ...       ...   \n",
      "2020-11-20  0.176645 -0.214795  0.333137  0.626840 -0.130304 -0.160464   \n",
      "2020-11-23  0.400218  0.018018  0.424210  0.541314 -0.283602 -0.137963   \n",
      "2020-11-24  0.259293  0.034282  0.372148  0.710910 -0.032260 -0.176456   \n",
      "2020-11-25  0.168325  0.339940  0.377236  0.472572 -0.508764 -0.183850   \n",
      "2020-11-27  0.352994  0.407115  0.299646  0.581318 -0.644129 -0.161584   \n",
      "\n",
      "                 494       495  \n",
      "2000-01-04  0.255467  0.206305  \n",
      "2000-01-05  0.211210  0.170806  \n",
      "2000-01-06  0.156310 -0.015770  \n",
      "2000-01-07  0.111112 -0.014527  \n",
      "2000-01-10  0.291255 -0.031701  \n",
      "...              ...       ...  \n",
      "2020-11-20 -0.009996  0.100711  \n",
      "2020-11-23  0.013618  0.080218  \n",
      "2020-11-24 -0.389009 -0.018249  \n",
      "2020-11-25 -0.424874 -0.112961  \n",
      "2020-11-27 -0.235711 -0.085569  \n",
      "\n",
      "[5260 rows x 496 columns]\n",
      "(5260, 496)\n"
     ]
    }
   ],
   "source": [
    "features_w_pca = pd.DataFrame(pca.fit_transform(features_wo_pca_scaled), index = features_wo_pca_scaled.index)\n",
    "print(features_w_pca)\n",
    "print(features_w_pca.shape)"
   ]
  },
  {
   "cell_type": "markdown",
   "metadata": {},
   "source": [
    "Determine the proportion of the split between train and test set. Here, arbitrarily determined as 90% for training, 10% for testing. Note: For extremely large data sets, it may be good to specify a number value (as opposed to a percentage) for the test set as the test set need not be too large, and also it would be good for the training set to be larger where possible.\n"
   ]
  },
  {
   "cell_type": "code",
   "execution_count": 34,
   "metadata": {},
   "outputs": [
    {
     "name": "stdout",
     "output_type": "stream",
     "text": [
      "Check of train-test split: \n",
      "features = 5260\n",
      "features_train = 4735\n",
      "features_test = 525\n"
     ]
    }
   ],
   "source": [
    "traintest_index = int(len(features_w_pca) * 0.9) #This returns the row number for the boundary between train and test sets.\n",
    "traintest_value = features_w_pca.index[traintest_index] #This returns the datetimeindex at the row where we want to split between train and test sets.\n",
    "features_train = features_w_pca[features_w_pca.index <= traintest_value]\n",
    "features_test = features_w_pca[features_w_pca.index > traintest_value]\n",
    "target_train = target[target.index <= traintest_value]\n",
    "target_test = target[target.index > traintest_value]\n",
    "\n",
    "print(\"Check of train-test split: \")\n",
    "print(\"features = \" + str(len(features_w_pca)))\n",
    "print(\"features_train = \" + str(len(features_train)))\n",
    "print(\"features_test = \" + str(len(features_test)))\n"
   ]
  },
  {
   "cell_type": "markdown",
   "metadata": {},
   "source": [
    "Perform a min-max scaling on the features for both train and test sets using sklearn's MinMaxScaler module to ensure that data is all within the same scale."
   ]
  },
  {
   "cell_type": "code",
   "execution_count": 35,
   "metadata": {},
   "outputs": [
    {
     "data": {
      "text/html": [
       "<div>\n",
       "<style scoped>\n",
       "    .dataframe tbody tr th:only-of-type {\n",
       "        vertical-align: middle;\n",
       "    }\n",
       "\n",
       "    .dataframe tbody tr th {\n",
       "        vertical-align: top;\n",
       "    }\n",
       "\n",
       "    .dataframe thead th {\n",
       "        text-align: right;\n",
       "    }\n",
       "</style>\n",
       "<table border=\"1\" class=\"dataframe\">\n",
       "  <thead>\n",
       "    <tr style=\"text-align: right;\">\n",
       "      <th></th>\n",
       "      <th>0</th>\n",
       "      <th>1</th>\n",
       "      <th>2</th>\n",
       "      <th>3</th>\n",
       "      <th>4</th>\n",
       "      <th>5</th>\n",
       "      <th>6</th>\n",
       "      <th>7</th>\n",
       "      <th>8</th>\n",
       "      <th>9</th>\n",
       "      <th>...</th>\n",
       "      <th>486</th>\n",
       "      <th>487</th>\n",
       "      <th>488</th>\n",
       "      <th>489</th>\n",
       "      <th>490</th>\n",
       "      <th>491</th>\n",
       "      <th>492</th>\n",
       "      <th>493</th>\n",
       "      <th>494</th>\n",
       "      <th>495</th>\n",
       "    </tr>\n",
       "  </thead>\n",
       "  <tbody>\n",
       "    <tr>\n",
       "      <th>2000-01-04</th>\n",
       "      <td>0.080379</td>\n",
       "      <td>0.087100</td>\n",
       "      <td>0.279469</td>\n",
       "      <td>0.082147</td>\n",
       "      <td>0.715720</td>\n",
       "      <td>0.304781</td>\n",
       "      <td>0.632797</td>\n",
       "      <td>0.217604</td>\n",
       "      <td>0.548497</td>\n",
       "      <td>0.753618</td>\n",
       "      <td>...</td>\n",
       "      <td>0.453957</td>\n",
       "      <td>0.634916</td>\n",
       "      <td>0.198739</td>\n",
       "      <td>0.943656</td>\n",
       "      <td>0.555822</td>\n",
       "      <td>1.000000</td>\n",
       "      <td>0.279548</td>\n",
       "      <td>0.514891</td>\n",
       "      <td>0.678547</td>\n",
       "      <td>0.642109</td>\n",
       "    </tr>\n",
       "    <tr>\n",
       "      <th>2000-01-05</th>\n",
       "      <td>0.072514</td>\n",
       "      <td>0.100061</td>\n",
       "      <td>0.294985</td>\n",
       "      <td>0.085854</td>\n",
       "      <td>0.686425</td>\n",
       "      <td>0.304474</td>\n",
       "      <td>0.626673</td>\n",
       "      <td>0.212683</td>\n",
       "      <td>0.522273</td>\n",
       "      <td>0.735442</td>\n",
       "      <td>...</td>\n",
       "      <td>0.490334</td>\n",
       "      <td>0.694827</td>\n",
       "      <td>0.437243</td>\n",
       "      <td>0.822970</td>\n",
       "      <td>0.600978</td>\n",
       "      <td>0.968028</td>\n",
       "      <td>0.324812</td>\n",
       "      <td>0.498866</td>\n",
       "      <td>0.647273</td>\n",
       "      <td>0.616586</td>\n",
       "    </tr>\n",
       "    <tr>\n",
       "      <th>2000-01-06</th>\n",
       "      <td>0.066705</td>\n",
       "      <td>0.107275</td>\n",
       "      <td>0.310330</td>\n",
       "      <td>0.101712</td>\n",
       "      <td>0.673600</td>\n",
       "      <td>0.328824</td>\n",
       "      <td>0.627615</td>\n",
       "      <td>0.292608</td>\n",
       "      <td>0.547372</td>\n",
       "      <td>0.716239</td>\n",
       "      <td>...</td>\n",
       "      <td>0.591255</td>\n",
       "      <td>0.755785</td>\n",
       "      <td>0.562237</td>\n",
       "      <td>0.740089</td>\n",
       "      <td>0.539058</td>\n",
       "      <td>0.891211</td>\n",
       "      <td>0.369286</td>\n",
       "      <td>0.399949</td>\n",
       "      <td>0.608478</td>\n",
       "      <td>0.482449</td>\n",
       "    </tr>\n",
       "    <tr>\n",
       "      <th>2000-01-07</th>\n",
       "      <td>0.068400</td>\n",
       "      <td>0.115197</td>\n",
       "      <td>0.304153</td>\n",
       "      <td>0.110682</td>\n",
       "      <td>0.660114</td>\n",
       "      <td>0.328309</td>\n",
       "      <td>0.617142</td>\n",
       "      <td>0.280002</td>\n",
       "      <td>0.526429</td>\n",
       "      <td>0.684339</td>\n",
       "      <td>...</td>\n",
       "      <td>0.681747</td>\n",
       "      <td>0.789173</td>\n",
       "      <td>0.593324</td>\n",
       "      <td>0.701763</td>\n",
       "      <td>0.600078</td>\n",
       "      <td>0.709221</td>\n",
       "      <td>0.456656</td>\n",
       "      <td>0.278142</td>\n",
       "      <td>0.576539</td>\n",
       "      <td>0.483343</td>\n",
       "    </tr>\n",
       "    <tr>\n",
       "      <th>2000-01-10</th>\n",
       "      <td>0.074760</td>\n",
       "      <td>0.114091</td>\n",
       "      <td>0.297074</td>\n",
       "      <td>0.109311</td>\n",
       "      <td>0.671937</td>\n",
       "      <td>0.344248</td>\n",
       "      <td>0.625336</td>\n",
       "      <td>0.307456</td>\n",
       "      <td>0.547213</td>\n",
       "      <td>0.688248</td>\n",
       "      <td>...</td>\n",
       "      <td>0.548320</td>\n",
       "      <td>0.774903</td>\n",
       "      <td>0.598022</td>\n",
       "      <td>0.413273</td>\n",
       "      <td>0.610034</td>\n",
       "      <td>0.682432</td>\n",
       "      <td>0.599247</td>\n",
       "      <td>0.367307</td>\n",
       "      <td>0.703836</td>\n",
       "      <td>0.470995</td>\n",
       "    </tr>\n",
       "  </tbody>\n",
       "</table>\n",
       "<p>5 rows × 496 columns</p>\n",
       "</div>"
      ],
      "text/plain": [
       "                 0         1         2         3         4         5    \\\n",
       "2000-01-04  0.080379  0.087100  0.279469  0.082147  0.715720  0.304781   \n",
       "2000-01-05  0.072514  0.100061  0.294985  0.085854  0.686425  0.304474   \n",
       "2000-01-06  0.066705  0.107275  0.310330  0.101712  0.673600  0.328824   \n",
       "2000-01-07  0.068400  0.115197  0.304153  0.110682  0.660114  0.328309   \n",
       "2000-01-10  0.074760  0.114091  0.297074  0.109311  0.671937  0.344248   \n",
       "\n",
       "                 6         7         8         9    ...       486       487  \\\n",
       "2000-01-04  0.632797  0.217604  0.548497  0.753618  ...  0.453957  0.634916   \n",
       "2000-01-05  0.626673  0.212683  0.522273  0.735442  ...  0.490334  0.694827   \n",
       "2000-01-06  0.627615  0.292608  0.547372  0.716239  ...  0.591255  0.755785   \n",
       "2000-01-07  0.617142  0.280002  0.526429  0.684339  ...  0.681747  0.789173   \n",
       "2000-01-10  0.625336  0.307456  0.547213  0.688248  ...  0.548320  0.774903   \n",
       "\n",
       "                 488       489       490       491       492       493  \\\n",
       "2000-01-04  0.198739  0.943656  0.555822  1.000000  0.279548  0.514891   \n",
       "2000-01-05  0.437243  0.822970  0.600978  0.968028  0.324812  0.498866   \n",
       "2000-01-06  0.562237  0.740089  0.539058  0.891211  0.369286  0.399949   \n",
       "2000-01-07  0.593324  0.701763  0.600078  0.709221  0.456656  0.278142   \n",
       "2000-01-10  0.598022  0.413273  0.610034  0.682432  0.599247  0.367307   \n",
       "\n",
       "                 494       495  \n",
       "2000-01-04  0.678547  0.642109  \n",
       "2000-01-05  0.647273  0.616586  \n",
       "2000-01-06  0.608478  0.482449  \n",
       "2000-01-07  0.576539  0.483343  \n",
       "2000-01-10  0.703836  0.470995  \n",
       "\n",
       "[5 rows x 496 columns]"
      ]
     },
     "execution_count": 35,
     "metadata": {},
     "output_type": "execute_result"
    }
   ],
   "source": [
    "from sklearn.preprocessing import MinMaxScaler\n",
    "minmax_scaler = MinMaxScaler()\n",
    "features_train = pd.DataFrame(minmax_scaler.fit_transform(features_train), \n",
    "                              columns = features_train.columns, \n",
    "                              index = features_train.index)\n",
    "features_train.head()"
   ]
  },
  {
   "cell_type": "code",
   "execution_count": 36,
   "metadata": {},
   "outputs": [
    {
     "data": {
      "text/html": [
       "<div>\n",
       "<style scoped>\n",
       "    .dataframe tbody tr th:only-of-type {\n",
       "        vertical-align: middle;\n",
       "    }\n",
       "\n",
       "    .dataframe tbody tr th {\n",
       "        vertical-align: top;\n",
       "    }\n",
       "\n",
       "    .dataframe thead th {\n",
       "        text-align: right;\n",
       "    }\n",
       "</style>\n",
       "<table border=\"1\" class=\"dataframe\">\n",
       "  <thead>\n",
       "    <tr style=\"text-align: right;\">\n",
       "      <th></th>\n",
       "      <th>0</th>\n",
       "      <th>1</th>\n",
       "      <th>2</th>\n",
       "      <th>3</th>\n",
       "      <th>4</th>\n",
       "      <th>5</th>\n",
       "      <th>6</th>\n",
       "      <th>7</th>\n",
       "      <th>8</th>\n",
       "      <th>9</th>\n",
       "      <th>...</th>\n",
       "      <th>486</th>\n",
       "      <th>487</th>\n",
       "      <th>488</th>\n",
       "      <th>489</th>\n",
       "      <th>490</th>\n",
       "      <th>491</th>\n",
       "      <th>492</th>\n",
       "      <th>493</th>\n",
       "      <th>494</th>\n",
       "      <th>495</th>\n",
       "    </tr>\n",
       "  </thead>\n",
       "  <tbody>\n",
       "    <tr>\n",
       "      <th>2018-10-29</th>\n",
       "      <td>0.875252</td>\n",
       "      <td>0.425817</td>\n",
       "      <td>0.478146</td>\n",
       "      <td>0.533456</td>\n",
       "      <td>0.482429</td>\n",
       "      <td>0.498332</td>\n",
       "      <td>0.257328</td>\n",
       "      <td>0.841514</td>\n",
       "      <td>0.579623</td>\n",
       "      <td>0.676318</td>\n",
       "      <td>...</td>\n",
       "      <td>0.341479</td>\n",
       "      <td>0.377094</td>\n",
       "      <td>0.469358</td>\n",
       "      <td>0.413579</td>\n",
       "      <td>0.505290</td>\n",
       "      <td>0.477242</td>\n",
       "      <td>0.518151</td>\n",
       "      <td>0.587434</td>\n",
       "      <td>0.526365</td>\n",
       "      <td>0.385769</td>\n",
       "    </tr>\n",
       "    <tr>\n",
       "      <th>2018-10-30</th>\n",
       "      <td>0.878221</td>\n",
       "      <td>0.394994</td>\n",
       "      <td>0.435028</td>\n",
       "      <td>0.518013</td>\n",
       "      <td>0.457065</td>\n",
       "      <td>0.441966</td>\n",
       "      <td>0.254965</td>\n",
       "      <td>0.787320</td>\n",
       "      <td>0.513921</td>\n",
       "      <td>0.616001</td>\n",
       "      <td>...</td>\n",
       "      <td>0.389504</td>\n",
       "      <td>0.524942</td>\n",
       "      <td>0.572302</td>\n",
       "      <td>0.350136</td>\n",
       "      <td>0.395795</td>\n",
       "      <td>0.298301</td>\n",
       "      <td>0.374947</td>\n",
       "      <td>0.468043</td>\n",
       "      <td>0.531575</td>\n",
       "      <td>0.631645</td>\n",
       "    </tr>\n",
       "    <tr>\n",
       "      <th>2018-10-31</th>\n",
       "      <td>0.888327</td>\n",
       "      <td>0.410240</td>\n",
       "      <td>0.463616</td>\n",
       "      <td>0.532553</td>\n",
       "      <td>0.483092</td>\n",
       "      <td>0.497826</td>\n",
       "      <td>0.272644</td>\n",
       "      <td>0.833142</td>\n",
       "      <td>0.563438</td>\n",
       "      <td>0.666957</td>\n",
       "      <td>...</td>\n",
       "      <td>0.534884</td>\n",
       "      <td>0.443831</td>\n",
       "      <td>0.391402</td>\n",
       "      <td>0.427944</td>\n",
       "      <td>0.490002</td>\n",
       "      <td>0.461486</td>\n",
       "      <td>0.574012</td>\n",
       "      <td>0.418455</td>\n",
       "      <td>0.424211</td>\n",
       "      <td>0.391805</td>\n",
       "    </tr>\n",
       "    <tr>\n",
       "      <th>2018-11-01</th>\n",
       "      <td>0.903761</td>\n",
       "      <td>0.420945</td>\n",
       "      <td>0.464332</td>\n",
       "      <td>0.537950</td>\n",
       "      <td>0.496545</td>\n",
       "      <td>0.502125</td>\n",
       "      <td>0.262292</td>\n",
       "      <td>0.824587</td>\n",
       "      <td>0.607344</td>\n",
       "      <td>0.669668</td>\n",
       "      <td>...</td>\n",
       "      <td>0.461528</td>\n",
       "      <td>0.462837</td>\n",
       "      <td>0.583542</td>\n",
       "      <td>0.220315</td>\n",
       "      <td>0.590792</td>\n",
       "      <td>0.207562</td>\n",
       "      <td>0.364914</td>\n",
       "      <td>0.378403</td>\n",
       "      <td>0.544209</td>\n",
       "      <td>0.643660</td>\n",
       "    </tr>\n",
       "    <tr>\n",
       "      <th>2018-11-02</th>\n",
       "      <td>0.910758</td>\n",
       "      <td>0.378046</td>\n",
       "      <td>0.414131</td>\n",
       "      <td>0.517292</td>\n",
       "      <td>0.472534</td>\n",
       "      <td>0.437999</td>\n",
       "      <td>0.222036</td>\n",
       "      <td>0.744151</td>\n",
       "      <td>0.545691</td>\n",
       "      <td>0.614900</td>\n",
       "      <td>...</td>\n",
       "      <td>0.388386</td>\n",
       "      <td>0.395109</td>\n",
       "      <td>0.665392</td>\n",
       "      <td>0.273621</td>\n",
       "      <td>0.626084</td>\n",
       "      <td>0.254833</td>\n",
       "      <td>0.325976</td>\n",
       "      <td>0.360611</td>\n",
       "      <td>0.575743</td>\n",
       "      <td>0.830991</td>\n",
       "    </tr>\n",
       "  </tbody>\n",
       "</table>\n",
       "<p>5 rows × 496 columns</p>\n",
       "</div>"
      ],
      "text/plain": [
       "                 0         1         2         3         4         5    \\\n",
       "2018-10-29  0.875252  0.425817  0.478146  0.533456  0.482429  0.498332   \n",
       "2018-10-30  0.878221  0.394994  0.435028  0.518013  0.457065  0.441966   \n",
       "2018-10-31  0.888327  0.410240  0.463616  0.532553  0.483092  0.497826   \n",
       "2018-11-01  0.903761  0.420945  0.464332  0.537950  0.496545  0.502125   \n",
       "2018-11-02  0.910758  0.378046  0.414131  0.517292  0.472534  0.437999   \n",
       "\n",
       "                 6         7         8         9    ...       486       487  \\\n",
       "2018-10-29  0.257328  0.841514  0.579623  0.676318  ...  0.341479  0.377094   \n",
       "2018-10-30  0.254965  0.787320  0.513921  0.616001  ...  0.389504  0.524942   \n",
       "2018-10-31  0.272644  0.833142  0.563438  0.666957  ...  0.534884  0.443831   \n",
       "2018-11-01  0.262292  0.824587  0.607344  0.669668  ...  0.461528  0.462837   \n",
       "2018-11-02  0.222036  0.744151  0.545691  0.614900  ...  0.388386  0.395109   \n",
       "\n",
       "                 488       489       490       491       492       493  \\\n",
       "2018-10-29  0.469358  0.413579  0.505290  0.477242  0.518151  0.587434   \n",
       "2018-10-30  0.572302  0.350136  0.395795  0.298301  0.374947  0.468043   \n",
       "2018-10-31  0.391402  0.427944  0.490002  0.461486  0.574012  0.418455   \n",
       "2018-11-01  0.583542  0.220315  0.590792  0.207562  0.364914  0.378403   \n",
       "2018-11-02  0.665392  0.273621  0.626084  0.254833  0.325976  0.360611   \n",
       "\n",
       "                 494       495  \n",
       "2018-10-29  0.526365  0.385769  \n",
       "2018-10-30  0.531575  0.631645  \n",
       "2018-10-31  0.424211  0.391805  \n",
       "2018-11-01  0.544209  0.643660  \n",
       "2018-11-02  0.575743  0.830991  \n",
       "\n",
       "[5 rows x 496 columns]"
      ]
     },
     "execution_count": 36,
     "metadata": {},
     "output_type": "execute_result"
    }
   ],
   "source": [
    "features_test = pd.DataFrame(minmax_scaler.transform(features_test), \n",
    "                             columns = features_test.columns, \n",
    "                             index = features_test.index)\n",
    "features_test.head()"
   ]
  },
  {
   "cell_type": "markdown",
   "metadata": {},
   "source": [
    "Sequence generation"
   ]
  },
  {
   "cell_type": "code",
   "execution_count": 65,
   "metadata": {},
   "outputs": [
    {
     "data": {
      "text/plain": [
       "(4730, 5, 496)"
      ]
     },
     "execution_count": 65,
     "metadata": {},
     "output_type": "execute_result"
    }
   ],
   "source": [
    "sequence_length = 5\n",
    "def gen_sequence(df, seq_length):\n",
    "    data_array = df.values\n",
    "    num_elements = data_array.shape[0]\n",
    "    for start, stop in zip(range(0, num_elements-seq_length), range(seq_length, num_elements)):\n",
    "        yield data_array[start:stop, :]\n",
    "\n",
    "seq_array = np.array(list(gen_sequence(features_train,sequence_length)))\n",
    "seq_array.shape"
   ]
  },
  {
   "cell_type": "code",
   "execution_count": 66,
   "metadata": {},
   "outputs": [
    {
     "data": {
      "text/plain": [
       "(4730,)"
      ]
     },
     "execution_count": 66,
     "metadata": {},
     "output_type": "execute_result"
    }
   ],
   "source": [
    "def gen_labels(df, seq_length):\n",
    "    data_array = df.values\n",
    "    num_elements = data_array.shape[0]\n",
    "    return data_array[seq_length:num_elements]\n",
    "\n",
    "label_array = np.array(list(gen_labels(target_train,sequence_length)))\n",
    "label_array.shape"
   ]
  },
  {
   "cell_type": "code",
   "execution_count": 67,
   "metadata": {},
   "outputs": [
    {
     "data": {
      "text/plain": [
       "(520, 5, 496)"
      ]
     },
     "execution_count": 67,
     "metadata": {},
     "output_type": "execute_result"
    }
   ],
   "source": [
    "seq_array_test = np.array(list(gen_sequence(features_test,sequence_length)))\n",
    "seq_array_test.shape"
   ]
  },
  {
   "cell_type": "code",
   "execution_count": 68,
   "metadata": {},
   "outputs": [
    {
     "data": {
      "text/plain": [
       "(520,)"
      ]
     },
     "execution_count": 68,
     "metadata": {},
     "output_type": "execute_result"
    }
   ],
   "source": [
    "label_array_test = np.array(list(gen_labels(target_test,sequence_length)))\n",
    "label_array_test.shape"
   ]
  },
  {
   "cell_type": "markdown",
   "metadata": {},
   "source": [
    "# Benchmark Model - Linear Regression"
   ]
  },
  {
   "cell_type": "code",
   "execution_count": 69,
   "metadata": {},
   "outputs": [
    {
     "data": {
      "text/plain": [
       "LinearRegression()"
      ]
     },
     "execution_count": 69,
     "metadata": {},
     "output_type": "execute_result"
    }
   ],
   "source": [
    "from sklearn.linear_model import LinearRegression\n",
    "linearregression = LinearRegression()\n",
    "linearregression.fit(np.array([seq_array[i][sequence_length-1] for i in range(seq_array.shape[0])]),label_array)"
   ]
  },
  {
   "cell_type": "code",
   "execution_count": 70,
   "metadata": {},
   "outputs": [],
   "source": [
    "prediction = linearregression.predict(np.array([seq_array_test[i][sequence_length-1] for i in range(seq_array_test.shape[0])]))\n"
   ]
  },
  {
   "cell_type": "code",
   "execution_count": 71,
   "metadata": {},
   "outputs": [],
   "source": [
    "pd.DataFrame([prediction,label_array_test]).T\\\n",
    ".rename({0:'prediction',1:'truth'},axis=1)\\\n",
    ".set_index(target.index[target.index> target.index[int(len(target) * 0.9) + sequence_length]])\\\n",
    ".to_csv('LR_prediction.csv')"
   ]
  },
  {
   "cell_type": "code",
   "execution_count": 72,
   "metadata": {},
   "outputs": [
    {
     "data": {
      "image/png": "[encoded data removed]",
      "text/plain": [
       "<Figure size 432x288 with 1 Axes>"
      ]
     },
     "metadata": {
      "needs_background": "light"
     },
     "output_type": "display_data"
    }
   ],
   "source": [
    "plt.plot(prediction, label='prediction')\n",
    "plt.plot(label_array_test, label='truth')\n",
    "plt.legend()\n",
    "plt.show()"
   ]
  },
  {
   "cell_type": "code",
   "execution_count": 73,
   "metadata": {},
   "outputs": [
    {
     "data": {
      "text/plain": [
       "(0.1804221565436953, 23.252182732238516)"
      ]
     },
     "execution_count": 73,
     "metadata": {},
     "output_type": "execute_result"
    }
   ],
   "source": [
    "from sklearn.metrics import r2_score, mean_squared_error\n",
    "r2_score(label_array_test,prediction),np.sqrt(mean_squared_error(label_array_test,prediction))"
   ]
  },
  {
   "cell_type": "markdown",
   "metadata": {},
   "source": [
    "# Neural Network"
   ]
  },
  {
   "cell_type": "markdown",
   "metadata": {},
   "source": [
    "LSTM model"
   ]
  },
  {
   "cell_type": "code",
   "execution_count": 74,
   "metadata": {
    "scrolled": true
   },
   "outputs": [],
   "source": [
    "from tensorflow import keras\n",
    "from keras.models import Sequential\n",
    "from keras.layers import Dense, Dropout, LSTM\n",
    "\n",
    "# build the network\n",
    "nb_features = seq_array.shape[2]\n",
    "\n",
    "model = Sequential()\n",
    "\n",
    "model.add(LSTM(\n",
    "         input_shape=(sequence_length, nb_features),\n",
    "         units=100,\n",
    "         return_sequences=True))\n",
    "model.add(Dropout(0.2))\n",
    "\n",
    "model.add(LSTM(\n",
    "         input_shape=(sequence_length, nb_features),\n",
    "         units=100,\n",
    "         return_sequences=True))\n",
    "model.add(Dropout(0.2))\n",
    "\n",
    "model.add(LSTM(\n",
    "          units=50,\n",
    "          return_sequences=False))\n",
    "model.add(Dropout(0.2))\n",
    "\n",
    "model.add(Dense(1))\n",
    "model.compile(loss='mae', optimizer='nadam', metrics=['mean_squared_error'])"
   ]
  },
  {
   "cell_type": "code",
   "execution_count": 75,
   "metadata": {},
   "outputs": [
    {
     "name": "stdout",
     "output_type": "stream",
     "text": [
      "Model: \"sequential_1\"\n",
      "_________________________________________________________________\n",
      "Layer (type)                 Output Shape              Param #   \n",
      "=================================================================\n",
      "lstm_3 (LSTM)                (None, 5, 100)            238800    \n",
      "_________________________________________________________________\n",
      "dropout_3 (Dropout)          (None, 5, 100)            0         \n",
      "_________________________________________________________________\n",
      "lstm_4 (LSTM)                (None, 5, 100)            80400     \n",
      "_________________________________________________________________\n",
      "dropout_4 (Dropout)          (None, 5, 100)            0         \n",
      "_________________________________________________________________\n",
      "lstm_5 (LSTM)                (None, 50)                30200     \n",
      "_________________________________________________________________\n",
      "dropout_5 (Dropout)          (None, 50)                0         \n",
      "_________________________________________________________________\n",
      "dense_1 (Dense)              (None, 1)                 51        \n",
      "=================================================================\n",
      "Total params: 349,451\n",
      "Trainable params: 349,451\n",
      "Non-trainable params: 0\n",
      "_________________________________________________________________\n"
     ]
    }
   ],
   "source": [
    "model.summary()"
   ]
  },
  {
   "cell_type": "code",
   "execution_count": 76,
   "metadata": {},
   "outputs": [],
   "source": [
    "history = model.fit(seq_array, label_array, epochs=1000, batch_size=500, validation_split=0.1, verbose=0)"
   ]
  },
  {
   "cell_type": "code",
   "execution_count": 77,
   "metadata": {},
   "outputs": [
    {
     "data": {
      "image/png": "[encoded data removed]",
      "text/plain": [
       "<Figure size 432x288 with 1 Axes>"
      ]
     },
     "metadata": {
      "needs_background": "light"
     },
     "output_type": "display_data"
    }
   ],
   "source": [
    "\n",
    "plt.plot(history.history['loss'], label='train')\n",
    "plt.plot(history.history['val_loss'], label='valid')\n",
    "plt.legend()\n",
    "plt.show()"
   ]
  },
  {
   "cell_type": "code",
   "execution_count": 78,
   "metadata": {},
   "outputs": [],
   "source": [
    "pd.DataFrame([history.history['loss'],history.history['val_loss']]).T\\\n",
    ".rename({0:'train',1:'test'},axis=1)\\\n",
    ".to_csv('history.csv')"
   ]
  },
  {
   "cell_type": "code",
   "execution_count": 79,
   "metadata": {},
   "outputs": [
    {
     "data": {
      "image/png": "[encoded data removed]",
      "text/plain": [
       "<Figure size 432x288 with 1 Axes>"
      ]
     },
     "metadata": {
      "needs_background": "light"
     },
     "output_type": "display_data"
    }
   ],
   "source": [
    "prediction = model.predict(seq_array_test)\n",
    "plt.plot(prediction, label='prediction')\n",
    "plt.plot(label_array_test, label='truth')\n",
    "plt.legend()\n",
    "plt.show()"
   ]
  },
  {
   "cell_type": "code",
   "execution_count": 80,
   "metadata": {},
   "outputs": [],
   "source": [
    "pd.DataFrame([np.squeeze(prediction),label_array_test]).T\\\n",
    ".rename({0:'prediction',1:'truth'},axis=1)\\\n",
    ".set_index(target.index[target.index> target.index[int(len(target) * 0.9) + sequence_length]])\\\n",
    ".to_csv('LSTM_prediction.csv')"
   ]
  },
  {
   "cell_type": "code",
   "execution_count": 81,
   "metadata": {},
   "outputs": [
    {
     "data": {
      "text/plain": [
       "(-0.1466005137307802, 27.502659292024653)"
      ]
     },
     "execution_count": 81,
     "metadata": {},
     "output_type": "execute_result"
    }
   ],
   "source": [
    "r2_score(label_array_test,prediction),np.sqrt(mean_squared_error(label_array_test,prediction))"
   ]
  }
 ],
 "metadata": {
  "kernelspec": {
   "display_name": "Python 3",
   "language": "python",
   "name": "python3"
  },
  "language_info": {
   "codemirror_mode": {
    "name": "ipython",
    "version": 3
   },
   "file_extension": ".py",
   "mimetype": "text/x-python",
   "name": "python",
   "nbconvert_exporter": "python",
   "pygments_lexer": "ipython3",
   "version": "3.8.5"
  }
 },
 "nbformat": 4,
 "nbformat_minor": 2
}
