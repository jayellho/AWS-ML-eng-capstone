{
 "cells": [
  {
   "cell_type": "markdown",
   "metadata": {},
   "source": [
    "# Import relevant libraries"
   ]
  },
  {
   "cell_type": "markdown",
   "metadata": {},
   "source": [
    "Imports the relevant python libraries needed."
   ]
  },
  {
   "cell_type": "code",
   "execution_count": 1,
   "metadata": {},
   "outputs": [],
   "source": [
    "import yahoo_fin\n",
    "import yahoo_fin.stock_info as si\n",
    "from yahoo_fin.stock_info import get_data\n",
    "import numpy as np\n",
    "import pandas as pd\n",
    "import datetime\n",
    "from datetime import datetime\n",
    "import matplotlib.pyplot as plt\n",
    "from sklearn.decomposition import PCA\n",
    "from sklearn.preprocessing import StandardScaler\n",
    "\n"
   ]
  },
  {
   "cell_type": "markdown",
   "metadata": {},
   "source": [
    "# Import and preprocess data"
   ]
  },
  {
   "cell_type": "markdown",
   "metadata": {},
   "source": [
    "Data is scraped from Yahoo!Finance for all S&P 500 companies using the yahoo_fin Python library."
   ]
  },
  {
   "cell_type": "markdown",
   "metadata": {},
   "source": [
    "The below extracts the list of S&P500 companies' tickers. 2 of the tickers' values were replaced so that they can be searched using the yahoo_fin library."
   ]
  },
  {
   "cell_type": "code",
   "execution_count": 2,
   "metadata": {},
   "outputs": [],
   "source": [
    "sp500_list = pd.read_html('https://en.wikipedia.org/wiki/List_of_S%26P_500_companies', attrs={'class': 'wikitable sortable'},header=0)[0]['Symbol']\n",
    "sp500_list.replace(to_replace='BRK.B',value='BRK-B',inplace=True)\n",
    "sp500_list.replace(to_replace='BF.B',value='BF-B',inplace=True)"
   ]
  },
  {
   "cell_type": "markdown",
   "metadata": {},
   "source": [
    "The below extracts the information from Yahoo!Finance according to the start date and end date specified. Information for each ticker is extracted for the 'daily' time interval."
   ]
  },
  {
   "cell_type": "code",
   "execution_count": 3,
   "metadata": {},
   "outputs": [
    {
     "name": "stdout",
     "output_type": "stream",
     "text": [
      "Please enter START date for the date range you want the model to be trained on. Format of input: DD-MM-YY.01-01-00\n",
      "Start date: 01-01-00\n",
      "Please enter END date for the date range you want the model to be trained on. Format of input: DD-MM-YY.30-11-20\n",
      "End date: 30-11-20\n",
      "No. of stocks with data successfully generated: 505.\n",
      "No. of stocks with KeyError: 0.\n",
      "No. of stocks with AssertionError: 0.\n"
     ]
    }
   ],
   "source": [
    "#Variables created.\n",
    "historical_data = {}\n",
    "counter = 0\n",
    "key_err = 0\n",
    "assert_err = 0\n",
    "tickers_key_err = []\n",
    "tickers_assert_err= []\n",
    "\n",
    "#User input - start date and end date\n",
    "while True:\n",
    "    try:\n",
    "        start_date_input = input(\"Please enter START date for the date range you want the model to be trained on. Format of input: DD-MM-YY.\")\n",
    "        start_date = datetime.strptime(start_date_input, '%d-%m-%y')\n",
    "        print(\"Start date: \" + str(start_date_input))\n",
    "        break\n",
    "    except ValueError:\n",
    "        print(\"                             \", end='\\r')\n",
    "        print(\"Please ensure input is in the format DD-MM-YY.\", end='\\r')\n",
    "\n",
    "while True:\n",
    "    try:\n",
    "        end_date_input = input(\"Please enter END date for the date range you want the model to be trained on. Format of input: DD-MM-YY.\")\n",
    "        end_date = datetime.strptime(end_date_input, '%d-%m-%y')\n",
    "        print(\"End date: \" + str(end_date_input))\n",
    "        break\n",
    "    except ValueError:\n",
    "        print(\"                             \", end='\\r')\n",
    "        print(\"Please ensure input is in the format DD-MM-YY.\", end='\\r')\n",
    "\n",
    "\n",
    "for ticker in sp500_list:\n",
    "    counter += 1\n",
    "    print(\"                             \", end='\\r')\n",
    "    print(str(ticker) + \" \" + str(counter), end='\\r')\n",
    "    try:\n",
    "        historical_data[ticker] = get_data(ticker, start_date = start_date_input, end_date = end_date_input)\n",
    "        historical_data[ticker] = historical_data[ticker].drop(labels='ticker',axis=1)\n",
    "        historical_data[ticker].columns = str(ticker) + \"_\" + historical_data[ticker].columns\n",
    "        \n",
    "    except KeyError:\n",
    "        historical_data[ticker] = None\n",
    "        key_err += 1\n",
    "        tickers_key_err.append(ticker)\n",
    "    except AssertionError:\n",
    "        historical_data[ticker] = None\n",
    "        assert_err += 1\n",
    "        tickers_assert_err.append(ticker)\n",
    "        \n",
    "print(\"No. of stocks with data successfully generated: \" + str(counter-key_err-assert_err) + \".\")\n",
    "print(\"No. of stocks with KeyError: \" + str(key_err) + \".\")\n",
    "if key_err>0:\n",
    "    print(\"Tickers with KeyError (to investigate if needed): \" + str(tickers_key_err))\n",
    "print(\"No. of stocks with AssertionError: \" + str(assert_err) + \".\")\n",
    "if assert_err>0:\n",
    "    print(\"Tickers with AssertionError (to investigate if needed): \" + str(tickers_assert_err))"
   ]
  },
  {
   "cell_type": "markdown",
   "metadata": {},
   "source": [
    "Merge the dictionary of dataframes column-wise on the index (which is the date). Drop all columns with NaN values."
   ]
  },
  {
   "cell_type": "code",
   "execution_count": 4,
   "metadata": {},
   "outputs": [
    {
     "data": {
      "text/plain": [
       "(5261, 2256)"
      ]
     },
     "execution_count": 4,
     "metadata": {},
     "output_type": "execute_result"
    }
   ],
   "source": [
    "merged_data = pd.concat(historical_data, axis=1)\n",
    "merged_data = merged_data.dropna(axis='columns')\n",
    "merged_tickers = list(set(merged_data.columns.get_level_values(0))) #Store all remaining tickers' names for further use later.\n",
    "merged_data.columns = merged_data.columns.droplevel(0)\n",
    "\n",
    "merged_data.head()\n",
    "merged_data.shape\n"
   ]
  },
  {
   "cell_type": "markdown",
   "metadata": {},
   "source": [
    "# Picking of target stock"
   ]
  },
  {
   "cell_type": "markdown",
   "metadata": {},
   "source": [
    "User to pick the target stock out of the remaining tickers in the pre-processed data for training and testing of the model."
   ]
  },
  {
   "cell_type": "code",
   "execution_count": 5,
   "metadata": {},
   "outputs": [
    {
     "name": "stdout",
     "output_type": "stream",
     "text": [
      "List of all tickers in data: \n",
      "['WAT', 'SJM', 'IFF', 'AXP', 'ZION', 'JNPR', 'EL', 'ADM', 'OKE', 'PRGO', 'PXD', 'DISH', 'SEE', 'GWW', 'ODFL', 'AMD', 'FDX', 'CCL', 'INTU', 'ALL', 'DD', 'ECL', 'SYK', 'WBA', 'PBCT', 'MDT', 'MU', 'AES', 'CMS', 'NVR', 'CHRW', 'CVX', 'NI', 'TFC', 'LHX', 'REGN', 'URI', 'CLX', 'PGR', 'PVH', 'HD', 'ADI', 'MCD', 'MSI', 'HIG', 'CDNS', 'EMR', 'RTX', 'HOLX', 'GIS', 'PSA', 'SYY', 'CL', 'SBUX', 'COST', 'RJF', 'JCI', 'REG', 'EA', 'MRO', 'AJG', 'PNR', 'EFX', 'MTB', 'STZ', 'UDR', 'VRSN', 'CINF', 'BMY', 'BIO', 'SO', 'F', 'VZ', 'USB', 'CMI', 'BAX', 'DTE', 'BIIB', 'ES', 'ROK', 'SLG', 'SNPS', 'WFC', 'AZO', 'ABC', 'POOL', 'TRV', 'RHI', 'VNO', 'BWA', 'NEM', 'HSIC', 'PPL', 'PKI', 'PHM', 'SCHW', 'FITB', 'GS', 'T', 'HUM', 'CSX', 'XRAY', 'SPG', 'KIM', 'SBAC', 'NUE', 'L', 'EXPD', 'DUK', 'VLO', 'ROST', 'GILD', 'TFX', 'ZBRA', 'MNST', 'DOV', 'COO', 'DRE', 'ORCL', 'AEE', 'COF', 'LRCX', 'NOC', 'AVY', 'ROP', 'TIF', 'NKE', 'WMB', 'IDXX', 'BK', 'TDY', 'FLIR', 'TAP', 'AMZN', 'PPG', 'TROW', 'NEE', 'ETR', 'C', 'HBAN', 'EMN', 'INTC', 'PG', 'UHS', 'SWKS', 'STE', 'PCAR', 'CAT', 'J', 'IVZ', 'XEL', 'STT', 'VRTX', 'CVS', 'MAR', 'BSX', 'EQR', 'FE', 'O', 'CERN', 'ANSS', 'DGX', 'GPS', 'SIVB', 'PWR', 'MXIM', 'FFIV', 'SWK', 'LEG', 'VTRS', 'GL', 'ED', 'TER', 'IP', 'JNJ', 'HSY', 'GLW', 'LNC', 'EVRG', 'SHW', 'UNM', 'K', 'XLNX', 'LEN', 'CPB', 'PEG', 'ALXN', 'GD', 'ATVI', 'PFE', 'TSCO', 'CHD', 'RL', 'BXP', 'ADP', 'CTXS', 'AKAM', 'AEP', 'WHR', 'WDC', 'UNP', 'KSU', 'OXY', 'TXT', 'LIN', 'EBAY', 'MKC', 'AON', 'COG', 'RSG', 'ORLY', 'ADSK', 'HPQ', 'SNA', 'LNT', 'CMCSA', 'MHK', 'VTR', 'WAB', 'ADBE', 'PEAK', 'RE', 'MO', 'AMT', 'CB', 'MS', 'LUV', 'GPC', 'CTSH', 'BAC', 'PAYX', 'AMAT', 'HST', 'UPS', 'ARE', 'IT', 'IEX', 'PNC', 'AMGN', 'NTRS', 'WRB', 'MSFT', 'MOS', 'FMC', 'LH', 'NOV', 'DHR', 'TMO', 'WM', 'ETN', 'BEN', 'TT', 'BLL', 'MAS', 'A', 'MCK', 'WMT', 'BDX', 'AIG', 'DHI', 'TTWO', 'UNH', 'CCI', 'ITW', 'CNP', 'BA', 'CAG', 'IRM', 'WST', 'JKHY', 'SLB', 'WEC', 'ATO', 'DE', 'DRI', 'NWL', 'SPGI', 'HES', 'KR', 'CI', 'DVN', 'KEY', 'MMC', 'EOG', 'COP', 'BKNG', 'BF-B', 'ABT', 'BKR', 'EXC', 'FAST', 'HAL', 'XRX', 'APH', 'HAS', 'PH', 'PNW', 'CSCO', 'MAA', 'SRE', 'RF', 'NSC', 'WY', 'APA', 'DLTR', 'ALB', 'EIX', 'GE', 'CPRT', 'FRT', 'TSN', 'VAR', 'MLM', 'RMD', 'LLY', 'IBM', 'VFC', 'AAPL', 'FISV', 'AME', 'XOM', 'APD', 'HRL', 'YUM', 'ALK', 'KO', 'INCY', 'D', 'LB', 'AOS', 'DIS', 'CTAS', 'CAH', 'JBHT', 'RCL', 'HFC', 'NTAP', 'TXN', 'ABMD', 'ESS', 'MGM', 'LOW', 'LMT', 'NVDA', 'CMA', 'NLOK', 'DVA', 'FCX', 'IPG', 'VMC', 'WELL', 'BBY', 'MMM', 'KMX', 'PLD', 'TGT', 'BLK', 'BRK-B', 'DXC', 'OMC', 'TYL', 'PEP', 'KLAC', 'MCO', 'MTD', 'ROL', 'TJX', 'AFL', 'JPM', 'AVB', 'KMB', 'MRK', 'FLS', 'QCOM', 'HON', 'MCHP']\n",
      "Indicate a ticker. Pick one from the print statement below.PPG\n"
     ]
    }
   ],
   "source": [
    "print(\"List of all tickers in data: \\n\" + str(merged_tickers))\n",
    "chosen_ticker = input(\"Indicate a ticker. Pick one from the print statement below.\")\n",
    "chosen_adjclose = chosen_ticker + \"_adjclose\""
   ]
  },
  {
   "cell_type": "markdown",
   "metadata": {},
   "source": [
    "# Exploratory Data Analysis"
   ]
  },
  {
   "cell_type": "markdown",
   "metadata": {},
   "source": [
    "Plot of price over time period for chosen stock's adjusted close, open, high, low and close prices."
   ]
  },
  {
   "cell_type": "code",
   "execution_count": 6,
   "metadata": {},
   "outputs": [
    {
     "data": {
      "text/plain": [
       "<matplotlib.legend.Legend at 0x1ba0fc61580>"
      ]
     },
     "execution_count": 6,
     "metadata": {},
     "output_type": "execute_result"
    },
    {
     "data": {
      "image/png": "[encoded data removed]",
      "text/plain": [
       "<Figure size 432x288 with 1 Axes>"
      ]
     },
     "metadata": {
      "needs_background": "light"
     },
     "output_type": "display_data"
    }
   ],
   "source": [
    "\n",
    "%matplotlib inline\n",
    "merged_data[chosen_adjclose].plot()\n",
    "merged_data[chosen_ticker+\"_open\"].plot()\n",
    "merged_data[chosen_ticker+\"_high\"].plot()\n",
    "merged_data[chosen_ticker+\"_low\"].plot()\n",
    "merged_data[chosen_ticker+\"_close\"].plot()\n",
    "\n",
    "\n",
    "plt.legend()"
   ]
  },
  {
   "cell_type": "markdown",
   "metadata": {},
   "source": [
    "Summary statistics over entire time period for chosen stock using pandas' describe function."
   ]
  },
  {
   "cell_type": "code",
   "execution_count": 7,
   "metadata": {},
   "outputs": [
    {
     "data": {
      "text/plain": [
       "count    5261.000000\n",
       "mean       51.795033\n",
       "std        37.803501\n",
       "min        10.860846\n",
       "25%        20.305990\n",
       "50%        28.547291\n",
       "75%        93.142494\n",
       "max       147.929993\n",
       "Name: PPG_adjclose, dtype: float64"
      ]
     },
     "execution_count": 7,
     "metadata": {},
     "output_type": "execute_result"
    }
   ],
   "source": [
    "merged_data[chosen_adjclose].describe()"
   ]
  },
  {
   "cell_type": "markdown",
   "metadata": {},
   "source": [
    "# Creating Target and Feature Variables"
   ]
  },
  {
   "cell_type": "code",
   "execution_count": 8,
   "metadata": {},
   "outputs": [
    {
     "name": "stdout",
     "output_type": "stream",
     "text": [
      "How many days would you like to lag the features by?1\n",
      "              MMM_open    MMM_high     MMM_low   MMM_close  MMM_adjclose  \\\n",
      "2000-01-03   48.031250   48.250000   47.031250   47.187500     27.815882   \n",
      "2000-01-04   46.437500   47.406250   45.312500   45.312500     26.710594   \n",
      "2000-01-05   45.562500   48.125000   45.562500   46.625000     27.484299   \n",
      "2000-01-06   47.156250   51.250000   47.156250   50.375000     29.694832   \n",
      "2000-01-07   50.562500   51.906250   49.968750   51.375000     30.284302   \n",
      "...                ...         ...         ...         ...           ...   \n",
      "2020-11-20  171.500000  172.949997  170.960007  172.889999    172.889999   \n",
      "2020-11-23  173.759995  174.860001  173.449997  174.139999    174.139999   \n",
      "2020-11-24  175.000000  177.220001  174.899994  177.080002    177.080002   \n",
      "2020-11-25  176.839996  177.339996  175.449997  177.119995    177.119995   \n",
      "2020-11-27  177.820007  179.630005  175.570007  176.889999    176.889999   \n",
      "\n",
      "            MMM_volume    ABT_open    ABT_high     ABT_low   ABT_close  ...  \\\n",
      "2000-01-03     2173400   15.823756   16.160431   15.599305   15.711531  ...   \n",
      "2000-01-04     2713800   15.459024   15.599305   15.150405   15.262630  ...   \n",
      "2000-01-05     3699400   15.066236   15.402911   15.066236   15.234573  ...   \n",
      "2000-01-06     5975800   15.262630   15.823756   15.178461   15.767643  ...   \n",
      "2000-01-07     4101200   15.487081   16.272657   15.487081   15.935981  ...   \n",
      "...                ...         ...         ...         ...         ...  ...   \n",
      "2020-11-20     2656900  110.739998  111.760002  110.070000  110.889999  ...   \n",
      "2020-11-23     2064300  111.430000  111.519997  108.860001  109.269997  ...   \n",
      "2020-11-24     3086000  109.309998  109.589996  107.250000  107.610001  ...   \n",
      "2020-11-25     2052200  107.050003  108.400002  105.629997  106.410004  ...   \n",
      "2020-11-27     1267100  106.669998  107.750000  105.870003  107.620003  ...   \n",
      "\n",
      "              ZBRA_low  ZBRA_close  ZBRA_adjclose  ZBRA_volume  ZION_open  \\\n",
      "2000-01-03   24.777779   25.027779      25.027779      1055700  59.031250   \n",
      "2000-01-04   23.000000   24.666666      24.666666       522400  54.625000   \n",
      "2000-01-05   23.555555   25.138889      25.138889       612100  52.750000   \n",
      "2000-01-06   23.722221   23.777779      23.777779       263800  52.750000   \n",
      "2000-01-07   23.111111   23.513889      23.513889       333900  53.750000   \n",
      "...                ...         ...            ...          ...        ...   \n",
      "2020-11-20  354.160004  354.989990     354.989990       694100  38.009998   \n",
      "2020-11-23  358.549988  362.690002     362.690002       590100  38.950001   \n",
      "2020-11-24  362.359985  373.470001     373.470001       566700  40.439999   \n",
      "2020-11-25  369.290009  372.730011     372.730011       345000  40.880001   \n",
      "2020-11-27  375.119995  377.000000     377.000000       206000  40.439999   \n",
      "\n",
      "            ZION_high   ZION_low  ZION_close  ZION_adjclose  ZION_volume  \n",
      "2000-01-03  59.125000  53.437500   55.500000      39.996193      1199600  \n",
      "2000-01-04  55.000000  52.500000   52.812500      38.059437       816100  \n",
      "2000-01-05  53.250000  51.062500   52.750000      38.014412      1124700  \n",
      "2000-01-06  54.937500  52.375000   53.500000      38.554890      1112100  \n",
      "2000-01-07  54.250000  53.312500   53.625000      38.644981       782000  \n",
      "...               ...        ...         ...            ...          ...  \n",
      "2020-11-20  38.540001  37.669998   38.279999      38.279999      2011400  \n",
      "2020-11-23  39.639999  38.720001   39.560001      39.560001      1872500  \n",
      "2020-11-24  42.240002  40.060001   41.860001      41.860001      2578600  \n",
      "2020-11-25  41.049999  40.310001   40.950001      40.950001      2633900  \n",
      "2020-11-27  41.020000  39.299999   39.459999      39.459999      2027900  \n",
      "\n",
      "[5261 rows x 2256 columns]\n",
      "              MMM_open    MMM_high     MMM_low   MMM_close  MMM_adjclose  \\\n",
      "2000-01-04   48.031250   48.250000   47.031250   47.187500     27.815882   \n",
      "2000-01-05   46.437500   47.406250   45.312500   45.312500     26.710594   \n",
      "2000-01-06   45.562500   48.125000   45.562500   46.625000     27.484299   \n",
      "2000-01-07   47.156250   51.250000   47.156250   50.375000     29.694832   \n",
      "2000-01-10   50.562500   51.906250   49.968750   51.375000     30.284302   \n",
      "...                ...         ...         ...         ...           ...   \n",
      "2020-11-20  170.570007  171.880005  169.300003  171.610001    171.610001   \n",
      "2020-11-23  171.500000  172.949997  170.960007  172.889999    172.889999   \n",
      "2020-11-24  173.759995  174.860001  173.449997  174.139999    174.139999   \n",
      "2020-11-25  175.000000  177.220001  174.899994  177.080002    177.080002   \n",
      "2020-11-27  176.839996  177.339996  175.449997  177.119995    177.119995   \n",
      "\n",
      "            MMM_volume    ABT_open    ABT_high     ABT_low   ABT_close  ...  \\\n",
      "2000-01-04   2173400.0   15.823756   16.160431   15.599305   15.711531  ...   \n",
      "2000-01-05   2713800.0   15.459024   15.599305   15.150405   15.262630  ...   \n",
      "2000-01-06   3699400.0   15.066236   15.402911   15.066236   15.234573  ...   \n",
      "2000-01-07   5975800.0   15.262630   15.823756   15.178461   15.767643  ...   \n",
      "2000-01-10   4101200.0   15.487081   16.272657   15.487081   15.935981  ...   \n",
      "...                ...         ...         ...         ...         ...  ...   \n",
      "2020-11-20   2986000.0  110.000000  111.199997  109.260002  111.000000  ...   \n",
      "2020-11-23   2656900.0  110.739998  111.760002  110.070000  110.889999  ...   \n",
      "2020-11-24   2064300.0  111.430000  111.519997  108.860001  109.269997  ...   \n",
      "2020-11-25   3086000.0  109.309998  109.589996  107.250000  107.610001  ...   \n",
      "2020-11-27   2052200.0  107.050003  108.400002  105.629997  106.410004  ...   \n",
      "\n",
      "              ZBRA_low  ZBRA_close  ZBRA_adjclose  ZBRA_volume  ZION_open  \\\n",
      "2000-01-04   24.777779   25.027779      25.027779    1055700.0  59.031250   \n",
      "2000-01-05   23.000000   24.666666      24.666666     522400.0  54.625000   \n",
      "2000-01-06   23.555555   25.138889      25.138889     612100.0  52.750000   \n",
      "2000-01-07   23.722221   23.777779      23.777779     263800.0  52.750000   \n",
      "2000-01-10   23.111111   23.513889      23.513889     333900.0  53.750000   \n",
      "...                ...         ...            ...          ...        ...   \n",
      "2020-11-20  333.059998  358.390015     358.390015    1189700.0  38.349998   \n",
      "2020-11-23  354.160004  354.989990     354.989990     694100.0  38.009998   \n",
      "2020-11-24  358.549988  362.690002     362.690002     590100.0  38.950001   \n",
      "2020-11-25  362.359985  373.470001     373.470001     566700.0  40.439999   \n",
      "2020-11-27  369.290009  372.730011     372.730011     345000.0  40.880001   \n",
      "\n",
      "            ZION_high   ZION_low  ZION_close  ZION_adjclose  ZION_volume  \n",
      "2000-01-04  59.125000  53.437500   55.500000      39.996193    1199600.0  \n",
      "2000-01-05  55.000000  52.500000   52.812500      38.059437     816100.0  \n",
      "2000-01-06  53.250000  51.062500   52.750000      38.014412    1124700.0  \n",
      "2000-01-07  54.937500  52.375000   53.500000      38.554890    1112100.0  \n",
      "2000-01-10  54.250000  53.312500   53.625000      38.644981     782000.0  \n",
      "...               ...        ...         ...            ...          ...  \n",
      "2020-11-20  38.700001  37.720001   38.389999      38.389999    1993500.0  \n",
      "2020-11-23  38.540001  37.669998   38.279999      38.279999    2011400.0  \n",
      "2020-11-24  39.639999  38.720001   39.560001      39.560001    1872500.0  \n",
      "2020-11-25  42.240002  40.060001   41.860001      41.860001    2578600.0  \n",
      "2020-11-27  41.049999  40.310001   40.950001      40.950001    2633900.0  \n",
      "\n",
      "[5260 rows x 2255 columns]\n",
      "2000-01-04     16.998617\n",
      "2000-01-05     17.640415\n",
      "2000-01-06     18.483931\n",
      "2000-01-07     18.814003\n",
      "2000-01-10     18.227203\n",
      "                 ...    \n",
      "2020-11-20    143.039993\n",
      "2020-11-23    144.779999\n",
      "2020-11-24    147.929993\n",
      "2020-11-25    146.690002\n",
      "2020-11-27    147.779999\n",
      "Name: PPG_adjclose, Length: 5260, dtype: float64\n"
     ]
    }
   ],
   "source": [
    "lagged_days = int(input(\"How many days would you like to lag the features by?\"))\n",
    "print(merged_data)\n",
    "features_wo_pca = merged_data.drop(columns = [chosen_adjclose]).shift(lagged_days).dropna()\n",
    "print(features_wo_pca)\n",
    "target = merged_data[chosen_adjclose][lagged_days:]\n",
    "print(target)"
   ]
  },
  {
   "cell_type": "markdown",
   "metadata": {},
   "source": [
    "# Dimensionality Reduction Using PCA"
   ]
  },
  {
   "cell_type": "markdown",
   "metadata": {},
   "source": [
    "Implement Principal Component Analysis (PCA) for dimensionality reduction using the sklearn library. This would help us to decide which features to pick to have the most explained variance with the least number of features."
   ]
  },
  {
   "cell_type": "markdown",
   "metadata": {},
   "source": [
    "Below, we set the n_components to be 0.999. This means that the number of components chosen will be such that 99.9% of the variance is explained by them."
   ]
  },
  {
   "cell_type": "code",
   "execution_count": 9,
   "metadata": {},
   "outputs": [],
   "source": [
    "pca = PCA(n_components = 0.999)\n"
   ]
  },
  {
   "cell_type": "markdown",
   "metadata": {},
   "source": [
    "Scale the data using sklearn's StandardScaler module to ensure that the features all follow a standard normal distribution with a mean of zero and standard deviation of one."
   ]
  },
  {
   "cell_type": "code",
   "execution_count": 10,
   "metadata": {},
   "outputs": [],
   "source": [
    "stdscaler = StandardScaler()\n",
    "features_wo_pca_scaled = pd.DataFrame(stdscaler.fit_transform(features_wo_pca), \n",
    "                              columns = features_wo_pca.columns, \n",
    "                              index = features_wo_pca.index)"
   ]
  },
  {
   "cell_type": "markdown",
   "metadata": {},
   "source": [
    "We plot the cumulative explained variance against the number of components to get an illustration of the amount of variance explained by each cumulative component."
   ]
  },
  {
   "cell_type": "code",
   "execution_count": 11,
   "metadata": {},
   "outputs": [
    {
     "data": {
      "text/plain": [
       "Text(0, 0.5, 'cumulative explained variance')"
      ]
     },
     "execution_count": 11,
     "metadata": {},
     "output_type": "execute_result"
    },
    {
     "data": {
      "image/png": "[encoded data removed]",
      "text/plain": [
       "<Figure size 432x288 with 1 Axes>"
      ]
     },
     "metadata": {
      "needs_background": "light"
     },
     "output_type": "display_data"
    }
   ],
   "source": [
    "pca.fit(features_wo_pca_scaled)\n",
    "plt.plot(np.cumsum(pca.explained_variance_ratio_))\n",
    "plt.xlabel('number of components')\n",
    "plt.ylabel('cumulative explained variance')"
   ]
  },
  {
   "cell_type": "markdown",
   "metadata": {},
   "source": [
    "The following prints out the contribution of each original individual feature column to each newly created PCA component row. The index here represents each PCA component; the columns represent each original individual feature; the values represent the amount contributed by the individual feature to the PCA component. We will be able to identify which features contribute the most to each component if needed."
   ]
  },
  {
   "cell_type": "code",
   "execution_count": 12,
   "metadata": {},
   "outputs": [
    {
     "data": {
      "text/html": [
       "<div>\n",
       "<style scoped>\n",
       "    .dataframe tbody tr th:only-of-type {\n",
       "        vertical-align: middle;\n",
       "    }\n",
       "\n",
       "    .dataframe tbody tr th {\n",
       "        vertical-align: top;\n",
       "    }\n",
       "\n",
       "    .dataframe thead th {\n",
       "        text-align: right;\n",
       "    }\n",
       "</style>\n",
       "<table border=\"1\" class=\"dataframe\">\n",
       "  <thead>\n",
       "    <tr style=\"text-align: right;\">\n",
       "      <th></th>\n",
       "      <th>MMM_open</th>\n",
       "      <th>MMM_high</th>\n",
       "      <th>MMM_low</th>\n",
       "      <th>MMM_close</th>\n",
       "      <th>MMM_adjclose</th>\n",
       "      <th>MMM_volume</th>\n",
       "      <th>ABT_open</th>\n",
       "      <th>ABT_high</th>\n",
       "      <th>ABT_low</th>\n",
       "      <th>ABT_close</th>\n",
       "      <th>...</th>\n",
       "      <th>ZBRA_low</th>\n",
       "      <th>ZBRA_close</th>\n",
       "      <th>ZBRA_adjclose</th>\n",
       "      <th>ZBRA_volume</th>\n",
       "      <th>ZION_open</th>\n",
       "      <th>ZION_high</th>\n",
       "      <th>ZION_low</th>\n",
       "      <th>ZION_close</th>\n",
       "      <th>ZION_adjclose</th>\n",
       "      <th>ZION_volume</th>\n",
       "    </tr>\n",
       "  </thead>\n",
       "  <tbody>\n",
       "    <tr>\n",
       "      <th>0</th>\n",
       "      <td>0.025837</td>\n",
       "      <td>0.025859</td>\n",
       "      <td>0.025807</td>\n",
       "      <td>0.025829</td>\n",
       "      <td>0.026505</td>\n",
       "      <td>-0.009413</td>\n",
       "      <td>0.025724</td>\n",
       "      <td>0.025689</td>\n",
       "      <td>0.025771</td>\n",
       "      <td>0.025730</td>\n",
       "      <td>...</td>\n",
       "      <td>0.024276</td>\n",
       "      <td>0.024258</td>\n",
       "      <td>0.024258</td>\n",
       "      <td>-0.002239</td>\n",
       "      <td>-0.004886</td>\n",
       "      <td>-0.004971</td>\n",
       "      <td>-0.004801</td>\n",
       "      <td>-0.004891</td>\n",
       "      <td>-0.000106</td>\n",
       "      <td>0.003844</td>\n",
       "    </tr>\n",
       "    <tr>\n",
       "      <th>1</th>\n",
       "      <td>0.004188</td>\n",
       "      <td>0.004098</td>\n",
       "      <td>0.004297</td>\n",
       "      <td>0.004228</td>\n",
       "      <td>0.002882</td>\n",
       "      <td>0.005224</td>\n",
       "      <td>-0.012191</td>\n",
       "      <td>-0.012319</td>\n",
       "      <td>-0.012076</td>\n",
       "      <td>-0.012216</td>\n",
       "      <td>...</td>\n",
       "      <td>-0.020621</td>\n",
       "      <td>-0.020686</td>\n",
       "      <td>-0.020686</td>\n",
       "      <td>-0.012513</td>\n",
       "      <td>-0.040248</td>\n",
       "      <td>-0.040268</td>\n",
       "      <td>-0.040226</td>\n",
       "      <td>-0.040254</td>\n",
       "      <td>-0.037728</td>\n",
       "      <td>0.036557</td>\n",
       "    </tr>\n",
       "    <tr>\n",
       "      <th>2</th>\n",
       "      <td>-0.016412</td>\n",
       "      <td>-0.016053</td>\n",
       "      <td>-0.016899</td>\n",
       "      <td>-0.016482</td>\n",
       "      <td>-0.009750</td>\n",
       "      <td>0.036223</td>\n",
       "      <td>0.021023</td>\n",
       "      <td>0.021348</td>\n",
       "      <td>0.020579</td>\n",
       "      <td>0.020965</td>\n",
       "      <td>...</td>\n",
       "      <td>0.022288</td>\n",
       "      <td>0.022505</td>\n",
       "      <td>0.022505</td>\n",
       "      <td>-0.002168</td>\n",
       "      <td>-0.032987</td>\n",
       "      <td>-0.032370</td>\n",
       "      <td>-0.033579</td>\n",
       "      <td>-0.032993</td>\n",
       "      <td>-0.031428</td>\n",
       "      <td>0.035475</td>\n",
       "    </tr>\n",
       "    <tr>\n",
       "      <th>3</th>\n",
       "      <td>0.000041</td>\n",
       "      <td>0.000014</td>\n",
       "      <td>-0.000042</td>\n",
       "      <td>-0.000042</td>\n",
       "      <td>-0.002402</td>\n",
       "      <td>0.009368</td>\n",
       "      <td>-0.000332</td>\n",
       "      <td>-0.000386</td>\n",
       "      <td>-0.000317</td>\n",
       "      <td>-0.000363</td>\n",
       "      <td>...</td>\n",
       "      <td>0.007968</td>\n",
       "      <td>0.007871</td>\n",
       "      <td>0.007871</td>\n",
       "      <td>0.007022</td>\n",
       "      <td>0.063765</td>\n",
       "      <td>0.064026</td>\n",
       "      <td>0.063539</td>\n",
       "      <td>0.063740</td>\n",
       "      <td>0.070171</td>\n",
       "      <td>-0.009567</td>\n",
       "    </tr>\n",
       "    <tr>\n",
       "      <th>4</th>\n",
       "      <td>-0.014038</td>\n",
       "      <td>-0.013875</td>\n",
       "      <td>-0.014288</td>\n",
       "      <td>-0.014129</td>\n",
       "      <td>-0.010900</td>\n",
       "      <td>0.008260</td>\n",
       "      <td>0.000299</td>\n",
       "      <td>0.000392</td>\n",
       "      <td>0.000220</td>\n",
       "      <td>0.000322</td>\n",
       "      <td>...</td>\n",
       "      <td>-0.004203</td>\n",
       "      <td>-0.004170</td>\n",
       "      <td>-0.004170</td>\n",
       "      <td>-0.002696</td>\n",
       "      <td>0.005160</td>\n",
       "      <td>0.006096</td>\n",
       "      <td>0.004080</td>\n",
       "      <td>0.005032</td>\n",
       "      <td>0.005744</td>\n",
       "      <td>0.014348</td>\n",
       "    </tr>\n",
       "  </tbody>\n",
       "</table>\n",
       "<p>5 rows × 2255 columns</p>\n",
       "</div>"
      ],
      "text/plain": [
       "   MMM_open  MMM_high   MMM_low  MMM_close  MMM_adjclose  MMM_volume  \\\n",
       "0  0.025837  0.025859  0.025807   0.025829      0.026505   -0.009413   \n",
       "1  0.004188  0.004098  0.004297   0.004228      0.002882    0.005224   \n",
       "2 -0.016412 -0.016053 -0.016899  -0.016482     -0.009750    0.036223   \n",
       "3  0.000041  0.000014 -0.000042  -0.000042     -0.002402    0.009368   \n",
       "4 -0.014038 -0.013875 -0.014288  -0.014129     -0.010900    0.008260   \n",
       "\n",
       "   ABT_open  ABT_high   ABT_low  ABT_close  ...  ZBRA_low  ZBRA_close  \\\n",
       "0  0.025724  0.025689  0.025771   0.025730  ...  0.024276    0.024258   \n",
       "1 -0.012191 -0.012319 -0.012076  -0.012216  ... -0.020621   -0.020686   \n",
       "2  0.021023  0.021348  0.020579   0.020965  ...  0.022288    0.022505   \n",
       "3 -0.000332 -0.000386 -0.000317  -0.000363  ...  0.007968    0.007871   \n",
       "4  0.000299  0.000392  0.000220   0.000322  ... -0.004203   -0.004170   \n",
       "\n",
       "   ZBRA_adjclose  ZBRA_volume  ZION_open  ZION_high  ZION_low  ZION_close  \\\n",
       "0       0.024258    -0.002239  -0.004886  -0.004971 -0.004801   -0.004891   \n",
       "1      -0.020686    -0.012513  -0.040248  -0.040268 -0.040226   -0.040254   \n",
       "2       0.022505    -0.002168  -0.032987  -0.032370 -0.033579   -0.032993   \n",
       "3       0.007871     0.007022   0.063765   0.064026  0.063539    0.063740   \n",
       "4      -0.004170    -0.002696   0.005160   0.006096  0.004080    0.005032   \n",
       "\n",
       "   ZION_adjclose  ZION_volume  \n",
       "0      -0.000106     0.003844  \n",
       "1      -0.037728     0.036557  \n",
       "2      -0.031428     0.035475  \n",
       "3       0.070171    -0.009567  \n",
       "4       0.005744     0.014348  \n",
       "\n",
       "[5 rows x 2255 columns]"
      ]
     },
     "execution_count": 12,
     "metadata": {},
     "output_type": "execute_result"
    }
   ],
   "source": [
    "feature_contribution = pd.DataFrame(pca.components_, columns = features_wo_pca_scaled.columns)\n",
    "feature_contribution.head()"
   ]
  },
  {
   "cell_type": "code",
   "execution_count": 13,
   "metadata": {},
   "outputs": [
    {
     "name": "stdout",
     "output_type": "stream",
     "text": [
      "                  0          1          2          3          4          5    \\\n",
      "2000-01-04 -35.970564 -23.545983  -4.632678 -17.457543  14.528767  -0.317679   \n",
      "2000-01-05 -36.847195 -22.738132  -3.598411 -17.290344  13.295097  -0.339582   \n",
      "2000-01-06 -37.498239 -22.275775  -2.547413 -16.560103  12.747114   1.036281   \n",
      "2000-01-07 -37.310731 -21.747055  -2.933164 -16.133822  12.179301   1.005124   \n",
      "2000-01-10 -36.601279 -21.803710  -3.397929 -16.201532  12.670453   1.902949   \n",
      "...               ...        ...        ...        ...        ...        ...   \n",
      "2020-11-20  90.134574 -29.332602  29.592663   1.428946   1.375385 -14.486276   \n",
      "2020-11-23  90.243500 -29.247349  29.356183   1.094006   1.319999 -14.340001   \n",
      "2020-11-24  91.089589 -29.061337  29.032189   1.790515   1.882463 -14.185180   \n",
      "2020-11-25  93.277028 -26.688010  30.736155   3.258474   3.711166 -10.347977   \n",
      "2020-11-27  92.644922 -29.568476  26.787232   1.967131   2.756135 -14.901412   \n",
      "\n",
      "                  6         7          8         9    ...       484       485  \\\n",
      "2000-01-04   1.839768 -5.438932   6.545424  7.134375  ... -0.102579 -0.197747   \n",
      "2000-01-05   1.657393 -5.847275   5.844997  6.734393  ... -0.169920 -0.073697   \n",
      "2000-01-06   1.660105 -3.715802   5.739181  6.328310  ... -0.024388 -0.014821   \n",
      "2000-01-07   1.352770 -4.237978   5.253372  5.595871  ...  0.055875  0.094474   \n",
      "2000-01-10   1.587296 -3.369023   5.563441  5.688065  ...  0.082489 -0.148486   \n",
      "...               ...       ...        ...       ...  ...       ...       ...   \n",
      "2020-11-20  10.684182 -1.989640   9.275790 -9.081545  ... -0.029415 -0.586881   \n",
      "2020-11-23  10.530430 -1.993556   9.606069 -8.977056  ... -0.048531 -0.541682   \n",
      "2020-11-24  10.923934 -1.998143  10.045407 -8.779893  ...  0.210051 -0.611457   \n",
      "2020-11-25  11.641068  0.524012  11.554666 -7.705016  ...  0.224758 -0.508392   \n",
      "2020-11-27   9.727311 -2.237457   9.161617 -9.304650  ...  0.141984 -0.497496   \n",
      "\n",
      "                 486       487       488       489       490       491  \\\n",
      "2000-01-04  0.297785 -0.306600  0.582138 -0.476717  0.802286 -0.330189   \n",
      "2000-01-05  0.442485 -0.007653  0.432395 -0.520041  0.738614 -0.252767   \n",
      "2000-01-06  0.553814  0.163165  0.329267 -0.396806  0.644224 -0.196051   \n",
      "2000-01-07  0.634163  0.185301  0.277223 -0.388160  0.347780 -0.063901   \n",
      "2000-01-10  0.563874  0.205848 -0.093228 -0.389653  0.306599  0.207072   \n",
      "...              ...       ...       ...       ...       ...       ...   \n",
      "2020-11-20 -0.143013  0.280492 -0.184624 -0.540448  0.392205 -0.151370   \n",
      "2020-11-23 -0.071618  0.488149  0.048631 -0.592825  0.257767 -0.316175   \n",
      "2020-11-24  0.074201  0.375896  0.072162 -0.611168  0.425791 -0.071055   \n",
      "2020-11-25 -0.094577  0.251913  0.366220 -0.528120  0.230661 -0.552971   \n",
      "2020-11-27  0.048760  0.435276  0.440508 -0.481711  0.345123 -0.680689   \n",
      "\n",
      "                 492       493  \n",
      "2000-01-04 -0.021156  0.205139  \n",
      "2000-01-05  0.014386  0.169750  \n",
      "2000-01-06  0.112238  0.134179  \n",
      "2000-01-07  0.252770  0.084624  \n",
      "2000-01-10  0.189938  0.278420  \n",
      "...              ...       ...  \n",
      "2020-11-20  0.153512 -0.035589  \n",
      "2020-11-23  0.054195  0.013033  \n",
      "2020-11-24  0.105214 -0.372600  \n",
      "2020-11-25 -0.016678 -0.375107  \n",
      "2020-11-27 -0.034030 -0.188185  \n",
      "\n",
      "[5260 rows x 494 columns]\n",
      "(5260, 494)\n"
     ]
    }
   ],
   "source": [
    "features_w_pca = pd.DataFrame(pca.fit_transform(features_wo_pca_scaled), index = features_wo_pca_scaled.index)\n",
    "print(features_w_pca)\n",
    "print(features_w_pca.shape)"
   ]
  },
  {
   "cell_type": "markdown",
   "metadata": {},
   "source": [
    "Determine the proportion of the split between train and test set. Here, arbitrarily determined as 90% for training, 10% for testing. Note: For extremely large data sets, it may be good to specify a number value (as opposed to a percentage) for the test set as the test set need not be too large, and also it would be good for the training set to be larger where possible.\n"
   ]
  },
  {
   "cell_type": "code",
   "execution_count": 14,
   "metadata": {},
   "outputs": [
    {
     "name": "stdout",
     "output_type": "stream",
     "text": [
      "Check of train-test split: \n",
      "features = 5260\n",
      "features_train = 4735\n",
      "features_test = 525\n"
     ]
    }
   ],
   "source": [
    "traintest_index = int(len(features_w_pca) * 0.9) #This returns the row number for the boundary between train and test sets.\n",
    "traintest_value = features_w_pca.index[traintest_index] #This returns the datetimeindex at the row where we want to split between train and test sets.\n",
    "features_train = features_w_pca[features_w_pca.index <= traintest_value]\n",
    "features_test = features_w_pca[features_w_pca.index > traintest_value]\n",
    "target_train = target[target.index <= traintest_value]\n",
    "target_test = target[target.index > traintest_value]\n",
    "\n",
    "print(\"Check of train-test split: \")\n",
    "print(\"features = \" + str(len(features_w_pca)))\n",
    "print(\"features_train = \" + str(len(features_train)))\n",
    "print(\"features_test = \" + str(len(features_test)))\n"
   ]
  },
  {
   "cell_type": "markdown",
   "metadata": {},
   "source": [
    "Perform a min-max scaling on the features for both train and test sets using sklearn's MinMaxScaler class to ensure that data is all within the same scale. Note that we use 'fit_transform' for the training data and 'transform' for the testing data. Reason for this is so that the model is not trained on the testing data as well but uses the same mean and variance (and hence keeps it on the same scale) as the training data."
   ]
  },
  {
   "cell_type": "code",
   "execution_count": 15,
   "metadata": {},
   "outputs": [
    {
     "data": {
      "text/html": [
       "<div>\n",
       "<style scoped>\n",
       "    .dataframe tbody tr th:only-of-type {\n",
       "        vertical-align: middle;\n",
       "    }\n",
       "\n",
       "    .dataframe tbody tr th {\n",
       "        vertical-align: top;\n",
       "    }\n",
       "\n",
       "    .dataframe thead th {\n",
       "        text-align: right;\n",
       "    }\n",
       "</style>\n",
       "<table border=\"1\" class=\"dataframe\">\n",
       "  <thead>\n",
       "    <tr style=\"text-align: right;\">\n",
       "      <th></th>\n",
       "      <th>0</th>\n",
       "      <th>1</th>\n",
       "      <th>2</th>\n",
       "      <th>3</th>\n",
       "      <th>4</th>\n",
       "      <th>5</th>\n",
       "      <th>6</th>\n",
       "      <th>7</th>\n",
       "      <th>8</th>\n",
       "      <th>9</th>\n",
       "      <th>...</th>\n",
       "      <th>484</th>\n",
       "      <th>485</th>\n",
       "      <th>486</th>\n",
       "      <th>487</th>\n",
       "      <th>488</th>\n",
       "      <th>489</th>\n",
       "      <th>490</th>\n",
       "      <th>491</th>\n",
       "      <th>492</th>\n",
       "      <th>493</th>\n",
       "    </tr>\n",
       "  </thead>\n",
       "  <tbody>\n",
       "    <tr>\n",
       "      <th>2000-01-04</th>\n",
       "      <td>0.080297</td>\n",
       "      <td>0.086183</td>\n",
       "      <td>0.266844</td>\n",
       "      <td>0.084187</td>\n",
       "      <td>0.716228</td>\n",
       "      <td>0.306098</td>\n",
       "      <td>0.636272</td>\n",
       "      <td>0.266724</td>\n",
       "      <td>0.740357</td>\n",
       "      <td>0.753330</td>\n",
       "      <td>...</td>\n",
       "      <td>0.498172</td>\n",
       "      <td>0.380651</td>\n",
       "      <td>0.605861</td>\n",
       "      <td>0.256958</td>\n",
       "      <td>0.953062</td>\n",
       "      <td>0.243971</td>\n",
       "      <td>1.000000</td>\n",
       "      <td>0.282063</td>\n",
       "      <td>0.494907</td>\n",
       "      <td>0.613443</td>\n",
       "    </tr>\n",
       "    <tr>\n",
       "      <th>2000-01-05</th>\n",
       "      <td>0.072464</td>\n",
       "      <td>0.098843</td>\n",
       "      <td>0.282264</td>\n",
       "      <td>0.087731</td>\n",
       "      <td>0.686941</td>\n",
       "      <td>0.305709</td>\n",
       "      <td>0.630061</td>\n",
       "      <td>0.253495</td>\n",
       "      <td>0.708586</td>\n",
       "      <td>0.735521</td>\n",
       "      <td>...</td>\n",
       "      <td>0.454825</td>\n",
       "      <td>0.471665</td>\n",
       "      <td>0.689480</td>\n",
       "      <td>0.481864</td>\n",
       "      <td>0.835055</td>\n",
       "      <td>0.216930</td>\n",
       "      <td>0.953392</td>\n",
       "      <td>0.329382</td>\n",
       "      <td>0.524241</td>\n",
       "      <td>0.589327</td>\n",
       "    </tr>\n",
       "    <tr>\n",
       "      <th>2000-01-06</th>\n",
       "      <td>0.066646</td>\n",
       "      <td>0.106088</td>\n",
       "      <td>0.297935</td>\n",
       "      <td>0.103207</td>\n",
       "      <td>0.673932</td>\n",
       "      <td>0.330124</td>\n",
       "      <td>0.630153</td>\n",
       "      <td>0.322551</td>\n",
       "      <td>0.703786</td>\n",
       "      <td>0.717440</td>\n",
       "      <td>...</td>\n",
       "      <td>0.548503</td>\n",
       "      <td>0.514861</td>\n",
       "      <td>0.753815</td>\n",
       "      <td>0.610375</td>\n",
       "      <td>0.753785</td>\n",
       "      <td>0.293847</td>\n",
       "      <td>0.884298</td>\n",
       "      <td>0.364046</td>\n",
       "      <td>0.605004</td>\n",
       "      <td>0.565087</td>\n",
       "    </tr>\n",
       "    <tr>\n",
       "      <th>2000-01-07</th>\n",
       "      <td>0.068322</td>\n",
       "      <td>0.114374</td>\n",
       "      <td>0.292183</td>\n",
       "      <td>0.112242</td>\n",
       "      <td>0.660452</td>\n",
       "      <td>0.329571</td>\n",
       "      <td>0.619687</td>\n",
       "      <td>0.305633</td>\n",
       "      <td>0.681750</td>\n",
       "      <td>0.684828</td>\n",
       "      <td>...</td>\n",
       "      <td>0.600167</td>\n",
       "      <td>0.595048</td>\n",
       "      <td>0.800247</td>\n",
       "      <td>0.627028</td>\n",
       "      <td>0.712771</td>\n",
       "      <td>0.299243</td>\n",
       "      <td>0.667301</td>\n",
       "      <td>0.444813</td>\n",
       "      <td>0.720993</td>\n",
       "      <td>0.531317</td>\n",
       "    </tr>\n",
       "    <tr>\n",
       "      <th>2000-01-10</th>\n",
       "      <td>0.074661</td>\n",
       "      <td>0.113486</td>\n",
       "      <td>0.285254</td>\n",
       "      <td>0.110807</td>\n",
       "      <td>0.672112</td>\n",
       "      <td>0.345503</td>\n",
       "      <td>0.627674</td>\n",
       "      <td>0.333786</td>\n",
       "      <td>0.695814</td>\n",
       "      <td>0.688933</td>\n",
       "      <td>...</td>\n",
       "      <td>0.617299</td>\n",
       "      <td>0.416793</td>\n",
       "      <td>0.759628</td>\n",
       "      <td>0.642487</td>\n",
       "      <td>0.420833</td>\n",
       "      <td>0.298311</td>\n",
       "      <td>0.637156</td>\n",
       "      <td>0.610427</td>\n",
       "      <td>0.669134</td>\n",
       "      <td>0.663382</td>\n",
       "    </tr>\n",
       "  </tbody>\n",
       "</table>\n",
       "<p>5 rows × 494 columns</p>\n",
       "</div>"
      ],
      "text/plain": [
       "                 0         1         2         3         4         5    \\\n",
       "2000-01-04  0.080297  0.086183  0.266844  0.084187  0.716228  0.306098   \n",
       "2000-01-05  0.072464  0.098843  0.282264  0.087731  0.686941  0.305709   \n",
       "2000-01-06  0.066646  0.106088  0.297935  0.103207  0.673932  0.330124   \n",
       "2000-01-07  0.068322  0.114374  0.292183  0.112242  0.660452  0.329571   \n",
       "2000-01-10  0.074661  0.113486  0.285254  0.110807  0.672112  0.345503   \n",
       "\n",
       "                 6         7         8         9    ...       484       485  \\\n",
       "2000-01-04  0.636272  0.266724  0.740357  0.753330  ...  0.498172  0.380651   \n",
       "2000-01-05  0.630061  0.253495  0.708586  0.735521  ...  0.454825  0.471665   \n",
       "2000-01-06  0.630153  0.322551  0.703786  0.717440  ...  0.548503  0.514861   \n",
       "2000-01-07  0.619687  0.305633  0.681750  0.684828  ...  0.600167  0.595048   \n",
       "2000-01-10  0.627674  0.333786  0.695814  0.688933  ...  0.617299  0.416793   \n",
       "\n",
       "                 486       487       488       489       490       491  \\\n",
       "2000-01-04  0.605861  0.256958  0.953062  0.243971  1.000000  0.282063   \n",
       "2000-01-05  0.689480  0.481864  0.835055  0.216930  0.953392  0.329382   \n",
       "2000-01-06  0.753815  0.610375  0.753785  0.293847  0.884298  0.364046   \n",
       "2000-01-07  0.800247  0.627028  0.712771  0.299243  0.667301  0.444813   \n",
       "2000-01-10  0.759628  0.642487  0.420833  0.298311  0.637156  0.610427   \n",
       "\n",
       "                 492       493  \n",
       "2000-01-04  0.494907  0.613443  \n",
       "2000-01-05  0.524241  0.589327  \n",
       "2000-01-06  0.605004  0.565087  \n",
       "2000-01-07  0.720993  0.531317  \n",
       "2000-01-10  0.669134  0.663382  \n",
       "\n",
       "[5 rows x 494 columns]"
      ]
     },
     "execution_count": 15,
     "metadata": {},
     "output_type": "execute_result"
    }
   ],
   "source": [
    "from sklearn.preprocessing import MinMaxScaler\n",
    "minmax_scaler = MinMaxScaler()\n",
    "features_train = pd.DataFrame(minmax_scaler.fit_transform(features_train), \n",
    "                              columns = features_train.columns, \n",
    "                              index = features_train.index)\n",
    "features_train.head()"
   ]
  },
  {
   "cell_type": "code",
   "execution_count": 16,
   "metadata": {},
   "outputs": [
    {
     "data": {
      "text/html": [
       "<div>\n",
       "<style scoped>\n",
       "    .dataframe tbody tr th:only-of-type {\n",
       "        vertical-align: middle;\n",
       "    }\n",
       "\n",
       "    .dataframe tbody tr th {\n",
       "        vertical-align: top;\n",
       "    }\n",
       "\n",
       "    .dataframe thead th {\n",
       "        text-align: right;\n",
       "    }\n",
       "</style>\n",
       "<table border=\"1\" class=\"dataframe\">\n",
       "  <thead>\n",
       "    <tr style=\"text-align: right;\">\n",
       "      <th></th>\n",
       "      <th>0</th>\n",
       "      <th>1</th>\n",
       "      <th>2</th>\n",
       "      <th>3</th>\n",
       "      <th>4</th>\n",
       "      <th>5</th>\n",
       "      <th>6</th>\n",
       "      <th>7</th>\n",
       "      <th>8</th>\n",
       "      <th>9</th>\n",
       "      <th>...</th>\n",
       "      <th>484</th>\n",
       "      <th>485</th>\n",
       "      <th>486</th>\n",
       "      <th>487</th>\n",
       "      <th>488</th>\n",
       "      <th>489</th>\n",
       "      <th>490</th>\n",
       "      <th>491</th>\n",
       "      <th>492</th>\n",
       "      <th>493</th>\n",
       "    </tr>\n",
       "  </thead>\n",
       "  <tbody>\n",
       "    <tr>\n",
       "      <th>2018-10-29</th>\n",
       "      <td>0.875215</td>\n",
       "      <td>0.426938</td>\n",
       "      <td>0.473649</td>\n",
       "      <td>0.531316</td>\n",
       "      <td>0.481808</td>\n",
       "      <td>0.499672</td>\n",
       "      <td>0.250045</td>\n",
       "      <td>0.739127</td>\n",
       "      <td>0.500829</td>\n",
       "      <td>0.694783</td>\n",
       "      <td>...</td>\n",
       "      <td>0.289251</td>\n",
       "      <td>0.522194</td>\n",
       "      <td>0.443260</td>\n",
       "      <td>0.437717</td>\n",
       "      <td>0.397387</td>\n",
       "      <td>0.483181</td>\n",
       "      <td>0.543999</td>\n",
       "      <td>0.559146</td>\n",
       "      <td>0.486818</td>\n",
       "      <td>0.503127</td>\n",
       "    </tr>\n",
       "    <tr>\n",
       "      <th>2018-10-30</th>\n",
       "      <td>0.878152</td>\n",
       "      <td>0.396357</td>\n",
       "      <td>0.430161</td>\n",
       "      <td>0.517221</td>\n",
       "      <td>0.456990</td>\n",
       "      <td>0.443193</td>\n",
       "      <td>0.248349</td>\n",
       "      <td>0.675057</td>\n",
       "      <td>0.439591</td>\n",
       "      <td>0.632813</td>\n",
       "      <td>...</td>\n",
       "      <td>0.339341</td>\n",
       "      <td>0.517668</td>\n",
       "      <td>0.589427</td>\n",
       "      <td>0.532674</td>\n",
       "      <td>0.330007</td>\n",
       "      <td>0.631021</td>\n",
       "      <td>0.403933</td>\n",
       "      <td>0.389787</td>\n",
       "      <td>0.614394</td>\n",
       "      <td>0.452228</td>\n",
       "    </tr>\n",
       "    <tr>\n",
       "      <th>2018-10-31</th>\n",
       "      <td>0.888237</td>\n",
       "      <td>0.411554</td>\n",
       "      <td>0.459149</td>\n",
       "      <td>0.530725</td>\n",
       "      <td>0.482504</td>\n",
       "      <td>0.499167</td>\n",
       "      <td>0.265653</td>\n",
       "      <td>0.727191</td>\n",
       "      <td>0.483373</td>\n",
       "      <td>0.685574</td>\n",
       "      <td>...</td>\n",
       "      <td>0.622000</td>\n",
       "      <td>0.470782</td>\n",
       "      <td>0.452861</td>\n",
       "      <td>0.420491</td>\n",
       "      <td>0.430160</td>\n",
       "      <td>0.491993</td>\n",
       "      <td>0.447866</td>\n",
       "      <td>0.577698</td>\n",
       "      <td>0.533287</td>\n",
       "      <td>0.428118</td>\n",
       "    </tr>\n",
       "    <tr>\n",
       "      <th>2018-11-01</th>\n",
       "      <td>0.903715</td>\n",
       "      <td>0.422191</td>\n",
       "      <td>0.459827</td>\n",
       "      <td>0.536142</td>\n",
       "      <td>0.495967</td>\n",
       "      <td>0.503461</td>\n",
       "      <td>0.255616</td>\n",
       "      <td>0.737841</td>\n",
       "      <td>0.541758</td>\n",
       "      <td>0.686449</td>\n",
       "      <td>...</td>\n",
       "      <td>0.574503</td>\n",
       "      <td>0.402990</td>\n",
       "      <td>0.481606</td>\n",
       "      <td>0.593483</td>\n",
       "      <td>0.217529</td>\n",
       "      <td>0.486379</td>\n",
       "      <td>0.164896</td>\n",
       "      <td>0.350052</td>\n",
       "      <td>0.552708</td>\n",
       "      <td>0.500363</td>\n",
       "    </tr>\n",
       "    <tr>\n",
       "      <th>2018-11-02</th>\n",
       "      <td>0.910731</td>\n",
       "      <td>0.379336</td>\n",
       "      <td>0.408777</td>\n",
       "      <td>0.517349</td>\n",
       "      <td>0.472773</td>\n",
       "      <td>0.439411</td>\n",
       "      <td>0.216293</td>\n",
       "      <td>0.655689</td>\n",
       "      <td>0.497518</td>\n",
       "      <td>0.629204</td>\n",
       "      <td>...</td>\n",
       "      <td>0.519625</td>\n",
       "      <td>0.393549</td>\n",
       "      <td>0.422710</td>\n",
       "      <td>0.660495</td>\n",
       "      <td>0.266668</td>\n",
       "      <td>0.444432</td>\n",
       "      <td>0.224326</td>\n",
       "      <td>0.318285</td>\n",
       "      <td>0.665808</td>\n",
       "      <td>0.463792</td>\n",
       "    </tr>\n",
       "  </tbody>\n",
       "</table>\n",
       "<p>5 rows × 494 columns</p>\n",
       "</div>"
      ],
      "text/plain": [
       "                 0         1         2         3         4         5    \\\n",
       "2018-10-29  0.875215  0.426938  0.473649  0.531316  0.481808  0.499672   \n",
       "2018-10-30  0.878152  0.396357  0.430161  0.517221  0.456990  0.443193   \n",
       "2018-10-31  0.888237  0.411554  0.459149  0.530725  0.482504  0.499167   \n",
       "2018-11-01  0.903715  0.422191  0.459827  0.536142  0.495967  0.503461   \n",
       "2018-11-02  0.910731  0.379336  0.408777  0.517349  0.472773  0.439411   \n",
       "\n",
       "                 6         7         8         9    ...       484       485  \\\n",
       "2018-10-29  0.250045  0.739127  0.500829  0.694783  ...  0.289251  0.522194   \n",
       "2018-10-30  0.248349  0.675057  0.439591  0.632813  ...  0.339341  0.517668   \n",
       "2018-10-31  0.265653  0.727191  0.483373  0.685574  ...  0.622000  0.470782   \n",
       "2018-11-01  0.255616  0.737841  0.541758  0.686449  ...  0.574503  0.402990   \n",
       "2018-11-02  0.216293  0.655689  0.497518  0.629204  ...  0.519625  0.393549   \n",
       "\n",
       "                 486       487       488       489       490       491  \\\n",
       "2018-10-29  0.443260  0.437717  0.397387  0.483181  0.543999  0.559146   \n",
       "2018-10-30  0.589427  0.532674  0.330007  0.631021  0.403933  0.389787   \n",
       "2018-10-31  0.452861  0.420491  0.430160  0.491993  0.447866  0.577698   \n",
       "2018-11-01  0.481606  0.593483  0.217529  0.486379  0.164896  0.350052   \n",
       "2018-11-02  0.422710  0.660495  0.266668  0.444432  0.224326  0.318285   \n",
       "\n",
       "                 492       493  \n",
       "2018-10-29  0.486818  0.503127  \n",
       "2018-10-30  0.614394  0.452228  \n",
       "2018-10-31  0.533287  0.428118  \n",
       "2018-11-01  0.552708  0.500363  \n",
       "2018-11-02  0.665808  0.463792  \n",
       "\n",
       "[5 rows x 494 columns]"
      ]
     },
     "execution_count": 16,
     "metadata": {},
     "output_type": "execute_result"
    }
   ],
   "source": [
    "features_test = pd.DataFrame(minmax_scaler.transform(features_test), \n",
    "                             columns = features_test.columns, \n",
    "                             index = features_test.index)\n",
    "features_test.head()"
   ]
  },
  {
   "cell_type": "markdown",
   "metadata": {},
   "source": [
    "Sequence generation"
   ]
  },
  {
   "cell_type": "code",
   "execution_count": 17,
   "metadata": {},
   "outputs": [
    {
     "name": "stdout",
     "output_type": "stream",
     "text": [
      "(4730, 5, 494)\n"
     ]
    }
   ],
   "source": [
    "sequence_length = 5\n",
    "def gen_sequence(df, seq_length):\n",
    "    data_array = df.values\n",
    "    num_elements = data_array.shape[0]\n",
    "    for start, stop in zip(range(0, num_elements-seq_length), range(seq_length, num_elements)):\n",
    "        yield data_array[start:stop, :]\n",
    "\n",
    "seq_array = np.array(list(gen_sequence(features_train,sequence_length)))\n",
    "print(seq_array.shape)"
   ]
  },
  {
   "cell_type": "code",
   "execution_count": 18,
   "metadata": {},
   "outputs": [
    {
     "data": {
      "text/plain": [
       "(4730,)"
      ]
     },
     "execution_count": 18,
     "metadata": {},
     "output_type": "execute_result"
    }
   ],
   "source": [
    "def gen_labels(df, seq_length):\n",
    "    data_array = df.values\n",
    "    num_elements = data_array.shape[0]\n",
    "    return data_array[seq_length:num_elements]\n",
    "\n",
    "label_array = np.array(list(gen_labels(target_train,sequence_length)))\n",
    "label_array.shape"
   ]
  },
  {
   "cell_type": "code",
   "execution_count": 19,
   "metadata": {},
   "outputs": [
    {
     "data": {
      "text/plain": [
       "(520, 5, 494)"
      ]
     },
     "execution_count": 19,
     "metadata": {},
     "output_type": "execute_result"
    }
   ],
   "source": [
    "seq_array_test = np.array(list(gen_sequence(features_test,sequence_length)))\n",
    "seq_array_test.shape"
   ]
  },
  {
   "cell_type": "code",
   "execution_count": 20,
   "metadata": {},
   "outputs": [
    {
     "data": {
      "text/plain": [
       "(520,)"
      ]
     },
     "execution_count": 20,
     "metadata": {},
     "output_type": "execute_result"
    }
   ],
   "source": [
    "label_array_test = np.array(list(gen_labels(target_test,sequence_length)))\n",
    "label_array_test.shape"
   ]
  },
  {
   "cell_type": "markdown",
   "metadata": {},
   "source": [
    "# Benchmark Model - Linear Regression (with PCA)"
   ]
  },
  {
   "cell_type": "markdown",
   "metadata": {},
   "source": [
    "Here, we show the results of linear regression implemented on the principal components generated from the PCA earlier. Notice that the results are significantly better compared to without implementing PCA."
   ]
  },
  {
   "cell_type": "code",
   "execution_count": 21,
   "metadata": {},
   "outputs": [
    {
     "data": {
      "text/plain": [
       "LinearRegression()"
      ]
     },
     "execution_count": 21,
     "metadata": {},
     "output_type": "execute_result"
    }
   ],
   "source": [
    "from sklearn.linear_model import LinearRegression\n",
    "\n",
    "linearregression = LinearRegression()\n",
    "linearregression.fit(np.array([seq_array[i][sequence_length-1] for i in range(seq_array.shape[0])]),label_array)"
   ]
  },
  {
   "cell_type": "code",
   "execution_count": 22,
   "metadata": {},
   "outputs": [],
   "source": [
    "prediction = linearregression.predict(np.array([seq_array_test[i][sequence_length-1] for i in range(seq_array_test.shape[0])]))\n"
   ]
  },
  {
   "cell_type": "code",
   "execution_count": 23,
   "metadata": {},
   "outputs": [],
   "source": [
    "pd.DataFrame([prediction,label_array_test]).T\\\n",
    ".rename({0:'prediction',1:'truth'},axis=1)\\\n",
    ".set_index(target.index[target.index> target.index[int(len(target) * 0.9) + sequence_length]])\\\n",
    ".to_csv('LR_prediction.csv')"
   ]
  },
  {
   "cell_type": "code",
   "execution_count": 24,
   "metadata": {},
   "outputs": [
    {
     "data": {
      "image/png": "[encoded data removed]",
      "text/plain": [
       "<Figure size 432x288 with 1 Axes>"
      ]
     },
     "metadata": {
      "needs_background": "light"
     },
     "output_type": "display_data"
    }
   ],
   "source": [
    "plt.plot(prediction, label='prediction')\n",
    "plt.plot(label_array_test, label='truth')\n",
    "plt.legend()\n",
    "plt.show()"
   ]
  },
  {
   "cell_type": "code",
   "execution_count": 25,
   "metadata": {},
   "outputs": [
    {
     "data": {
      "text/plain": [
       "(-2.398249512825723, 24.880996363469674)"
      ]
     },
     "execution_count": 25,
     "metadata": {},
     "output_type": "execute_result"
    }
   ],
   "source": [
    "from sklearn.metrics import r2_score, mean_squared_error\n",
    "r2_score(label_array_test,prediction),np.sqrt(mean_squared_error(label_array_test,prediction))"
   ]
  },
  {
   "cell_type": "markdown",
   "metadata": {},
   "source": [
    "# Neural Network"
   ]
  },
  {
   "cell_type": "markdown",
   "metadata": {},
   "source": [
    "LSTM model"
   ]
  },
  {
   "cell_type": "code",
   "execution_count": 26,
   "metadata": {
    "scrolled": true
   },
   "outputs": [
    {
     "name": "stdout",
     "output_type": "stream",
     "text": [
      "5\n",
      "494\n"
     ]
    }
   ],
   "source": [
    "from tensorflow import keras\n",
    "from keras.models import Sequential\n",
    "from keras.layers import Dense, Dropout, LSTM\n",
    "from numpy.random import seed\n",
    "import random as python_random\n",
    "import tensorflow\n",
    "tensorflow.random.set_seed(1)\n",
    "seed(1)\n",
    "python_random.seed(123)\n",
    "\n",
    "# build the network\n",
    "nb_features = seq_array.shape[2]\n",
    "print(sequence_length)\n",
    "print(nb_features)\n",
    "model = Sequential()\n",
    "\n",
    "model.add(LSTM(\n",
    "         input_shape=(sequence_length, nb_features),\n",
    "         units=75,\n",
    "         return_sequences=True))\n",
    "model.add(Dropout(0.2))\n",
    "model.add(LSTM(\n",
    "          units=50,\n",
    "          return_sequences=True))\n",
    "model.add(Dropout(0.2))\n",
    "model.add(LSTM(\n",
    "          units=50,\n",
    "          return_sequences=False))\n",
    "model.add(Dropout(0.2))\n",
    "\n",
    "model.add(Dense(1))\n",
    "model.compile(loss='mae', optimizer='nadam', metrics=['mean_squared_error'])"
   ]
  },
  {
   "cell_type": "code",
   "execution_count": 27,
   "metadata": {},
   "outputs": [
    {
     "name": "stdout",
     "output_type": "stream",
     "text": [
      "Model: \"sequential\"\n",
      "_________________________________________________________________\n",
      "Layer (type)                 Output Shape              Param #   \n",
      "=================================================================\n",
      "lstm (LSTM)                  (None, 5, 75)             171000    \n",
      "_________________________________________________________________\n",
      "dropout (Dropout)            (None, 5, 75)             0         \n",
      "_________________________________________________________________\n",
      "lstm_1 (LSTM)                (None, 5, 50)             25200     \n",
      "_________________________________________________________________\n",
      "dropout_1 (Dropout)          (None, 5, 50)             0         \n",
      "_________________________________________________________________\n",
      "lstm_2 (LSTM)                (None, 50)                20200     \n",
      "_________________________________________________________________\n",
      "dropout_2 (Dropout)          (None, 50)                0         \n",
      "_________________________________________________________________\n",
      "dense (Dense)                (None, 1)                 51        \n",
      "=================================================================\n",
      "Total params: 216,451\n",
      "Trainable params: 216,451\n",
      "Non-trainable params: 0\n",
      "_________________________________________________________________\n"
     ]
    }
   ],
   "source": [
    "model.summary()"
   ]
  },
  {
   "cell_type": "code",
   "execution_count": 28,
   "metadata": {},
   "outputs": [
    {
     "name": "stdout",
     "output_type": "stream",
     "text": [
      "Epoch 1/200\n",
      "134/134 - 3s - loss: 26.2433 - mean_squared_error: 1537.9495 - val_loss: 84.9795 - val_mean_squared_error: 7257.1191\n",
      "Epoch 2/200\n",
      "134/134 - 1s - loss: 21.3572 - mean_squared_error: 1218.4865 - val_loss: 80.9094 - val_mean_squared_error: 6581.9336\n",
      "Epoch 3/200\n",
      "134/134 - 1s - loss: 20.4954 - mean_squared_error: 1114.3938 - val_loss: 78.9523 - val_mean_squared_error: 6269.0723\n",
      "Epoch 4/200\n",
      "134/134 - 1s - loss: 20.2883 - mean_squared_error: 1071.7072 - val_loss: 78.1423 - val_mean_squared_error: 6141.8257\n",
      "Epoch 5/200\n",
      "134/134 - 1s - loss: 20.2496 - mean_squared_error: 1050.6176 - val_loss: 78.0015 - val_mean_squared_error: 6119.8384\n",
      "Epoch 6/200\n",
      "134/134 - 1s - loss: 20.3000 - mean_squared_error: 1058.7556 - val_loss: 77.9266 - val_mean_squared_error: 6108.1616\n",
      "Epoch 7/200\n",
      "134/134 - 1s - loss: 20.2539 - mean_squared_error: 1052.4231 - val_loss: 78.0357 - val_mean_squared_error: 6125.1821\n",
      "Epoch 8/200\n",
      "134/134 - 1s - loss: 20.2703 - mean_squared_error: 1057.9236 - val_loss: 78.0879 - val_mean_squared_error: 6133.3291\n",
      "Epoch 9/200\n",
      "134/134 - 1s - loss: 20.2571 - mean_squared_error: 1059.0985 - val_loss: 78.1777 - val_mean_squared_error: 6147.3662\n",
      "Epoch 10/200\n",
      "134/134 - 1s - loss: 20.2457 - mean_squared_error: 1055.0675 - val_loss: 77.9718 - val_mean_squared_error: 6115.2012\n",
      "Epoch 11/200\n",
      "134/134 - 1s - loss: 20.3070 - mean_squared_error: 1054.4916 - val_loss: 78.0820 - val_mean_squared_error: 6132.3989\n",
      "Epoch 12/200\n",
      "134/134 - 1s - loss: 20.2650 - mean_squared_error: 1058.5021 - val_loss: 78.1909 - val_mean_squared_error: 6149.4170\n",
      "Epoch 13/200\n",
      "134/134 - 1s - loss: 20.2412 - mean_squared_error: 1056.7509 - val_loss: 77.8970 - val_mean_squared_error: 6103.5513\n",
      "Epoch 14/200\n",
      "134/134 - 1s - loss: 20.2388 - mean_squared_error: 1053.5400 - val_loss: 78.0144 - val_mean_squared_error: 6121.8550\n",
      "Epoch 15/200\n",
      "134/134 - 1s - loss: 20.2669 - mean_squared_error: 1057.4832 - val_loss: 78.0585 - val_mean_squared_error: 6128.7412\n",
      "Epoch 16/200\n",
      "134/134 - 1s - loss: 20.2624 - mean_squared_error: 1054.7811 - val_loss: 77.6332 - val_mean_squared_error: 6062.5283\n",
      "Epoch 17/200\n",
      "134/134 - 1s - loss: 20.2413 - mean_squared_error: 1045.2440 - val_loss: 78.0304 - val_mean_squared_error: 6124.3477\n",
      "Epoch 18/200\n",
      "134/134 - 1s - loss: 20.2461 - mean_squared_error: 1056.9530 - val_loss: 77.8514 - val_mean_squared_error: 6096.4492\n",
      "Epoch 19/200\n",
      "134/134 - 1s - loss: 20.3116 - mean_squared_error: 1056.3567 - val_loss: 77.6468 - val_mean_squared_error: 6064.6318\n",
      "Epoch 20/200\n",
      "134/134 - 2s - loss: 20.2988 - mean_squared_error: 1054.8566 - val_loss: 78.0640 - val_mean_squared_error: 6129.5977\n",
      "Epoch 21/200\n",
      "134/134 - 2s - loss: 20.3175 - mean_squared_error: 1059.8906 - val_loss: 77.9047 - val_mean_squared_error: 6104.7432\n",
      "Epoch 22/200\n",
      "134/134 - 2s - loss: 20.3117 - mean_squared_error: 1049.0275 - val_loss: 77.9786 - val_mean_squared_error: 6116.2705\n",
      "Epoch 23/200\n",
      "134/134 - 1s - loss: 20.2540 - mean_squared_error: 1054.9567 - val_loss: 77.2604 - val_mean_squared_error: 6004.7739\n",
      "Epoch 24/200\n",
      "134/134 - 2s - loss: 20.2346 - mean_squared_error: 1050.1090 - val_loss: 76.9132 - val_mean_squared_error: 5951.2422\n",
      "Epoch 25/200\n",
      "134/134 - 1s - loss: 19.4988 - mean_squared_error: 1013.9045 - val_loss: 74.3167 - val_mean_squared_error: 5558.5703\n",
      "Epoch 26/200\n",
      "134/134 - 1s - loss: 17.0047 - mean_squared_error: 843.6057 - val_loss: 68.0630 - val_mean_squared_error: 4668.1724\n",
      "Epoch 27/200\n",
      "134/134 - 1s - loss: 15.1704 - mean_squared_error: 674.0583 - val_loss: 62.5309 - val_mean_squared_error: 3945.4976\n",
      "Epoch 28/200\n",
      "134/134 - 1s - loss: 13.6195 - mean_squared_error: 555.7043 - val_loss: 57.2359 - val_mean_squared_error: 3311.5522\n",
      "Epoch 29/200\n",
      "134/134 - 1s - loss: 22.2651 - mean_squared_error: 932.6371 - val_loss: 76.8684 - val_mean_squared_error: 5944.3550\n",
      "Epoch 30/200\n",
      "134/134 - 1s - loss: 20.3399 - mean_squared_error: 1048.2848 - val_loss: 77.9004 - val_mean_squared_error: 6104.0811\n",
      "Epoch 31/200\n",
      "134/134 - 2s - loss: 20.3832 - mean_squared_error: 1058.1130 - val_loss: 78.0487 - val_mean_squared_error: 6127.2031\n",
      "Epoch 32/200\n",
      "134/134 - 1s - loss: 20.3484 - mean_squared_error: 1051.1925 - val_loss: 77.7080 - val_mean_squared_error: 6074.1460\n",
      "Epoch 33/200\n",
      "134/134 - 1s - loss: 20.3451 - mean_squared_error: 1049.7627 - val_loss: 77.9330 - val_mean_squared_error: 6109.1562\n",
      "Epoch 34/200\n",
      "134/134 - 1s - loss: 20.4025 - mean_squared_error: 1062.0574 - val_loss: 77.9387 - val_mean_squared_error: 6110.0508\n",
      "Epoch 35/200\n",
      "134/134 - 1s - loss: 20.3264 - mean_squared_error: 1053.9027 - val_loss: 77.5889 - val_mean_squared_error: 6055.6465\n",
      "Epoch 36/200\n",
      "134/134 - 2s - loss: 20.3002 - mean_squared_error: 1046.4590 - val_loss: 77.7875 - val_mean_squared_error: 6086.5015\n",
      "Epoch 37/200\n",
      "134/134 - 1s - loss: 20.3367 - mean_squared_error: 1049.0645 - val_loss: 77.6224 - val_mean_squared_error: 6060.8511\n",
      "Epoch 38/200\n",
      "134/134 - 1s - loss: 20.3300 - mean_squared_error: 1046.4213 - val_loss: 78.0224 - val_mean_squared_error: 6123.1025\n",
      "Epoch 39/200\n",
      "134/134 - 1s - loss: 20.2899 - mean_squared_error: 1052.9299 - val_loss: 76.8925 - val_mean_squared_error: 5948.0654\n",
      "Epoch 40/200\n",
      "134/134 - 2s - loss: 20.3315 - mean_squared_error: 1054.6198 - val_loss: 77.9215 - val_mean_squared_error: 6107.3647\n",
      "Epoch 41/200\n",
      "134/134 - 1s - loss: 15.2118 - mean_squared_error: 690.1146 - val_loss: 57.8856 - val_mean_squared_error: 3386.3484\n",
      "Epoch 42/200\n",
      "134/134 - 1s - loss: 12.3934 - mean_squared_error: 462.1668 - val_loss: 52.0973 - val_mean_squared_error: 2749.6313\n",
      "Epoch 43/200\n",
      "134/134 - 1s - loss: 10.9219 - mean_squared_error: 354.8455 - val_loss: 46.4127 - val_mean_squared_error: 2189.7036\n",
      "Epoch 44/200\n",
      "134/134 - 2s - loss: 9.5122 - mean_squared_error: 268.3727 - val_loss: 40.8840 - val_mean_squared_error: 1707.1040\n",
      "Epoch 45/200\n",
      "134/134 - 1s - loss: 8.4761 - mean_squared_error: 206.4627 - val_loss: 61.6040 - val_mean_squared_error: 3834.0044\n",
      "Epoch 46/200\n",
      "134/134 - 1s - loss: 7.3470 - mean_squared_error: 149.3853 - val_loss: 31.3888 - val_mean_squared_error: 1020.8462\n",
      "Epoch 47/200\n",
      "134/134 - 1s - loss: 6.5971 - mean_squared_error: 115.9520 - val_loss: 27.3029 - val_mean_squared_error: 780.7554\n",
      "Epoch 48/200\n",
      "134/134 - 1s - loss: 5.7784 - mean_squared_error: 87.4253 - val_loss: 24.1452 - val_mean_squared_error: 616.1696\n",
      "Epoch 49/200\n",
      "134/134 - 1s - loss: 5.2503 - mean_squared_error: 70.0301 - val_loss: 53.2074 - val_mean_squared_error: 2871.4412\n",
      "Epoch 50/200\n",
      "134/134 - 1s - loss: 4.8456 - mean_squared_error: 55.8144 - val_loss: 16.7610 - val_mean_squared_error: 316.4921\n",
      "Epoch 51/200\n",
      "134/134 - 1s - loss: 4.3881 - mean_squared_error: 47.5100 - val_loss: 14.6166 - val_mean_squared_error: 248.7692\n",
      "Epoch 52/200\n",
      "134/134 - 1s - loss: 4.2269 - mean_squared_error: 40.9704 - val_loss: 12.5209 - val_mean_squared_error: 191.0871\n",
      "Epoch 53/200\n",
      "134/134 - 1s - loss: 4.2666 - mean_squared_error: 43.1161 - val_loss: 34.8790 - val_mean_squared_error: 1288.2913\n",
      "Epoch 54/200\n",
      "134/134 - 1s - loss: 3.8972 - mean_squared_error: 34.3199 - val_loss: 19.3596 - val_mean_squared_error: 434.4521\n",
      "Epoch 55/200\n",
      "134/134 - 1s - loss: 3.7552 - mean_squared_error: 32.8879 - val_loss: 10.5537 - val_mean_squared_error: 138.8878\n",
      "Epoch 56/200\n",
      "134/134 - 1s - loss: 3.7551 - mean_squared_error: 32.1204 - val_loss: 11.2111 - val_mean_squared_error: 152.6492\n",
      "Epoch 57/200\n",
      "134/134 - 1s - loss: 3.6495 - mean_squared_error: 30.0737 - val_loss: 60.0249 - val_mean_squared_error: 3640.4773\n",
      "Epoch 58/200\n",
      "134/134 - 1s - loss: 3.7982 - mean_squared_error: 35.4625 - val_loss: 47.1653 - val_mean_squared_error: 2287.4617\n",
      "Epoch 59/200\n",
      "134/134 - 1s - loss: 3.6639 - mean_squared_error: 30.7076 - val_loss: 17.8019 - val_mean_squared_error: 363.1724\n",
      "Epoch 60/200\n",
      "134/134 - 2s - loss: 3.4720 - mean_squared_error: 28.3943 - val_loss: 15.3369 - val_mean_squared_error: 275.8743\n",
      "Epoch 61/200\n",
      "134/134 - 1s - loss: 3.4465 - mean_squared_error: 27.2332 - val_loss: 12.3930 - val_mean_squared_error: 183.7545\n",
      "Epoch 62/200\n",
      "134/134 - 1s - loss: 3.4060 - mean_squared_error: 27.5195 - val_loss: 7.6261 - val_mean_squared_error: 80.0400\n",
      "Epoch 63/200\n",
      "134/134 - 1s - loss: 3.3215 - mean_squared_error: 25.4241 - val_loss: 17.0605 - val_mean_squared_error: 336.7288\n",
      "Epoch 64/200\n",
      "134/134 - 1s - loss: 3.2767 - mean_squared_error: 25.2625 - val_loss: 21.2977 - val_mean_squared_error: 502.1263\n"
     ]
    },
    {
     "name": "stdout",
     "output_type": "stream",
     "text": [
      "Epoch 65/200\n",
      "134/134 - 1s - loss: 3.2846 - mean_squared_error: 24.6408 - val_loss: 26.1188 - val_mean_squared_error: 737.0601\n",
      "Epoch 66/200\n",
      "134/134 - 1s - loss: 3.2759 - mean_squared_error: 25.1486 - val_loss: 13.4630 - val_mean_squared_error: 216.0095\n",
      "Epoch 67/200\n",
      "134/134 - 1s - loss: 3.1890 - mean_squared_error: 23.6523 - val_loss: 7.2634 - val_mean_squared_error: 72.3383\n",
      "Epoch 68/200\n",
      "134/134 - 1s - loss: 3.2884 - mean_squared_error: 25.5641 - val_loss: 16.7797 - val_mean_squared_error: 326.9397\n",
      "Epoch 69/200\n",
      "134/134 - 1s - loss: 3.1646 - mean_squared_error: 23.0167 - val_loss: 19.6743 - val_mean_squared_error: 435.2126\n",
      "Epoch 70/200\n",
      "134/134 - 1s - loss: 3.1358 - mean_squared_error: 22.6512 - val_loss: 5.7804 - val_mean_squared_error: 50.5913\n",
      "Epoch 71/200\n",
      "134/134 - 1s - loss: 3.4558 - mean_squared_error: 31.5961 - val_loss: 13.4362 - val_mean_squared_error: 213.4648\n",
      "Epoch 72/200\n",
      "134/134 - 1s - loss: 3.0899 - mean_squared_error: 21.7972 - val_loss: 18.5812 - val_mean_squared_error: 388.4371\n",
      "Epoch 73/200\n",
      "134/134 - 1s - loss: 3.1622 - mean_squared_error: 23.1445 - val_loss: 11.9274 - val_mean_squared_error: 173.9310\n",
      "Epoch 74/200\n",
      "134/134 - 1s - loss: 3.0653 - mean_squared_error: 21.6844 - val_loss: 23.2297 - val_mean_squared_error: 586.8769\n",
      "Epoch 75/200\n",
      "134/134 - 1s - loss: 3.0786 - mean_squared_error: 22.6375 - val_loss: 15.8454 - val_mean_squared_error: 292.1913\n",
      "Epoch 76/200\n",
      "134/134 - 1s - loss: 3.0253 - mean_squared_error: 21.5045 - val_loss: 10.4912 - val_mean_squared_error: 137.1036\n",
      "Epoch 77/200\n",
      "134/134 - 1s - loss: 2.9701 - mean_squared_error: 20.2920 - val_loss: 5.5350 - val_mean_squared_error: 45.8556\n",
      "Epoch 78/200\n",
      "134/134 - 1s - loss: 3.0526 - mean_squared_error: 21.6728 - val_loss: 53.4875 - val_mean_squared_error: 2895.4971\n",
      "Epoch 79/200\n",
      "134/134 - 1s - loss: 3.9111 - mean_squared_error: 44.2509 - val_loss: 12.5097 - val_mean_squared_error: 186.6091\n",
      "Epoch 80/200\n",
      "134/134 - 1s - loss: 3.0278 - mean_squared_error: 21.8468 - val_loss: 17.1880 - val_mean_squared_error: 334.9376\n",
      "Epoch 81/200\n",
      "134/134 - 1s - loss: 3.0011 - mean_squared_error: 21.2542 - val_loss: 5.0341 - val_mean_squared_error: 37.1116\n",
      "Epoch 82/200\n",
      "134/134 - 1s - loss: 3.1587 - mean_squared_error: 24.6712 - val_loss: 18.9405 - val_mean_squared_error: 407.3781\n",
      "Epoch 83/200\n",
      "134/134 - 2s - loss: 3.0416 - mean_squared_error: 20.6583 - val_loss: 21.2148 - val_mean_squared_error: 491.5299\n",
      "Epoch 84/200\n",
      "134/134 - 2s - loss: 3.0129 - mean_squared_error: 21.1523 - val_loss: 18.7233 - val_mean_squared_error: 395.7007\n",
      "Epoch 85/200\n",
      "134/134 - 2s - loss: 2.9037 - mean_squared_error: 19.8350 - val_loss: 18.2462 - val_mean_squared_error: 376.6421\n",
      "Epoch 86/200\n",
      "134/134 - 2s - loss: 2.8570 - mean_squared_error: 18.6892 - val_loss: 16.6366 - val_mean_squared_error: 317.6483\n",
      "Epoch 87/200\n",
      "134/134 - 1s - loss: 2.8901 - mean_squared_error: 19.4161 - val_loss: 11.5417 - val_mean_squared_error: 165.2687\n",
      "Epoch 88/200\n",
      "134/134 - 1s - loss: 2.8740 - mean_squared_error: 19.7677 - val_loss: 5.8292 - val_mean_squared_error: 48.2408\n",
      "Epoch 89/200\n",
      "134/134 - 1s - loss: 2.9379 - mean_squared_error: 21.3553 - val_loss: 13.1095 - val_mean_squared_error: 206.1618\n",
      "Epoch 90/200\n",
      "134/134 - 1s - loss: 2.8682 - mean_squared_error: 19.1828 - val_loss: 17.6243 - val_mean_squared_error: 354.0623\n",
      "Epoch 91/200\n",
      "134/134 - 1s - loss: 2.7853 - mean_squared_error: 18.3018 - val_loss: 14.0631 - val_mean_squared_error: 234.3723\n",
      "Epoch 92/200\n",
      "134/134 - 1s - loss: 2.8238 - mean_squared_error: 18.6543 - val_loss: 10.1175 - val_mean_squared_error: 129.3568\n",
      "Epoch 93/200\n",
      "134/134 - 1s - loss: 2.8640 - mean_squared_error: 19.6277 - val_loss: 5.2352 - val_mean_squared_error: 40.3954\n",
      "Epoch 94/200\n",
      "134/134 - 1s - loss: 2.9747 - mean_squared_error: 21.1731 - val_loss: 17.6365 - val_mean_squared_error: 360.5931\n",
      "Epoch 95/200\n",
      "134/134 - 1s - loss: 2.8135 - mean_squared_error: 19.2507 - val_loss: 16.7145 - val_mean_squared_error: 322.8051\n",
      "Epoch 96/200\n",
      "134/134 - 1s - loss: 2.8270 - mean_squared_error: 18.9422 - val_loss: 47.7752 - val_mean_squared_error: 2327.1465\n",
      "Epoch 97/200\n",
      "134/134 - 1s - loss: 3.0118 - mean_squared_error: 23.8479 - val_loss: 12.1980 - val_mean_squared_error: 182.3568\n",
      "Epoch 98/200\n",
      "134/134 - 1s - loss: 2.8197 - mean_squared_error: 19.0846 - val_loss: 18.1480 - val_mean_squared_error: 372.0381\n",
      "Epoch 99/200\n",
      "134/134 - 1s - loss: 2.7480 - mean_squared_error: 17.3495 - val_loss: 15.3817 - val_mean_squared_error: 275.7257\n",
      "Epoch 100/200\n",
      "134/134 - 1s - loss: 2.7346 - mean_squared_error: 17.3687 - val_loss: 18.2927 - val_mean_squared_error: 378.8979\n",
      "Epoch 101/200\n",
      "134/134 - 1s - loss: 2.7070 - mean_squared_error: 16.7329 - val_loss: 28.2984 - val_mean_squared_error: 850.6800\n",
      "Epoch 102/200\n",
      "134/134 - 1s - loss: 2.7796 - mean_squared_error: 17.5159 - val_loss: 39.3510 - val_mean_squared_error: 1591.3007\n",
      "Epoch 103/200\n",
      "134/134 - 1s - loss: 2.8237 - mean_squared_error: 19.7239 - val_loss: 19.4291 - val_mean_squared_error: 423.3265\n",
      "Epoch 104/200\n",
      "134/134 - 1s - loss: 2.7494 - mean_squared_error: 17.7848 - val_loss: 44.1969 - val_mean_squared_error: 1999.6176\n",
      "Epoch 105/200\n",
      "134/134 - 1s - loss: 2.8869 - mean_squared_error: 21.0207 - val_loss: 23.9610 - val_mean_squared_error: 622.7799\n",
      "Epoch 106/200\n",
      "134/134 - 1s - loss: 2.7101 - mean_squared_error: 17.5389 - val_loss: 19.0374 - val_mean_squared_error: 406.4357\n",
      "Epoch 107/200\n",
      "134/134 - 1s - loss: 2.6399 - mean_squared_error: 15.9520 - val_loss: 20.3289 - val_mean_squared_error: 458.1466\n",
      "Epoch 108/200\n",
      "134/134 - 1s - loss: 2.7007 - mean_squared_error: 16.4640 - val_loss: 11.0565 - val_mean_squared_error: 152.4975\n",
      "Epoch 109/200\n",
      "134/134 - 1s - loss: 2.6643 - mean_squared_error: 16.6951 - val_loss: 41.7518 - val_mean_squared_error: 1789.1550\n",
      "Epoch 110/200\n",
      "134/134 - 1s - loss: 2.7783 - mean_squared_error: 20.3266 - val_loss: 15.7662 - val_mean_squared_error: 292.0806\n",
      "Epoch 111/200\n",
      "134/134 - 1s - loss: 2.6508 - mean_squared_error: 16.6840 - val_loss: 20.2318 - val_mean_squared_error: 454.1895\n",
      "Epoch 112/200\n",
      "134/134 - 1s - loss: 2.6312 - mean_squared_error: 16.4604 - val_loss: 9.7307 - val_mean_squared_error: 121.3427\n",
      "Epoch 113/200\n",
      "134/134 - 1s - loss: 2.7200 - mean_squared_error: 17.4936 - val_loss: 17.6564 - val_mean_squared_error: 355.6000\n",
      "Epoch 114/200\n",
      "134/134 - 2s - loss: 2.6236 - mean_squared_error: 16.1052 - val_loss: 18.5291 - val_mean_squared_error: 393.8242\n",
      "Epoch 115/200\n",
      "134/134 - 1s - loss: 2.6290 - mean_squared_error: 16.1573 - val_loss: 15.1057 - val_mean_squared_error: 267.3470\n",
      "Epoch 116/200\n",
      "134/134 - 1s - loss: 2.6315 - mean_squared_error: 16.5371 - val_loss: 4.9759 - val_mean_squared_error: 36.7240\n",
      "Epoch 117/200\n",
      "134/134 - 1s - loss: 2.7683 - mean_squared_error: 19.4001 - val_loss: 20.7577 - val_mean_squared_error: 477.3857\n",
      "Epoch 118/200\n",
      "134/134 - 1s - loss: 2.5940 - mean_squared_error: 15.9503 - val_loss: 9.1236 - val_mean_squared_error: 109.4872\n",
      "Epoch 119/200\n",
      "134/134 - 1s - loss: 2.5757 - mean_squared_error: 15.9359 - val_loss: 34.9231 - val_mean_squared_error: 1284.8071\n",
      "Epoch 120/200\n",
      "134/134 - 1s - loss: 2.7561 - mean_squared_error: 18.4017 - val_loss: 12.6298 - val_mean_squared_error: 195.0666\n",
      "Epoch 121/200\n",
      "134/134 - 2s - loss: 2.6114 - mean_squared_error: 16.2524 - val_loss: 20.9885 - val_mean_squared_error: 485.8996\n",
      "Epoch 122/200\n",
      "134/134 - 2s - loss: 2.6602 - mean_squared_error: 17.0137 - val_loss: 40.2458 - val_mean_squared_error: 1688.1123\n",
      "Epoch 123/200\n",
      "134/134 - 1s - loss: 2.8195 - mean_squared_error: 20.0147 - val_loss: 18.6088 - val_mean_squared_error: 394.0127\n",
      "Epoch 124/200\n",
      "134/134 - 2s - loss: 2.6371 - mean_squared_error: 16.5954 - val_loss: 15.6476 - val_mean_squared_error: 287.8355\n",
      "Epoch 125/200\n",
      "134/134 - 2s - loss: 2.5789 - mean_squared_error: 15.6704 - val_loss: 15.1543 - val_mean_squared_error: 272.7134\n",
      "Epoch 126/200\n",
      "134/134 - 2s - loss: 2.4912 - mean_squared_error: 14.4375 - val_loss: 12.3268 - val_mean_squared_error: 186.5085\n",
      "Epoch 127/200\n",
      "134/134 - 2s - loss: 2.5584 - mean_squared_error: 15.3139 - val_loss: 16.5292 - val_mean_squared_error: 315.5699\n",
      "Epoch 128/200\n",
      "134/134 - 1s - loss: 2.5693 - mean_squared_error: 15.7453 - val_loss: 37.3755 - val_mean_squared_error: 1435.7335\n",
      "Epoch 129/200\n",
      "134/134 - 1s - loss: 3.1856 - mean_squared_error: 27.8541 - val_loss: 9.6296 - val_mean_squared_error: 117.6435\n"
     ]
    },
    {
     "name": "stdout",
     "output_type": "stream",
     "text": [
      "Epoch 130/200\n",
      "134/134 - 1s - loss: 2.6303 - mean_squared_error: 16.5973 - val_loss: 15.5820 - val_mean_squared_error: 286.6652\n",
      "Epoch 131/200\n",
      "134/134 - 1s - loss: 2.5871 - mean_squared_error: 16.3531 - val_loss: 22.4570 - val_mean_squared_error: 558.4426\n",
      "Epoch 132/200\n",
      "134/134 - 1s - loss: 2.6550 - mean_squared_error: 16.9020 - val_loss: 9.2718 - val_mean_squared_error: 111.6396\n",
      "Epoch 133/200\n",
      "134/134 - 1s - loss: 2.6310 - mean_squared_error: 16.3316 - val_loss: 16.5488 - val_mean_squared_error: 319.4087\n",
      "Epoch 134/200\n",
      "134/134 - 1s - loss: 2.6123 - mean_squared_error: 16.3081 - val_loss: 21.0984 - val_mean_squared_error: 496.1030\n",
      "Epoch 135/200\n",
      "134/134 - 1s - loss: 2.5197 - mean_squared_error: 15.1549 - val_loss: 5.2996 - val_mean_squared_error: 41.0806\n",
      "Epoch 136/200\n",
      "134/134 - 1s - loss: 2.6509 - mean_squared_error: 17.1749 - val_loss: 11.2370 - val_mean_squared_error: 157.1369\n",
      "Epoch 137/200\n",
      "134/134 - 1s - loss: 2.5984 - mean_squared_error: 16.2733 - val_loss: 5.6527 - val_mean_squared_error: 45.5818\n",
      "Epoch 138/200\n",
      "134/134 - 1s - loss: 2.7291 - mean_squared_error: 18.7729 - val_loss: 19.5896 - val_mean_squared_error: 434.5573\n",
      "Epoch 139/200\n",
      "134/134 - 1s - loss: 2.5842 - mean_squared_error: 16.2080 - val_loss: 19.6476 - val_mean_squared_error: 433.6559\n",
      "Epoch 140/200\n",
      "134/134 - 1s - loss: 2.5007 - mean_squared_error: 15.3085 - val_loss: 38.5670 - val_mean_squared_error: 1536.8745\n",
      "Epoch 141/200\n",
      "134/134 - 1s - loss: 2.7843 - mean_squared_error: 19.9461 - val_loss: 36.7584 - val_mean_squared_error: 1397.3616\n",
      "Epoch 142/200\n",
      "134/134 - 1s - loss: 2.7742 - mean_squared_error: 19.8491 - val_loss: 15.5540 - val_mean_squared_error: 284.4195\n",
      "Epoch 143/200\n",
      "134/134 - 1s - loss: 2.5117 - mean_squared_error: 15.4351 - val_loss: 17.6740 - val_mean_squared_error: 354.3218\n",
      "Epoch 144/200\n",
      "134/134 - 1s - loss: 2.6049 - mean_squared_error: 16.5381 - val_loss: 14.5947 - val_mean_squared_error: 254.3696\n",
      "Epoch 145/200\n",
      "134/134 - 1s - loss: 2.4709 - mean_squared_error: 14.8530 - val_loss: 26.7291 - val_mean_squared_error: 777.3180\n",
      "Epoch 146/200\n",
      "134/134 - 2s - loss: 2.6601 - mean_squared_error: 17.4305 - val_loss: 5.7444 - val_mean_squared_error: 46.8553\n",
      "Epoch 147/200\n",
      "134/134 - 1s - loss: 2.5930 - mean_squared_error: 16.6518 - val_loss: 6.5463 - val_mean_squared_error: 59.3422\n",
      "Epoch 148/200\n",
      "134/134 - 1s - loss: 2.5000 - mean_squared_error: 15.1713 - val_loss: 15.1324 - val_mean_squared_error: 272.6374\n",
      "Epoch 149/200\n",
      "134/134 - 1s - loss: 2.4823 - mean_squared_error: 14.6322 - val_loss: 44.8108 - val_mean_squared_error: 2061.7073\n",
      "Epoch 150/200\n",
      "134/134 - 1s - loss: 2.7116 - mean_squared_error: 21.6170 - val_loss: 17.7140 - val_mean_squared_error: 360.4229\n",
      "Epoch 151/200\n",
      "134/134 - 1s - loss: 2.4584 - mean_squared_error: 14.2126 - val_loss: 21.1800 - val_mean_squared_error: 493.0175\n",
      "Epoch 152/200\n",
      "134/134 - 1s - loss: 2.4125 - mean_squared_error: 13.4854 - val_loss: 8.7497 - val_mean_squared_error: 102.2796\n",
      "Epoch 153/200\n",
      "134/134 - 1s - loss: 2.4866 - mean_squared_error: 14.6370 - val_loss: 15.0024 - val_mean_squared_error: 268.8311\n",
      "Epoch 154/200\n",
      "134/134 - 1s - loss: 2.5081 - mean_squared_error: 15.0880 - val_loss: 6.7878 - val_mean_squared_error: 64.0372\n",
      "Epoch 155/200\n",
      "134/134 - 1s - loss: 2.5353 - mean_squared_error: 16.0693 - val_loss: 6.8728 - val_mean_squared_error: 65.3063\n",
      "Epoch 156/200\n",
      "134/134 - 1s - loss: 2.5723 - mean_squared_error: 16.0462 - val_loss: 15.1859 - val_mean_squared_error: 276.1168\n",
      "Epoch 157/200\n",
      "134/134 - 1s - loss: 2.4582 - mean_squared_error: 14.4515 - val_loss: 26.6473 - val_mean_squared_error: 759.8110\n",
      "Epoch 158/200\n",
      "134/134 - 1s - loss: 2.4895 - mean_squared_error: 15.0445 - val_loss: 5.3106 - val_mean_squared_error: 41.0729\n",
      "Epoch 159/200\n",
      "134/134 - 1s - loss: 2.6661 - mean_squared_error: 17.9161 - val_loss: 11.7510 - val_mean_squared_error: 172.9475\n",
      "Epoch 160/200\n",
      "134/134 - 1s - loss: 2.5093 - mean_squared_error: 15.5156 - val_loss: 14.8771 - val_mean_squared_error: 263.6311\n",
      "Epoch 161/200\n",
      "134/134 - 1s - loss: 2.4237 - mean_squared_error: 14.1062 - val_loss: 7.5856 - val_mean_squared_error: 78.2611\n",
      "Epoch 162/200\n",
      "134/134 - 1s - loss: 2.5775 - mean_squared_error: 16.7084 - val_loss: 30.7081 - val_mean_squared_error: 988.3975\n",
      "Epoch 163/200\n",
      "134/134 - 1s - loss: 2.5320 - mean_squared_error: 16.0019 - val_loss: 16.8542 - val_mean_squared_error: 333.7914\n",
      "Epoch 164/200\n",
      "134/134 - 1s - loss: 2.4121 - mean_squared_error: 13.4464 - val_loss: 15.7148 - val_mean_squared_error: 293.3210\n",
      "Epoch 165/200\n",
      "134/134 - 1s - loss: 2.3839 - mean_squared_error: 13.5838 - val_loss: 15.9275 - val_mean_squared_error: 299.3446\n",
      "Epoch 166/200\n",
      "134/134 - 1s - loss: 2.4614 - mean_squared_error: 14.8721 - val_loss: 15.5184 - val_mean_squared_error: 288.1887\n",
      "Epoch 167/200\n",
      "134/134 - 1s - loss: 2.4862 - mean_squared_error: 14.6772 - val_loss: 7.6656 - val_mean_squared_error: 80.3141\n",
      "Epoch 168/200\n",
      "134/134 - 1s - loss: 2.5204 - mean_squared_error: 15.6054 - val_loss: 16.1262 - val_mean_squared_error: 308.3455\n",
      "Epoch 169/200\n",
      "134/134 - 1s - loss: 2.4501 - mean_squared_error: 14.4068 - val_loss: 17.8256 - val_mean_squared_error: 370.6454\n",
      "Epoch 170/200\n",
      "134/134 - 1s - loss: 2.3948 - mean_squared_error: 13.8487 - val_loss: 14.3628 - val_mean_squared_error: 250.0523\n",
      "Epoch 171/200\n",
      "134/134 - 1s - loss: 2.4441 - mean_squared_error: 14.5330 - val_loss: 6.7425 - val_mean_squared_error: 63.2563\n",
      "Epoch 172/200\n",
      "134/134 - 1s - loss: 2.5130 - mean_squared_error: 15.7426 - val_loss: 17.9952 - val_mean_squared_error: 373.7432\n",
      "Epoch 173/200\n",
      "134/134 - 1s - loss: 2.3548 - mean_squared_error: 13.1182 - val_loss: 15.9645 - val_mean_squared_error: 302.5079\n",
      "Epoch 174/200\n",
      "134/134 - 1s - loss: 2.4918 - mean_squared_error: 15.0421 - val_loss: 11.6925 - val_mean_squared_error: 174.5518\n",
      "Epoch 175/200\n",
      "134/134 - 1s - loss: 2.3822 - mean_squared_error: 13.2404 - val_loss: 11.2094 - val_mean_squared_error: 159.9510\n",
      "Epoch 176/200\n",
      "134/134 - 1s - loss: 2.4095 - mean_squared_error: 14.6708 - val_loss: 20.3579 - val_mean_squared_error: 462.3400\n",
      "Epoch 177/200\n",
      "134/134 - 1s - loss: 2.4003 - mean_squared_error: 14.1308 - val_loss: 19.2591 - val_mean_squared_error: 422.1798\n",
      "Epoch 178/200\n",
      "134/134 - 1s - loss: 2.4206 - mean_squared_error: 14.6299 - val_loss: 14.7305 - val_mean_squared_error: 261.8917\n",
      "Epoch 179/200\n",
      "134/134 - 1s - loss: 2.4502 - mean_squared_error: 14.7669 - val_loss: 22.9375 - val_mean_squared_error: 576.0624\n",
      "Epoch 180/200\n",
      "134/134 - 1s - loss: 2.4022 - mean_squared_error: 14.0032 - val_loss: 11.3727 - val_mean_squared_error: 162.2664\n",
      "Epoch 181/200\n",
      "134/134 - 1s - loss: 2.4172 - mean_squared_error: 13.9774 - val_loss: 19.0521 - val_mean_squared_error: 413.2273\n",
      "Epoch 182/200\n",
      "134/134 - 1s - loss: 2.4114 - mean_squared_error: 14.9031 - val_loss: 24.6144 - val_mean_squared_error: 666.1205\n",
      "Epoch 183/200\n",
      "134/134 - 1s - loss: 2.3970 - mean_squared_error: 14.4176 - val_loss: 14.9204 - val_mean_squared_error: 264.4480\n",
      "Epoch 184/200\n",
      "134/134 - 1s - loss: 2.3954 - mean_squared_error: 14.1287 - val_loss: 10.4945 - val_mean_squared_error: 142.7144\n",
      "Epoch 185/200\n",
      "134/134 - 1s - loss: 2.4400 - mean_squared_error: 14.7948 - val_loss: 21.8870 - val_mean_squared_error: 533.9806\n",
      "Epoch 186/200\n",
      "134/134 - 1s - loss: 2.3802 - mean_squared_error: 13.8160 - val_loss: 14.9328 - val_mean_squared_error: 266.1789\n",
      "Epoch 187/200\n",
      "134/134 - 2s - loss: 2.4272 - mean_squared_error: 14.8130 - val_loss: 6.7263 - val_mean_squared_error: 63.1479\n",
      "Epoch 188/200\n",
      "134/134 - 2s - loss: 2.5297 - mean_squared_error: 16.0190 - val_loss: 30.9372 - val_mean_squared_error: 1004.5623\n",
      "Epoch 189/200\n",
      "134/134 - 2s - loss: 2.5678 - mean_squared_error: 17.0743 - val_loss: 15.0729 - val_mean_squared_error: 272.4331\n",
      "Epoch 190/200\n",
      "134/134 - 2s - loss: 2.3850 - mean_squared_error: 14.1579 - val_loss: 14.1215 - val_mean_squared_error: 242.4268\n",
      "Epoch 191/200\n",
      "134/134 - 2s - loss: 2.3566 - mean_squared_error: 13.5156 - val_loss: 22.4134 - val_mean_squared_error: 560.9790\n",
      "Epoch 192/200\n",
      "134/134 - 2s - loss: 2.4153 - mean_squared_error: 14.2746 - val_loss: 12.9700 - val_mean_squared_error: 206.3173\n",
      "Epoch 193/200\n",
      "134/134 - 2s - loss: 2.3573 - mean_squared_error: 13.3190 - val_loss: 16.6818 - val_mean_squared_error: 327.4321\n",
      "Epoch 194/200\n",
      "134/134 - 1s - loss: 2.3592 - mean_squared_error: 14.1764 - val_loss: 10.1685 - val_mean_squared_error: 136.0553\n"
     ]
    },
    {
     "name": "stdout",
     "output_type": "stream",
     "text": [
      "Epoch 195/200\n",
      "134/134 - 1s - loss: 2.3809 - mean_squared_error: 13.5434 - val_loss: 11.1317 - val_mean_squared_error: 157.9672\n",
      "Epoch 196/200\n",
      "134/134 - 1s - loss: 2.4527 - mean_squared_error: 14.5176 - val_loss: 10.3878 - val_mean_squared_error: 140.2453\n",
      "Epoch 197/200\n",
      "134/134 - 1s - loss: 2.4382 - mean_squared_error: 14.6444 - val_loss: 11.4089 - val_mean_squared_error: 165.7766\n",
      "Epoch 198/200\n",
      "134/134 - 1s - loss: 2.3792 - mean_squared_error: 13.9780 - val_loss: 14.2129 - val_mean_squared_error: 244.8403\n",
      "Epoch 199/200\n",
      "134/134 - 1s - loss: 2.4025 - mean_squared_error: 14.3239 - val_loss: 12.1411 - val_mean_squared_error: 184.4915\n",
      "Epoch 200/200\n",
      "134/134 - 1s - loss: 2.3401 - mean_squared_error: 13.3682 - val_loss: 10.8096 - val_mean_squared_error: 150.8063\n"
     ]
    }
   ],
   "source": [
    "history = model.fit(seq_array, label_array, epochs=200, batch_size=32, validation_split=0.1, verbose=2)"
   ]
  },
  {
   "cell_type": "code",
   "execution_count": 29,
   "metadata": {},
   "outputs": [
    {
     "data": {
      "image/png": "[encoded data removed]",
      "text/plain": [
       "<Figure size 432x288 with 1 Axes>"
      ]
     },
     "metadata": {
      "needs_background": "light"
     },
     "output_type": "display_data"
    }
   ],
   "source": [
    "\n",
    "plt.plot(history.history['loss'], label='train')\n",
    "plt.plot(history.history['val_loss'], label='valid')\n",
    "plt.legend()\n",
    "plt.show()"
   ]
  },
  {
   "cell_type": "code",
   "execution_count": 30,
   "metadata": {},
   "outputs": [],
   "source": [
    "pd.DataFrame([history.history['loss'],history.history['val_loss']]).T\\\n",
    ".rename({0:'train',1:'test'},axis=1)\\\n",
    ".to_csv('history.csv')"
   ]
  },
  {
   "cell_type": "code",
   "execution_count": 31,
   "metadata": {},
   "outputs": [
    {
     "data": {
      "image/png": "[encoded data removed]",
      "text/plain": [
       "<Figure size 432x288 with 1 Axes>"
      ]
     },
     "metadata": {
      "needs_background": "light"
     },
     "output_type": "display_data"
    }
   ],
   "source": [
    "prediction = model.predict(seq_array_test)\n",
    "plt.plot(prediction, label='prediction')\n",
    "plt.plot(label_array_test, label='truth')\n",
    "plt.legend()\n",
    "plt.show()"
   ]
  },
  {
   "cell_type": "code",
   "execution_count": 32,
   "metadata": {},
   "outputs": [],
   "source": [
    "pd.DataFrame([np.squeeze(prediction),label_array_test]).T\\\n",
    ".rename({0:'prediction',1:'truth'},axis=1)\\\n",
    ".set_index(target.index[target.index> target.index[int(len(target) * 0.9) + sequence_length]])\\\n",
    ".to_csv('LSTM_prediction.csv')"
   ]
  },
  {
   "cell_type": "code",
   "execution_count": 33,
   "metadata": {},
   "outputs": [
    {
     "data": {
      "text/plain": [
       "(-2.358749986470324, 24.735971676074776)"
      ]
     },
     "execution_count": 33,
     "metadata": {},
     "output_type": "execute_result"
    }
   ],
   "source": [
    "r2_score(label_array_test,prediction),np.sqrt(mean_squared_error(label_array_test,prediction))"
   ]
  },
  {
   "cell_type": "code",
   "execution_count": 34,
   "metadata": {},
   "outputs": [
    {
     "name": "stdout",
     "output_type": "stream",
     "text": [
      "611.8682947595735\n"
     ]
    }
   ],
   "source": [
    "print(mean_squared_error (label_array_test,prediction))"
   ]
  }
 ],
 "metadata": {
  "kernelspec": {
   "display_name": "Python 3",
   "language": "python",
   "name": "python3"
  },
  "language_info": {
   "codemirror_mode": {
    "name": "ipython",
    "version": 3
   },
   "file_extension": ".py",
   "mimetype": "text/x-python",
   "name": "python",
   "nbconvert_exporter": "python",
   "pygments_lexer": "ipython3",
   "version": "3.8.5"
  }
 },
 "nbformat": 4,
 "nbformat_minor": 2
}
