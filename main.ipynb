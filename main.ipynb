{
 "cells": [
  {
   "cell_type": "markdown",
   "metadata": {},
   "source": [
    "# Import relevant libraries"
   ]
  },
  {
   "cell_type": "markdown",
   "metadata": {},
   "source": [
    "Imports the relevant python libraries needed."
   ]
  },
  {
   "cell_type": "code",
   "execution_count": 1,
   "metadata": {},
   "outputs": [],
   "source": [
    "import yahoo_fin\n",
    "import yahoo_fin.stock_info as si\n",
    "from yahoo_fin.stock_info import get_data\n",
    "import numpy as np\n",
    "import pandas as pd\n",
    "import datetime\n",
    "from datetime import datetime\n",
    "import matplotlib.pyplot as plt"
   ]
  },
  {
   "cell_type": "markdown",
   "metadata": {},
   "source": [
    "# Import and preprocess data"
   ]
  },
  {
   "cell_type": "markdown",
   "metadata": {},
   "source": [
    "Data is scraped from Yahoo!Finance for all S&P 500 companies using the yahoo_fin Python library."
   ]
  },
  {
   "cell_type": "markdown",
   "metadata": {},
   "source": [
    "The below extracts the list of S&P500 companies' tickers. 2 of the tickers' values were replaced so that they can be searched using the yahoo_fin library."
   ]
  },
  {
   "cell_type": "code",
   "execution_count": 2,
   "metadata": {},
   "outputs": [],
   "source": [
    "sp500_list = pd.read_html('https://en.wikipedia.org/wiki/List_of_S%26P_500_companies', attrs={'class': 'wikitable sortable'},header=0)[0]['Symbol']\n",
    "sp500_list.replace(to_replace='BRK.B',value='BRK-B',inplace=True)\n",
    "sp500_list.replace(to_replace='BF.B',value='BF-B',inplace=True)"
   ]
  },
  {
   "cell_type": "markdown",
   "metadata": {},
   "source": [
    "The below extracts the information from Yahoo!Finance according to the start date and end date specified. Information for each ticker is extracted for the 'daily' time interval."
   ]
  },
  {
   "cell_type": "code",
   "execution_count": 3,
   "metadata": {},
   "outputs": [
    {
     "name": "stdout",
     "output_type": "stream",
     "text": [
      "Please enter START date for the date range you want the model to be trained on. Format of input: DD-MM-YY.01-01-00\n",
      "Start date: 01-01-00\n",
      "Please enter END date for the date range you want the model to be trained on. Format of input: DD-MM-YY.30-11-20\n",
      "End date: 30-11-20\n",
      "No. of stocks with data successfully generated: 505.\n",
      "No. of stocks with KeyError: 0.\n",
      "No. of stocks with AssertionError: 0.\n"
     ]
    }
   ],
   "source": [
    "#Variables created.\n",
    "historical_data = {}\n",
    "counter = 0\n",
    "key_err = 0\n",
    "assert_err = 0\n",
    "tickers_key_err = []\n",
    "tickers_assert_err= []\n",
    "\n",
    "#User input - start date and end date\n",
    "while True:\n",
    "    try:\n",
    "        start_date_input = input(\"Please enter START date for the date range you want the model to be trained on. Format of input: DD-MM-YY.\")\n",
    "        start_date = datetime.strptime(start_date_input, '%d-%m-%y')\n",
    "        print(\"Start date: \" + str(start_date_input))\n",
    "        break\n",
    "    except ValueError:\n",
    "        print(\"                             \", end='\\r')\n",
    "        print(\"Please ensure input is in the format DD-MM-YY.\", end='\\r')\n",
    "\n",
    "while True:\n",
    "    try:\n",
    "        end_date_input = input(\"Please enter END date for the date range you want the model to be trained on. Format of input: DD-MM-YY.\")\n",
    "        end_date = datetime.strptime(end_date_input, '%d-%m-%y')\n",
    "        print(\"End date: \" + str(end_date_input))\n",
    "        break\n",
    "    except ValueError:\n",
    "        print(\"                             \", end='\\r')\n",
    "        print(\"Please ensure input is in the format DD-MM-YY.\", end='\\r')\n",
    "\n",
    "\n",
    "for ticker in sp500_list:\n",
    "    counter += 1\n",
    "    print(\"                             \", end='\\r')\n",
    "    print(str(ticker) + \" \" + str(counter), end='\\r')\n",
    "    try:\n",
    "        historical_data[ticker] = get_data(ticker, start_date = start_date_input, end_date = end_date_input)\n",
    "        historical_data[ticker] = historical_data[ticker].drop(labels='ticker',axis=1)\n",
    "        historical_data[ticker].columns = str(ticker) + \"_\" + historical_data[ticker].columns\n",
    "        \n",
    "    except KeyError:\n",
    "        historical_data[ticker] = None\n",
    "        key_err += 1\n",
    "        tickers_key_err.append(ticker)\n",
    "    except AssertionError:\n",
    "        historical_data[ticker] = None\n",
    "        assert_err += 1\n",
    "        tickers_assert_err.append(ticker)\n",
    "        \n",
    "print(\"No. of stocks with data successfully generated: \" + str(counter-key_err-assert_err) + \".\")\n",
    "print(\"No. of stocks with KeyError: \" + str(key_err) + \".\")\n",
    "if key_err>0:\n",
    "    print(\"Tickers with KeyError (to investigate if needed): \" + str(tickers_key_err))\n",
    "print(\"No. of stocks with AssertionError: \" + str(assert_err) + \".\")\n",
    "if assert_err>0:\n",
    "    print(\"Tickers with AssertionError (to investigate if needed): \" + str(tickers_assert_err))"
   ]
  },
  {
   "cell_type": "markdown",
   "metadata": {},
   "source": [
    "Merge the dictionary of dataframes column-wise on the index (which is the date). Drop all columns with NaN values."
   ]
  },
  {
   "cell_type": "code",
   "execution_count": 4,
   "metadata": {},
   "outputs": [
    {
     "data": {
      "text/html": [
       "<div>\n",
       "<style scoped>\n",
       "    .dataframe tbody tr th:only-of-type {\n",
       "        vertical-align: middle;\n",
       "    }\n",
       "\n",
       "    .dataframe tbody tr th {\n",
       "        vertical-align: top;\n",
       "    }\n",
       "\n",
       "    .dataframe thead th {\n",
       "        text-align: right;\n",
       "    }\n",
       "</style>\n",
       "<table border=\"1\" class=\"dataframe\">\n",
       "  <thead>\n",
       "    <tr style=\"text-align: right;\">\n",
       "      <th></th>\n",
       "      <th>MMM_open</th>\n",
       "      <th>MMM_high</th>\n",
       "      <th>MMM_low</th>\n",
       "      <th>MMM_close</th>\n",
       "      <th>MMM_adjclose</th>\n",
       "      <th>MMM_volume</th>\n",
       "      <th>ABT_open</th>\n",
       "      <th>ABT_high</th>\n",
       "      <th>ABT_low</th>\n",
       "      <th>ABT_close</th>\n",
       "      <th>...</th>\n",
       "      <th>ZBRA_low</th>\n",
       "      <th>ZBRA_close</th>\n",
       "      <th>ZBRA_adjclose</th>\n",
       "      <th>ZBRA_volume</th>\n",
       "      <th>ZION_open</th>\n",
       "      <th>ZION_high</th>\n",
       "      <th>ZION_low</th>\n",
       "      <th>ZION_close</th>\n",
       "      <th>ZION_adjclose</th>\n",
       "      <th>ZION_volume</th>\n",
       "    </tr>\n",
       "  </thead>\n",
       "  <tbody>\n",
       "    <tr>\n",
       "      <th>2000-01-03</th>\n",
       "      <td>48.03125</td>\n",
       "      <td>48.25000</td>\n",
       "      <td>47.03125</td>\n",
       "      <td>47.1875</td>\n",
       "      <td>27.815882</td>\n",
       "      <td>2173400</td>\n",
       "      <td>15.823756</td>\n",
       "      <td>16.160431</td>\n",
       "      <td>15.599305</td>\n",
       "      <td>15.711531</td>\n",
       "      <td>...</td>\n",
       "      <td>24.777779</td>\n",
       "      <td>25.027779</td>\n",
       "      <td>25.027779</td>\n",
       "      <td>1055700</td>\n",
       "      <td>59.03125</td>\n",
       "      <td>59.1250</td>\n",
       "      <td>53.4375</td>\n",
       "      <td>55.5000</td>\n",
       "      <td>39.996193</td>\n",
       "      <td>1199600</td>\n",
       "    </tr>\n",
       "    <tr>\n",
       "      <th>2000-01-04</th>\n",
       "      <td>46.43750</td>\n",
       "      <td>47.40625</td>\n",
       "      <td>45.31250</td>\n",
       "      <td>45.3125</td>\n",
       "      <td>26.710594</td>\n",
       "      <td>2713800</td>\n",
       "      <td>15.459024</td>\n",
       "      <td>15.599305</td>\n",
       "      <td>15.150405</td>\n",
       "      <td>15.262630</td>\n",
       "      <td>...</td>\n",
       "      <td>23.000000</td>\n",
       "      <td>24.666666</td>\n",
       "      <td>24.666666</td>\n",
       "      <td>522400</td>\n",
       "      <td>54.62500</td>\n",
       "      <td>55.0000</td>\n",
       "      <td>52.5000</td>\n",
       "      <td>52.8125</td>\n",
       "      <td>38.059437</td>\n",
       "      <td>816100</td>\n",
       "    </tr>\n",
       "    <tr>\n",
       "      <th>2000-01-05</th>\n",
       "      <td>45.56250</td>\n",
       "      <td>48.12500</td>\n",
       "      <td>45.56250</td>\n",
       "      <td>46.6250</td>\n",
       "      <td>27.484299</td>\n",
       "      <td>3699400</td>\n",
       "      <td>15.066236</td>\n",
       "      <td>15.402911</td>\n",
       "      <td>15.066236</td>\n",
       "      <td>15.234573</td>\n",
       "      <td>...</td>\n",
       "      <td>23.555555</td>\n",
       "      <td>25.138889</td>\n",
       "      <td>25.138889</td>\n",
       "      <td>612100</td>\n",
       "      <td>52.75000</td>\n",
       "      <td>53.2500</td>\n",
       "      <td>51.0625</td>\n",
       "      <td>52.7500</td>\n",
       "      <td>38.014412</td>\n",
       "      <td>1124700</td>\n",
       "    </tr>\n",
       "    <tr>\n",
       "      <th>2000-01-06</th>\n",
       "      <td>47.15625</td>\n",
       "      <td>51.25000</td>\n",
       "      <td>47.15625</td>\n",
       "      <td>50.3750</td>\n",
       "      <td>29.694832</td>\n",
       "      <td>5975800</td>\n",
       "      <td>15.262630</td>\n",
       "      <td>15.823756</td>\n",
       "      <td>15.178461</td>\n",
       "      <td>15.767643</td>\n",
       "      <td>...</td>\n",
       "      <td>23.722221</td>\n",
       "      <td>23.777779</td>\n",
       "      <td>23.777779</td>\n",
       "      <td>263800</td>\n",
       "      <td>52.75000</td>\n",
       "      <td>54.9375</td>\n",
       "      <td>52.3750</td>\n",
       "      <td>53.5000</td>\n",
       "      <td>38.554890</td>\n",
       "      <td>1112100</td>\n",
       "    </tr>\n",
       "    <tr>\n",
       "      <th>2000-01-07</th>\n",
       "      <td>50.56250</td>\n",
       "      <td>51.90625</td>\n",
       "      <td>49.96875</td>\n",
       "      <td>51.3750</td>\n",
       "      <td>30.284302</td>\n",
       "      <td>4101200</td>\n",
       "      <td>15.487081</td>\n",
       "      <td>16.272657</td>\n",
       "      <td>15.487081</td>\n",
       "      <td>15.935981</td>\n",
       "      <td>...</td>\n",
       "      <td>23.111111</td>\n",
       "      <td>23.513889</td>\n",
       "      <td>23.513889</td>\n",
       "      <td>333900</td>\n",
       "      <td>53.75000</td>\n",
       "      <td>54.2500</td>\n",
       "      <td>53.3125</td>\n",
       "      <td>53.6250</td>\n",
       "      <td>38.644981</td>\n",
       "      <td>782000</td>\n",
       "    </tr>\n",
       "  </tbody>\n",
       "</table>\n",
       "<p>5 rows × 2262 columns</p>\n",
       "</div>"
      ],
      "text/plain": [
       "            MMM_open  MMM_high   MMM_low  MMM_close  MMM_adjclose  MMM_volume  \\\n",
       "2000-01-03  48.03125  48.25000  47.03125    47.1875     27.815882     2173400   \n",
       "2000-01-04  46.43750  47.40625  45.31250    45.3125     26.710594     2713800   \n",
       "2000-01-05  45.56250  48.12500  45.56250    46.6250     27.484299     3699400   \n",
       "2000-01-06  47.15625  51.25000  47.15625    50.3750     29.694832     5975800   \n",
       "2000-01-07  50.56250  51.90625  49.96875    51.3750     30.284302     4101200   \n",
       "\n",
       "             ABT_open   ABT_high    ABT_low  ABT_close  ...   ZBRA_low  \\\n",
       "2000-01-03  15.823756  16.160431  15.599305  15.711531  ...  24.777779   \n",
       "2000-01-04  15.459024  15.599305  15.150405  15.262630  ...  23.000000   \n",
       "2000-01-05  15.066236  15.402911  15.066236  15.234573  ...  23.555555   \n",
       "2000-01-06  15.262630  15.823756  15.178461  15.767643  ...  23.722221   \n",
       "2000-01-07  15.487081  16.272657  15.487081  15.935981  ...  23.111111   \n",
       "\n",
       "            ZBRA_close  ZBRA_adjclose  ZBRA_volume  ZION_open  ZION_high  \\\n",
       "2000-01-03   25.027779      25.027779      1055700   59.03125    59.1250   \n",
       "2000-01-04   24.666666      24.666666       522400   54.62500    55.0000   \n",
       "2000-01-05   25.138889      25.138889       612100   52.75000    53.2500   \n",
       "2000-01-06   23.777779      23.777779       263800   52.75000    54.9375   \n",
       "2000-01-07   23.513889      23.513889       333900   53.75000    54.2500   \n",
       "\n",
       "            ZION_low  ZION_close  ZION_adjclose  ZION_volume  \n",
       "2000-01-03   53.4375     55.5000      39.996193      1199600  \n",
       "2000-01-04   52.5000     52.8125      38.059437       816100  \n",
       "2000-01-05   51.0625     52.7500      38.014412      1124700  \n",
       "2000-01-06   52.3750     53.5000      38.554890      1112100  \n",
       "2000-01-07   53.3125     53.6250      38.644981       782000  \n",
       "\n",
       "[5 rows x 2262 columns]"
      ]
     },
     "execution_count": 4,
     "metadata": {},
     "output_type": "execute_result"
    }
   ],
   "source": [
    "merged_data = pd.concat(historical_data, axis=1)\n",
    "merged_data = merged_data.dropna(axis='columns')\n",
    "merged_tickers = list(set(merged_data.columns.get_level_values(0))) #Store all remaining tickers' names for further use later.\n",
    "merged_data.columns = merged_data.columns.droplevel(0)\n",
    "\n",
    "merged_data.head()\n",
    "\n"
   ]
  },
  {
   "cell_type": "markdown",
   "metadata": {},
   "source": [
    "# Picking of target stock"
   ]
  },
  {
   "cell_type": "markdown",
   "metadata": {},
   "source": [
    "User to pick the target stock out of the remaining tickers in the pre-processed data for training and testing of the model."
   ]
  },
  {
   "cell_type": "code",
   "execution_count": 5,
   "metadata": {},
   "outputs": [
    {
     "name": "stdout",
     "output_type": "stream",
     "text": [
      "List of all tickers in data: \n",
      "['BF-B', 'EMN', 'COF', 'MTD', 'RCL', 'SEE', 'CSX', 'MCK', 'DLTR', 'CI', 'OXY', 'BSX', 'FMC', 'WMT', 'TFX', 'PFE', 'MMM', 'A', 'WAT', 'MSI', 'DTE', 'GIS', 'EBAY', 'JKHY', 'PAYX', 'FFIV', 'LHX', 'OKE', 'EMR', 'SCHW', 'HFC', 'ROK', 'NOV', 'PHM', 'HOLX', 'ALB', 'VMC', 'TXT', 'DOV', 'SLB', 'TRV', 'IBM', 'BA', 'EOG', 'RSG', 'AMAT', 'OMC', 'EVRG', 'CVS', 'BKNG', 'SPG', 'MKC', 'INTC', 'VFC', 'LIN', 'BIIB', 'PPG', 'BDX', 'D', 'CTSH', 'FISV', 'IFF', 'AXP', 'AMGN', 'LEN', 'KIM', 'WHR', 'AMZN', 'GLW', 'XOM', 'CMA', 'JPM', 'AVB', 'DVN', 'ATVI', 'WEC', 'VLO', 'LH', 'MO', 'RE', 'GWW', 'ZBRA', 'LOW', 'COG', 'URI', 'PEAK', 'CHD', 'PEG', 'RF', 'APA', 'VAR', 'UNM', 'PG', 'DISH', 'FAST', 'MCD', 'ATO', 'CAG', 'K', 'EL', 'YUM', 'PH', 'ES', 'SNPS', 'CPB', 'ECL', 'GD', 'MU', 'HES', 'ARE', 'STT', 'TROW', 'CMI', 'JNPR', 'SNA', 'ORLY', 'AMD', 'FRT', 'PKI', 'WELL', 'AOS', 'CPRT', 'APD', 'FDX', 'HSY', 'CMS', 'NVDA', 'AFL', 'SWK', 'L', 'HUM', 'XLNX', 'HIG', 'BWA', 'RHI', 'WBA', 'CAH', 'MSFT', 'HSIC', 'BXP', 'WMB', 'INCY', 'VTRS', 'TFC', 'NVR', 'CLX', 'TTWO', 'O', 'MXIM', 'PCAR', 'VRSN', 'TAP', 'MRO', 'PEP', 'MCO', 'WST', 'PXD', 'ESS', 'FLS', 'AES', 'STE', 'MGM', 'DGX', 'DHR', 'STZ', 'HAS', 'MAR', 'RL', 'JBHT', 'TDY', 'SLG', 'KR', 'NUE', 'LNT', 'EXPD', 'PWR', 'BAX', 'WAB', 'CERN', 'ANSS', 'GPC', 'ABC', 'VRTX', 'KO', 'DUK', 'LRCX', 'CCI', 'IDXX', 'CMCSA', 'AIV', 'INTU', 'RTX', 'NWL', 'WY', 'NEM', 'WRB', 'CL', 'BKR', 'ADBE', 'MLM', 'BAC', 'ABT', 'CINF', 'ADP', 'SBAC', 'DIS', 'AZO', 'CB', 'PSA', 'GE', 'CVX', 'IVZ', 'NTAP', 'HBAN', 'ADM', 'EFX', 'BIO', 'VNO', 'FE', 'MTB', 'ADSK', 'BEN', 'MCHP', 'ALK', 'LNC', 'SRE', 'CNP', 'PGR', 'GS', 'HON', 'DHI', 'MAA', 'UDR', 'TT', 'CAT', 'NOC', 'UHS', 'IPG', 'BLL', 'LUV', 'C', 'ADI', 'EA', 'AJG', 'DRE', 'AIG', 'EQR', 'BLK', 'AMT', 'UNH', 'TSCO', 'SJM', 'CHRW', 'HRL', 'TIF', 'BK', 'WFC', 'HD', 'NSC', 'MAS', 'NTRS', 'F', 'GL', 'TMO', 'LEG', 'AEE', 'TYL', 'APH', 'CDNS', 'HPQ', 'ROL', 'PRGO', 'SBUX', 'IP', 'FLIR', 'FITB', 'JCI', 'J', 'QCOM', 'ODFL', 'IEX', 'PPL', 'GPS', 'MRK', 'AVY', 'NKE', 'VZ', 'NI', 'DRI', 'CTAS', 'ROST', 'WDC', 'RJF', 'SYY', 'CCL', 'TXN', 'HST', 'MMC', 'KMX', 'IT', 'AKAM', 'CTXS', 'MHK', 'UNP', 'TER', 'KEY', 'BRK-B', 'EXC', 'KMB', 'REG', 'POOL', 'XRAY', 'DD', 'MS', 'SWKS', 'ORCL', 'GILD', 'VTR', 'PNC', 'BMY', 'BBY', 'ZION', 'XEL', 'AON', 'USB', 'TSN', 'AAPL', 'ITW', 'ALXN', 'XRX', 'RMD', 'SHW', 'COP', 'WM', 'NLOK', 'PBCT', 'JNJ', 'PLD', 'ETR', 'FCX', 'LB', 'KSU', 'SIVB', 'MOS', 'LMT', 'ALL', 'T', 'CSCO', 'DE', 'DXC', 'AEP', 'NEE', 'MDT', 'SPGI', 'SYK', 'HAL', 'PVH', 'LLY', 'ABMD', 'AME', 'KLAC', 'COO', 'PNW', 'ETN', 'IRM', 'ED', 'COST', 'UPS', 'EIX', 'TJX', 'ROP', 'SO', 'TGT', 'REGN', 'MNST', 'DVA', 'PNR']\n",
      "Indicate a ticker. Pick one from the print statement below.PVH\n"
     ]
    }
   ],
   "source": [
    "print(\"List of all tickers in data: \\n\" + str(merged_tickers))\n",
    "chosen_ticker = input(\"Indicate a ticker. Pick one from the print statement below.\")\n",
    "chosen_adjclose = chosen_ticker + \"_adjclose\""
   ]
  },
  {
   "cell_type": "markdown",
   "metadata": {},
   "source": [
    "# Exploratory Data Analysis and Feature Selection"
   ]
  },
  {
   "cell_type": "markdown",
   "metadata": {},
   "source": [
    "Plot of price over time period for chosen stock's adjusted close and open prices."
   ]
  },
  {
   "cell_type": "code",
   "execution_count": 6,
   "metadata": {},
   "outputs": [
    {
     "data": {
      "text/plain": [
       "<matplotlib.legend.Legend at 0x1351ab296d0>"
      ]
     },
     "execution_count": 6,
     "metadata": {},
     "output_type": "execute_result"
    },
    {
     "data": {
      "image/png": "[encoded data removed]",
      "text/plain": [
       "<Figure size 432x288 with 1 Axes>"
      ]
     },
     "metadata": {
      "needs_background": "light"
     },
     "output_type": "display_data"
    }
   ],
   "source": [
    "\n",
    "%matplotlib inline\n",
    "merged_data[chosen_adjclose].plot()\n",
    "merged_data[chosen_ticker+\"_open\"].plot()\n",
    "plt.legend()"
   ]
  },
  {
   "cell_type": "markdown",
   "metadata": {},
   "source": [
    "Summary statistics over entire time period for chosen stock using pandas' describe function."
   ]
  },
  {
   "cell_type": "code",
   "execution_count": 7,
   "metadata": {},
   "outputs": [
    {
     "name": "stdout",
     "output_type": "stream",
     "text": [
      "count    5261.000000\n",
      "mean       62.258707\n",
      "std        42.630146\n",
      "min         5.307689\n",
      "25%        22.210590\n",
      "50%        53.264847\n",
      "75%       102.160294\n",
      "max       167.603027\n",
      "Name: PVH_adjclose, dtype: float64\n"
     ]
    }
   ],
   "source": [
    "print(merged_data[chosen_adjclose].describe())"
   ]
  },
  {
   "cell_type": "markdown",
   "metadata": {},
   "source": [
    "Pick variables based on the correlation coefficient of chosen_adjclose (\"target variable\") vs all other variables (\"feature variables\")."
   ]
  },
  {
   "cell_type": "code",
   "execution_count": 8,
   "metadata": {},
   "outputs": [
    {
     "name": "stdout",
     "output_type": "stream",
     "text": [
      "How many days ahead would you like to predict?1\n"
     ]
    }
   ],
   "source": [
    "r = [np.corrcoef(merged_data[chosen_adjclose],merged_data[column])[0,1] for column in merged_data]\n",
    "days_ahead = int(input(\"How many days ahead would you like to predict?\"))\n",
    "features = merged_data[merged_data.columns[np.argpartition(np.abs(r), -200)[-200:]]].shift(days_ahead).dropna()\n",
    "target = merged_data[chosen_adjclose][days_ahead:]\n"
   ]
  },
  {
   "cell_type": "markdown",
   "metadata": {},
   "source": [
    "Determine the proportion of the split between train and test set. Here, arbitrarily determined as 90% for training, 10% for testing. Note: For extremely large data sets, it may be good to specify a number value (as opposed to a percentage) for the test set as the test set need not be too large, and also it would be good for the training set to be larger where possible.\n"
   ]
  },
  {
   "cell_type": "code",
   "execution_count": 9,
   "metadata": {},
   "outputs": [
    {
     "name": "stdout",
     "output_type": "stream",
     "text": [
      "Check of train-test split: \n",
      "features = 5260\n",
      "features_train = 4735\n",
      "features_test = 525\n"
     ]
    }
   ],
   "source": [
    "traintest_index = int(len(features) * 0.9) #This returns the row number for the boundary between train and test sets.\n",
    "traintest_value = features.index[traintest_index] #This returns the datetimeindex at the row where we want to split between train and test sets.\n",
    "features_train = features[features.index <= traintest_value]\n",
    "features_test = features[features.index > traintest_value]\n",
    "target_train = target[target.index <= traintest_value]\n",
    "target_test = target[target.index > traintest_value]\n",
    "\n",
    "print(\"Check of train-test split: \")\n",
    "print(\"features = \" + str(len(features)))\n",
    "print(\"features_train = \" + str(len(features_train)))\n",
    "print(\"features_test = \" + str(len(features_test)))\n"
   ]
  },
  {
   "cell_type": "markdown",
   "metadata": {},
   "source": [
    "Perform a min-max scaling on the features for both train and test sets using sklearn's MinMaxScaler module to ensure that data is all within the same scale."
   ]
  },
  {
   "cell_type": "code",
   "execution_count": 11,
   "metadata": {},
   "outputs": [
    {
     "data": {
      "text/html": [
       "<div>\n",
       "<style scoped>\n",
       "    .dataframe tbody tr th:only-of-type {\n",
       "        vertical-align: middle;\n",
       "    }\n",
       "\n",
       "    .dataframe tbody tr th {\n",
       "        vertical-align: top;\n",
       "    }\n",
       "\n",
       "    .dataframe thead th {\n",
       "        text-align: right;\n",
       "    }\n",
       "</style>\n",
       "<table border=\"1\" class=\"dataframe\">\n",
       "  <thead>\n",
       "    <tr style=\"text-align: right;\">\n",
       "      <th></th>\n",
       "      <th>CB_high</th>\n",
       "      <th>PPG_low</th>\n",
       "      <th>D_high</th>\n",
       "      <th>MCK_adjclose</th>\n",
       "      <th>MCK_open</th>\n",
       "      <th>MCK_high</th>\n",
       "      <th>AVB_low</th>\n",
       "      <th>MCK_close</th>\n",
       "      <th>MCK_low</th>\n",
       "      <th>BIIB_close</th>\n",
       "      <th>...</th>\n",
       "      <th>PXD_high</th>\n",
       "      <th>PXD_open</th>\n",
       "      <th>PNR_adjclose</th>\n",
       "      <th>PNR_close</th>\n",
       "      <th>PNR_low</th>\n",
       "      <th>PNR_high</th>\n",
       "      <th>PNR_open</th>\n",
       "      <th>OKE_close</th>\n",
       "      <th>OKE_low</th>\n",
       "      <th>OKE_open</th>\n",
       "    </tr>\n",
       "  </thead>\n",
       "  <tbody>\n",
       "    <tr>\n",
       "      <th>2000-01-04</th>\n",
       "      <td>0.015344</td>\n",
       "      <td>0.149067</td>\n",
       "      <td>0.024101</td>\n",
       "      <td>0.028542</td>\n",
       "      <td>0.030222</td>\n",
       "      <td>0.031372</td>\n",
       "      <td>0.007283</td>\n",
       "      <td>0.032534</td>\n",
       "      <td>0.027378</td>\n",
       "      <td>0.026175</td>\n",
       "      <td>...</td>\n",
       "      <td>0.004132</td>\n",
       "      <td>0.006360</td>\n",
       "      <td>0.074344</td>\n",
       "      <td>0.105017</td>\n",
       "      <td>0.097971</td>\n",
       "      <td>0.117427</td>\n",
       "      <td>0.120640</td>\n",
       "      <td>0.010059</td>\n",
       "      <td>0.009473</td>\n",
       "      <td>0.011032</td>\n",
       "    </tr>\n",
       "    <tr>\n",
       "      <th>2000-01-05</th>\n",
       "      <td>0.009206</td>\n",
       "      <td>0.140480</td>\n",
       "      <td>0.025028</td>\n",
       "      <td>0.022697</td>\n",
       "      <td>0.030771</td>\n",
       "      <td>0.029171</td>\n",
       "      <td>0.001917</td>\n",
       "      <td>0.025917</td>\n",
       "      <td>0.025442</td>\n",
       "      <td>0.021570</td>\n",
       "      <td>...</td>\n",
       "      <td>0.003856</td>\n",
       "      <td>0.005530</td>\n",
       "      <td>0.071507</td>\n",
       "      <td>0.101127</td>\n",
       "      <td>0.098838</td>\n",
       "      <td>0.102803</td>\n",
       "      <td>0.105991</td>\n",
       "      <td>0.009032</td>\n",
       "      <td>0.008649</td>\n",
       "      <td>0.009193</td>\n",
       "    </tr>\n",
       "    <tr>\n",
       "      <th>2000-01-06</th>\n",
       "      <td>0.008768</td>\n",
       "      <td>0.141368</td>\n",
       "      <td>0.036615</td>\n",
       "      <td>0.023671</td>\n",
       "      <td>0.026101</td>\n",
       "      <td>0.025869</td>\n",
       "      <td>0.000000</td>\n",
       "      <td>0.027020</td>\n",
       "      <td>0.024336</td>\n",
       "      <td>0.025993</td>\n",
       "      <td>...</td>\n",
       "      <td>0.004682</td>\n",
       "      <td>0.006636</td>\n",
       "      <td>0.074344</td>\n",
       "      <td>0.105017</td>\n",
       "      <td>0.100572</td>\n",
       "      <td>0.103663</td>\n",
       "      <td>0.100820</td>\n",
       "      <td>0.009853</td>\n",
       "      <td>0.009061</td>\n",
       "      <td>0.009193</td>\n",
       "    </tr>\n",
       "    <tr>\n",
       "      <th>2000-01-07</th>\n",
       "      <td>0.008768</td>\n",
       "      <td>0.151435</td>\n",
       "      <td>0.039859</td>\n",
       "      <td>0.029760</td>\n",
       "      <td>0.026375</td>\n",
       "      <td>0.034124</td>\n",
       "      <td>0.004217</td>\n",
       "      <td>0.033912</td>\n",
       "      <td>0.026825</td>\n",
       "      <td>0.029003</td>\n",
       "      <td>...</td>\n",
       "      <td>0.004682</td>\n",
       "      <td>0.005254</td>\n",
       "      <td>0.073398</td>\n",
       "      <td>0.103720</td>\n",
       "      <td>0.101873</td>\n",
       "      <td>0.101082</td>\n",
       "      <td>0.102975</td>\n",
       "      <td>0.009853</td>\n",
       "      <td>0.009267</td>\n",
       "      <td>0.009602</td>\n",
       "    </tr>\n",
       "    <tr>\n",
       "      <th>2000-01-10</th>\n",
       "      <td>0.028496</td>\n",
       "      <td>0.166240</td>\n",
       "      <td>0.038469</td>\n",
       "      <td>0.028785</td>\n",
       "      <td>0.034343</td>\n",
       "      <td>0.034124</td>\n",
       "      <td>0.012650</td>\n",
       "      <td>0.032809</td>\n",
       "      <td>0.032080</td>\n",
       "      <td>0.037165</td>\n",
       "      <td>...</td>\n",
       "      <td>0.004958</td>\n",
       "      <td>0.006360</td>\n",
       "      <td>0.080647</td>\n",
       "      <td>0.113660</td>\n",
       "      <td>0.106208</td>\n",
       "      <td>0.112266</td>\n",
       "      <td>0.105129</td>\n",
       "      <td>0.012933</td>\n",
       "      <td>0.010296</td>\n",
       "      <td>0.009806</td>\n",
       "    </tr>\n",
       "  </tbody>\n",
       "</table>\n",
       "<p>5 rows × 200 columns</p>\n",
       "</div>"
      ],
      "text/plain": [
       "             CB_high   PPG_low    D_high  MCK_adjclose  MCK_open  MCK_high  \\\n",
       "2000-01-04  0.015344  0.149067  0.024101      0.028542  0.030222  0.031372   \n",
       "2000-01-05  0.009206  0.140480  0.025028      0.022697  0.030771  0.029171   \n",
       "2000-01-06  0.008768  0.141368  0.036615      0.023671  0.026101  0.025869   \n",
       "2000-01-07  0.008768  0.151435  0.039859      0.029760  0.026375  0.034124   \n",
       "2000-01-10  0.028496  0.166240  0.038469      0.028785  0.034343  0.034124   \n",
       "\n",
       "             AVB_low  MCK_close   MCK_low  BIIB_close  ...  PXD_high  \\\n",
       "2000-01-04  0.007283   0.032534  0.027378    0.026175  ...  0.004132   \n",
       "2000-01-05  0.001917   0.025917  0.025442    0.021570  ...  0.003856   \n",
       "2000-01-06  0.000000   0.027020  0.024336    0.025993  ...  0.004682   \n",
       "2000-01-07  0.004217   0.033912  0.026825    0.029003  ...  0.004682   \n",
       "2000-01-10  0.012650   0.032809  0.032080    0.037165  ...  0.004958   \n",
       "\n",
       "            PXD_open  PNR_adjclose  PNR_close   PNR_low  PNR_high  PNR_open  \\\n",
       "2000-01-04  0.006360      0.074344   0.105017  0.097971  0.117427  0.120640   \n",
       "2000-01-05  0.005530      0.071507   0.101127  0.098838  0.102803  0.105991   \n",
       "2000-01-06  0.006636      0.074344   0.105017  0.100572  0.103663  0.100820   \n",
       "2000-01-07  0.005254      0.073398   0.103720  0.101873  0.101082  0.102975   \n",
       "2000-01-10  0.006360      0.080647   0.113660  0.106208  0.112266  0.105129   \n",
       "\n",
       "            OKE_close   OKE_low  OKE_open  \n",
       "2000-01-04   0.010059  0.009473  0.011032  \n",
       "2000-01-05   0.009032  0.008649  0.009193  \n",
       "2000-01-06   0.009853  0.009061  0.009193  \n",
       "2000-01-07   0.009853  0.009267  0.009602  \n",
       "2000-01-10   0.012933  0.010296  0.009806  \n",
       "\n",
       "[5 rows x 200 columns]"
      ]
     },
     "execution_count": 11,
     "metadata": {},
     "output_type": "execute_result"
    }
   ],
   "source": [
    "from sklearn.preprocessing import MinMaxScaler\n",
    "minmax_scaler = MinMaxScaler()\n",
    "features_train = pd.DataFrame(minmax_scaler.fit_transform(features_train), \n",
    "                              columns = features_train.columns, \n",
    "                              index = features_train.index)\n",
    "features_train.head()"
   ]
  },
  {
   "cell_type": "code",
   "execution_count": 12,
   "metadata": {},
   "outputs": [
    {
     "data": {
      "text/html": [
       "<div>\n",
       "<style scoped>\n",
       "    .dataframe tbody tr th:only-of-type {\n",
       "        vertical-align: middle;\n",
       "    }\n",
       "\n",
       "    .dataframe tbody tr th {\n",
       "        vertical-align: top;\n",
       "    }\n",
       "\n",
       "    .dataframe thead th {\n",
       "        text-align: right;\n",
       "    }\n",
       "</style>\n",
       "<table border=\"1\" class=\"dataframe\">\n",
       "  <thead>\n",
       "    <tr style=\"text-align: right;\">\n",
       "      <th></th>\n",
       "      <th>CB_high</th>\n",
       "      <th>PPG_low</th>\n",
       "      <th>D_high</th>\n",
       "      <th>MCK_adjclose</th>\n",
       "      <th>MCK_open</th>\n",
       "      <th>MCK_high</th>\n",
       "      <th>AVB_low</th>\n",
       "      <th>MCK_close</th>\n",
       "      <th>MCK_low</th>\n",
       "      <th>BIIB_close</th>\n",
       "      <th>...</th>\n",
       "      <th>PXD_high</th>\n",
       "      <th>PXD_open</th>\n",
       "      <th>PNR_adjclose</th>\n",
       "      <th>PNR_close</th>\n",
       "      <th>PNR_low</th>\n",
       "      <th>PNR_high</th>\n",
       "      <th>PNR_open</th>\n",
       "      <th>OKE_close</th>\n",
       "      <th>OKE_low</th>\n",
       "      <th>OKE_open</th>\n",
       "    </tr>\n",
       "  </thead>\n",
       "  <tbody>\n",
       "    <tr>\n",
       "      <th>2018-10-29</th>\n",
       "      <td>124.660004</td>\n",
       "      <td>101.070000</td>\n",
       "      <td>73.580002</td>\n",
       "      <td>115.404144</td>\n",
       "      <td>120.970001</td>\n",
       "      <td>121.000000</td>\n",
       "      <td>173.199997</td>\n",
       "      <td>118.389999</td>\n",
       "      <td>117.190002</td>\n",
       "      <td>300.170013</td>\n",
       "      <td>...</td>\n",
       "      <td>152.880005</td>\n",
       "      <td>151.000000</td>\n",
       "      <td>37.924793</td>\n",
       "      <td>39.349998</td>\n",
       "      <td>38.230000</td>\n",
       "      <td>39.750000</td>\n",
       "      <td>38.369999</td>\n",
       "      <td>63.340000</td>\n",
       "      <td>62.459999</td>\n",
       "      <td>64.269997</td>\n",
       "    </tr>\n",
       "    <tr>\n",
       "      <th>2018-10-30</th>\n",
       "      <td>125.510002</td>\n",
       "      <td>101.410004</td>\n",
       "      <td>72.790001</td>\n",
       "      <td>117.724136</td>\n",
       "      <td>120.250000</td>\n",
       "      <td>122.230003</td>\n",
       "      <td>175.830002</td>\n",
       "      <td>120.769997</td>\n",
       "      <td>119.459999</td>\n",
       "      <td>300.959991</td>\n",
       "      <td>...</td>\n",
       "      <td>150.360001</td>\n",
       "      <td>150.220001</td>\n",
       "      <td>37.654942</td>\n",
       "      <td>39.070000</td>\n",
       "      <td>38.660000</td>\n",
       "      <td>40.060001</td>\n",
       "      <td>39.889999</td>\n",
       "      <td>63.230000</td>\n",
       "      <td>62.459999</td>\n",
       "      <td>63.900002</td>\n",
       "    </tr>\n",
       "    <tr>\n",
       "      <th>2018-10-31</th>\n",
       "      <td>125.529999</td>\n",
       "      <td>102.120003</td>\n",
       "      <td>72.940002</td>\n",
       "      <td>120.989647</td>\n",
       "      <td>121.250000</td>\n",
       "      <td>124.199997</td>\n",
       "      <td>177.210007</td>\n",
       "      <td>124.120003</td>\n",
       "      <td>120.209999</td>\n",
       "      <td>306.279999</td>\n",
       "      <td>...</td>\n",
       "      <td>146.179993</td>\n",
       "      <td>142.270004</td>\n",
       "      <td>38.377773</td>\n",
       "      <td>39.820000</td>\n",
       "      <td>39.090000</td>\n",
       "      <td>40.009998</td>\n",
       "      <td>39.380001</td>\n",
       "      <td>63.270000</td>\n",
       "      <td>62.200001</td>\n",
       "      <td>63.209999</td>\n",
       "    </tr>\n",
       "    <tr>\n",
       "      <th>2018-11-01</th>\n",
       "      <td>126.500000</td>\n",
       "      <td>104.239998</td>\n",
       "      <td>72.610001</td>\n",
       "      <td>121.613503</td>\n",
       "      <td>124.889999</td>\n",
       "      <td>125.980003</td>\n",
       "      <td>174.399994</td>\n",
       "      <td>124.760002</td>\n",
       "      <td>123.629997</td>\n",
       "      <td>304.269989</td>\n",
       "      <td>...</td>\n",
       "      <td>150.630005</td>\n",
       "      <td>147.770004</td>\n",
       "      <td>38.695824</td>\n",
       "      <td>40.150002</td>\n",
       "      <td>39.930000</td>\n",
       "      <td>40.639999</td>\n",
       "      <td>40.310001</td>\n",
       "      <td>65.599998</td>\n",
       "      <td>64.500000</td>\n",
       "      <td>64.709999</td>\n",
       "    </tr>\n",
       "    <tr>\n",
       "      <th>2018-11-02</th>\n",
       "      <td>126.430000</td>\n",
       "      <td>105.089996</td>\n",
       "      <td>72.440002</td>\n",
       "      <td>125.834305</td>\n",
       "      <td>125.480003</td>\n",
       "      <td>129.199997</td>\n",
       "      <td>174.389999</td>\n",
       "      <td>129.089996</td>\n",
       "      <td>125.410004</td>\n",
       "      <td>315.329987</td>\n",
       "      <td>...</td>\n",
       "      <td>151.889999</td>\n",
       "      <td>147.429993</td>\n",
       "      <td>39.649963</td>\n",
       "      <td>41.139999</td>\n",
       "      <td>40.099998</td>\n",
       "      <td>41.240002</td>\n",
       "      <td>40.340000</td>\n",
       "      <td>64.809998</td>\n",
       "      <td>64.099998</td>\n",
       "      <td>65.919998</td>\n",
       "    </tr>\n",
       "  </tbody>\n",
       "</table>\n",
       "<p>5 rows × 200 columns</p>\n",
       "</div>"
      ],
      "text/plain": [
       "               CB_high     PPG_low     D_high  MCK_adjclose    MCK_open  \\\n",
       "2018-10-29  124.660004  101.070000  73.580002    115.404144  120.970001   \n",
       "2018-10-30  125.510002  101.410004  72.790001    117.724136  120.250000   \n",
       "2018-10-31  125.529999  102.120003  72.940002    120.989647  121.250000   \n",
       "2018-11-01  126.500000  104.239998  72.610001    121.613503  124.889999   \n",
       "2018-11-02  126.430000  105.089996  72.440002    125.834305  125.480003   \n",
       "\n",
       "              MCK_high     AVB_low   MCK_close     MCK_low  BIIB_close  ...  \\\n",
       "2018-10-29  121.000000  173.199997  118.389999  117.190002  300.170013  ...   \n",
       "2018-10-30  122.230003  175.830002  120.769997  119.459999  300.959991  ...   \n",
       "2018-10-31  124.199997  177.210007  124.120003  120.209999  306.279999  ...   \n",
       "2018-11-01  125.980003  174.399994  124.760002  123.629997  304.269989  ...   \n",
       "2018-11-02  129.199997  174.389999  129.089996  125.410004  315.329987  ...   \n",
       "\n",
       "              PXD_high    PXD_open  PNR_adjclose  PNR_close    PNR_low  \\\n",
       "2018-10-29  152.880005  151.000000     37.924793  39.349998  38.230000   \n",
       "2018-10-30  150.360001  150.220001     37.654942  39.070000  38.660000   \n",
       "2018-10-31  146.179993  142.270004     38.377773  39.820000  39.090000   \n",
       "2018-11-01  150.630005  147.770004     38.695824  40.150002  39.930000   \n",
       "2018-11-02  151.889999  147.429993     39.649963  41.139999  40.099998   \n",
       "\n",
       "             PNR_high   PNR_open  OKE_close    OKE_low   OKE_open  \n",
       "2018-10-29  39.750000  38.369999  63.340000  62.459999  64.269997  \n",
       "2018-10-30  40.060001  39.889999  63.230000  62.459999  63.900002  \n",
       "2018-10-31  40.009998  39.380001  63.270000  62.200001  63.209999  \n",
       "2018-11-01  40.639999  40.310001  65.599998  64.500000  64.709999  \n",
       "2018-11-02  41.240002  40.340000  64.809998  64.099998  65.919998  \n",
       "\n",
       "[5 rows x 200 columns]"
      ]
     },
     "execution_count": 12,
     "metadata": {},
     "output_type": "execute_result"
    }
   ],
   "source": [
    "features_test = pd.DataFrame(minmax_scaler.transform(features_test), \n",
    "                             columns=features_test.columns, \n",
    "                             index=features_test.index)\n",
    "features_test.head()"
   ]
  },
  {
   "cell_type": "markdown",
   "metadata": {},
   "source": [
    "Sequence generation"
   ]
  },
  {
   "cell_type": "code",
   "execution_count": 13,
   "metadata": {},
   "outputs": [
    {
     "data": {
      "text/plain": [
       "(4730, 5, 200)"
      ]
     },
     "execution_count": 13,
     "metadata": {},
     "output_type": "execute_result"
    }
   ],
   "source": [
    "sequence_length = 5\n",
    "def gen_sequence(df, seq_length):\n",
    "    data_array = df.values\n",
    "    num_elements = data_array.shape[0]\n",
    "    for start, stop in zip(range(0, num_elements-seq_length), range(seq_length, num_elements)):\n",
    "        yield data_array[start:stop, :]\n",
    "\n",
    "seq_array = np.array(list(gen_sequence(features_train,sequence_length)))\n",
    "seq_array.shape"
   ]
  },
  {
   "cell_type": "code",
   "execution_count": 14,
   "metadata": {},
   "outputs": [
    {
     "data": {
      "text/plain": [
       "(4730,)"
      ]
     },
     "execution_count": 14,
     "metadata": {},
     "output_type": "execute_result"
    }
   ],
   "source": [
    "def gen_labels(df, seq_length):\n",
    "    data_array = df.values\n",
    "    num_elements = data_array.shape[0]\n",
    "    return data_array[seq_length:num_elements]\n",
    "\n",
    "label_array = np.array(list(gen_labels(target_train,sequence_length)))\n",
    "label_array.shape"
   ]
  },
  {
   "cell_type": "code",
   "execution_count": 15,
   "metadata": {},
   "outputs": [
    {
     "data": {
      "text/plain": [
       "(520, 5, 200)"
      ]
     },
     "execution_count": 15,
     "metadata": {},
     "output_type": "execute_result"
    }
   ],
   "source": [
    "seq_array_test = np.array(list(gen_sequence(features_test,sequence_length)))\n",
    "seq_array_test.shape"
   ]
  },
  {
   "cell_type": "code",
   "execution_count": 16,
   "metadata": {},
   "outputs": [
    {
     "data": {
      "text/plain": [
       "(520,)"
      ]
     },
     "execution_count": 16,
     "metadata": {},
     "output_type": "execute_result"
    }
   ],
   "source": [
    "label_array_test = np.array(list(gen_labels(target_test,sequence_length)))\n",
    "label_array_test.shape"
   ]
  },
  {
   "cell_type": "markdown",
   "metadata": {},
   "source": [
    "# Benchmark Model - Linear Regression"
   ]
  },
  {
   "cell_type": "code",
   "execution_count": 17,
   "metadata": {},
   "outputs": [
    {
     "data": {
      "text/plain": [
       "LinearRegression()"
      ]
     },
     "execution_count": 17,
     "metadata": {},
     "output_type": "execute_result"
    }
   ],
   "source": [
    "from sklearn.linear_model import LinearRegression\n",
    "linearregression = LinearRegression()\n",
    "linearregression.fit(np.array([seq_array[i][sequence_length-1] for i in range(seq_array.shape[0])]),label_array)"
   ]
  },
  {
   "cell_type": "code",
   "execution_count": 18,
   "metadata": {},
   "outputs": [],
   "source": [
    "prediction = linearregression.predict(np.array([seq_array_test[i][sequence_length-1] for i in range(seq_array_test.shape[0])]))\n"
   ]
  },
  {
   "cell_type": "code",
   "execution_count": 19,
   "metadata": {},
   "outputs": [],
   "source": [
    "pd.DataFrame([prediction,label_array_test]).T\\\n",
    ".rename({0:'prediction',1:'truth'},axis=1)\\\n",
    ".set_index(target.index[target.index> target.index[int(len(target) * 0.9) + sequence_length]])\\\n",
    ".to_csv('LR_prediction.csv')"
   ]
  },
  {
   "cell_type": "code",
   "execution_count": 20,
   "metadata": {},
   "outputs": [
    {
     "data": {
      "image/png": "[encoded data removed]",
      "text/plain": [
       "<Figure size 432x288 with 1 Axes>"
      ]
     },
     "metadata": {
      "needs_background": "light"
     },
     "output_type": "display_data"
    }
   ],
   "source": [
    "plt.plot(prediction, label='prediction')\n",
    "plt.plot(label_array_test, label='truth')\n",
    "plt.legend()\n",
    "plt.show()"
   ]
  },
  {
   "cell_type": "code",
   "execution_count": 21,
   "metadata": {},
   "outputs": [
    {
     "data": {
      "text/plain": [
       "(-2698002392.3174253, 1334104.31247216)"
      ]
     },
     "execution_count": 21,
     "metadata": {},
     "output_type": "execute_result"
    }
   ],
   "source": [
    "from sklearn.metrics import r2_score, mean_squared_error\n",
    "r2_score(label_array_test,prediction),np.sqrt(mean_squared_error(label_array_test,prediction))"
   ]
  },
  {
   "cell_type": "markdown",
   "metadata": {},
   "source": [
    "# Neural Network"
   ]
  },
  {
   "cell_type": "markdown",
   "metadata": {},
   "source": [
    "LSTM model"
   ]
  },
  {
   "cell_type": "code",
   "execution_count": 22,
   "metadata": {
    "scrolled": true
   },
   "outputs": [],
   "source": [
    "from tensorflow import keras\n",
    "from keras.models import Sequential\n",
    "from keras.layers import Dense, Dropout, LSTM\n",
    "\n",
    "# build the network\n",
    "nb_features = seq_array.shape[2]\n",
    "\n",
    "model = Sequential()\n",
    "\n",
    "model.add(LSTM(\n",
    "         input_shape=(sequence_length, nb_features),\n",
    "         units=100,\n",
    "         return_sequences=True))\n",
    "model.add(Dropout(0.2))\n",
    "\n",
    "model.add(LSTM(\n",
    "         input_shape=(sequence_length, nb_features),\n",
    "         units=100,\n",
    "         return_sequences=True))\n",
    "model.add(Dropout(0.2))\n",
    "\n",
    "model.add(LSTM(\n",
    "          units=50,\n",
    "          return_sequences=False))\n",
    "model.add(Dropout(0.2))\n",
    "\n",
    "model.add(Dense(1))\n",
    "model.compile(loss='mae', optimizer='nadam', metrics=['mean_squared_error'])"
   ]
  },
  {
   "cell_type": "code",
   "execution_count": 23,
   "metadata": {},
   "outputs": [
    {
     "name": "stdout",
     "output_type": "stream",
     "text": [
      "Model: \"sequential\"\n",
      "_________________________________________________________________\n",
      "Layer (type)                 Output Shape              Param #   \n",
      "=================================================================\n",
      "lstm (LSTM)                  (None, 5, 100)            120400    \n",
      "_________________________________________________________________\n",
      "dropout (Dropout)            (None, 5, 100)            0         \n",
      "_________________________________________________________________\n",
      "lstm_1 (LSTM)                (None, 5, 100)            80400     \n",
      "_________________________________________________________________\n",
      "dropout_1 (Dropout)          (None, 5, 100)            0         \n",
      "_________________________________________________________________\n",
      "lstm_2 (LSTM)                (None, 50)                30200     \n",
      "_________________________________________________________________\n",
      "dropout_2 (Dropout)          (None, 50)                0         \n",
      "_________________________________________________________________\n",
      "dense (Dense)                (None, 1)                 51        \n",
      "=================================================================\n",
      "Total params: 231,051\n",
      "Trainable params: 231,051\n",
      "Non-trainable params: 0\n",
      "_________________________________________________________________\n"
     ]
    }
   ],
   "source": [
    "model.summary()"
   ]
  },
  {
   "cell_type": "code",
   "execution_count": 24,
   "metadata": {},
   "outputs": [],
   "source": [
    "history = model.fit(seq_array, label_array, epochs=1000, batch_size=500, validation_split=0.1, verbose=0)"
   ]
  },
  {
   "cell_type": "code",
   "execution_count": 25,
   "metadata": {},
   "outputs": [
    {
     "data": {
      "image/png": "[encoded data removed]",
      "text/plain": [
       "<Figure size 432x288 with 1 Axes>"
      ]
     },
     "metadata": {
      "needs_background": "light"
     },
     "output_type": "display_data"
    }
   ],
   "source": [
    "\n",
    "plt.plot(history.history['loss'], label='train')\n",
    "plt.plot(history.history['val_loss'], label='valid')\n",
    "plt.legend()\n",
    "plt.show()"
   ]
  },
  {
   "cell_type": "code",
   "execution_count": 26,
   "metadata": {},
   "outputs": [],
   "source": [
    "pd.DataFrame([history.history['loss'],history.history['val_loss']]).T\\\n",
    ".rename({0:'train',1:'test'},axis=1)\\\n",
    ".to_csv('history.csv')"
   ]
  },
  {
   "cell_type": "code",
   "execution_count": 27,
   "metadata": {},
   "outputs": [
    {
     "data": {
      "image/png": "[encoded data removed]",
      "text/plain": [
       "<Figure size 432x288 with 1 Axes>"
      ]
     },
     "metadata": {
      "needs_background": "light"
     },
     "output_type": "display_data"
    }
   ],
   "source": [
    "prediction = model.predict(seq_array_test)\n",
    "plt.plot(prediction, label='prediction')\n",
    "plt.plot(label_array_test, label='truth')\n",
    "plt.legend()\n",
    "plt.show()"
   ]
  },
  {
   "cell_type": "code",
   "execution_count": 28,
   "metadata": {},
   "outputs": [],
   "source": [
    "pd.DataFrame([np.squeeze(prediction),label_array_test]).T\\\n",
    ".rename({0:'prediction',1:'truth'},axis=1)\\\n",
    ".set_index(target.index[target.index> target.index[int(len(target) * 0.9) + sequence_length]])\\\n",
    ".to_csv('LSTM_prediction.csv')"
   ]
  },
  {
   "cell_type": "code",
   "execution_count": 29,
   "metadata": {},
   "outputs": [
    {
     "data": {
      "text/plain": [
       "(-1.5486262799783823, 41.00357290348114)"
      ]
     },
     "execution_count": 29,
     "metadata": {},
     "output_type": "execute_result"
    }
   ],
   "source": [
    "r2_score(label_array_test,prediction),np.sqrt(mean_squared_error(label_array_test,prediction))"
   ]
  }
 ],
 "metadata": {
  "kernelspec": {
   "display_name": "Python 3",
   "language": "python",
   "name": "python3"
  },
  "language_info": {
   "codemirror_mode": {
    "name": "ipython",
    "version": 3
   },
   "file_extension": ".py",
   "mimetype": "text/x-python",
   "name": "python",
   "nbconvert_exporter": "python",
   "pygments_lexer": "ipython3",
   "version": "3.8.5"
  }
 },
 "nbformat": 4,
 "nbformat_minor": 2
}
