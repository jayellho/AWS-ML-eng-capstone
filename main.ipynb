{
 "cells": [
  {
   "cell_type": "markdown",
   "metadata": {},
   "source": [
    "# Import relevant libraries"
   ]
  },
  {
   "cell_type": "markdown",
   "metadata": {},
   "source": [
    "Imports the relevant python libraries needed."
   ]
  },
  {
   "cell_type": "code",
   "execution_count": 1,
   "metadata": {},
   "outputs": [],
   "source": [
    "import yahoo_fin\n",
    "import yahoo_fin.stock_info as si\n",
    "from yahoo_fin.stock_info import get_data\n",
    "import numpy as np\n",
    "import pandas as pd\n",
    "import datetime\n",
    "from datetime import datetime\n",
    "import matplotlib.pyplot as plt"
   ]
  },
  {
   "cell_type": "markdown",
   "metadata": {},
   "source": [
    "# Import and preprocess data"
   ]
  },
  {
   "cell_type": "markdown",
   "metadata": {},
   "source": [
    "Data is scraped from Yahoo!Finance for all S&P 500 companies using the yahoo_fin Python library."
   ]
  },
  {
   "cell_type": "markdown",
   "metadata": {},
   "source": [
    "The below extracts the list of S&P500 companies' tickers."
   ]
  },
  {
   "cell_type": "code",
   "execution_count": 2,
   "metadata": {},
   "outputs": [],
   "source": [
    "sp500_list = pd.read_html('https://en.wikipedia.org/wiki/List_of_S%26P_500_companies', attrs={'class': 'wikitable sortable'},header=0)[0]['Symbol']\n",
    "sp500_list.replace(to_replace='BRK.B',value='BRK-B',inplace=True)\n",
    "sp500_list.replace(to_replace='BF.B',value='BF-B',inplace=True)"
   ]
  },
  {
   "cell_type": "markdown",
   "metadata": {},
   "source": [
    "The below extracts the information from Yahoo!Finance according to the start date and end date specified. Information for each ticker is extracted for the 'daily' time interval."
   ]
  },
  {
   "cell_type": "code",
   "execution_count": 3,
   "metadata": {},
   "outputs": [
    {
     "name": "stdout",
     "output_type": "stream",
     "text": [
      "Please enter START date for the date range you want the model to be trained on. Format of input: DD-MM-YY.01-01-00\n",
      "Start date: 01-01-00\n",
      "Please enter END date for the date range you want the model to be trained on. Format of input: DD-MM-YY.30-11-20\n",
      "End date: 30-11-20\n",
      "No. of stocks with data successfully generated: 505.\n",
      "No. of stocks with KeyError: 0.\n",
      "No. of stocks with AssertionError: 0.\n"
     ]
    }
   ],
   "source": [
    "#Variables created.\n",
    "historical_data = {}\n",
    "counter = 0\n",
    "key_err = 0\n",
    "assert_err = 0\n",
    "tickers_key_err = []\n",
    "tickers_assert_err= []\n",
    "\n",
    "#User input - start date and end date\n",
    "while True:\n",
    "    try:\n",
    "        start_date_input = input(\"Please enter START date for the date range you want the model to be trained on. Format of input: DD-MM-YY.\")\n",
    "        start_date = datetime.strptime(start_date_input, '%d-%m-%y')\n",
    "        print(\"Start date: \" + str(start_date_input))\n",
    "        break\n",
    "    except ValueError:\n",
    "        print(\"                             \", end='\\r')\n",
    "        print(\"Please ensure input is in the format DD-MM-YY.\", end='\\r')\n",
    "\n",
    "while True:\n",
    "    try:\n",
    "        end_date_input = input(\"Please enter END date for the date range you want the model to be trained on. Format of input: DD-MM-YY.\")\n",
    "        end_date = datetime.strptime(end_date_input, '%d-%m-%y')\n",
    "        print(\"End date: \" + str(end_date_input))\n",
    "        break\n",
    "    except ValueError:\n",
    "        print(\"                             \", end='\\r')\n",
    "        print(\"Please ensure input is in the format DD-MM-YY.\", end='\\r')\n",
    "\n",
    "\n",
    "for ticker in sp500_list:\n",
    "    counter += 1\n",
    "    print(\"                             \", end='\\r')\n",
    "    print(str(ticker) + \" \" + str(counter), end='\\r')\n",
    "    try:\n",
    "        historical_data[ticker] = get_data(ticker, start_date = start_date_input, end_date = end_date_input)\n",
    "        historical_data[ticker] = historical_data[ticker].drop(labels='ticker',axis=1)\n",
    "        historical_data[ticker].columns = str(ticker) + \"_\" + historical_data[ticker].columns\n",
    "        \n",
    "    except KeyError:\n",
    "        historical_data[ticker] = None\n",
    "        key_err += 1\n",
    "        tickers_key_err.append(ticker)\n",
    "    except AssertionError:\n",
    "        historical_data[ticker] = None\n",
    "        assert_err += 1\n",
    "        tickers_assert_err.append(ticker)\n",
    "        \n",
    "print(\"No. of stocks with data successfully generated: \" + str(counter-key_err-assert_err) + \".\")\n",
    "print(\"No. of stocks with KeyError: \" + str(key_err) + \".\")\n",
    "if key_err>0:\n",
    "    print(\"Tickers with KeyError (to investigate if needed): \" + str(tickers_key_err))\n",
    "print(\"No. of stocks with AssertionError: \" + str(assert_err) + \".\")\n",
    "if assert_err>0:\n",
    "    print(\"Tickers with AssertionError (to investigate if needed): \" + str(tickers_assert_err))"
   ]
  },
  {
   "cell_type": "markdown",
   "metadata": {},
   "source": [
    "Merge the dictionary of dataframes column-wise on the index (which is the date). Drop all columns with NaN values."
   ]
  },
  {
   "cell_type": "code",
   "execution_count": 4,
   "metadata": {},
   "outputs": [
    {
     "data": {
      "text/html": [
       "<div>\n",
       "<style scoped>\n",
       "    .dataframe tbody tr th:only-of-type {\n",
       "        vertical-align: middle;\n",
       "    }\n",
       "\n",
       "    .dataframe tbody tr th {\n",
       "        vertical-align: top;\n",
       "    }\n",
       "\n",
       "    .dataframe thead th {\n",
       "        text-align: right;\n",
       "    }\n",
       "</style>\n",
       "<table border=\"1\" class=\"dataframe\">\n",
       "  <thead>\n",
       "    <tr style=\"text-align: right;\">\n",
       "      <th></th>\n",
       "      <th>MMM_open</th>\n",
       "      <th>MMM_high</th>\n",
       "      <th>MMM_low</th>\n",
       "      <th>MMM_close</th>\n",
       "      <th>MMM_adjclose</th>\n",
       "      <th>MMM_volume</th>\n",
       "      <th>ABT_open</th>\n",
       "      <th>ABT_high</th>\n",
       "      <th>ABT_low</th>\n",
       "      <th>ABT_close</th>\n",
       "      <th>...</th>\n",
       "      <th>ZBRA_low</th>\n",
       "      <th>ZBRA_close</th>\n",
       "      <th>ZBRA_adjclose</th>\n",
       "      <th>ZBRA_volume</th>\n",
       "      <th>ZION_open</th>\n",
       "      <th>ZION_high</th>\n",
       "      <th>ZION_low</th>\n",
       "      <th>ZION_close</th>\n",
       "      <th>ZION_adjclose</th>\n",
       "      <th>ZION_volume</th>\n",
       "    </tr>\n",
       "  </thead>\n",
       "  <tbody>\n",
       "    <tr>\n",
       "      <th>2000-01-03</th>\n",
       "      <td>48.03125</td>\n",
       "      <td>48.25000</td>\n",
       "      <td>47.03125</td>\n",
       "      <td>47.1875</td>\n",
       "      <td>27.815882</td>\n",
       "      <td>2173400</td>\n",
       "      <td>15.823756</td>\n",
       "      <td>16.160431</td>\n",
       "      <td>15.599305</td>\n",
       "      <td>15.711531</td>\n",
       "      <td>...</td>\n",
       "      <td>24.777779</td>\n",
       "      <td>25.027779</td>\n",
       "      <td>25.027779</td>\n",
       "      <td>1055700</td>\n",
       "      <td>59.03125</td>\n",
       "      <td>59.1250</td>\n",
       "      <td>53.4375</td>\n",
       "      <td>55.5000</td>\n",
       "      <td>39.996193</td>\n",
       "      <td>1199600</td>\n",
       "    </tr>\n",
       "    <tr>\n",
       "      <th>2000-01-04</th>\n",
       "      <td>46.43750</td>\n",
       "      <td>47.40625</td>\n",
       "      <td>45.31250</td>\n",
       "      <td>45.3125</td>\n",
       "      <td>26.710594</td>\n",
       "      <td>2713800</td>\n",
       "      <td>15.459024</td>\n",
       "      <td>15.599305</td>\n",
       "      <td>15.150405</td>\n",
       "      <td>15.262630</td>\n",
       "      <td>...</td>\n",
       "      <td>23.000000</td>\n",
       "      <td>24.666666</td>\n",
       "      <td>24.666666</td>\n",
       "      <td>522400</td>\n",
       "      <td>54.62500</td>\n",
       "      <td>55.0000</td>\n",
       "      <td>52.5000</td>\n",
       "      <td>52.8125</td>\n",
       "      <td>38.059437</td>\n",
       "      <td>816100</td>\n",
       "    </tr>\n",
       "    <tr>\n",
       "      <th>2000-01-05</th>\n",
       "      <td>45.56250</td>\n",
       "      <td>48.12500</td>\n",
       "      <td>45.56250</td>\n",
       "      <td>46.6250</td>\n",
       "      <td>27.484299</td>\n",
       "      <td>3699400</td>\n",
       "      <td>15.066236</td>\n",
       "      <td>15.402911</td>\n",
       "      <td>15.066236</td>\n",
       "      <td>15.234573</td>\n",
       "      <td>...</td>\n",
       "      <td>23.555555</td>\n",
       "      <td>25.138889</td>\n",
       "      <td>25.138889</td>\n",
       "      <td>612100</td>\n",
       "      <td>52.75000</td>\n",
       "      <td>53.2500</td>\n",
       "      <td>51.0625</td>\n",
       "      <td>52.7500</td>\n",
       "      <td>38.014412</td>\n",
       "      <td>1124700</td>\n",
       "    </tr>\n",
       "    <tr>\n",
       "      <th>2000-01-06</th>\n",
       "      <td>47.15625</td>\n",
       "      <td>51.25000</td>\n",
       "      <td>47.15625</td>\n",
       "      <td>50.3750</td>\n",
       "      <td>29.694832</td>\n",
       "      <td>5975800</td>\n",
       "      <td>15.262630</td>\n",
       "      <td>15.823756</td>\n",
       "      <td>15.178461</td>\n",
       "      <td>15.767643</td>\n",
       "      <td>...</td>\n",
       "      <td>23.722221</td>\n",
       "      <td>23.777779</td>\n",
       "      <td>23.777779</td>\n",
       "      <td>263800</td>\n",
       "      <td>52.75000</td>\n",
       "      <td>54.9375</td>\n",
       "      <td>52.3750</td>\n",
       "      <td>53.5000</td>\n",
       "      <td>38.554890</td>\n",
       "      <td>1112100</td>\n",
       "    </tr>\n",
       "    <tr>\n",
       "      <th>2000-01-07</th>\n",
       "      <td>50.56250</td>\n",
       "      <td>51.90625</td>\n",
       "      <td>49.96875</td>\n",
       "      <td>51.3750</td>\n",
       "      <td>30.284302</td>\n",
       "      <td>4101200</td>\n",
       "      <td>15.487081</td>\n",
       "      <td>16.272657</td>\n",
       "      <td>15.487081</td>\n",
       "      <td>15.935981</td>\n",
       "      <td>...</td>\n",
       "      <td>23.111111</td>\n",
       "      <td>23.513889</td>\n",
       "      <td>23.513889</td>\n",
       "      <td>333900</td>\n",
       "      <td>53.75000</td>\n",
       "      <td>54.2500</td>\n",
       "      <td>53.3125</td>\n",
       "      <td>53.6250</td>\n",
       "      <td>38.644981</td>\n",
       "      <td>782000</td>\n",
       "    </tr>\n",
       "  </tbody>\n",
       "</table>\n",
       "<p>5 rows × 2262 columns</p>\n",
       "</div>"
      ],
      "text/plain": [
       "            MMM_open  MMM_high   MMM_low  MMM_close  MMM_adjclose  MMM_volume  \\\n",
       "2000-01-03  48.03125  48.25000  47.03125    47.1875     27.815882     2173400   \n",
       "2000-01-04  46.43750  47.40625  45.31250    45.3125     26.710594     2713800   \n",
       "2000-01-05  45.56250  48.12500  45.56250    46.6250     27.484299     3699400   \n",
       "2000-01-06  47.15625  51.25000  47.15625    50.3750     29.694832     5975800   \n",
       "2000-01-07  50.56250  51.90625  49.96875    51.3750     30.284302     4101200   \n",
       "\n",
       "             ABT_open   ABT_high    ABT_low  ABT_close  ...   ZBRA_low  \\\n",
       "2000-01-03  15.823756  16.160431  15.599305  15.711531  ...  24.777779   \n",
       "2000-01-04  15.459024  15.599305  15.150405  15.262630  ...  23.000000   \n",
       "2000-01-05  15.066236  15.402911  15.066236  15.234573  ...  23.555555   \n",
       "2000-01-06  15.262630  15.823756  15.178461  15.767643  ...  23.722221   \n",
       "2000-01-07  15.487081  16.272657  15.487081  15.935981  ...  23.111111   \n",
       "\n",
       "            ZBRA_close  ZBRA_adjclose  ZBRA_volume  ZION_open  ZION_high  \\\n",
       "2000-01-03   25.027779      25.027779      1055700   59.03125    59.1250   \n",
       "2000-01-04   24.666666      24.666666       522400   54.62500    55.0000   \n",
       "2000-01-05   25.138889      25.138889       612100   52.75000    53.2500   \n",
       "2000-01-06   23.777779      23.777779       263800   52.75000    54.9375   \n",
       "2000-01-07   23.513889      23.513889       333900   53.75000    54.2500   \n",
       "\n",
       "            ZION_low  ZION_close  ZION_adjclose  ZION_volume  \n",
       "2000-01-03   53.4375     55.5000      39.996193      1199600  \n",
       "2000-01-04   52.5000     52.8125      38.059437       816100  \n",
       "2000-01-05   51.0625     52.7500      38.014412      1124700  \n",
       "2000-01-06   52.3750     53.5000      38.554890      1112100  \n",
       "2000-01-07   53.3125     53.6250      38.644981       782000  \n",
       "\n",
       "[5 rows x 2262 columns]"
      ]
     },
     "execution_count": 4,
     "metadata": {},
     "output_type": "execute_result"
    }
   ],
   "source": [
    "merged_data = pd.concat(historical_data, axis=1)\n",
    "merged_data = merged_data.dropna(axis='columns')\n",
    "merged_tickers = list(set(merged_data.columns.get_level_values(0))) #Store all remaining tickers' names for further use later.\n",
    "merged_data.columns = merged_data.columns.droplevel(0)\n",
    "\n",
    "merged_data.head()\n",
    "\n"
   ]
  },
  {
   "cell_type": "code",
   "execution_count": 5,
   "metadata": {},
   "outputs": [
    {
     "name": "stdout",
     "output_type": "stream",
     "text": [
      "List of all tickers in data: \n",
      "['LRCX', 'NEM', 'VNO', 'CTXS', 'PPG', 'PVH', 'BIIB', 'EVRG', 'LNT', 'AEP', 'KMX', 'AZO', 'JPM', 'INTU', 'WM', 'PKI', 'SNA', 'WELL', 'AVB', 'GILD', 'RL', 'FFIV', 'MRK', 'TT', 'GL', 'SCHW', 'RTX', 'CMCSA', 'TFX', 'NTAP', 'NSC', 'FAST', 'ROP', 'WMT', 'NKE', 'AMZN', 'CPRT', 'BAC', 'MKC', 'LEG', 'IDXX', 'AMGN', 'CI', 'SIVB', 'URI', 'TROW', 'JNJ', 'SHW', 'WDC', 'COO', 'TGT', 'OKE', 'DIS', 'INTC', 'AIG', 'FRT', 'CLX', 'VRSN', 'VLO', 'SWK', 'GIS', 'KIM', 'MCHP', 'COST', 'XRAY', 'CERN', 'ITW', 'LH', 'STT', 'TER', 'STZ', 'GLW', 'BLL', 'LMT', 'CAH', 'EQR', 'ORLY', 'ADM', 'JBHT', 'WFC', 'CPB', 'TTWO', 'CVX', 'ANSS', 'PNW', 'RMD', 'XLNX', 'ATVI', 'UHS', 'AFL', 'MCO', 'DHR', 'KLAC', 'ROL', 'CAT', 'MO', 'CSCO', 'TSN', 'KMB', 'CCI', 'SRE', 'AON', 'WEC', 'MXIM', 'GPC', 'AOS', 'LIN', 'MHK', 'ADP', 'HSY', 'CHRW', 'ORCL', 'MCD', 'AEE', 'EXC', 'TSCO', 'A', 'BA', 'MMM', 'SNPS', 'COP', 'ZBRA', 'APD', 'HFC', 'MOS', 'ADI', 'D', 'WHR', 'NI', 'DD', 'HON', 'VTR', 'GS', 'POOL', 'L', 'CMI', 'CMS', 'DE', 'REGN', 'GE', 'K', 'NWL', 'CCL', 'LLY', 'HAS', 'FITB', 'SBUX', 'ED', 'SBAC', 'DGX', 'AMT', 'PNR', 'LEN', 'ABT', 'KR', 'ES', 'BWA', 'ATO', 'IFF', 'TDY', 'MNST', 'TXN', 'UPS', 'CSX', 'ECL', 'DVN', 'PRGO', 'TJX', 'TAP', 'AIV', 'WBA', 'BKR', 'EMR', 'USB', 'HUM', 'EBAY', 'SPG', 'VFC', 'CAG', 'CTAS', 'HAL', 'FDX', 'MAS', 'INCY', 'NVR', 'APA', 'PBCT', 'LB', 'PSA', 'QCOM', 'TXT', 'SLB', 'WST', 'PWR', 'DLTR', 'BDX', 'BSX', 'DOV', 'IP', 'EL', 'CMA', 'XOM', 'WY', 'CTSH', 'FE', 'SJM', 'HPQ', 'ADBE', 'EA', 'AAPL', 'LHX', 'NTRS', 'BAX', 'EMN', 'LUV', 'BBY', 'O', 'ABC', 'ETN', 'PFE', 'EIX', 'BF-B', 'NUE', 'HD', 'PEG', 'RHI', 'F', 'FISV', 'AJG', 'DVA', 'IEX', 'WAT', 'TMO', 'UNM', 'VAR', 'AMD', 'XRX', 'RSG', 'PLD', 'CVS', 'MTD', 'MS', 'NEE', 'RF', 'DXC', 'HES', 'VZ', 'UDR', 'DISH', 'TRV', 'NLOK', 'APH', 'IVZ', 'MAA', 'XEL', 'WRB', 'FMC', 'IPG', 'SYK', 'GD', 'CHD', 'C', 'KO', 'FLIR', 'CINF', 'AME', 'VMC', 'DTE', 'IBM', 'MLM', 'ETR', 'PPL', 'PEP', 'AES', 'SPGI', 'PH', 'BK', 'MTB', 'ROK', 'HSIC', 'ODFL', 'ARE', 'UNP', 'ABMD', 'TYL', 'AMAT', 'CB', 'JKHY', 'BEN', 'ALL', 'J', 'BKNG', 'MGM', 'AKAM', 'ALK', 'SWKS', 'MMC', 'ADSK', 'FLS', 'PGR', 'TIF', 'NOV', 'AXP', 'RCL', 'COG', 'LOW', 'AVY', 'REG', 'ROST', 'T', 'WAB', 'ALB', 'GPS', 'MSFT', 'MRO', 'BXP', 'PAYX', 'HBAN', 'PNC', 'WMB', 'EXPD', 'BIO', 'BMY', 'RJF', 'YUM', 'MU', 'PCAR', 'FCX', 'ALXN', 'MAR', 'STE', 'JNPR', 'KEY', 'SLG', 'PXD', 'JCI', 'CL', 'IT', 'COF', 'UNH', 'HST', 'LNC', 'BLK', 'HOLX', 'VTRS', 'DRI', 'VRTX', 'ZION', 'GWW', 'HRL', 'TFC', 'EOG', 'ESS', 'MSI', 'PG', 'SEE', 'OMC', 'HIG', 'DUK', 'OXY', 'DHI', 'RE', 'CNP', 'MCK', 'PHM', 'DRE', 'NOC', 'SYY', 'PEAK', 'KSU', 'EFX', 'SO', 'IRM', 'CDNS', 'BRK-B', 'MDT', 'NVDA']\n",
      "Indicate a ticker. Pick one from the print statement below.NKE\n"
     ]
    }
   ],
   "source": [
    "print(\"List of all tickers in data: \\n\" + str(merged_tickers))\n",
    "chosen_ticker = input(\"Indicate a ticker. Pick one from the print statement below.\")\n",
    "chosen_adjclose = chosen_ticker + \"_adjclose\""
   ]
  },
  {
   "cell_type": "code",
   "execution_count": 6,
   "metadata": {},
   "outputs": [
    {
     "data": {
      "text/plain": [
       "<matplotlib.legend.Legend at 0x2cc14ebcf40>"
      ]
     },
     "execution_count": 6,
     "metadata": {},
     "output_type": "execute_result"
    },
    {
     "data": {
      "image/png": "[encoded data removed]",
      "text/plain": [
       "<Figure size 432x288 with 1 Axes>"
      ]
     },
     "metadata": {
      "needs_background": "light"
     },
     "output_type": "display_data"
    }
   ],
   "source": [
    "\n",
    "%matplotlib inline\n",
    "merged_data[chosen_adjclose].plot()\n",
    "merged_data[chosen_ticker+\"_open\"].plot()\n",
    "plt.legend()"
   ]
  },
  {
   "cell_type": "markdown",
   "metadata": {},
   "source": [
    "Pick variables based on the correlation coefficient of chosen_adjclose (\"target variable\") vs all other variables (\"feature variables\")."
   ]
  },
  {
   "cell_type": "code",
   "execution_count": 7,
   "metadata": {},
   "outputs": [],
   "source": [
    "r = [np.corrcoef(merged_data[chosen_adjclose],merged_data[column])[0,1] for column in merged_data]\n",
    "features = merged_data[merged_data.columns[np.argpartition(np.abs(r), -200)[-200:]]].shift(1).dropna()\n",
    "target = merged_data[chosen_adjclose][1:]\n"
   ]
  },
  {
   "cell_type": "markdown",
   "metadata": {},
   "source": [
    "Determine the proportion of the split between train and test set. Here, arbitrarily determined as 90% for training, 10% for testing. Note: For extremely large data sets, it may be good to specify a number value (as opposed to a percentage) for the test set as the test set need not be too large, and also it would be good for the training set to be larger where possible.\n"
   ]
  },
  {
   "cell_type": "code",
   "execution_count": 8,
   "metadata": {},
   "outputs": [
    {
     "name": "stdout",
     "output_type": "stream",
     "text": [
      "Check of train-test split: \n",
      "features = 5260\n",
      "features_train = 4735\n",
      "features_test = 525\n"
     ]
    }
   ],
   "source": [
    "traintest_index = int(len(features) * 0.9) #This returns the row number for the boundary between train and test sets.\n",
    "traintest_value = features.index[traintest_index] #This returns the datetimeindex at the row where we want to split between train and test sets.\n",
    "features_train = features[features.index <= traintest_value]\n",
    "features_test = features[features.index > traintest_value]\n",
    "target_train = target[target.index <= traintest_value]\n",
    "target_test = target[target.index > traintest_value]\n",
    "\n",
    "print(\"Check of train-test split: \")\n",
    "print(\"features = \" + str(len(features)))\n",
    "print(\"features_train = \" + str(len(features_train)))\n",
    "print(\"features_test = \" + str(len(features_test)))\n"
   ]
  },
  {
   "cell_type": "markdown",
   "metadata": {},
   "source": [
    "Perform a min-max scaling on the features for both train and test sets using sklearn's MinMaxScaler module to ensure that data is all within the same scale."
   ]
  },
  {
   "cell_type": "code",
   "execution_count": 9,
   "metadata": {},
   "outputs": [
    {
     "data": {
      "text/html": [
       "<div>\n",
       "<style scoped>\n",
       "    .dataframe tbody tr th:only-of-type {\n",
       "        vertical-align: middle;\n",
       "    }\n",
       "\n",
       "    .dataframe tbody tr th {\n",
       "        vertical-align: top;\n",
       "    }\n",
       "\n",
       "    .dataframe thead th {\n",
       "        text-align: right;\n",
       "    }\n",
       "</style>\n",
       "<table border=\"1\" class=\"dataframe\">\n",
       "  <thead>\n",
       "    <tr style=\"text-align: right;\">\n",
       "      <th></th>\n",
       "      <th>INTU_low</th>\n",
       "      <th>SBUX_low</th>\n",
       "      <th>SBUX_open</th>\n",
       "      <th>ADP_adjclose</th>\n",
       "      <th>SBUX_close</th>\n",
       "      <th>APD_high</th>\n",
       "      <th>SBUX_high</th>\n",
       "      <th>JKHY_high</th>\n",
       "      <th>ATO_adjclose</th>\n",
       "      <th>LMT_adjclose</th>\n",
       "      <th>...</th>\n",
       "      <th>TYL_close</th>\n",
       "      <th>TYL_low</th>\n",
       "      <th>TYL_high</th>\n",
       "      <th>TYL_open</th>\n",
       "      <th>COST_adjclose</th>\n",
       "      <th>CHD_adjclose</th>\n",
       "      <th>CHD_close</th>\n",
       "      <th>TJX_adjclose</th>\n",
       "      <th>CHD_low</th>\n",
       "      <th>CHD_open</th>\n",
       "    </tr>\n",
       "  </thead>\n",
       "  <tbody>\n",
       "    <tr>\n",
       "      <th>2000-01-04</th>\n",
       "      <td>0.072220</td>\n",
       "      <td>0.000255</td>\n",
       "      <td>0.000000</td>\n",
       "      <td>0.093282</td>\n",
       "      <td>0.001586</td>\n",
       "      <td>0.053217</td>\n",
       "      <td>0.000126</td>\n",
       "      <td>0.029817</td>\n",
       "      <td>0.025402</td>\n",
       "      <td>0.006382</td>\n",
       "      <td>...</td>\n",
       "      <td>0.019044</td>\n",
       "      <td>0.019478</td>\n",
       "      <td>0.019444</td>\n",
       "      <td>0.019715</td>\n",
       "      <td>0.056978</td>\n",
       "      <td>0.024776</td>\n",
       "      <td>0.032225</td>\n",
       "      <td>0.006696</td>\n",
       "      <td>0.030700</td>\n",
       "      <td>0.034800</td>\n",
       "    </tr>\n",
       "    <tr>\n",
       "      <th>2000-01-05</th>\n",
       "      <td>0.078406</td>\n",
       "      <td>0.001275</td>\n",
       "      <td>0.000379</td>\n",
       "      <td>0.093282</td>\n",
       "      <td>0.000000</td>\n",
       "      <td>0.046375</td>\n",
       "      <td>0.000506</td>\n",
       "      <td>0.029414</td>\n",
       "      <td>0.022889</td>\n",
       "      <td>0.007628</td>\n",
       "      <td>...</td>\n",
       "      <td>0.019545</td>\n",
       "      <td>0.019984</td>\n",
       "      <td>0.019693</td>\n",
       "      <td>0.019715</td>\n",
       "      <td>0.048931</td>\n",
       "      <td>0.023385</td>\n",
       "      <td>0.030425</td>\n",
       "      <td>0.005501</td>\n",
       "      <td>0.030519</td>\n",
       "      <td>0.031750</td>\n",
       "    </tr>\n",
       "    <tr>\n",
       "      <th>2000-01-06</th>\n",
       "      <td>0.089484</td>\n",
       "      <td>0.001147</td>\n",
       "      <td>0.000126</td>\n",
       "      <td>0.091331</td>\n",
       "      <td>0.000634</td>\n",
       "      <td>0.045234</td>\n",
       "      <td>0.000000</td>\n",
       "      <td>0.024974</td>\n",
       "      <td>0.026030</td>\n",
       "      <td>0.007855</td>\n",
       "      <td>...</td>\n",
       "      <td>0.020296</td>\n",
       "      <td>0.020490</td>\n",
       "      <td>0.019942</td>\n",
       "      <td>0.020215</td>\n",
       "      <td>0.051304</td>\n",
       "      <td>0.023385</td>\n",
       "      <td>0.030425</td>\n",
       "      <td>0.004868</td>\n",
       "      <td>0.030519</td>\n",
       "      <td>0.030315</td>\n",
       "    </tr>\n",
       "    <tr>\n",
       "      <th>2000-01-07</th>\n",
       "      <td>0.109050</td>\n",
       "      <td>0.001785</td>\n",
       "      <td>0.000253</td>\n",
       "      <td>0.094014</td>\n",
       "      <td>0.002410</td>\n",
       "      <td>0.063860</td>\n",
       "      <td>0.002023</td>\n",
       "      <td>0.027396</td>\n",
       "      <td>0.024460</td>\n",
       "      <td>0.008421</td>\n",
       "      <td>...</td>\n",
       "      <td>0.020296</td>\n",
       "      <td>0.020237</td>\n",
       "      <td>0.019942</td>\n",
       "      <td>0.020714</td>\n",
       "      <td>0.054141</td>\n",
       "      <td>0.025332</td>\n",
       "      <td>0.032945</td>\n",
       "      <td>0.006134</td>\n",
       "      <td>0.030700</td>\n",
       "      <td>0.029956</td>\n",
       "    </tr>\n",
       "    <tr>\n",
       "      <th>2000-01-10</th>\n",
       "      <td>0.094519</td>\n",
       "      <td>0.002294</td>\n",
       "      <td>0.001768</td>\n",
       "      <td>0.098649</td>\n",
       "      <td>0.002157</td>\n",
       "      <td>0.073363</td>\n",
       "      <td>0.000759</td>\n",
       "      <td>0.023965</td>\n",
       "      <td>0.025402</td>\n",
       "      <td>0.008535</td>\n",
       "      <td>...</td>\n",
       "      <td>0.019295</td>\n",
       "      <td>0.019225</td>\n",
       "      <td>0.019942</td>\n",
       "      <td>0.020464</td>\n",
       "      <td>0.063684</td>\n",
       "      <td>0.027557</td>\n",
       "      <td>0.035826</td>\n",
       "      <td>0.006696</td>\n",
       "      <td>0.033607</td>\n",
       "      <td>0.032468</td>\n",
       "    </tr>\n",
       "  </tbody>\n",
       "</table>\n",
       "<p>5 rows × 200 columns</p>\n",
       "</div>"
      ],
      "text/plain": [
       "            INTU_low  SBUX_low  SBUX_open  ADP_adjclose  SBUX_close  APD_high  \\\n",
       "2000-01-04  0.072220  0.000255   0.000000      0.093282    0.001586  0.053217   \n",
       "2000-01-05  0.078406  0.001275   0.000379      0.093282    0.000000  0.046375   \n",
       "2000-01-06  0.089484  0.001147   0.000126      0.091331    0.000634  0.045234   \n",
       "2000-01-07  0.109050  0.001785   0.000253      0.094014    0.002410  0.063860   \n",
       "2000-01-10  0.094519  0.002294   0.001768      0.098649    0.002157  0.073363   \n",
       "\n",
       "            SBUX_high  JKHY_high  ATO_adjclose  LMT_adjclose  ...  TYL_close  \\\n",
       "2000-01-04   0.000126   0.029817      0.025402      0.006382  ...   0.019044   \n",
       "2000-01-05   0.000506   0.029414      0.022889      0.007628  ...   0.019545   \n",
       "2000-01-06   0.000000   0.024974      0.026030      0.007855  ...   0.020296   \n",
       "2000-01-07   0.002023   0.027396      0.024460      0.008421  ...   0.020296   \n",
       "2000-01-10   0.000759   0.023965      0.025402      0.008535  ...   0.019295   \n",
       "\n",
       "             TYL_low  TYL_high  TYL_open  COST_adjclose  CHD_adjclose  \\\n",
       "2000-01-04  0.019478  0.019444  0.019715       0.056978      0.024776   \n",
       "2000-01-05  0.019984  0.019693  0.019715       0.048931      0.023385   \n",
       "2000-01-06  0.020490  0.019942  0.020215       0.051304      0.023385   \n",
       "2000-01-07  0.020237  0.019942  0.020714       0.054141      0.025332   \n",
       "2000-01-10  0.019225  0.019942  0.020464       0.063684      0.027557   \n",
       "\n",
       "            CHD_close  TJX_adjclose   CHD_low  CHD_open  \n",
       "2000-01-04   0.032225      0.006696  0.030700  0.034800  \n",
       "2000-01-05   0.030425      0.005501  0.030519  0.031750  \n",
       "2000-01-06   0.030425      0.004868  0.030519  0.030315  \n",
       "2000-01-07   0.032945      0.006134  0.030700  0.029956  \n",
       "2000-01-10   0.035826      0.006696  0.033607  0.032468  \n",
       "\n",
       "[5 rows x 200 columns]"
      ]
     },
     "execution_count": 9,
     "metadata": {},
     "output_type": "execute_result"
    }
   ],
   "source": [
    "from sklearn.preprocessing import MinMaxScaler\n",
    "minmax_scaler = MinMaxScaler()\n",
    "features_train = pd.DataFrame(minmax_scaler.fit_transform(features_train), \n",
    "                              columns = features_train.columns, \n",
    "                              index = features_train.index)\n",
    "features_train.head()"
   ]
  },
  {
   "cell_type": "code",
   "execution_count": null,
   "metadata": {},
   "outputs": [],
   "source": [
    "!conda list"
   ]
  },
  {
   "cell_type": "code",
   "execution_count": 10,
   "metadata": {},
   "outputs": [
    {
     "data": {
      "text/html": [
       "<div>\n",
       "<style scoped>\n",
       "    .dataframe tbody tr th:only-of-type {\n",
       "        vertical-align: middle;\n",
       "    }\n",
       "\n",
       "    .dataframe tbody tr th {\n",
       "        vertical-align: top;\n",
       "    }\n",
       "\n",
       "    .dataframe thead th {\n",
       "        text-align: right;\n",
       "    }\n",
       "</style>\n",
       "<table border=\"1\" class=\"dataframe\">\n",
       "  <thead>\n",
       "    <tr style=\"text-align: right;\">\n",
       "      <th></th>\n",
       "      <th>INTU_low</th>\n",
       "      <th>SBUX_low</th>\n",
       "      <th>SBUX_open</th>\n",
       "      <th>ADP_adjclose</th>\n",
       "      <th>SBUX_close</th>\n",
       "      <th>APD_high</th>\n",
       "      <th>SBUX_high</th>\n",
       "      <th>JKHY_high</th>\n",
       "      <th>ATO_adjclose</th>\n",
       "      <th>LMT_adjclose</th>\n",
       "      <th>...</th>\n",
       "      <th>TYL_close</th>\n",
       "      <th>TYL_low</th>\n",
       "      <th>TYL_high</th>\n",
       "      <th>TYL_open</th>\n",
       "      <th>COST_adjclose</th>\n",
       "      <th>CHD_adjclose</th>\n",
       "      <th>CHD_close</th>\n",
       "      <th>TJX_adjclose</th>\n",
       "      <th>CHD_low</th>\n",
       "      <th>CHD_open</th>\n",
       "    </tr>\n",
       "  </thead>\n",
       "  <tbody>\n",
       "    <tr>\n",
       "      <th>2018-10-29</th>\n",
       "      <td>0.866585</td>\n",
       "      <td>0.889214</td>\n",
       "      <td>0.889923</td>\n",
       "      <td>0.887256</td>\n",
       "      <td>0.894456</td>\n",
       "      <td>0.840238</td>\n",
       "      <td>0.894646</td>\n",
       "      <td>0.912566</td>\n",
       "      <td>0.961030</td>\n",
       "      <td>0.856200</td>\n",
       "      <td>...</td>\n",
       "      <td>0.821411</td>\n",
       "      <td>0.827336</td>\n",
       "      <td>0.835529</td>\n",
       "      <td>0.817799</td>\n",
       "      <td>0.883871</td>\n",
       "      <td>0.960615</td>\n",
       "      <td>0.960250</td>\n",
       "      <td>0.948310</td>\n",
       "      <td>0.957623</td>\n",
       "      <td>0.971586</td>\n",
       "    </tr>\n",
       "    <tr>\n",
       "      <th>2018-10-30</th>\n",
       "      <td>0.852084</td>\n",
       "      <td>0.894272</td>\n",
       "      <td>0.900268</td>\n",
       "      <td>0.879579</td>\n",
       "      <td>0.899327</td>\n",
       "      <td>0.857463</td>\n",
       "      <td>0.916008</td>\n",
       "      <td>0.920961</td>\n",
       "      <td>0.970662</td>\n",
       "      <td>0.802785</td>\n",
       "      <td>...</td>\n",
       "      <td>0.818327</td>\n",
       "      <td>0.814223</td>\n",
       "      <td>0.840744</td>\n",
       "      <td>0.832693</td>\n",
       "      <td>0.902750</td>\n",
       "      <td>0.975170</td>\n",
       "      <td>0.974940</td>\n",
       "      <td>0.965148</td>\n",
       "      <td>0.969307</td>\n",
       "      <td>0.965903</td>\n",
       "    </tr>\n",
       "    <tr>\n",
       "      <th>2018-10-31</th>\n",
       "      <td>0.866171</td>\n",
       "      <td>0.894109</td>\n",
       "      <td>0.896227</td>\n",
       "      <td>0.893909</td>\n",
       "      <td>0.902899</td>\n",
       "      <td>0.862723</td>\n",
       "      <td>0.902900</td>\n",
       "      <td>0.906173</td>\n",
       "      <td>0.974094</td>\n",
       "      <td>0.815572</td>\n",
       "      <td>...</td>\n",
       "      <td>0.829422</td>\n",
       "      <td>0.818918</td>\n",
       "      <td>0.835529</td>\n",
       "      <td>0.814844</td>\n",
       "      <td>0.927297</td>\n",
       "      <td>0.998288</td>\n",
       "      <td>0.998272</td>\n",
       "      <td>0.981171</td>\n",
       "      <td>0.989362</td>\n",
       "      <td>0.976236</td>\n",
       "    </tr>\n",
       "    <tr>\n",
       "      <th>2018-11-01</th>\n",
       "      <td>0.892090</td>\n",
       "      <td>0.902593</td>\n",
       "      <td>0.905117</td>\n",
       "      <td>0.943774</td>\n",
       "      <td>0.897703</td>\n",
       "      <td>0.877121</td>\n",
       "      <td>0.906946</td>\n",
       "      <td>0.927225</td>\n",
       "      <td>0.955052</td>\n",
       "      <td>0.823651</td>\n",
       "      <td>...</td>\n",
       "      <td>0.843239</td>\n",
       "      <td>0.848828</td>\n",
       "      <td>0.854556</td>\n",
       "      <td>0.838523</td>\n",
       "      <td>0.930466</td>\n",
       "      <td>0.983561</td>\n",
       "      <td>0.983409</td>\n",
       "      <td>0.978545</td>\n",
       "      <td>0.979073</td>\n",
       "      <td>0.981746</td>\n",
       "    </tr>\n",
       "    <tr>\n",
       "      <th>2018-11-02</th>\n",
       "      <td>0.904612</td>\n",
       "      <td>0.900309</td>\n",
       "      <td>0.894125</td>\n",
       "      <td>0.920597</td>\n",
       "      <td>0.903549</td>\n",
       "      <td>0.879159</td>\n",
       "      <td>0.906136</td>\n",
       "      <td>0.927225</td>\n",
       "      <td>0.953502</td>\n",
       "      <td>0.839839</td>\n",
       "      <td>...</td>\n",
       "      <td>0.776514</td>\n",
       "      <td>0.772696</td>\n",
       "      <td>0.837599</td>\n",
       "      <td>0.832533</td>\n",
       "      <td>0.934795</td>\n",
       "      <td>1.077742</td>\n",
       "      <td>1.078464</td>\n",
       "      <td>0.980899</td>\n",
       "      <td>1.015521</td>\n",
       "      <td>1.003788</td>\n",
       "    </tr>\n",
       "  </tbody>\n",
       "</table>\n",
       "<p>5 rows × 200 columns</p>\n",
       "</div>"
      ],
      "text/plain": [
       "            INTU_low  SBUX_low  SBUX_open  ADP_adjclose  SBUX_close  APD_high  \\\n",
       "2018-10-29  0.866585  0.889214   0.889923      0.887256    0.894456  0.840238   \n",
       "2018-10-30  0.852084  0.894272   0.900268      0.879579    0.899327  0.857463   \n",
       "2018-10-31  0.866171  0.894109   0.896227      0.893909    0.902899  0.862723   \n",
       "2018-11-01  0.892090  0.902593   0.905117      0.943774    0.897703  0.877121   \n",
       "2018-11-02  0.904612  0.900309   0.894125      0.920597    0.903549  0.879159   \n",
       "\n",
       "            SBUX_high  JKHY_high  ATO_adjclose  LMT_adjclose  ...  TYL_close  \\\n",
       "2018-10-29   0.894646   0.912566      0.961030      0.856200  ...   0.821411   \n",
       "2018-10-30   0.916008   0.920961      0.970662      0.802785  ...   0.818327   \n",
       "2018-10-31   0.902900   0.906173      0.974094      0.815572  ...   0.829422   \n",
       "2018-11-01   0.906946   0.927225      0.955052      0.823651  ...   0.843239   \n",
       "2018-11-02   0.906136   0.927225      0.953502      0.839839  ...   0.776514   \n",
       "\n",
       "             TYL_low  TYL_high  TYL_open  COST_adjclose  CHD_adjclose  \\\n",
       "2018-10-29  0.827336  0.835529  0.817799       0.883871      0.960615   \n",
       "2018-10-30  0.814223  0.840744  0.832693       0.902750      0.975170   \n",
       "2018-10-31  0.818918  0.835529  0.814844       0.927297      0.998288   \n",
       "2018-11-01  0.848828  0.854556  0.838523       0.930466      0.983561   \n",
       "2018-11-02  0.772696  0.837599  0.832533       0.934795      1.077742   \n",
       "\n",
       "            CHD_close  TJX_adjclose   CHD_low  CHD_open  \n",
       "2018-10-29   0.960250      0.948310  0.957623  0.971586  \n",
       "2018-10-30   0.974940      0.965148  0.969307  0.965903  \n",
       "2018-10-31   0.998272      0.981171  0.989362  0.976236  \n",
       "2018-11-01   0.983409      0.978545  0.979073  0.981746  \n",
       "2018-11-02   1.078464      0.980899  1.015521  1.003788  \n",
       "\n",
       "[5 rows x 200 columns]"
      ]
     },
     "execution_count": 10,
     "metadata": {},
     "output_type": "execute_result"
    }
   ],
   "source": [
    "features_test = pd.DataFrame(minmax_scaler.transform(features_test), \n",
    "                             columns=features_test.columns, \n",
    "                             index=features_test.index)\n",
    "features_test.head()"
   ]
  },
  {
   "cell_type": "markdown",
   "metadata": {},
   "source": [
    "Sequence generation"
   ]
  },
  {
   "cell_type": "code",
   "execution_count": 11,
   "metadata": {},
   "outputs": [
    {
     "data": {
      "text/plain": [
       "(4730, 5, 200)"
      ]
     },
     "execution_count": 11,
     "metadata": {},
     "output_type": "execute_result"
    }
   ],
   "source": [
    "sequence_length = 5\n",
    "def gen_sequence(df, seq_length):\n",
    "    data_array = df.values\n",
    "    num_elements = data_array.shape[0]\n",
    "    for start, stop in zip(range(0, num_elements-seq_length), range(seq_length, num_elements)):\n",
    "        yield data_array[start:stop, :]\n",
    "\n",
    "seq_array = np.array(list(gen_sequence(features_train,sequence_length)))\n",
    "seq_array.shape"
   ]
  },
  {
   "cell_type": "code",
   "execution_count": 12,
   "metadata": {},
   "outputs": [
    {
     "data": {
      "text/plain": [
       "(4730,)"
      ]
     },
     "execution_count": 12,
     "metadata": {},
     "output_type": "execute_result"
    }
   ],
   "source": [
    "def gen_labels(df, seq_length):\n",
    "    data_array = df.values\n",
    "    num_elements = data_array.shape[0]\n",
    "    return data_array[seq_length:num_elements]\n",
    "\n",
    "label_array = np.array(list(gen_labels(target_train,sequence_length)))\n",
    "label_array.shape"
   ]
  },
  {
   "cell_type": "code",
   "execution_count": 13,
   "metadata": {},
   "outputs": [
    {
     "data": {
      "text/plain": [
       "(520, 5, 200)"
      ]
     },
     "execution_count": 13,
     "metadata": {},
     "output_type": "execute_result"
    }
   ],
   "source": [
    "seq_array_test = np.array(list(gen_sequence(features_test,sequence_length)))\n",
    "seq_array_test.shape"
   ]
  },
  {
   "cell_type": "code",
   "execution_count": 14,
   "metadata": {},
   "outputs": [
    {
     "data": {
      "text/plain": [
       "(520,)"
      ]
     },
     "execution_count": 14,
     "metadata": {},
     "output_type": "execute_result"
    }
   ],
   "source": [
    "label_array_test = np.array(list(gen_labels(target_test,sequence_length)))\n",
    "label_array_test.shape"
   ]
  },
  {
   "cell_type": "markdown",
   "metadata": {},
   "source": [
    "# Benchmark Model - Linear Regression"
   ]
  },
  {
   "cell_type": "code",
   "execution_count": 15,
   "metadata": {},
   "outputs": [
    {
     "data": {
      "text/plain": [
       "LinearRegression()"
      ]
     },
     "execution_count": 15,
     "metadata": {},
     "output_type": "execute_result"
    }
   ],
   "source": [
    "from sklearn.linear_model import LinearRegression\n",
    "linearregression = LinearRegression()\n",
    "linearregression.fit(np.array([seq_array[i][sequence_length-1] for i in range(seq_array.shape[0])]),label_array)"
   ]
  },
  {
   "cell_type": "code",
   "execution_count": 16,
   "metadata": {},
   "outputs": [],
   "source": [
    "prediction = linearregression.predict(np.array([seq_array_test[i][sequence_length-1] for i in range(seq_array_test.shape[0])]))\n"
   ]
  },
  {
   "cell_type": "code",
   "execution_count": 17,
   "metadata": {},
   "outputs": [],
   "source": [
    "pd.DataFrame([prediction,label_array_test]).T\\\n",
    ".rename({0:'prediction',1:'truth'},axis=1)\\\n",
    ".set_index(target.index[target.index> target.index[int(len(target) * 0.9) + sequence_length]])\\\n",
    ".to_csv('LR_prediction.csv')"
   ]
  },
  {
   "cell_type": "code",
   "execution_count": 18,
   "metadata": {},
   "outputs": [
    {
     "data": {
      "image/png": "[encoded data removed]",
      "text/plain": [
       "<Figure size 432x288 with 1 Axes>"
      ]
     },
     "metadata": {
      "needs_background": "light"
     },
     "output_type": "display_data"
    }
   ],
   "source": [
    "plt.plot(prediction, label='prediction')\n",
    "plt.plot(label_array_test, label='truth')\n",
    "plt.legend()\n",
    "plt.show()"
   ]
  },
  {
   "cell_type": "code",
   "execution_count": 19,
   "metadata": {},
   "outputs": [
    {
     "data": {
      "text/plain": [
       "(0.922234153624434, 4.2500645037882565)"
      ]
     },
     "execution_count": 19,
     "metadata": {},
     "output_type": "execute_result"
    }
   ],
   "source": [
    "from sklearn.metrics import r2_score, mean_squared_error\n",
    "r2_score(label_array_test,prediction),np.sqrt(mean_squared_error(label_array_test,prediction))"
   ]
  },
  {
   "cell_type": "markdown",
   "metadata": {},
   "source": [
    "# Neural Network"
   ]
  },
  {
   "cell_type": "markdown",
   "metadata": {},
   "source": [
    "LSTM model"
   ]
  },
  {
   "cell_type": "code",
   "execution_count": 20,
   "metadata": {
    "scrolled": true
   },
   "outputs": [],
   "source": [
    "from tensorflow import keras\n",
    "from keras.models import Sequential\n",
    "from keras.layers import Dense, Dropout, LSTM\n",
    "\n",
    "# build the network\n",
    "nb_features = seq_array.shape[2]\n",
    "\n",
    "model = Sequential()\n",
    "\n",
    "model.add(LSTM(\n",
    "         input_shape=(sequence_length, nb_features),\n",
    "         units=100,\n",
    "         return_sequences=True))\n",
    "model.add(Dropout(0.2))\n",
    "\n",
    "model.add(LSTM(\n",
    "          units=50,\n",
    "          return_sequences=False))\n",
    "model.add(Dropout(0.2))\n",
    "\n",
    "model.add(Dense(1))\n",
    "model.compile(loss='mae', optimizer='nadam', metrics=['mean_squared_error'])"
   ]
  },
  {
   "cell_type": "code",
   "execution_count": 21,
   "metadata": {},
   "outputs": [
    {
     "name": "stdout",
     "output_type": "stream",
     "text": [
      "Model: \"sequential\"\n",
      "_________________________________________________________________\n",
      "Layer (type)                 Output Shape              Param #   \n",
      "=================================================================\n",
      "lstm (LSTM)                  (None, 5, 100)            120400    \n",
      "_________________________________________________________________\n",
      "dropout (Dropout)            (None, 5, 100)            0         \n",
      "_________________________________________________________________\n",
      "lstm_1 (LSTM)                (None, 50)                30200     \n",
      "_________________________________________________________________\n",
      "dropout_1 (Dropout)          (None, 50)                0         \n",
      "_________________________________________________________________\n",
      "dense (Dense)                (None, 1)                 51        \n",
      "=================================================================\n",
      "Total params: 150,651\n",
      "Trainable params: 150,651\n",
      "Non-trainable params: 0\n",
      "_________________________________________________________________\n"
     ]
    }
   ],
   "source": [
    "model.summary()"
   ]
  },
  {
   "cell_type": "code",
   "execution_count": 22,
   "metadata": {},
   "outputs": [],
   "source": [
    "history = model.fit(seq_array, label_array, epochs=1000, batch_size=500, validation_split=0.1, verbose=0)"
   ]
  },
  {
   "cell_type": "code",
   "execution_count": 23,
   "metadata": {},
   "outputs": [
    {
     "data": {
      "image/png": "[encoded data removed]",
      "text/plain": [
       "<Figure size 432x288 with 1 Axes>"
      ]
     },
     "metadata": {
      "needs_background": "light"
     },
     "output_type": "display_data"
    }
   ],
   "source": [
    "\n",
    "plt.plot(history.history['loss'], label='train')\n",
    "plt.plot(history.history['val_loss'], label='valid')\n",
    "plt.legend()\n",
    "plt.show()"
   ]
  },
  {
   "cell_type": "code",
   "execution_count": 24,
   "metadata": {},
   "outputs": [],
   "source": [
    "pd.DataFrame([history.history['loss'],history.history['val_loss']]).T\\\n",
    ".rename({0:'train',1:'test'},axis=1)\\\n",
    ".to_csv('history.csv')"
   ]
  },
  {
   "cell_type": "code",
   "execution_count": 25,
   "metadata": {},
   "outputs": [
    {
     "data": {
      "image/png": "[encoded data removed]",
      "text/plain": [
       "<Figure size 432x288 with 1 Axes>"
      ]
     },
     "metadata": {
      "needs_background": "light"
     },
     "output_type": "display_data"
    }
   ],
   "source": [
    "prediction = model.predict(seq_array_test)\n",
    "plt.plot(prediction, label='prediction')\n",
    "plt.plot(label_array_test, label='truth')\n",
    "plt.legend()\n",
    "plt.show()"
   ]
  },
  {
   "cell_type": "code",
   "execution_count": 27,
   "metadata": {},
   "outputs": [],
   "source": [
    "\n",
    "pd.DataFrame([np.squeeze(prediction),label_array_test]).T\\\n",
    ".rename({0:'prediction',1:'truth'},axis=1)\\\n",
    ".set_index(target.index[target.index> target.index[int(len(target) * 0.9) + sequence_length]])\\\n",
    ".to_csv('LSTM_prediction.csv')"
   ]
  }
 ],
 "metadata": {
  "kernelspec": {
   "display_name": "Python 3",
   "language": "python",
   "name": "python3"
  },
  "language_info": {
   "codemirror_mode": {
    "name": "ipython",
    "version": 3
   },
   "file_extension": ".py",
   "mimetype": "text/x-python",
   "name": "python",
   "nbconvert_exporter": "python",
   "pygments_lexer": "ipython3",
   "version": "3.8.5"
  }
 },
 "nbformat": 4,
 "nbformat_minor": 2
}
